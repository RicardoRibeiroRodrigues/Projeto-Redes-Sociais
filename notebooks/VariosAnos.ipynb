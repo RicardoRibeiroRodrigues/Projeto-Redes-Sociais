{
 "cells": [
  {
   "cell_type": "code",
   "execution_count": 24,
   "id": "41f27480",
   "metadata": {},
   "outputs": [],
   "source": [
    "import pandas as pd\n",
    "import numpy as np\n",
    "from scipy.stats import mode\n",
    "import seaborn as sns\n",
    "from tqdm import tqdm"
   ]
  },
  {
   "cell_type": "code",
   "execution_count": 3,
   "id": "c95fa9bc",
   "metadata": {},
   "outputs": [],
   "source": [
    "df = pd.read_csv(\"igo_year_formatv3.csv\", delimiter=\"\t\")"
   ]
  },
  {
   "cell_type": "code",
   "execution_count": 14,
   "id": "d00abaee",
   "metadata": {},
   "outputs": [],
   "source": [
    "years = (2012, 2013, 2014)\n",
    "wanted_years = df.loc[df.year.isin(years)]"
   ]
  },
  {
   "cell_type": "code",
   "execution_count": 15,
   "id": "739c0038",
   "metadata": {},
   "outputs": [
    {
     "data": {
      "text/plain": [
       "ioname                0\n",
       "orgname               0\n",
       "year                  0\n",
       "afghanistan           0\n",
       "albania               0\n",
       "                   ... \n",
       "sourcesandnotes    1003\n",
       "imputed               0\n",
       "political             0\n",
       "social                0\n",
       "economic              0\n",
       "Length: 235, dtype: int64"
      ]
     },
     "execution_count": 15,
     "metadata": {},
     "output_type": "execute_result"
    }
   ],
   "source": [
    "wanted_years.isnull().sum()"
   ]
  },
  {
   "cell_type": "code",
   "execution_count": 16,
   "id": "ebdeac0f",
   "metadata": {},
   "outputs": [
    {
     "data": {
      "text/plain": [
       "(1003, 235)"
      ]
     },
     "execution_count": 16,
     "metadata": {},
     "output_type": "execute_result"
    }
   ],
   "source": [
    "wanted_years.shape"
   ]
  },
  {
   "cell_type": "code",
   "execution_count": 17,
   "id": "ee37850a",
   "metadata": {},
   "outputs": [
    {
     "data": {
      "text/plain": [
       "Index(['afghanistan', 'albania', 'algeria', 'andorra', 'angola',\n",
       "       'antiguabarbuda', 'argentina', 'armenia', 'australia', 'austria',\n",
       "       ...\n",
       "       'vietnam', 'wgermany', 'wsamoa', 'wurtenburg', 'yemen',\n",
       "       'yugoslaviaserb', 'zaire', 'zambia', 'zanzibar', 'zimbabwe'],\n",
       "      dtype='object', length=217)"
      ]
     },
     "execution_count": 17,
     "metadata": {},
     "output_type": "execute_result"
    }
   ],
   "source": [
    "country_columns = wanted_years.columns[3:220]\n",
    "country_columns"
   ]
  },
  {
   "cell_type": "code",
   "execution_count": 18,
   "id": "7e34582b",
   "metadata": {
    "scrolled": false
   },
   "outputs": [
    {
     "name": "stdout",
     "output_type": "stream",
     "text": [
      "austriahungary has 940 nulls\n",
      "baden has 940 nulls\n",
      "bavariaelect has 940 nulls\n",
      "czechoslovakia has 940 nulls\n",
      "egermany has 940 nulls\n",
      "hanover has 940 nulls\n",
      "hesseelect has 940 nulls\n",
      "hessegrand has 940 nulls\n",
      "korea has 940 nulls\n",
      "mecklenburg has 940 nulls\n",
      "modena has 940 nulls\n",
      "nyemen has 940 nulls\n",
      "papalstates has 940 nulls\n",
      "parma has 940 nulls\n",
      "svietnam has 940 nulls\n",
      "syemen has 940 nulls\n",
      "saxony has 940 nulls\n",
      "tuscany has 940 nulls\n",
      "twosicilies has 940 nulls\n",
      "wgermany has 940 nulls\n",
      "wurtenburg has 940 nulls\n",
      "zanzibar has 940 nulls\n"
     ]
    }
   ],
   "source": [
    "for country in country_columns:\n",
    "    n_nulls = wanted_years[country].isnull().sum()\n",
    "    if n_nulls > 0:\n",
    "        print(f\"{country} has {n_nulls} nulls\")"
   ]
  },
  {
   "cell_type": "code",
   "execution_count": 8,
   "id": "0e702a65",
   "metadata": {},
   "outputs": [],
   "source": [
    "with open(\"country_columns.txt\", 'w') as f:\n",
    "    for country in country_columns:\n",
    "        f.write(f\"{country}\\n\")\n",
    "    "
   ]
  },
  {
   "cell_type": "code",
   "execution_count": 19,
   "id": "56de5629",
   "metadata": {},
   "outputs": [
    {
     "name": "stdout",
     "output_type": "stream",
     "text": [
      "**andorra** nao esta no happiness\n",
      "**antiguabarbuda** nao esta no happiness\n",
      "**austriahungary** nao esta no happiness\n",
      "**baden** nao esta no happiness\n",
      "**bahamas** nao esta no happiness\n",
      "**barbados** nao esta no happiness\n",
      "**bavariaelect** nao esta no happiness\n",
      "**belize** nao esta no happiness\n",
      "**bhutan** nao esta no happiness\n",
      "**bosnia** nao esta no happiness\n",
      "**brunei** nao esta no happiness\n",
      "**capeverde** nao esta no happiness\n",
      "**congobrazz** nao esta no happiness\n",
      "**cuba** nao esta no happiness\n",
      "**czechoslovakia** nao esta no happiness\n",
      "**dominica** nao esta no happiness\n",
      "**egermany** nao esta no happiness\n",
      "**etimor** nao esta no happiness\n",
      "**eqguinea** nao esta no happiness\n",
      "**eritrea** nao esta no happiness\n",
      "**ethiopia** nao esta no happiness\n",
      "**fiji** nao esta no happiness\n",
      "**gabon** nao esta no happiness\n",
      "**gambia** nao esta no happiness\n",
      "**grenada** nao esta no happiness\n",
      "**guineabissau** nao esta no happiness\n",
      "**guyana** nao esta no happiness\n",
      "**hanover** nao esta no happiness\n",
      "**hesseelect** nao esta no happiness\n",
      "**hessegrand** nao esta no happiness\n",
      "**jamaica** nao esta no happiness\n",
      "**kiribati** nao esta no happiness\n",
      "**korea** nao esta no happiness\n",
      "**lesotho** nao esta no happiness\n",
      "**liechtenstein** nao esta no happiness\n",
      "**maldives** nao esta no happiness\n",
      "**marshallis** nao esta no happiness\n",
      "**mecklenburg** nao esta no happiness\n",
      "**micronesiafs** nao esta no happiness\n",
      "**modena** nao esta no happiness\n",
      "**monaco** nao esta no happiness\n",
      "**myanmar** nao esta no happiness\n",
      "**namibia** nao esta no happiness\n",
      "**nauru** nao esta no happiness\n",
      "**nokorea** nao esta no happiness\n",
      "**nyemen** nao esta no happiness\n",
      "**oman** nao esta no happiness\n",
      "**palau** nao esta no happiness\n",
      "**papalstates** nao esta no happiness\n",
      "**papuanewguinea** nao esta no happiness\n",
      "**parma** nao esta no happiness\n",
      "**svietnam** nao esta no happiness\n",
      "**syemen** nao esta no happiness\n",
      "**sanmarino** nao esta no happiness\n",
      "**saotome** nao esta no happiness\n",
      "**saxony** nao esta no happiness\n",
      "**seychelles** nao esta no happiness\n",
      "**sosudan** nao esta no happiness\n",
      "**solomonis** nao esta no happiness\n",
      "**somalia** nao esta no happiness\n",
      "**stkitts** nao esta no happiness\n",
      "**stlucia** nao esta no happiness\n",
      "**stvincent** nao esta no happiness\n",
      "**suriname** nao esta no happiness\n",
      "**swaziland** nao esta no happiness\n",
      "**tonga** nao esta no happiness\n",
      "**trinidad** nao esta no happiness\n",
      "**tuscany** nao esta no happiness\n",
      "**tuvalu** nao esta no happiness\n",
      "**twosicilies** nao esta no happiness\n",
      "**vanuatu** nao esta no happiness\n",
      "**wgermany** nao esta no happiness\n",
      "**wsamoa** nao esta no happiness\n",
      "**wurtenburg** nao esta no happiness\n",
      "**yugoslaviaserb** nao esta no happiness\n",
      "**zaire** nao esta no happiness\n",
      "**zanzibar** nao esta no happiness\n"
     ]
    }
   ],
   "source": [
    "# From happines report\n",
    "with open(\"happiness_countrys.txt\", 'r') as f:\n",
    "    countrys = f.readlines()\n",
    "\n",
    "notacao_diff = {\n",
    "    \"unitedstates\": \"usa\",\n",
    "    \"unitedkingdom\": \"uk\",\n",
    "    \"centralafricanrepublic\": \"car\",\n",
    "    \"southkorea\": \"sokorea\",\n",
    "    \"czechrepublic\": \"czechrep\",\n",
    "    \"southafrica\": \"soafrica\",\n",
    "    \"dominicanrepublic\": \"domrepublic\",\n",
    "    \"macedonia\": \"fyromacedonia\",\n",
    "    \"unitedarabemirates\": \"uae\",\n",
    "}\n",
    "\n",
    "countrys = set(map(lambda x: x.lower().replace(\"\\n\", \"\").replace(\" \", \"\"), countrys))\n",
    "\n",
    "\n",
    "set_not_in_hr = set()\n",
    "for country in country_columns:\n",
    "    country = country.lower().replace(\"\\n\", \"\").replace(\" \", \"\")\n",
    "    if not country in countrys and not country in notacao_diff.values():\n",
    "        print(f\"**{country}** nao esta no happiness\")\n",
    "        set_not_in_hr.add(country)\n",
    "        \n",
    "set_country_columns = set(country_columns)\n",
    "set_country_columns = set_country_columns - set_not_in_hr"
   ]
  },
  {
   "cell_type": "code",
   "execution_count": 21,
   "id": "63501878",
   "metadata": {},
   "outputs": [
    {
     "name": "stderr",
     "output_type": "stream",
     "text": [
      "100%|██████████| 140/140 [00:09<00:00, 14.97it/s]\n"
     ]
    }
   ],
   "source": [
    "intersecs = {}\n",
    "\n",
    "for country_1 in tqdm(set_country_columns):\n",
    "    for country_2 in set_country_columns:\n",
    "        if country_1 != country_2:\n",
    "            country_1_present = wanted_years[country_1]\n",
    "            country_2_present = wanted_years[country_2]\n",
    "            n_intersecs = len(wanted_years.loc[(country_1_present == 1.0) & (country_2_present == 1.0)])\n",
    "            intersecs[(country_1, country_2)] = n_intersecs\n",
    "                "
   ]
  },
  {
   "cell_type": "code",
   "execution_count": 25,
   "id": "cce903ca",
   "metadata": {
    "scrolled": true
   },
   "outputs": [
    {
     "data": {
      "text/plain": [
       "{('angola', 'slovenia'): 102,\n",
       " ('angola', 'newzealand'): 95,\n",
       " ('angola', 'pakistan'): 107,\n",
       " ('angola', 'ukraine'): 91,\n",
       " ('angola', 'iraq'): 87,\n",
       " ('angola', 'mongolia'): 102,\n",
       " ('angola', 'zambia'): 132,\n",
       " ('angola', 'madagascar'): 137,\n",
       " ('angola', 'saudiarabia'): 110,\n",
       " ('angola', 'lebanon'): 90,\n",
       " ('angola', 'venezuela'): 108,\n",
       " ('angola', 'uruguay'): 102,\n",
       " ('angola', 'netherlands'): 114,\n",
       " ('angola', 'elsalvador'): 93,\n",
       " ('angola', 'turkey'): 101,\n",
       " ('angola', 'poland'): 102,\n",
       " ('angola', 'ireland'): 103,\n",
       " ('angola', 'portugal'): 120,\n",
       " ('angola', 'ivorycoast'): 140,\n",
       " ('angola', 'brazil'): 111,\n",
       " ('angola', 'finland'): 116,\n",
       " ('angola', 'nepal'): 97,\n",
       " ('angola', 'zimbabwe'): 135,\n",
       " ('angola', 'albania'): 98,\n",
       " ('angola', 'belarus'): 79,\n",
       " ('angola', 'ghana'): 142,\n",
       " ('angola', 'peru'): 110,\n",
       " ('angola', 'botswana'): 120,\n",
       " ('angola', 'mexico'): 106,\n",
       " ('angola', 'czechrep'): 90,\n",
       " ('angola', 'turkmenistan'): 78,\n",
       " ('angola', 'japan'): 112,\n",
       " ('angola', 'comoros'): 118,\n",
       " ('angola', 'germany'): 105,\n",
       " ('angola', 'iceland'): 89,\n",
       " ('angola', 'usa'): 93,\n",
       " ('angola', 'srilanka'): 103,\n",
       " ('angola', 'syria'): 93,\n",
       " ('angola', 'armenia'): 87,\n",
       " ('angola', 'sierraleone'): 134,\n",
       " ('angola', 'malta'): 100,\n",
       " ('angola', 'cameroon'): 141,\n",
       " ('angola', 'algeria'): 133,\n",
       " ('angola', 'denmark'): 113,\n",
       " ('angola', 'latvia'): 91,\n",
       " ('angola', 'malawi'): 131,\n",
       " ('angola', 'belgium'): 111,\n",
       " ('angola', 'croatia'): 104,\n",
       " ('angola', 'australia'): 101,\n",
       " ('angola', 'bangladesh'): 102,\n",
       " ('angola', 'panama'): 102,\n",
       " ('angola', 'china'): 107,\n",
       " ('angola', 'lithuania'): 99,\n",
       " ('angola', 'senegal'): 142,\n",
       " ('angola', 'thailand'): 109,\n",
       " ('angola', 'moldova'): 91,\n",
       " ('angola', 'mauritius'): 135,\n",
       " ('angola', 'nigeria'): 136,\n",
       " ('angola', 'georgia'): 96,\n",
       " ('angola', 'mali'): 126,\n",
       " ('angola', 'colombia'): 109,\n",
       " ('angola', 'sweden'): 111,\n",
       " ('angola', 'montenegro'): 87,\n",
       " ('angola', 'libya'): 113,\n",
       " ('angola', 'philippines'): 116,\n",
       " ('angola', 'benin'): 135,\n",
       " ('angola', 'france'): 114,\n",
       " ('angola', 'uzbekistan'): 79,\n",
       " ('angola', 'norway'): 116,\n",
       " ('angola', 'laos'): 90,\n",
       " ('angola', 'indonesia'): 104,\n",
       " ('angola', 'egypt'): 128,\n",
       " ('angola', 'ecuador'): 109,\n",
       " ('angola', 'guinea'): 133,\n",
       " ('angola', 'yemen'): 102,\n",
       " ('angola', 'niger'): 121,\n",
       " ('angola', 'liberia'): 119,\n",
       " ('angola', 'luxembourg'): 100,\n",
       " ('angola', 'taiwan'): 9,\n",
       " ('angola', 'mauritania'): 136,\n",
       " ('angola', 'tunisia'): 136,\n",
       " ('angola', 'kuwait'): 103,\n",
       " ('angola', 'cyprus'): 99,\n",
       " ('angola', 'paraguay'): 99,\n",
       " ('angola', 'austria'): 108,\n",
       " ('angola', 'car'): 116,\n",
       " ('angola', 'russia'): 93,\n",
       " ('angola', 'rwanda'): 115,\n",
       " ('angola', 'greece'): 105,\n",
       " ('angola', 'nicaragua'): 111,\n",
       " ('angola', 'hungary'): 96,\n",
       " ('angola', 'spain'): 117,\n",
       " ('angola', 'india'): 114,\n",
       " ('angola', 'fyromacedonia'): 77,\n",
       " ('angola', 'estonia'): 96,\n",
       " ('angola', 'kazakhstan'): 84,\n",
       " ('angola', 'kyrgyzstan'): 78,\n",
       " ('angola', 'mozambique'): 145,\n",
       " ('angola', 'romania'): 105,\n",
       " ('angola', 'switzerland'): 113,\n",
       " ('angola', 'tanzania'): 143,\n",
       " ('angola', 'kenya'): 142,\n",
       " ('angola', 'vietnam'): 85,\n",
       " ('angola', 'djibouti'): 109,\n",
       " ('angola', 'uganda'): 127,\n",
       " ('angola', 'canada'): 103,\n",
       " ('angola', 'azerbaijan'): 90,\n",
       " ('angola', 'bolivia'): 103,\n",
       " ('angola', 'chile'): 102,\n",
       " ('angola', 'costarica'): 103,\n",
       " ('angola', 'kosovo'): 12,\n",
       " ('angola', 'singapore'): 90,\n",
       " ('angola', 'iran'): 90,\n",
       " ('angola', 'uk'): 115,\n",
       " ('angola', 'sudan'): 129,\n",
       " ('angola', 'soafrica'): 140,\n",
       " ('angola', 'cambodia'): 97,\n",
       " ('angola', 'israel'): 98,\n",
       " ('angola', 'argentina'): 110,\n",
       " ('angola', 'morocco'): 119,\n",
       " ('angola', 'italy'): 117,\n",
       " ('angola', 'togo'): 141,\n",
       " ('angola', 'jordan'): 98,\n",
       " ('angola', 'uae'): 98,\n",
       " ('angola', 'guatemala'): 106,\n",
       " ('angola', 'burkinafaso'): 130,\n",
       " ('angola', 'chad'): 122,\n",
       " ('angola', 'burundi'): 121,\n",
       " ('angola', 'qatar'): 97,\n",
       " ('angola', 'afghanistan'): 78,\n",
       " ('angola', 'sokorea'): 113,\n",
       " ('angola', 'bahrain'): 90,\n",
       " ('angola', 'domrepublic'): 107,\n",
       " ('angola', 'slovakia'): 91,\n",
       " ('angola', 'honduras'): 108,\n",
       " ('angola', 'malaysia'): 105,\n",
       " ('angola', 'tajikistan'): 74,\n",
       " ('angola', 'haiti'): 107,\n",
       " ('angola', 'bulgaria'): 105,\n",
       " ('slovenia', 'angola'): 102,\n",
       " ('slovenia', 'newzealand'): 139,\n",
       " ('slovenia', 'pakistan'): 114,\n",
       " ('slovenia', 'ukraine'): 145,\n",
       " ('slovenia', 'iraq'): 85,\n",
       " ('slovenia', 'mongolia'): 107,\n",
       " ('slovenia', 'zambia'): 101,\n",
       " ('slovenia', 'madagascar'): 117,\n",
       " ('slovenia', 'saudiarabia'): 112,\n",
       " ('slovenia', 'lebanon'): 106,\n",
       " ('slovenia', 'venezuela'): 124,\n",
       " ('slovenia', 'uruguay'): 130,\n",
       " ('slovenia', 'netherlands'): 213,\n",
       " ('slovenia', 'elsalvador'): 97,\n",
       " ('slovenia', 'turkey'): 177,\n",
       " ('slovenia', 'poland'): 199,\n",
       " ('slovenia', 'ireland'): 189,\n",
       " ('slovenia', 'portugal'): 213,\n",
       " ('slovenia', 'ivorycoast'): 122,\n",
       " ('slovenia', 'brazil'): 135,\n",
       " ('slovenia', 'finland'): 207,\n",
       " ('slovenia', 'nepal'): 97,\n",
       " ('slovenia', 'zimbabwe'): 98,\n",
       " ('slovenia', 'albania'): 148,\n",
       " ('slovenia', 'belarus'): 110,\n",
       " ('slovenia', 'ghana'): 117,\n",
       " ('slovenia', 'peru'): 132,\n",
       " ('slovenia', 'botswana'): 92,\n",
       " ('slovenia', 'mexico'): 143,\n",
       " ('slovenia', 'czechrep'): 195,\n",
       " ('slovenia', 'turkmenistan'): 87,\n",
       " ('slovenia', 'japan'): 147,\n",
       " ('slovenia', 'comoros'): 88,\n",
       " ('slovenia', 'germany'): 198,\n",
       " ('slovenia', 'iceland'): 144,\n",
       " ('slovenia', 'usa'): 135,\n",
       " ('slovenia', 'srilanka'): 108,\n",
       " ('slovenia', 'syria'): 97,\n",
       " ('slovenia', 'armenia'): 102,\n",
       " ('slovenia', 'sierraleone'): 101,\n",
       " ('slovenia', 'malta'): 178,\n",
       " ('slovenia', 'cameroon'): 126,\n",
       " ('slovenia', 'algeria'): 132,\n",
       " ('slovenia', 'denmark'): 201,\n",
       " ('slovenia', 'latvia'): 169,\n",
       " ('slovenia', 'malawi'): 94,\n",
       " ('slovenia', 'belgium'): 210,\n",
       " ('slovenia', 'croatia'): 195,\n",
       " ('slovenia', 'australia'): 150,\n",
       " ('slovenia', 'bangladesh'): 111,\n",
       " ('slovenia', 'panama'): 115,\n",
       " ('slovenia', 'china'): 135,\n",
       " ('slovenia', 'lithuania'): 181,\n",
       " ('slovenia', 'senegal'): 118,\n",
       " ('slovenia', 'thailand'): 118,\n",
       " ('slovenia', 'moldova'): 121,\n",
       " ('slovenia', 'mauritius'): 117,\n",
       " ('slovenia', 'nigeria'): 120,\n",
       " ('slovenia', 'georgia'): 123,\n",
       " ('slovenia', 'mali'): 105,\n",
       " ('slovenia', 'colombia'): 132,\n",
       " ('slovenia', 'sweden'): 204,\n",
       " ('slovenia', 'montenegro'): 132,\n",
       " ('slovenia', 'libya'): 91,\n",
       " ('slovenia', 'philippines'): 123,\n",
       " ('slovenia', 'benin'): 118,\n",
       " ('slovenia', 'france'): 216,\n",
       " ('slovenia', 'uzbekistan'): 97,\n",
       " ('slovenia', 'norway'): 195,\n",
       " ('slovenia', 'laos'): 91,\n",
       " ('slovenia', 'indonesia'): 114,\n",
       " ('slovenia', 'egypt'): 129,\n",
       " ('slovenia', 'ecuador'): 122,\n",
       " ('slovenia', 'guinea'): 116,\n",
       " ('slovenia', 'yemen'): 95,\n",
       " ('slovenia', 'niger'): 96,\n",
       " ('slovenia', 'liberia'): 94,\n",
       " ('slovenia', 'luxembourg'): 186,\n",
       " ('slovenia', 'taiwan'): 9,\n",
       " ('slovenia', 'mauritania'): 112,\n",
       " ('slovenia', 'tunisia'): 139,\n",
       " ('slovenia', 'kuwait'): 93,\n",
       " ('slovenia', 'cyprus'): 174,\n",
       " ('slovenia', 'paraguay'): 111,\n",
       " ('slovenia', 'austria'): 204,\n",
       " ('slovenia', 'car'): 96,\n",
       " ('slovenia', 'russia'): 153,\n",
       " ('slovenia', 'rwanda'): 92,\n",
       " ('slovenia', 'greece'): 207,\n",
       " ('slovenia', 'nicaragua'): 116,\n",
       " ('slovenia', 'hungary'): 198,\n",
       " ('slovenia', 'spain'): 216,\n",
       " ('slovenia', 'india'): 129,\n",
       " ('slovenia', 'fyromacedonia'): 134,\n",
       " ('slovenia', 'estonia'): 177,\n",
       " ('slovenia', 'kazakhstan'): 100,\n",
       " ('slovenia', 'kyrgyzstan'): 97,\n",
       " ('slovenia', 'mozambique'): 106,\n",
       " ('slovenia', 'romania'): 197,\n",
       " ('slovenia', 'switzerland'): 192,\n",
       " ('slovenia', 'tanzania'): 116,\n",
       " ('slovenia', 'kenya'): 122,\n",
       " ('slovenia', 'vietnam'): 97,\n",
       " ('slovenia', 'djibouti'): 86,\n",
       " ('slovenia', 'uganda'): 106,\n",
       " ('slovenia', 'canada'): 151,\n",
       " ('slovenia', 'azerbaijan'): 110,\n",
       " ('slovenia', 'bolivia'): 112,\n",
       " ('slovenia', 'chile'): 135,\n",
       " ('slovenia', 'costarica'): 120,\n",
       " ('slovenia', 'kosovo'): 15,\n",
       " ('slovenia', 'singapore'): 95,\n",
       " ('slovenia', 'iran'): 100,\n",
       " ('slovenia', 'uk'): 202,\n",
       " ('slovenia', 'sudan'): 105,\n",
       " ('slovenia', 'soafrica'): 141,\n",
       " ('slovenia', 'cambodia'): 107,\n",
       " ('slovenia', 'israel'): 150,\n",
       " ('slovenia', 'argentina'): 141,\n",
       " ('slovenia', 'morocco'): 141,\n",
       " ('slovenia', 'italy'): 219,\n",
       " ('slovenia', 'togo'): 120,\n",
       " ('slovenia', 'jordan'): 118,\n",
       " ('slovenia', 'uae'): 103,\n",
       " ('slovenia', 'guatemala'): 113,\n",
       " ('slovenia', 'burkinafaso'): 113,\n",
       " ('slovenia', 'chad'): 99,\n",
       " ('slovenia', 'burundi'): 97,\n",
       " ('slovenia', 'qatar'): 99,\n",
       " ('slovenia', 'afghanistan'): 76,\n",
       " ('slovenia', 'sokorea'): 150,\n",
       " ('slovenia', 'bahrain'): 94,\n",
       " ('slovenia', 'domrepublic'): 119,\n",
       " ('slovenia', 'slovakia'): 193,\n",
       " ('slovenia', 'honduras'): 111,\n",
       " ('slovenia', 'malaysia'): 120,\n",
       " ('slovenia', 'tajikistan'): 87,\n",
       " ('slovenia', 'haiti'): 103,\n",
       " ('slovenia', 'bulgaria'): 193,\n",
       " ('newzealand', 'angola'): 95,\n",
       " ('newzealand', 'slovenia'): 139,\n",
       " ('newzealand', 'pakistan'): 136,\n",
       " ('newzealand', 'ukraine'): 113,\n",
       " ('newzealand', 'iraq'): 89,\n",
       " ('newzealand', 'mongolia'): 117,\n",
       " ('newzealand', 'zambia'): 100,\n",
       " ('newzealand', 'madagascar'): 109,\n",
       " ('newzealand', 'saudiarabia'): 119,\n",
       " ('newzealand', 'lebanon'): 98,\n",
       " ('newzealand', 'venezuela'): 116,\n",
       " ('newzealand', 'uruguay'): 125,\n",
       " ('newzealand', 'netherlands'): 160,\n",
       " ('newzealand', 'elsalvador'): 89,\n",
       " ('newzealand', 'turkey'): 141,\n",
       " ('newzealand', 'poland'): 146,\n",
       " ('newzealand', 'ireland'): 141,\n",
       " ('newzealand', 'portugal'): 151,\n",
       " ('newzealand', 'ivorycoast'): 113,\n",
       " ('newzealand', 'brazil'): 133,\n",
       " ('newzealand', 'finland'): 156,\n",
       " ('newzealand', 'nepal'): 108,\n",
       " ('newzealand', 'zimbabwe'): 92,\n",
       " ('newzealand', 'albania'): 113,\n",
       " ('newzealand', 'belarus'): 91,\n",
       " ('newzealand', 'ghana'): 118,\n",
       " ('newzealand', 'peru'): 130,\n",
       " ('newzealand', 'botswana'): 89,\n",
       " ('newzealand', 'mexico'): 149,\n",
       " ('newzealand', 'czechrep'): 139,\n",
       " ('newzealand', 'turkmenistan'): 78,\n",
       " ('newzealand', 'japan'): 169,\n",
       " ('newzealand', 'comoros'): 90,\n",
       " ('newzealand', 'germany'): 145,\n",
       " ('newzealand', 'iceland'): 118,\n",
       " ('newzealand', 'usa'): 155,\n",
       " ('newzealand', 'srilanka'): 130,\n",
       " ('newzealand', 'syria'): 90,\n",
       " ('newzealand', 'armenia'): 91,\n",
       " ('newzealand', 'sierraleone'): 99,\n",
       " ('newzealand', 'malta'): 131,\n",
       " ('newzealand', 'cameroon'): 130,\n",
       " ('newzealand', 'algeria'): 120,\n",
       " ('newzealand', 'denmark'): 153,\n",
       " ('newzealand', 'latvia'): 114,\n",
       " ('newzealand', 'malawi'): 91,\n",
       " ('newzealand', 'belgium'): 154,\n",
       " ('newzealand', 'croatia'): 137,\n",
       " ('newzealand', 'australia'): 204,\n",
       " ('newzealand', 'bangladesh'): 133,\n",
       " ('newzealand', 'panama'): 113,\n",
       " ('newzealand', 'china'): 153,\n",
       " ('newzealand', 'lithuania'): 119,\n",
       " ('newzealand', 'senegal'): 112,\n",
       " ('newzealand', 'thailand'): 140,\n",
       " ('newzealand', 'moldova'): 99,\n",
       " ('newzealand', 'mauritius'): 118,\n",
       " ('newzealand', 'nigeria'): 115,\n",
       " ('newzealand', 'georgia'): 109,\n",
       " ('newzealand', 'mali'): 94,\n",
       " ('newzealand', 'colombia'): 128,\n",
       " ('newzealand', 'sweden'): 154,\n",
       " ('newzealand', 'montenegro'): 100,\n",
       " ('newzealand', 'libya'): 90,\n",
       " ('newzealand', 'philippines'): 148,\n",
       " ('newzealand', 'benin'): 108,\n",
       " ('newzealand', 'france'): 166,\n",
       " ('newzealand', 'uzbekistan'): 87,\n",
       " ('newzealand', 'norway'): 162,\n",
       " ('newzealand', 'laos'): 102,\n",
       " ('newzealand', 'indonesia'): 138,\n",
       " ('newzealand', 'egypt'): 121,\n",
       " ('newzealand', 'ecuador'): 115,\n",
       " ('newzealand', 'guinea'): 105,\n",
       " ('newzealand', 'yemen'): 93,\n",
       " ('newzealand', 'niger'): 91,\n",
       " ('newzealand', 'liberia'): 90,\n",
       " ('newzealand', 'luxembourg'): 131,\n",
       " ('newzealand', 'taiwan'): 15,\n",
       " ('newzealand', 'mauritania'): 103,\n",
       " ('newzealand', 'tunisia'): 124,\n",
       " ('newzealand', 'kuwait'): 94,\n",
       " ('newzealand', 'cyprus'): 133,\n",
       " ('newzealand', 'paraguay'): 101,\n",
       " ('newzealand', 'austria'): 145,\n",
       " ('newzealand', 'car'): 85,\n",
       " ('newzealand', 'russia'): 139,\n",
       " ('newzealand', 'rwanda'): 89,\n",
       " ('newzealand', 'greece'): 151,\n",
       " ('newzealand', 'nicaragua'): 107,\n",
       " ('newzealand', 'hungary'): 142,\n",
       " ('newzealand', 'spain'): 154,\n",
       " ('newzealand', 'india'): 164,\n",
       " ('newzealand', 'fyromacedonia'): 98,\n",
       " ('newzealand', 'estonia'): 126,\n",
       " ('newzealand', 'kazakhstan'): 95,\n",
       " ('newzealand', 'kyrgyzstan'): 87,\n",
       " ('newzealand', 'mozambique'): 104,\n",
       " ('newzealand', 'romania'): 145,\n",
       " ('newzealand', 'switzerland'): 153,\n",
       " ('newzealand', 'tanzania'): 112,\n",
       " ('newzealand', 'kenya'): 123,\n",
       " ('newzealand', 'vietnam'): 114,\n",
       " ('newzealand', 'djibouti'): 79,\n",
       " ('newzealand', 'uganda'): 101,\n",
       " ('newzealand', 'canada'): 159,\n",
       " ('newzealand', 'azerbaijan'): 96,\n",
       " ('newzealand', 'bolivia'): 100,\n",
       " ('newzealand', 'chile'): 133,\n",
       " ('newzealand', 'costarica'): 110,\n",
       " ('newzealand', 'kosovo'): 12,\n",
       " ('newzealand', 'singapore'): 121,\n",
       " ('newzealand', 'iran'): 110,\n",
       " ('newzealand', 'uk'): 170,\n",
       " ('newzealand', 'sudan'): 97,\n",
       " ('newzealand', 'soafrica'): 148,\n",
       " ('newzealand', 'cambodia'): 121,\n",
       " ('newzealand', 'israel'): 135,\n",
       " ('newzealand', 'argentina'): 138,\n",
       " ('newzealand', 'morocco'): 127,\n",
       " ('newzealand', 'italy'): 160,\n",
       " ('newzealand', 'togo'): 111,\n",
       " ('newzealand', 'jordan'): 113,\n",
       " ('newzealand', 'uae'): 108,\n",
       " ('newzealand', 'guatemala'): 106,\n",
       " ('newzealand', 'burkinafaso'): 104,\n",
       " ('newzealand', 'chad'): 92,\n",
       " ('newzealand', 'burundi'): 86,\n",
       " ('newzealand', 'qatar'): 100,\n",
       " ('newzealand', 'afghanistan'): 87,\n",
       " ('newzealand', 'sokorea'): 171,\n",
       " ('newzealand', 'bahrain'): 92,\n",
       " ('newzealand', 'domrepublic'): 109,\n",
       " ('newzealand', 'slovakia'): 132,\n",
       " ('newzealand', 'honduras'): 101,\n",
       " ('newzealand', 'malaysia'): 149,\n",
       " ('newzealand', 'tajikistan'): 85,\n",
       " ('newzealand', 'haiti'): 90,\n",
       " ('newzealand', 'bulgaria'): 137,\n",
       " ('pakistan', 'angola'): 107,\n",
       " ('pakistan', 'slovenia'): 114,\n",
       " ('pakistan', 'newzealand'): 136,\n",
       " ('pakistan', 'ukraine'): 109,\n",
       " ('pakistan', 'iraq'): 124,\n",
       " ('pakistan', 'mongolia'): 130,\n",
       " ('pakistan', 'zambia'): 114,\n",
       " ('pakistan', 'madagascar'): 115,\n",
       " ('pakistan', 'saudiarabia'): 144,\n",
       " ('pakistan', 'lebanon'): 121,\n",
       " ('pakistan', 'venezuela'): 127,\n",
       " ('pakistan', 'uruguay'): 119,\n",
       " ('pakistan', 'netherlands'): 135,\n",
       " ('pakistan', 'elsalvador'): 101,\n",
       " ('pakistan', 'turkey'): 149,\n",
       " ('pakistan', 'poland'): 121,\n",
       " ('pakistan', 'ireland'): 120,\n",
       " ('pakistan', 'portugal'): 129,\n",
       " ('pakistan', 'ivorycoast'): 135,\n",
       " ('pakistan', 'brazil'): 129,\n",
       " ('pakistan', 'finland'): 137,\n",
       " ('pakistan', 'nepal'): 139,\n",
       " ('pakistan', 'zimbabwe'): 113,\n",
       " ('pakistan', 'albania'): 117,\n",
       " ('pakistan', 'belarus'): 92,\n",
       " ('pakistan', 'ghana'): 141,\n",
       " ('pakistan', 'peru'): 128,\n",
       " ('pakistan', 'botswana'): 101,\n",
       " ('pakistan', 'mexico'): 127,\n",
       " ('pakistan', 'czechrep'): 108,\n",
       " ('pakistan', 'turkmenistan'): 93,\n",
       " ('pakistan', 'japan'): 157,\n",
       " ('pakistan', 'comoros'): 100,\n",
       " ('pakistan', 'germany'): 126,\n",
       " ('pakistan', 'iceland'): 107,\n",
       " ('pakistan', 'usa'): 125,\n",
       " ('pakistan', 'srilanka'): 182,\n",
       " ('pakistan', 'syria'): 122,\n",
       " ('pakistan', 'armenia'): 97,\n",
       " ('pakistan', 'sierraleone'): 125,\n",
       " ('pakistan', 'malta'): 121,\n",
       " ('pakistan', 'cameroon'): 147,\n",
       " ('pakistan', 'algeria'): 140,\n",
       " ('pakistan', 'denmark'): 131,\n",
       " ('pakistan', 'latvia'): 102,\n",
       " ('pakistan', 'malawi'): 106,\n",
       " ('pakistan', 'belgium'): 132,\n",
       " ('pakistan', 'croatia'): 120,\n",
       " ('pakistan', 'australia'): 161,\n",
       " ('pakistan', 'bangladesh'): 185,\n",
       " ('pakistan', 'panama'): 121,\n",
       " ('pakistan', 'china'): 167,\n",
       " ('pakistan', 'lithuania'): 103,\n",
       " ('pakistan', 'senegal'): 135,\n",
       " ('pakistan', 'thailand'): 164,\n",
       " ('pakistan', 'moldova'): 96,\n",
       " ('pakistan', 'mauritius'): 134,\n",
       " ('pakistan', 'nigeria'): 157,\n",
       " ('pakistan', 'georgia'): 107,\n",
       " ('pakistan', 'mali'): 117,\n",
       " ('pakistan', 'colombia'): 138,\n",
       " ('pakistan', 'sweden'): 132,\n",
       " ('pakistan', 'montenegro'): 95,\n",
       " ('pakistan', 'libya'): 118,\n",
       " ('pakistan', 'philippines'): 170,\n",
       " ('pakistan', 'benin'): 121,\n",
       " ('pakistan', 'france'): 138,\n",
       " ('pakistan', 'uzbekistan'): 103,\n",
       " ('pakistan', 'norway'): 137,\n",
       " ('pakistan', 'laos'): 119,\n",
       " ('pakistan', 'indonesia'): 174,\n",
       " ('pakistan', 'egypt'): 165,\n",
       " ('pakistan', 'ecuador'): 120,\n",
       " ('pakistan', 'guinea'): 117,\n",
       " ('pakistan', 'yemen'): 124,\n",
       " ('pakistan', 'niger'): 104,\n",
       " ('pakistan', 'liberia'): 98,\n",
       " ('pakistan', 'luxembourg'): 111,\n",
       " ('pakistan', 'taiwan'): 18,\n",
       " ('pakistan', 'mauritania'): 120,\n",
       " ('pakistan', 'tunisia'): 146,\n",
       " ('pakistan', 'kuwait'): 116,\n",
       " ('pakistan', 'cyprus'): 135,\n",
       " ('pakistan', 'paraguay'): 109,\n",
       " ('pakistan', 'austria'): 120,\n",
       " ('pakistan', 'car'): 94,\n",
       " ('pakistan', 'russia'): 135,\n",
       " ('pakistan', 'rwanda'): 104,\n",
       " ('pakistan', 'greece'): 132,\n",
       " ('pakistan', 'nicaragua'): 122,\n",
       " ('pakistan', 'hungary'): 114,\n",
       " ('pakistan', 'spain'): 132,\n",
       " ('pakistan', 'india'): 203,\n",
       " ('pakistan', 'fyromacedonia'): 86,\n",
       " ('pakistan', 'estonia'): 105,\n",
       " ('pakistan', 'kazakhstan'): 120,\n",
       " ('pakistan', 'kyrgyzstan'): 103,\n",
       " ('pakistan', 'mozambique'): 126,\n",
       " ('pakistan', 'romania'): 126,\n",
       " ('pakistan', 'switzerland'): 140,\n",
       " ('pakistan', 'tanzania'): 128,\n",
       " ('pakistan', 'kenya'): 149,\n",
       " ('pakistan', 'vietnam'): 132,\n",
       " ('pakistan', 'djibouti'): 92,\n",
       " ('pakistan', 'uganda'): 130,\n",
       " ('pakistan', 'canada'): 135,\n",
       " ('pakistan', 'azerbaijan'): 112,\n",
       " ('pakistan', 'bolivia'): 113,\n",
       " ('pakistan', 'chile'): 127,\n",
       " ('pakistan', 'costarica'): 113,\n",
       " ('pakistan', 'kosovo'): 12,\n",
       " ('pakistan', 'singapore'): 126,\n",
       " ('pakistan', 'iran'): 162,\n",
       " ('pakistan', 'uk'): 144,\n",
       " ('pakistan', 'sudan'): 128,\n",
       " ('pakistan', 'soafrica'): 152,\n",
       " ('pakistan', 'cambodia'): 132,\n",
       " ('pakistan', 'israel'): 126,\n",
       " ('pakistan', 'argentina'): 138,\n",
       " ('pakistan', 'morocco'): 141,\n",
       " ('pakistan', 'italy'): 138,\n",
       " ('pakistan', 'togo'): 124,\n",
       " ('pakistan', 'jordan'): 132,\n",
       " ('pakistan', 'uae'): 123,\n",
       " ('pakistan', 'guatemala'): 117,\n",
       " ('pakistan', 'burkinafaso'): 122,\n",
       " ('pakistan', 'chad'): 106,\n",
       " ('pakistan', 'burundi'): 103,\n",
       " ('pakistan', 'qatar'): 120,\n",
       " ('pakistan', 'afghanistan'): 115,\n",
       " ('pakistan', 'sokorea'): 167,\n",
       " ('pakistan', 'bahrain'): 117,\n",
       " ('pakistan', 'domrepublic'): 117,\n",
       " ('pakistan', 'slovakia'): 109,\n",
       " ('pakistan', 'honduras'): 112,\n",
       " ('pakistan', 'malaysia'): 181,\n",
       " ('pakistan', 'tajikistan'): 95,\n",
       " ('pakistan', 'haiti'): 109,\n",
       " ('pakistan', 'bulgaria'): 121,\n",
       " ('ukraine', 'angola'): 91,\n",
       " ('ukraine', 'slovenia'): 145,\n",
       " ('ukraine', 'newzealand'): 113,\n",
       " ('ukraine', 'pakistan'): 109,\n",
       " ('ukraine', 'iraq'): 82,\n",
       " ('ukraine', 'mongolia'): 104,\n",
       " ('ukraine', 'zambia'): 85,\n",
       " ('ukraine', 'madagascar'): 103,\n",
       " ('ukraine', 'saudiarabia'): 101,\n",
       " ('ukraine', 'lebanon'): 98,\n",
       " ('ukraine', 'venezuela'): 107,\n",
       " ('ukraine', 'uruguay'): 110,\n",
       " ('ukraine', 'netherlands'): 142,\n",
       " ('ukraine', 'elsalvador'): 92,\n",
       " ('ukraine', 'turkey'): 148,\n",
       " ('ukraine', 'poland'): 152,\n",
       " ('ukraine', 'ireland'): 127,\n",
       " ('ukraine', 'portugal'): 145,\n",
       " ('ukraine', 'ivorycoast'): 103,\n",
       " ('ukraine', 'brazil'): 109,\n",
       " ('ukraine', 'finland'): 142,\n",
       " ('ukraine', 'nepal'): 91,\n",
       " ('ukraine', 'zimbabwe'): 89,\n",
       " ('ukraine', 'albania'): 131,\n",
       " ('ukraine', 'belarus'): 125,\n",
       " ('ukraine', 'ghana'): 100,\n",
       " ('ukraine', 'peru'): 109,\n",
       " ('ukraine', 'botswana'): 80,\n",
       " ('ukraine', 'mexico'): 118,\n",
       " ('ukraine', 'czechrep'): 139,\n",
       " ('ukraine', 'turkmenistan'): 99,\n",
       " ('ukraine', 'japan'): 121,\n",
       " ('ukraine', 'comoros'): 83,\n",
       " ('ukraine', 'germany'): 139,\n",
       " ('ukraine', 'iceland'): 123,\n",
       " ('ukraine', 'usa'): 112,\n",
       " ('ukraine', 'srilanka'): 104,\n",
       " ('ukraine', 'syria'): 92,\n",
       " ('ukraine', 'armenia'): 110,\n",
       " ('ukraine', 'sierraleone'): 92,\n",
       " ('ukraine', 'malta'): 134,\n",
       " ('ukraine', 'cameroon'): 106,\n",
       " ('ukraine', 'algeria'): 118,\n",
       " ('ukraine', 'denmark'): 139,\n",
       " ('ukraine', 'latvia'): 133,\n",
       " ('ukraine', 'malawi'): 83,\n",
       " ('ukraine', 'belgium'): 139,\n",
       " ('ukraine', 'croatia'): 148,\n",
       " ('ukraine', 'australia'): 124,\n",
       " ('ukraine', 'bangladesh'): 106,\n",
       " ('ukraine', 'panama'): 109,\n",
       " ('ukraine', 'china'): 112,\n",
       " ('ukraine', 'lithuania'): 137,\n",
       " ('ukraine', 'senegal'): 104,\n",
       " ('ukraine', 'thailand'): 109,\n",
       " ('ukraine', 'moldova'): 139,\n",
       " ('ukraine', 'mauritius'): 108,\n",
       " ('ukraine', 'nigeria'): 103,\n",
       " ('ukraine', 'georgia'): 124,\n",
       " ('ukraine', 'mali'): 91,\n",
       " ('ukraine', 'colombia'): 109,\n",
       " ('ukraine', 'sweden'): 139,\n",
       " ('ukraine', 'montenegro'): 120,\n",
       " ('ukraine', 'libya'): 89,\n",
       " ('ukraine', 'philippines'): 109,\n",
       " ('ukraine', 'benin'): 100,\n",
       " ('ukraine', 'france'): 148,\n",
       " ('ukraine', 'uzbekistan'): 106,\n",
       " ('ukraine', 'norway'): 148,\n",
       " ('ukraine', 'laos'): 82,\n",
       " ('ukraine', 'indonesia'): 100,\n",
       " ('ukraine', 'egypt'): 115,\n",
       " ('ukraine', 'ecuador'): 107,\n",
       " ('ukraine', 'guinea'): 97,\n",
       " ('ukraine', 'yemen'): 93,\n",
       " ('ukraine', 'niger'): 84,\n",
       " ('ukraine', 'liberia'): 83,\n",
       " ('ukraine', 'luxembourg'): 124,\n",
       " ('ukraine', 'taiwan'): 9,\n",
       " ('ukraine', 'mauritania'): 98,\n",
       " ('ukraine', 'tunisia'): 125,\n",
       " ('ukraine', 'kuwait'): 91,\n",
       " ('ukraine', 'cyprus'): 130,\n",
       " ('ukraine', 'paraguay'): 97,\n",
       " ('ukraine', 'austria'): 142,\n",
       " ('ukraine', 'car'): 82,\n",
       " ('ukraine', 'russia'): 163,\n",
       " ('ukraine', 'rwanda'): 83,\n",
       " ('ukraine', 'greece'): 145,\n",
       " ('ukraine', 'nicaragua'): 104,\n",
       " ('ukraine', 'hungary'): 148,\n",
       " ('ukraine', 'spain'): 145,\n",
       " ('ukraine', 'india'): 109,\n",
       " ('ukraine', 'fyromacedonia'): 108,\n",
       " ('ukraine', 'estonia'): 130,\n",
       " ('ukraine', 'kazakhstan'): 115,\n",
       " ('ukraine', 'kyrgyzstan'): 109,\n",
       " ('ukraine', 'mozambique'): 100,\n",
       " ('ukraine', 'romania'): 162,\n",
       " ('ukraine', 'switzerland'): 145,\n",
       " ('ukraine', 'tanzania'): 98,\n",
       " ('ukraine', 'kenya'): 107,\n",
       " ('ukraine', 'vietnam'): 97,\n",
       " ('ukraine', 'djibouti'): 77,\n",
       " ('ukraine', 'uganda'): 94,\n",
       " ('ukraine', 'canada'): 130,\n",
       " ('ukraine', 'azerbaijan'): 120,\n",
       " ('ukraine', 'bolivia'): 92,\n",
       " ('ukraine', 'chile'): 112,\n",
       " ('ukraine', 'costarica'): 109,\n",
       " ('ukraine', 'kosovo'): 15,\n",
       " ('ukraine', 'singapore'): 90,\n",
       " ('ukraine', 'iran'): 103,\n",
       " ('ukraine', 'uk'): 140,\n",
       " ('ukraine', 'sudan'): 91,\n",
       " ('ukraine', 'soafrica'): 118,\n",
       " ('ukraine', 'cambodia'): 92,\n",
       " ('ukraine', 'israel'): 118,\n",
       " ('ukraine', 'argentina'): 121,\n",
       " ('ukraine', 'morocco'): 127,\n",
       " ('ukraine', 'italy'): 148,\n",
       " ('ukraine', 'togo'): 100,\n",
       " ('ukraine', 'jordan'): 107,\n",
       " ('ukraine', 'uae'): 95,\n",
       " ('ukraine', 'guatemala'): 98,\n",
       " ('ukraine', 'burkinafaso'): 96,\n",
       " ('ukraine', 'chad'): 82,\n",
       " ('ukraine', 'burundi'): 86,\n",
       " ('ukraine', 'qatar'): 95,\n",
       " ('ukraine', 'afghanistan'): 69,\n",
       " ('ukraine', 'sokorea'): 127,\n",
       " ('ukraine', 'bahrain'): 95,\n",
       " ('ukraine', 'domrepublic'): 99,\n",
       " ('ukraine', 'slovakia'): 143,\n",
       " ('ukraine', 'honduras'): 94,\n",
       " ('ukraine', 'malaysia'): 106,\n",
       " ('ukraine', 'tajikistan'): 96,\n",
       " ('ukraine', 'haiti'): 89,\n",
       " ('ukraine', 'bulgaria'): 158,\n",
       " ('iraq', 'angola'): 87,\n",
       " ('iraq', 'slovenia'): 85,\n",
       " ('iraq', 'newzealand'): 89,\n",
       " ('iraq', 'pakistan'): 124,\n",
       " ('iraq', 'ukraine'): 82,\n",
       " ('iraq', 'mongolia'): 91,\n",
       " ('iraq', 'zambia'): 86,\n",
       " ('iraq', 'madagascar'): 88,\n",
       " ('iraq', 'saudiarabia'): 155,\n",
       " ('iraq', 'lebanon'): 141,\n",
       " ('iraq', 'venezuela'): 99,\n",
       " ('iraq', 'uruguay'): 89,\n",
       " ('iraq', 'netherlands'): 99,\n",
       " ('iraq', 'elsalvador'): 76,\n",
       " ('iraq', 'turkey'): 109,\n",
       " ('iraq', 'poland'): 90,\n",
       " ('iraq', 'ireland'): 90,\n",
       " ('iraq', 'portugal'): 99,\n",
       " ('iraq', 'ivorycoast'): 98,\n",
       " ('iraq', 'brazil'): 93,\n",
       " ('iraq', 'finland'): 101,\n",
       " ('iraq', 'nepal'): 86,\n",
       " ('iraq', 'zimbabwe'): 86,\n",
       " ('iraq', 'albania'): 99,\n",
       " ('iraq', 'belarus'): 74,\n",
       " ('iraq', 'ghana'): 99,\n",
       " ('iraq', 'peru'): 90,\n",
       " ('iraq', 'botswana'): 77,\n",
       " ('iraq', 'mexico'): 94,\n",
       " ('iraq', 'czechrep'): 84,\n",
       " ('iraq', 'turkmenistan'): 71,\n",
       " ('iraq', 'japan'): 105,\n",
       " ('iraq', 'comoros'): 99,\n",
       " ('iraq', 'germany'): 93,\n",
       " ('iraq', 'iceland'): 79,\n",
       " ('iraq', 'usa'): 85,\n",
       " ('iraq', 'srilanka'): 101,\n",
       " ('iraq', 'syria'): 138,\n",
       " ('iraq', 'armenia'): 76,\n",
       " ('iraq', 'sierraleone'): 94,\n",
       " ('iraq', 'malta'): 91,\n",
       " ('iraq', 'cameroon'): 107,\n",
       " ('iraq', 'algeria'): 148,\n",
       " ('iraq', 'denmark'): 98,\n",
       " ('iraq', 'latvia'): 79,\n",
       " ('iraq', 'malawi'): 82,\n",
       " ('iraq', 'belgium'): 99,\n",
       " ('iraq', 'croatia'): 93,\n",
       " ('iraq', 'australia'): 97,\n",
       " ('iraq', 'bangladesh'): 107,\n",
       " ('iraq', 'panama'): 90,\n",
       " ('iraq', 'china'): 113,\n",
       " ('iraq', 'lithuania'): 82,\n",
       " ('iraq', 'senegal'): 108,\n",
       " ('iraq', 'thailand'): 100,\n",
       " ('iraq', 'moldova'): 76,\n",
       " ('iraq', 'mauritius'): 94,\n",
       " ('iraq', 'nigeria'): 114,\n",
       " ('iraq', 'georgia'): 82,\n",
       " ('iraq', 'mali'): 88,\n",
       " ('iraq', 'colombia'): 94,\n",
       " ('iraq', 'sweden'): 99,\n",
       " ('iraq', 'montenegro'): 82,\n",
       " ('iraq', 'libya'): 141,\n",
       " ('iraq', 'philippines'): 105,\n",
       " ('iraq', 'benin'): 95,\n",
       " ('iraq', 'france'): 99,\n",
       " ('iraq', 'uzbekistan'): 77,\n",
       " ('iraq', 'norway'): 100,\n",
       " ('iraq', 'laos'): 83,\n",
       " ('iraq', 'indonesia'): 107,\n",
       " ('iraq', 'egypt'): 157,\n",
       " ('iraq', 'ecuador'): 92,\n",
       " ('iraq', 'guinea'): 90,\n",
       " ('iraq', 'yemen'): 125,\n",
       " ('iraq', 'niger'): 84,\n",
       " ('iraq', 'liberia'): 82,\n",
       " ('iraq', 'luxembourg'): 91,\n",
       " ('iraq', 'taiwan'): 6,\n",
       " ('iraq', 'mauritania'): 128,\n",
       " ('iraq', 'tunisia'): 145,\n",
       " ('iraq', 'kuwait'): 138,\n",
       " ('iraq', 'cyprus'): 97,\n",
       " ('iraq', 'paraguay'): 82,\n",
       " ('iraq', 'austria'): 96,\n",
       " ('iraq', 'car'): 73,\n",
       " ('iraq', 'russia'): 101,\n",
       " ('iraq', 'rwanda'): 82,\n",
       " ('iraq', 'greece'): 102,\n",
       " ('iraq', 'nicaragua'): 94,\n",
       " ('iraq', 'hungary'): 89,\n",
       " ('iraq', 'spain'): 99,\n",
       " ('iraq', 'india'): 115,\n",
       " ('iraq', 'fyromacedonia'): 76,\n",
       " ('iraq', 'estonia'): 79,\n",
       " ('iraq', 'kazakhstan'): 89,\n",
       " ('iraq', 'kyrgyzstan'): 80,\n",
       " ('iraq', 'mozambique'): 94,\n",
       " ('iraq', 'romania'): 96,\n",
       " ('iraq', 'switzerland'): 100,\n",
       " ('iraq', 'tanzania'): 89,\n",
       " ('iraq', 'kenya'): 101,\n",
       " ('iraq', 'vietnam'): 71,\n",
       " ('iraq', 'djibouti'): 100,\n",
       " ('iraq', 'uganda'): 91,\n",
       " ('iraq', 'canada'): 92,\n",
       " ('iraq', 'azerbaijan'): 88,\n",
       " ('iraq', 'bolivia'): 88,\n",
       " ('iraq', 'chile'): 96,\n",
       " ('iraq', 'costarica'): 86,\n",
       " ('iraq', 'kosovo'): 9,\n",
       " ('iraq', 'singapore'): 86,\n",
       " ('iraq', 'iran'): 113,\n",
       " ('iraq', 'uk'): 101,\n",
       " ('iraq', 'sudan'): 140,\n",
       " ('iraq', 'soafrica'): 100,\n",
       " ('iraq', 'cambodia'): 83,\n",
       " ('iraq', 'israel'): 98,\n",
       " ('iraq', 'argentina'): 103,\n",
       " ('iraq', 'morocco'): 143,\n",
       " ('iraq', 'italy'): 102,\n",
       " ('iraq', 'togo'): 97,\n",
       " ('iraq', 'jordan'): 143,\n",
       " ('iraq', 'uae'): 144,\n",
       " ('iraq', 'guatemala'): 86,\n",
       " ('iraq', 'burkinafaso'): 96,\n",
       " ('iraq', 'chad'): 85,\n",
       " ('iraq', 'burundi'): 79,\n",
       " ('iraq', 'qatar'): 142,\n",
       " ('iraq', 'afghanistan'): 82,\n",
       " ('iraq', 'sokorea'): 109,\n",
       " ('iraq', 'bahrain'): 133,\n",
       " ('iraq', 'domrepublic'): 87,\n",
       " ('iraq', 'slovakia'): 84,\n",
       " ('iraq', 'honduras'): 82,\n",
       " ('iraq', 'malaysia'): 114,\n",
       " ('iraq', 'tajikistan'): 73,\n",
       " ('iraq', 'haiti'): 91,\n",
       " ('iraq', 'bulgaria'): 96,\n",
       " ('mongolia', 'angola'): 102,\n",
       " ('mongolia', 'slovenia'): 107,\n",
       " ('mongolia', 'newzealand'): 117,\n",
       " ('mongolia', 'pakistan'): 130,\n",
       " ('mongolia', 'ukraine'): 104,\n",
       " ('mongolia', 'iraq'): 91,\n",
       " ('mongolia', 'zambia'): 97,\n",
       " ('mongolia', 'madagascar'): 104,\n",
       " ('mongolia', 'saudiarabia'): 109,\n",
       " ('mongolia', 'lebanon'): 98,\n",
       " ('mongolia', 'venezuela'): 107,\n",
       " ('mongolia', 'uruguay'): 104,\n",
       " ('mongolia', 'netherlands'): 116,\n",
       " ('mongolia', 'elsalvador'): 89,\n",
       " ('mongolia', 'turkey'): 112,\n",
       " ('mongolia', 'poland'): 119,\n",
       " ('mongolia', 'ireland'): 107,\n",
       " ('mongolia', 'portugal'): 116,\n",
       " ('mongolia', 'ivorycoast'): 114,\n",
       " ('mongolia', 'brazil'): 101,\n",
       " ('mongolia', 'finland'): 118,\n",
       " ('mongolia', 'nepal'): 113,\n",
       " ('mongolia', 'zimbabwe'): 101,\n",
       " ('mongolia', 'albania'): 106,\n",
       " ('mongolia', 'belarus'): 95,\n",
       " ('mongolia', 'ghana'): 121,\n",
       " ('mongolia', 'peru'): 112,\n",
       " ('mongolia', 'botswana'): 95,\n",
       " ('mongolia', 'mexico'): 109,\n",
       " ('mongolia', 'czechrep'): 110,\n",
       " ('mongolia', 'turkmenistan'): 90,\n",
       " ('mongolia', 'japan'): 130,\n",
       " ('mongolia', 'comoros'): 89,\n",
       " ('mongolia', 'germany'): 113,\n",
       " ('mongolia', 'iceland'): 99,\n",
       " ('mongolia', 'usa'): 97,\n",
       " ('mongolia', 'srilanka'): 121,\n",
       " ('mongolia', 'syria'): 95,\n",
       " ('mongolia', 'armenia'): 103,\n",
       " ('mongolia', 'sierraleone'): 106,\n",
       " ('mongolia', 'malta'): 105,\n",
       " ('mongolia', 'cameroon'): 116,\n",
       " ('mongolia', 'algeria'): 112,\n",
       " ('mongolia', 'denmark'): 115,\n",
       " ('mongolia', 'latvia'): 101,\n",
       " ('mongolia', 'malawi'): 97,\n",
       " ('mongolia', 'belgium'): 113,\n",
       " ('mongolia', 'croatia'): 113,\n",
       " ('mongolia', 'australia'): 124,\n",
       " ('mongolia', 'bangladesh'): 123,\n",
       " ('mongolia', 'panama'): 109,\n",
       " ('mongolia', 'china'): 127,\n",
       " ('mongolia', 'lithuania'): 110,\n",
       " ('mongolia', 'senegal'): 121,\n",
       " ('mongolia', 'thailand'): 128,\n",
       " ('mongolia', 'moldova'): 106,\n",
       " ('mongolia', 'mauritius'): 114,\n",
       " ('mongolia', 'nigeria'): 115,\n",
       " ('mongolia', 'georgia'): 115,\n",
       " ('mongolia', 'mali'): 104,\n",
       " ('mongolia', 'colombia'): 110,\n",
       " ('mongolia', 'sweden'): 113,\n",
       " ('mongolia', 'montenegro'): 94,\n",
       " ('mongolia', 'libya'): 98,\n",
       " ('mongolia', 'philippines'): 133,\n",
       " ('mongolia', 'benin'): 112,\n",
       " ('mongolia', 'france'): 116,\n",
       " ('mongolia', 'uzbekistan'): 98,\n",
       " ('mongolia', 'norway'): 118,\n",
       " ('mongolia', 'laos'): 109,\n",
       " ('mongolia', 'indonesia'): 121,\n",
       " ('mongolia', 'egypt'): 116,\n",
       " ('mongolia', 'ecuador'): 107,\n",
       " ('mongolia', 'guinea'): 110,\n",
       " ('mongolia', 'yemen'): 104,\n",
       " ('mongolia', 'niger'): 99,\n",
       " ('mongolia', 'liberia'): 98,\n",
       " ('mongolia', 'luxembourg'): 104,\n",
       " ('mongolia', 'taiwan'): 9,\n",
       " ('mongolia', 'mauritania'): 112,\n",
       " ('mongolia', 'tunisia'): 118,\n",
       " ('mongolia', 'kuwait'): 96,\n",
       " ('mongolia', 'cyprus'): 113,\n",
       " ('mongolia', 'paraguay'): 98,\n",
       " ('mongolia', 'austria'): 107,\n",
       " ('mongolia', 'car'): 89,\n",
       " ('mongolia', 'russia'): 116,\n",
       " ('mongolia', 'rwanda'): 88,\n",
       " ('mongolia', 'greece'): 110,\n",
       " ('mongolia', 'nicaragua'): 104,\n",
       " ('mongolia', 'hungary'): 110,\n",
       " ('mongolia', 'spain'): 116,\n",
       " ('mongolia', 'india'): 127,\n",
       " ('mongolia', 'fyromacedonia'): 84,\n",
       " ('mongolia', 'estonia'): 104,\n",
       " ('mongolia', 'kazakhstan'): 103,\n",
       " ('mongolia', 'kyrgyzstan'): 97,\n",
       " ('mongolia', 'mozambique'): 105,\n",
       " ('mongolia', 'romania'): 119,\n",
       " ('mongolia', 'switzerland'): 118,\n",
       " ('mongolia', 'tanzania'): 116,\n",
       " ('mongolia', 'kenya'): 118,\n",
       " ('mongolia', 'vietnam'): 113,\n",
       " ('mongolia', 'djibouti'): 86,\n",
       " ('mongolia', 'uganda'): 106,\n",
       " ('mongolia', 'canada'): 107,\n",
       " ('mongolia', 'azerbaijan'): 109,\n",
       " ('mongolia', 'bolivia'): 101,\n",
       " ('mongolia', 'chile'): 107,\n",
       " ('mongolia', 'costarica'): 104,\n",
       " ('mongolia', 'kosovo'): 15,\n",
       " ('mongolia', 'singapore'): 103,\n",
       " ('mongolia', 'iran'): 112,\n",
       " ('mongolia', 'uk'): 116,\n",
       " ('mongolia', 'sudan'): 100,\n",
       " ('mongolia', 'soafrica'): 118,\n",
       " ('mongolia', 'cambodia'): 125,\n",
       " ('mongolia', 'israel'): 109,\n",
       " ('mongolia', 'argentina'): 109,\n",
       " ('mongolia', 'morocco'): 116,\n",
       " ('mongolia', 'italy'): 116,\n",
       " ('mongolia', 'togo'): 109,\n",
       " ('mongolia', 'jordan'): 112,\n",
       " ('mongolia', 'uae'): 103,\n",
       " ('mongolia', 'guatemala'): 104,\n",
       " ('mongolia', 'burkinafaso'): 106,\n",
       " ('mongolia', 'chad'): 97,\n",
       " ('mongolia', 'burundi'): 95,\n",
       " ('mongolia', 'qatar'): 104,\n",
       " ('mongolia', 'afghanistan'): 90,\n",
       " ('mongolia', 'sokorea'): 139,\n",
       " ('mongolia', 'bahrain'): 101,\n",
       " ('mongolia', 'domrepublic'): 107,\n",
       " ('mongolia', 'slovakia'): 111,\n",
       " ('mongolia', 'honduras'): 104,\n",
       " ('mongolia', 'malaysia'): 128,\n",
       " ('mongolia', 'tajikistan'): 93,\n",
       " ('mongolia', 'haiti'): 98,\n",
       " ('mongolia', 'bulgaria'): 119,\n",
       " ('zambia', 'angola'): 132,\n",
       " ('zambia', 'slovenia'): 101,\n",
       " ('zambia', 'newzealand'): 100,\n",
       " ('zambia', 'pakistan'): 114,\n",
       " ('zambia', 'ukraine'): 85,\n",
       " ('zambia', 'iraq'): 86,\n",
       " ('zambia', 'mongolia'): 97,\n",
       " ('zambia', 'madagascar'): 140,\n",
       " ('zambia', 'saudiarabia'): 101,\n",
       " ('zambia', 'lebanon'): 90,\n",
       " ('zambia', 'venezuela'): 101,\n",
       " ('zambia', 'uruguay'): 95,\n",
       " ('zambia', 'netherlands'): 114,\n",
       " ('zambia', 'elsalvador'): 84,\n",
       " ('zambia', 'turkey'): 95,\n",
       " ('zambia', 'poland'): 105,\n",
       " ('zambia', 'ireland'): 101,\n",
       " ('zambia', 'portugal'): 116,\n",
       " ('zambia', 'ivorycoast'): 136,\n",
       " ('zambia', 'brazil'): 110,\n",
       " ('zambia', 'finland'): 119,\n",
       " ('zambia', 'nepal'): 92,\n",
       " ('zambia', 'zimbabwe'): 154,\n",
       " ('zambia', 'albania'): 100,\n",
       " ('zambia', 'belarus'): 88,\n",
       " ('zambia', 'ghana'): 156,\n",
       " ('zambia', 'peru'): 107,\n",
       " ...}"
      ]
     },
     "execution_count": 25,
     "metadata": {},
     "output_type": "execute_result"
    }
   ],
   "source": [
    "intersecs"
   ]
  },
  {
   "cell_type": "code",
   "execution_count": 22,
   "id": "8f0aca62",
   "metadata": {},
   "outputs": [],
   "source": [
    "import pickle\n",
    "\n",
    "with open(\"intersecs.pickle\", 'wb') as f:\n",
    "    pickle.dump(intersecs, f)\n",
    "# with open(\"intersecs.pickle\", 'rb') as f:\n",
    "#     intersecs = pickle.load(f)"
   ]
  },
  {
   "cell_type": "code",
   "execution_count": 26,
   "id": "5f680642",
   "metadata": {
    "scrolled": false
   },
   "outputs": [
    {
     "data": {
      "image/png": "[encoded data removed]",
      "text/plain": [
       "<Figure size 640x480 with 1 Axes>"
      ]
     },
     "metadata": {},
     "output_type": "display_data"
    }
   ],
   "source": [
    "import matplotlib.pyplot as plt\n",
    "\n",
    "intersecs_values = list(intersecs.values())\n",
    "plt.hist(intersecs_values, color='red', alpha=0.7, edgecolor='black')\n",
    "plt.xlabel('Frequencias dos numeros IGOS em comum entre países')\n",
    "plt.show()"
   ]
  },
  {
   "cell_type": "code",
   "execution_count": 27,
   "id": "30cd3fef",
   "metadata": {},
   "outputs": [
    {
     "name": "stderr",
     "output_type": "stream",
     "text": [
      "/tmp/ipykernel_82/109831930.py:1: FutureWarning: Unlike other reduction functions (e.g. `skew`, `kurtosis`), the default behavior of `mode` typically preserves the axis it acts along. In SciPy 1.11.0, this behavior will change: the default value of `keepdims` will become False, the `axis` over which the statistic is taken will be eliminated, and the value None will no longer be accepted. Set `keepdims` to True or False to avoid this warning.\n",
      "  threshold = mode(intersecs_values)[0][0]\n"
     ]
    },
    {
     "data": {
      "text/plain": [
       "103"
      ]
     },
     "execution_count": 27,
     "metadata": {},
     "output_type": "execute_result"
    }
   ],
   "source": [
    "threshold = mode(intersecs_values)[0][0]\n",
    "# threshold = sum(intersecs_values) / len(intersecs_values)\n",
    "threshold"
   ]
  },
  {
   "cell_type": "code",
   "execution_count": 28,
   "id": "26f66ece",
   "metadata": {},
   "outputs": [
    {
     "data": {
      "text/html": [
       "\n",
       "    <script src=\"/files/netpixi.min.js\"></script>\n"
      ],
      "text/plain": [
       "<IPython.core.display.HTML object>"
      ]
     },
     "metadata": {},
     "output_type": "display_data"
    },
    {
     "name": "stderr",
     "output_type": "stream",
     "text": [
      "<frozen importlib._bootstrap>:914: ImportWarning: VendorImporter.find_spec() not found; falling back to find_module()\n"
     ]
    }
   ],
   "source": [
    "import netpixi\n",
    "from netpixi.integration.gt import *\n",
    "from regression.integration.gt import *"
   ]
  },
  {
   "cell_type": "code",
   "execution_count": 29,
   "id": "b6f382a9",
   "metadata": {},
   "outputs": [],
   "source": [
    "g = Graph(directed=False)\n",
    "\n",
    "for countrys, n_intersecs in intersecs.items():\n",
    "    if n_intersecs > threshold:\n",
    "        if not g.has_vertex(countrys[0]):\n",
    "            v1 = g.add_vertex(countrys[0])\n",
    "        if not g.has_vertex(countrys[1]):\n",
    "            v2 = g.add_vertex(countrys[1])\n",
    "            \n",
    "        if not g.has_edge(countrys[0], countrys[1]):\n",
    "            g.add_edge(countrys[0], countrys[1])\n",
    "\n",
    "PATH_REDE = 'IGOS.net.gz'\n",
    "gt_save(g, PATH_REDE)"
   ]
  },
  {
   "cell_type": "code",
   "execution_count": 30,
   "id": "e5de459a",
   "metadata": {},
   "outputs": [
    {
     "name": "stdout",
     "output_type": "stream",
     "text": [
      "Número de arestas: 6120\n",
      "Número de vértices: 138\n"
     ]
    }
   ],
   "source": [
    "n = g.num_vertices()\n",
    "m = g.num_edges()\n",
    "\n",
    "print(f\"Número de arestas: {m}\")\n",
    "print(f\"Número de vértices: {n}\")"
   ]
  },
  {
   "cell_type": "code",
   "execution_count": 31,
   "id": "e530e739",
   "metadata": {},
   "outputs": [
    {
     "name": "stdout",
     "output_type": "stream",
     "text": [
      "Número máximo de arestas: 9453\n",
      "Densidade: 0.6474135195176135\n"
     ]
    }
   ],
   "source": [
    "max_edges = n * (n - 1) // 2\n",
    "print(f\"Número máximo de arestas: {max_edges}\")\n",
    "d = m / max_edges\n",
    "print(f\"Densidade: {d}\")"
   ]
  },
  {
   "cell_type": "code",
   "execution_count": 32,
   "id": "74b3d73d",
   "metadata": {},
   "outputs": [],
   "source": [
    "data = gt_data(g)\n",
    "\n",
    "degrees = []\n",
    "for v in g.all_vertices():\n",
    "    degrees.append(v.total_degree())\n",
    "    \n",
    "data['degree'] = degrees"
   ]
  },
  {
   "cell_type": "code",
   "execution_count": 33,
   "id": "a48768d6",
   "metadata": {},
   "outputs": [
    {
     "data": {
      "text/plain": [
       "count    138.000000\n",
       "mean      88.695652\n",
       "std       31.510075\n",
       "min        4.000000\n",
       "25%       72.000000\n",
       "50%       98.000000\n",
       "75%      112.750000\n",
       "max      127.000000\n",
       "Name: degree, dtype: float64"
      ]
     },
     "execution_count": 33,
     "metadata": {},
     "output_type": "execute_result"
    }
   ],
   "source": [
    "data['degree'].describe()"
   ]
  },
  {
   "cell_type": "code",
   "execution_count": 34,
   "id": "2e5a2a4e",
   "metadata": {},
   "outputs": [
    {
     "data": {
      "text/plain": [
       "<AxesSubplot: xlabel='degree', ylabel='Count'>"
      ]
     },
     "execution_count": 34,
     "metadata": {},
     "output_type": "execute_result"
    },
    {
     "data": {
      "image/png": "[encoded data removed]",
      "text/plain": [
       "<Figure size 640x480 with 1 Axes>"
      ]
     },
     "metadata": {},
     "output_type": "display_data"
    }
   ],
   "source": [
    "sns.histplot(data['degree'])"
   ]
  },
  {
   "cell_type": "code",
   "execution_count": 35,
   "id": "647215d3",
   "metadata": {
    "scrolled": false
   },
   "outputs": [
    {
     "data": {
      "text/html": [
       "\n",
       "        <div id=\"CWg9o4qg8bP3GTPdF8FVig\"></div>\n",
       "        <script>netpixi.render('CWg9o4qg8bP3GTPdF8FVig', 'rede_sfdp.net.gz', 1.7777777777777777, true, true, false);</script>\n",
       "    "
      ],
      "text/plain": [
       "<IPython.core.display.HTML object>"
      ]
     },
     "metadata": {},
     "output_type": "display_data"
    }
   ],
   "source": [
    "m = gt_draw.sfdp_layout(g)\n",
    "gt_move(g, m)\n",
    "gt_save(g, 'rede_sfdp.net.gz')\n",
    "r = netpixi.render('rede_sfdp.net.gz', infinite=True);"
   ]
  },
  {
   "cell_type": "code",
   "execution_count": 36,
   "id": "e8a84192",
   "metadata": {},
   "outputs": [
    {
     "data": {
      "text/html": [
       "\n",
       "        <div id=\"hH6M9AE2znYqdTgqMATRUC\"></div>\n",
       "        <script>netpixi.call('hH6M9AE2znYqdTgqMATRUC', 'CWg9o4qg8bP3GTPdF8FVig', 'setGraph', 'eyJ0eXBlIjogInZlcnRleCIsICJwcm9wcyI6IHsic3JjIjogImlkIiwgImRzdCI6ICJfa2V5In19Cg==');</script>\n",
       "    "
      ],
      "text/plain": [
       "<IPython.core.display.HTML object>"
      ]
     },
     "metadata": {},
     "output_type": "display_data"
    }
   ],
   "source": [
    "r.vertex_set_key('id')"
   ]
  },
  {
   "cell_type": "code",
   "execution_count": 37,
   "id": "c0ca5ed2",
   "metadata": {},
   "outputs": [
    {
     "name": "stderr",
     "output_type": "stream",
     "text": [
      "<frozen importlib._bootstrap>:914: ImportWarning: VendorImporter.find_spec() not found; falling back to find_module()\n"
     ]
    }
   ],
   "source": [
    "import cpnet\n",
    "\n",
    "from graph_tool import spectral"
   ]
  },
  {
   "cell_type": "code",
   "execution_count": 38,
   "id": "6bae21cd",
   "metadata": {},
   "outputs": [
    {
     "name": "stderr",
     "output_type": "stream",
     "text": [
      "<frozen importlib._bootstrap>:914: ImportWarning: VendorImporter.find_spec() not found; falling back to find_module()\n"
     ]
    },
    {
     "data": {
      "text/html": [
       "\n",
       "        <div id=\"GTxbRMa2DCCyihQb7zq3sv\"></div>\n",
       "        <script>netpixi.call('GTxbRMa2DCCyihQb7zq3sv', 'CWg9o4qg8bP3GTPdF8FVig', 'changeGraph', 'eyJpZCI6ICJhbmdvbGEiLCAidHlwZSI6ICJ2ZXJ0ZXgiLCAicHJvcHMiOiB7InNpemUiOiAxNS4wfX0K');</script>\n",
       "    "
      ],
      "text/plain": [
       "<IPython.core.display.HTML object>"
      ]
     },
     "metadata": {},
     "output_type": "display_data"
    },
    {
     "data": {
      "text/html": [
       "\n",
       "        <div id=\"CFbD4cdahRkcsmjkGyvkRm\"></div>\n",
       "        <script>netpixi.call('CFbD4cdahRkcsmjkGyvkRm', 'CWg9o4qg8bP3GTPdF8FVig', 'changeGraph', 'eyJpZCI6ICJwYWtpc3RhbiIsICJ0eXBlIjogInZlcnRleCIsICJwcm9wcyI6IHsic2l6ZSI6IDQwLjcxNDI4NTcxNDI4NTcxNX19Cg==');</script>\n",
       "    "
      ],
      "text/plain": [
       "<IPython.core.display.HTML object>"
      ]
     },
     "metadata": {},
     "output_type": "display_data"
    },
    {
     "data": {
      "text/html": [
       "\n",
       "        <div id=\"VTp8PrbQXvRNw34jz9jMW9\"></div>\n",
       "        <script>netpixi.call('VTp8PrbQXvRNw34jz9jMW9', 'CWg9o4qg8bP3GTPdF8FVig', 'changeGraph', 'eyJpZCI6ICJ6YW1iaWEiLCAidHlwZSI6ICJ2ZXJ0ZXgiLCAicHJvcHMiOiB7InNpemUiOiAxMy40NTQ1NDU0NTQ1NDU0NTV9fQo=');</script>\n",
       "    "
      ],
      "text/plain": [
       "<IPython.core.display.HTML object>"
      ]
     },
     "metadata": {},
     "output_type": "display_data"
    },
    {
     "data": {
      "text/html": [
       "\n",
       "        <div id=\"FufA2EhRQdMq9XtzqDYGiU\"></div>\n",
       "        <script>netpixi.call('FufA2EhRQdMq9XtzqDYGiU', 'CWg9o4qg8bP3GTPdF8FVig', 'changeGraph', 'eyJpZCI6ICJtYWRhZ2FzY2FyIiwgInR5cGUiOiAidmVydGV4IiwgInByb3BzIjogeyJzaXplIjogMTguNjM2MzYzNjM2MzYzNjM3fX0K');</script>\n",
       "    "
      ],
      "text/plain": [
       "<IPython.core.display.HTML object>"
      ]
     },
     "metadata": {},
     "output_type": "display_data"
    },
    {
     "data": {
      "text/html": [
       "\n",
       "        <div id=\"a4x6MyJT9X9YtwHVYSXJXZ\"></div>\n",
       "        <script>netpixi.call('a4x6MyJT9X9YtwHVYSXJXZ', 'CWg9o4qg8bP3GTPdF8FVig', 'changeGraph', 'eyJpZCI6ICJzYXVkaWFyYWJpYSIsICJ0eXBlIjogInZlcnRleCIsICJwcm9wcyI6IHsic2l6ZSI6IDE5LjkwOTA5MDkwOTA5MDkwN319Cg==');</script>\n",
       "    "
      ],
      "text/plain": [
       "<IPython.core.display.HTML object>"
      ]
     },
     "metadata": {},
     "output_type": "display_data"
    },
    {
     "data": {
      "text/html": [
       "\n",
       "        <div id=\"RxpV9bFCnd4jmhcNaR2u8D\"></div>\n",
       "        <script>netpixi.call('RxpV9bFCnd4jmhcNaR2u8D', 'CWg9o4qg8bP3GTPdF8FVig', 'changeGraph', 'eyJpZCI6ICJ2ZW5lenVlbGEiLCAidHlwZSI6ICJ2ZXJ0ZXgiLCAicHJvcHMiOiB7InNpemUiOiAxNi4wOTA5MDkwOTA5MDkwOX19Cg==');</script>\n",
       "    "
      ],
      "text/plain": [
       "<IPython.core.display.HTML object>"
      ]
     },
     "metadata": {},
     "output_type": "display_data"
    },
    {
     "data": {
      "text/html": [
       "\n",
       "        <div id=\"fB7yrn6Cfaq7p3MGxN7gFd\"></div>\n",
       "        <script>netpixi.call('fB7yrn6Cfaq7p3MGxN7gFd', 'CWg9o4qg8bP3GTPdF8FVig', 'changeGraph', 'eyJpZCI6ICJuZXRoZXJsYW5kcyIsICJ0eXBlIjogInZlcnRleCIsICJwcm9wcyI6IHsic2l6ZSI6IDQ5LjI4NTcxNDI4NTcxNDI5fX0K');</script>\n",
       "    "
      ],
      "text/plain": [
       "<IPython.core.display.HTML object>"
      ]
     },
     "metadata": {},
     "output_type": "display_data"
    },
    {
     "data": {
      "text/html": [
       "\n",
       "        <div id=\"hg5ZuJbr8jRdoG3fwEUzd2\"></div>\n",
       "        <script>netpixi.call('hg5ZuJbr8jRdoG3fwEUzd2', 'CWg9o4qg8bP3GTPdF8FVig', 'changeGraph', 'eyJpZCI6ICJwb3J0dWdhbCIsICJ0eXBlIjogInZlcnRleCIsICJwcm9wcyI6IHsic2l6ZSI6IDQyLjV9fQo=');</script>\n",
       "    "
      ],
      "text/plain": [
       "<IPython.core.display.HTML object>"
      ]
     },
     "metadata": {},
     "output_type": "display_data"
    },
    {
     "data": {
      "text/html": [
       "\n",
       "        <div id=\"ayqBZJtGMPJvbP9Tn53w86\"></div>\n",
       "        <script>netpixi.call('ayqBZJtGMPJvbP9Tn53w86', 'CWg9o4qg8bP3GTPdF8FVig', 'changeGraph', 'eyJpZCI6ICJpdm9yeWNvYXN0IiwgInR5cGUiOiAidmVydGV4IiwgInByb3BzIjogeyJzaXplIjogNDUuMzU3MTQyODU3MTQyODU0fX0K');</script>\n",
       "    "
      ],
      "text/plain": [
       "<IPython.core.display.HTML object>"
      ]
     },
     "metadata": {},
     "output_type": "display_data"
    },
    {
     "data": {
      "text/html": [
       "\n",
       "        <div id=\"YUWXXchB5uEVR4q5nBfSCB\"></div>\n",
       "        <script>netpixi.call('YUWXXchB5uEVR4q5nBfSCB', 'CWg9o4qg8bP3GTPdF8FVig', 'changeGraph', 'eyJpZCI6ICJicmF6aWwiLCAidHlwZSI6ICJ2ZXJ0ZXgiLCAicHJvcHMiOiB7InNpemUiOiAxNy45MDkwOTA5MDkwOTA5MX19Cg==');</script>\n",
       "    "
      ],
      "text/plain": [
       "<IPython.core.display.HTML object>"
      ]
     },
     "metadata": {},
     "output_type": "display_data"
    },
    {
     "data": {
      "text/html": [
       "\n",
       "        <div id=\"Ceub6Afwivo7P4K2eunMMt\"></div>\n",
       "        <script>netpixi.call('Ceub6Afwivo7P4K2eunMMt', 'CWg9o4qg8bP3GTPdF8FVig', 'changeGraph', 'eyJpZCI6ICJmaW5sYW5kIiwgInR5cGUiOiAidmVydGV4IiwgInByb3BzIjogeyJzaXplIjogNDcuODU3MTQyODU3MTQyODU0fX0K');</script>\n",
       "    "
      ],
      "text/plain": [
       "<IPython.core.display.HTML object>"
      ]
     },
     "metadata": {},
     "output_type": "display_data"
    },
    {
     "data": {
      "text/html": [
       "\n",
       "        <div id=\"ckj2rEZAmAiF8MBA8tHTA4\"></div>\n",
       "        <script>netpixi.call('ckj2rEZAmAiF8MBA8tHTA4', 'CWg9o4qg8bP3GTPdF8FVig', 'changeGraph', 'eyJpZCI6ICJ6aW1iYWJ3ZSIsICJ0eXBlIjogInZlcnRleCIsICJwcm9wcyI6IHsic2l6ZSI6IDE0LjYzNjM2MzYzNjM2MzYzN319Cg==');</script>\n",
       "    "
      ],
      "text/plain": [
       "<IPython.core.display.HTML object>"
      ]
     },
     "metadata": {},
     "output_type": "display_data"
    },
    {
     "data": {
      "text/html": [
       "\n",
       "        <div id=\"5N3qrBE7zz8ZUf7ftGVf2i\"></div>\n",
       "        <script>netpixi.call('5N3qrBE7zz8ZUf7ftGVf2i', 'CWg9o4qg8bP3GTPdF8FVig', 'changeGraph', 'eyJpZCI6ICJnaGFuYSIsICJ0eXBlIjogInZlcnRleCIsICJwcm9wcyI6IHsic2l6ZSI6IDQ1LjcxNDI4NTcxNDI4NTcxfX0K');</script>\n",
       "    "
      ],
      "text/plain": [
       "<IPython.core.display.HTML object>"
      ]
     },
     "metadata": {},
     "output_type": "display_data"
    },
    {
     "data": {
      "text/html": [
       "\n",
       "        <div id=\"ByCySh3FRKSZTrXQBpfFkE\"></div>\n",
       "        <script>netpixi.call('ByCySh3FRKSZTrXQBpfFkE', 'CWg9o4qg8bP3GTPdF8FVig', 'changeGraph', 'eyJpZCI6ICJwZXJ1IiwgInR5cGUiOiAidmVydGV4IiwgInByb3BzIjogeyJzaXplIjogMTYuNDU0NTQ1NDU0NTQ1NDUzfX0K');</script>\n",
       "    "
      ],
      "text/plain": [
       "<IPython.core.display.HTML object>"
      ]
     },
     "metadata": {},
     "output_type": "display_data"
    },
    {
     "data": {
      "text/html": [
       "\n",
       "        <div id=\"eWPjeiuAXw46JjpJe8mZPu\"></div>\n",
       "        <script>netpixi.call('eWPjeiuAXw46JjpJe8mZPu', 'CWg9o4qg8bP3GTPdF8FVig', 'changeGraph', 'eyJpZCI6ICJib3Rzd2FuYSIsICJ0eXBlIjogInZlcnRleCIsICJwcm9wcyI6IHsic2l6ZSI6IDExLjgxODE4MTgxODE4MTgxOH19Cg==');</script>\n",
       "    "
      ],
      "text/plain": [
       "<IPython.core.display.HTML object>"
      ]
     },
     "metadata": {},
     "output_type": "display_data"
    },
    {
     "data": {
      "text/html": [
       "\n",
       "        <div id=\"m3mBjF7VsiFaKTrHYXgxyV\"></div>\n",
       "        <script>netpixi.call('m3mBjF7VsiFaKTrHYXgxyV', 'CWg9o4qg8bP3GTPdF8FVig', 'changeGraph', 'eyJpZCI6ICJtZXhpY28iLCAidHlwZSI6ICJ2ZXJ0ZXgiLCAicHJvcHMiOiB7InNpemUiOiAxOC44MTgxODE4MTgxODE4MTd9fQo=');</script>\n",
       "    "
      ],
      "text/plain": [
       "<IPython.core.display.HTML object>"
      ]
     },
     "metadata": {},
     "output_type": "display_data"
    },
    {
     "data": {
      "text/html": [
       "\n",
       "        <div id=\"hrhLnaXxSTbqS7VNvH9xXh\"></div>\n",
       "        <script>netpixi.call('hrhLnaXxSTbqS7VNvH9xXh', 'CWg9o4qg8bP3GTPdF8FVig', 'changeGraph', 'eyJpZCI6ICJqYXBhbiIsICJ0eXBlIjogInZlcnRleCIsICJwcm9wcyI6IHsic2l6ZSI6IDQyLjg1NzE0Mjg1NzE0Mjg1NH19Cg==');</script>\n",
       "    "
      ],
      "text/plain": [
       "<IPython.core.display.HTML object>"
      ]
     },
     "metadata": {},
     "output_type": "display_data"
    },
    {
     "data": {
      "text/html": [
       "\n",
       "        <div id=\"CbpLJVbaUvbKf5aarNjWJe\"></div>\n",
       "        <script>netpixi.call('CbpLJVbaUvbKf5aarNjWJe', 'CWg9o4qg8bP3GTPdF8FVig', 'changeGraph', 'eyJpZCI6ICJjb21vcm9zIiwgInR5cGUiOiAidmVydGV4IiwgInByb3BzIjogeyJzaXplIjogMTEuNTQ1NDU0NTQ1NDU0NTQ1fX0K');</script>\n",
       "    "
      ],
      "text/plain": [
       "<IPython.core.display.HTML object>"
      ]
     },
     "metadata": {},
     "output_type": "display_data"
    },
    {
     "data": {
      "text/html": [
       "\n",
       "        <div id=\"fhT5nPA3qeqwKH4U6oBWGb\"></div>\n",
       "        <script>netpixi.call('fhT5nPA3qeqwKH4U6oBWGb', 'CWg9o4qg8bP3GTPdF8FVig', 'changeGraph', 'eyJpZCI6ICJnZXJtYW55IiwgInR5cGUiOiAidmVydGV4IiwgInByb3BzIjogeyJzaXplIjogMTguMjcyNzI3MjcyNzI3MjczfX0K');</script>\n",
       "    "
      ],
      "text/plain": [
       "<IPython.core.display.HTML object>"
      ]
     },
     "metadata": {},
     "output_type": "display_data"
    },
    {
     "data": {
      "text/html": [
       "\n",
       "        <div id=\"2y3sQo3koygNoGJeSSfeHR\"></div>\n",
       "        <script>netpixi.call('2y3sQo3koygNoGJeSSfeHR', 'CWg9o4qg8bP3GTPdF8FVig', 'changeGraph', 'eyJpZCI6ICJzaWVycmFsZW9uZSIsICJ0eXBlIjogInZlcnRleCIsICJwcm9wcyI6IHsic2l6ZSI6IDEzLjkwOTA5MDkwOTA5MDkwOH19Cg==');</script>\n",
       "    "
      ],
      "text/plain": [
       "<IPython.core.display.HTML object>"
      ]
     },
     "metadata": {},
     "output_type": "display_data"
    },
    {
     "data": {
      "text/html": [
       "\n",
       "        <div id=\"3WmDtUzecAURVQmk9ZzrVM\"></div>\n",
       "        <script>netpixi.call('3WmDtUzecAURVQmk9ZzrVM', 'CWg9o4qg8bP3GTPdF8FVig', 'changeGraph', 'eyJpZCI6ICJjYW1lcm9vbiIsICJ0eXBlIjogInZlcnRleCIsICJwcm9wcyI6IHsic2l6ZSI6IDQ1LjB9fQo=');</script>\n",
       "    "
      ],
      "text/plain": [
       "<IPython.core.display.HTML object>"
      ]
     },
     "metadata": {},
     "output_type": "display_data"
    },
    {
     "data": {
      "text/html": [
       "\n",
       "        <div id=\"AWB4vgRs8PBpenThduaibs\"></div>\n",
       "        <script>netpixi.call('AWB4vgRs8PBpenThduaibs', 'CWg9o4qg8bP3GTPdF8FVig', 'changeGraph', 'eyJpZCI6ICJhbGdlcmlhIiwgInR5cGUiOiAidmVydGV4IiwgInByb3BzIjogeyJzaXplIjogNDYuNzg1NzE0Mjg1NzE0Mjl9fQo=');</script>\n",
       "    "
      ],
      "text/plain": [
       "<IPython.core.display.HTML object>"
      ]
     },
     "metadata": {},
     "output_type": "display_data"
    },
    {
     "data": {
      "text/html": [
       "\n",
       "        <div id=\"ka4P849mmhQtV6WmrmXwCF\"></div>\n",
       "        <script>netpixi.call('ka4P849mmhQtV6WmrmXwCF', 'CWg9o4qg8bP3GTPdF8FVig', 'changeGraph', 'eyJpZCI6ICJkZW5tYXJrIiwgInR5cGUiOiAidmVydGV4IiwgInByb3BzIjogeyJzaXplIjogMTguMH19Cg==');</script>\n",
       "    "
      ],
      "text/plain": [
       "<IPython.core.display.HTML object>"
      ]
     },
     "metadata": {},
     "output_type": "display_data"
    },
    {
     "data": {
      "text/html": [
       "\n",
       "        <div id=\"kJfF79ypV2gLNwc9KEr8Q8\"></div>\n",
       "        <script>netpixi.call('kJfF79ypV2gLNwc9KEr8Q8', 'CWg9o4qg8bP3GTPdF8FVig', 'changeGraph', 'eyJpZCI6ICJtYWxhd2kiLCAidHlwZSI6ICJ2ZXJ0ZXgiLCAicHJvcHMiOiB7InNpemUiOiAxMi41NDU0NTQ1NDU0NTQ1NDV9fQo=');</script>\n",
       "    "
      ],
      "text/plain": [
       "<IPython.core.display.HTML object>"
      ]
     },
     "metadata": {},
     "output_type": "display_data"
    },
    {
     "data": {
      "text/html": [
       "\n",
       "        <div id=\"n2GkbEUnqdYvkn9jmHBf6B\"></div>\n",
       "        <script>netpixi.call('n2GkbEUnqdYvkn9jmHBf6B', 'CWg9o4qg8bP3GTPdF8FVig', 'changeGraph', 'eyJpZCI6ICJiZWxnaXVtIiwgInR5cGUiOiAidmVydGV4IiwgInByb3BzIjogeyJzaXplIjogNDguOTI4NTcxNDI4NTcxNDN9fQo=');</script>\n",
       "    "
      ],
      "text/plain": [
       "<IPython.core.display.HTML object>"
      ]
     },
     "metadata": {},
     "output_type": "display_data"
    },
    {
     "data": {
      "text/html": [
       "\n",
       "        <div id=\"oKmKt2ZPJfUxPgpZV9ATTs\"></div>\n",
       "        <script>netpixi.call('oKmKt2ZPJfUxPgpZV9ATTs', 'CWg9o4qg8bP3GTPdF8FVig', 'changeGraph', 'eyJpZCI6ICJjcm9hdGlhIiwgInR5cGUiOiAidmVydGV4IiwgInByb3BzIjogeyJzaXplIjogMTkuMDkwOTA5MDkwOTA5MDl9fQo=');</script>\n",
       "    "
      ],
      "text/plain": [
       "<IPython.core.display.HTML object>"
      ]
     },
     "metadata": {},
     "output_type": "display_data"
    },
    {
     "data": {
      "text/html": [
       "\n",
       "        <div id=\"6hwYrwbvQdMNXouHUcvy4i\"></div>\n",
       "        <script>netpixi.call('6hwYrwbvQdMNXouHUcvy4i', 'CWg9o4qg8bP3GTPdF8FVig', 'changeGraph', 'eyJpZCI6ICJjaGluYSIsICJ0eXBlIjogInZlcnRleCIsICJwcm9wcyI6IHsic2l6ZSI6IDE5LjB9fQo=');</script>\n",
       "    "
      ],
      "text/plain": [
       "<IPython.core.display.HTML object>"
      ]
     },
     "metadata": {},
     "output_type": "display_data"
    },
    {
     "data": {
      "text/html": [
       "\n",
       "        <div id=\"5NY2DkF8fomWazVKoyPnCE\"></div>\n",
       "        <script>netpixi.call('5NY2DkF8fomWazVKoyPnCE', 'CWg9o4qg8bP3GTPdF8FVig', 'changeGraph', 'eyJpZCI6ICJzZW5lZ2FsIiwgInR5cGUiOiAidmVydGV4IiwgInByb3BzIjogeyJzaXplIjogNDAuMzU3MTQyODU3MTQyODU0fX0K');</script>\n",
       "    "
      ],
      "text/plain": [
       "<IPython.core.display.HTML object>"
      ]
     },
     "metadata": {},
     "output_type": "display_data"
    },
    {
     "data": {
      "text/html": [
       "\n",
       "        <div id=\"7RTJzkEwChxW7d5V9Dvkda\"></div>\n",
       "        <script>netpixi.call('7RTJzkEwChxW7d5V9Dvkda', 'CWg9o4qg8bP3GTPdF8FVig', 'changeGraph', 'eyJpZCI6ICJ0aGFpbGFuZCIsICJ0eXBlIjogInZlcnRleCIsICJwcm9wcyI6IHsic2l6ZSI6IDE3LjM2MzYzNjM2MzYzNjM2M319Cg==');</script>\n",
       "    "
      ],
      "text/plain": [
       "<IPython.core.display.HTML object>"
      ]
     },
     "metadata": {},
     "output_type": "display_data"
    },
    {
     "data": {
      "text/html": [
       "\n",
       "        <div id=\"bAgXxv3Yf9wpzBEzcpGbsc\"></div>\n",
       "        <script>netpixi.call('bAgXxv3Yf9wpzBEzcpGbsc', 'CWg9o4qg8bP3GTPdF8FVig', 'changeGraph', 'eyJpZCI6ICJtYXVyaXRpdXMiLCAidHlwZSI6ICJ2ZXJ0ZXgiLCAicHJvcHMiOiB7InNpemUiOiA0OC41NzE0Mjg1NzE0Mjg1N319Cg==');</script>\n",
       "    "
      ],
      "text/plain": [
       "<IPython.core.display.HTML object>"
      ]
     },
     "metadata": {},
     "output_type": "display_data"
    },
    {
     "data": {
      "text/html": [
       "\n",
       "        <div id=\"aBQXPWCX9uJAromiMj6tPR\"></div>\n",
       "        <script>netpixi.call('aBQXPWCX9uJAromiMj6tPR', 'CWg9o4qg8bP3GTPdF8FVig', 'changeGraph', 'eyJpZCI6ICJuaWdlcmlhIiwgInR5cGUiOiAidmVydGV4IiwgInByb3BzIjogeyJzaXplIjogNDMuOTI4NTcxNDI4NTcxNDN9fQo=');</script>\n",
       "    "
      ],
      "text/plain": [
       "<IPython.core.display.HTML object>"
      ]
     },
     "metadata": {},
     "output_type": "display_data"
    },
    {
     "data": {
      "text/html": [
       "\n",
       "        <div id=\"FidgmcbKSneZeimzs9A6Ba\"></div>\n",
       "        <script>netpixi.call('FidgmcbKSneZeimzs9A6Ba', 'CWg9o4qg8bP3GTPdF8FVig', 'changeGraph', 'eyJpZCI6ICJtYWxpIiwgInR5cGUiOiAidmVydGV4IiwgInByb3BzIjogeyJzaXplIjogMTUuMjcyNzI3MjcyNzI3MjczfX0K');</script>\n",
       "    "
      ],
      "text/plain": [
       "<IPython.core.display.HTML object>"
      ]
     },
     "metadata": {},
     "output_type": "display_data"
    },
    {
     "data": {
      "text/html": [
       "\n",
       "        <div id=\"VUBpGxxmwLJAGkYyhiRCXj\"></div>\n",
       "        <script>netpixi.call('VUBpGxxmwLJAGkYyhiRCXj', 'CWg9o4qg8bP3GTPdF8FVig', 'changeGraph', 'eyJpZCI6ICJjb2xvbWJpYSIsICJ0eXBlIjogInZlcnRleCIsICJwcm9wcyI6IHsic2l6ZSI6IDE2LjE4MTgxODE4MTgxODE4fX0K');</script>\n",
       "    "
      ],
      "text/plain": [
       "<IPython.core.display.HTML object>"
      ]
     },
     "metadata": {},
     "output_type": "display_data"
    },
    {
     "data": {
      "text/html": [
       "\n",
       "        <div id=\"Ks7if3MGEmhgrae6oMJfJC\"></div>\n",
       "        <script>netpixi.call('Ks7if3MGEmhgrae6oMJfJC', 'CWg9o4qg8bP3GTPdF8FVig', 'changeGraph', 'eyJpZCI6ICJzd2VkZW4iLCAidHlwZSI6ICJ2ZXJ0ZXgiLCAicHJvcHMiOiB7InNpemUiOiA0Mi4xNDI4NTcxNDI4NTcxNDZ9fQo=');</script>\n",
       "    "
      ],
      "text/plain": [
       "<IPython.core.display.HTML object>"
      ]
     },
     "metadata": {},
     "output_type": "display_data"
    },
    {
     "data": {
      "text/html": [
       "\n",
       "        <div id=\"YagNDnaj4sz6AhKH2UzRLM\"></div>\n",
       "        <script>netpixi.call('YagNDnaj4sz6AhKH2UzRLM', 'CWg9o4qg8bP3GTPdF8FVig', 'changeGraph', 'eyJpZCI6ICJsaWJ5YSIsICJ0eXBlIjogInZlcnRleCIsICJwcm9wcyI6IHsic2l6ZSI6IDEzLjE4MTgxODE4MTgxODE4Mn19Cg==');</script>\n",
       "    "
      ],
      "text/plain": [
       "<IPython.core.display.HTML object>"
      ]
     },
     "metadata": {},
     "output_type": "display_data"
    },
    {
     "data": {
      "text/html": [
       "\n",
       "        <div id=\"KTx6SJ52RreSWZHBR4Pkzb\"></div>\n",
       "        <script>netpixi.call('KTx6SJ52RreSWZHBR4Pkzb', 'CWg9o4qg8bP3GTPdF8FVig', 'changeGraph', 'eyJpZCI6ICJwaGlsaXBwaW5lcyIsICJ0eXBlIjogInZlcnRleCIsICJwcm9wcyI6IHsic2l6ZSI6IDE5LjYzNjM2MzYzNjM2MzYzN319Cg==');</script>\n",
       "    "
      ],
      "text/plain": [
       "<IPython.core.display.HTML object>"
      ]
     },
     "metadata": {},
     "output_type": "display_data"
    },
    {
     "data": {
      "text/html": [
       "\n",
       "        <div id=\"fXYumiUHPUnb5gBS56iQub\"></div>\n",
       "        <script>netpixi.call('fXYumiUHPUnb5gBS56iQub', 'CWg9o4qg8bP3GTPdF8FVig', 'changeGraph', 'eyJpZCI6ICJiZW5pbiIsICJ0eXBlIjogInZlcnRleCIsICJwcm9wcyI6IHsic2l6ZSI6IDE2LjM2MzYzNjM2MzYzNjM2M319Cg==');</script>\n",
       "    "
      ],
      "text/plain": [
       "<IPython.core.display.HTML object>"
      ]
     },
     "metadata": {},
     "output_type": "display_data"
    },
    {
     "data": {
      "text/html": [
       "\n",
       "        <div id=\"cGf6cqyxjQ4exXty8j4cyG\"></div>\n",
       "        <script>netpixi.call('cGf6cqyxjQ4exXty8j4cyG', 'CWg9o4qg8bP3GTPdF8FVig', 'changeGraph', 'eyJpZCI6ICJmcmFuY2UiLCAidHlwZSI6ICJ2ZXJ0ZXgiLCAicHJvcHMiOiB7InNpemUiOiA0Ni4wNzE0Mjg1NzE0Mjg1N319Cg==');</script>\n",
       "    "
      ],
      "text/plain": [
       "<IPython.core.display.HTML object>"
      ]
     },
     "metadata": {},
     "output_type": "display_data"
    },
    {
     "data": {
      "text/html": [
       "\n",
       "        <div id=\"2p8BmNdFHatVKmBGGtaVY3\"></div>\n",
       "        <script>netpixi.call('2p8BmNdFHatVKmBGGtaVY3', 'CWg9o4qg8bP3GTPdF8FVig', 'changeGraph', 'eyJpZCI6ICJub3J3YXkiLCAidHlwZSI6ICJ2ZXJ0ZXgiLCAicHJvcHMiOiB7InNpemUiOiA0MS40Mjg1NzE0Mjg1NzE0M319Cg==');</script>\n",
       "    "
      ],
      "text/plain": [
       "<IPython.core.display.HTML object>"
      ]
     },
     "metadata": {},
     "output_type": "display_data"
    },
    {
     "data": {
      "text/html": [
       "\n",
       "        <div id=\"CuAALGy9qybMswnnX498MX\"></div>\n",
       "        <script>netpixi.call('CuAALGy9qybMswnnX498MX', 'CWg9o4qg8bP3GTPdF8FVig', 'changeGraph', 'eyJpZCI6ICJpbmRvbmVzaWEiLCAidHlwZSI6ICJ2ZXJ0ZXgiLCAicHJvcHMiOiB7InNpemUiOiAxNS4xODE4MTgxODE4MTgxODJ9fQo=');</script>\n",
       "    "
      ],
      "text/plain": [
       "<IPython.core.display.HTML object>"
      ]
     },
     "metadata": {},
     "output_type": "display_data"
    },
    {
     "data": {
      "text/html": [
       "\n",
       "        <div id=\"HNDvMMDcueeNwG5eo6cXDH\"></div>\n",
       "        <script>netpixi.call('HNDvMMDcueeNwG5eo6cXDH', 'CWg9o4qg8bP3GTPdF8FVig', 'changeGraph', 'eyJpZCI6ICJlZ3lwdCIsICJ0eXBlIjogInZlcnRleCIsICJwcm9wcyI6IHsic2l6ZSI6IDQ3LjE0Mjg1NzE0Mjg1NzE0Nn19Cg==');</script>\n",
       "    "
      ],
      "text/plain": [
       "<IPython.core.display.HTML object>"
      ]
     },
     "metadata": {},
     "output_type": "display_data"
    },
    {
     "data": {
      "text/html": [
       "\n",
       "        <div id=\"9bY3joEWymZQoWvUn83Qza\"></div>\n",
       "        <script>netpixi.call('9bY3joEWymZQoWvUn83Qza', 'CWg9o4qg8bP3GTPdF8FVig', 'changeGraph', 'eyJpZCI6ICJlY3VhZG9yIiwgInR5cGUiOiAidmVydGV4IiwgInByb3BzIjogeyJzaXplIjogMTYuNjM2MzYzNjM2MzYzNjM3fX0K');</script>\n",
       "    "
      ],
      "text/plain": [
       "<IPython.core.display.HTML object>"
      ]
     },
     "metadata": {},
     "output_type": "display_data"
    },
    {
     "data": {
      "text/html": [
       "\n",
       "        <div id=\"iGWCniaZcnji7rwtfZqPLU\"></div>\n",
       "        <script>netpixi.call('iGWCniaZcnji7rwtfZqPLU', 'CWg9o4qg8bP3GTPdF8FVig', 'changeGraph', 'eyJpZCI6ICJndWluZWEiLCAidHlwZSI6ICJ2ZXJ0ZXgiLCAicHJvcHMiOiB7InNpemUiOiAxNi45MDkwOTA5MDkwOTA5MX19Cg==');</script>\n",
       "    "
      ],
      "text/plain": [
       "<IPython.core.display.HTML object>"
      ]
     },
     "metadata": {},
     "output_type": "display_data"
    },
    {
     "data": {
      "text/html": [
       "\n",
       "        <div id=\"CLUm2ZbdPm8z6JjAs8boSR\"></div>\n",
       "        <script>netpixi.call('CLUm2ZbdPm8z6JjAs8boSR', 'CWg9o4qg8bP3GTPdF8FVig', 'changeGraph', 'eyJpZCI6ICJuaWdlciIsICJ0eXBlIjogInZlcnRleCIsICJwcm9wcyI6IHsic2l6ZSI6IDEzLjYzNjM2MzYzNjM2MzYzN319Cg==');</script>\n",
       "    "
      ],
      "text/plain": [
       "<IPython.core.display.HTML object>"
      ]
     },
     "metadata": {},
     "output_type": "display_data"
    },
    {
     "data": {
      "text/html": [
       "\n",
       "        <div id=\"VrbX6L9giTUERJSVbNwAqo\"></div>\n",
       "        <script>netpixi.call('VrbX6L9giTUERJSVbNwAqo', 'CWg9o4qg8bP3GTPdF8FVig', 'changeGraph', 'eyJpZCI6ICJsaWJlcmlhIiwgInR5cGUiOiAidmVydGV4IiwgInByb3BzIjogeyJzaXplIjogMTIuMTgxODE4MTgxODE4MTgyfX0K');</script>\n",
       "    "
      ],
      "text/plain": [
       "<IPython.core.display.HTML object>"
      ]
     },
     "metadata": {},
     "output_type": "display_data"
    },
    {
     "data": {
      "text/html": [
       "\n",
       "        <div id=\"Gep9yM4d3HqsL8kCpgV49e\"></div>\n",
       "        <script>netpixi.call('Gep9yM4d3HqsL8kCpgV49e', 'CWg9o4qg8bP3GTPdF8FVig', 'changeGraph', 'eyJpZCI6ICJtYXVyaXRhbmlhIiwgInR5cGUiOiAidmVydGV4IiwgInByb3BzIjogeyJzaXplIjogMTguNzI3MjcyNzI3MjcyNzI3fX0K');</script>\n",
       "    "
      ],
      "text/plain": [
       "<IPython.core.display.HTML object>"
      ]
     },
     "metadata": {},
     "output_type": "display_data"
    },
    {
     "data": {
      "text/html": [
       "\n",
       "        <div id=\"JSu85FRmLHGQeAA3ZdGnhX\"></div>\n",
       "        <script>netpixi.call('JSu85FRmLHGQeAA3ZdGnhX', 'CWg9o4qg8bP3GTPdF8FVig', 'changeGraph', 'eyJpZCI6ICJ0dW5pc2lhIiwgInR5cGUiOiAidmVydGV4IiwgInByb3BzIjogeyJzaXplIjogNDQuMjg1NzE0Mjg1NzE0Mjg1fX0K');</script>\n",
       "    "
      ],
      "text/plain": [
       "<IPython.core.display.HTML object>"
      ]
     },
     "metadata": {},
     "output_type": "display_data"
    },
    {
     "data": {
      "text/html": [
       "\n",
       "        <div id=\"djnqKYWyWWKaMeatedFzEf\"></div>\n",
       "        <script>netpixi.call('djnqKYWyWWKaMeatedFzEf', 'CWg9o4qg8bP3GTPdF8FVig', 'changeGraph', 'eyJpZCI6ICJhdXN0cmlhIiwgInR5cGUiOiAidmVydGV4IiwgInByb3BzIjogeyJzaXplIjogMTkuMTgxODE4MTgxODE4MTh9fQo=');</script>\n",
       "    "
      ],
      "text/plain": [
       "<IPython.core.display.HTML object>"
      ]
     },
     "metadata": {},
     "output_type": "display_data"
    },
    {
     "data": {
      "text/html": [
       "\n",
       "        <div id=\"W3RcwTxjUVNabgVTVkm8gr\"></div>\n",
       "        <script>netpixi.call('W3RcwTxjUVNabgVTVkm8gr', 'CWg9o4qg8bP3GTPdF8FVig', 'changeGraph', 'eyJpZCI6ICJjYXIiLCAidHlwZSI6ICJ2ZXJ0ZXgiLCAicHJvcHMiOiB7InNpemUiOiAxMi42MzYzNjM2MzYzNjM2Mzd9fQo=');</script>\n",
       "    "
      ],
      "text/plain": [
       "<IPython.core.display.HTML object>"
      ]
     },
     "metadata": {},
     "output_type": "display_data"
    },
    {
     "data": {
      "text/html": [
       "\n",
       "        <div id=\"JpCtYo59J7jWHetmBvpcrm\"></div>\n",
       "        <script>netpixi.call('JpCtYo59J7jWHetmBvpcrm', 'CWg9o4qg8bP3GTPdF8FVig', 'changeGraph', 'eyJpZCI6ICJyd2FuZGEiLCAidHlwZSI6ICJ2ZXJ0ZXgiLCAicHJvcHMiOiB7InNpemUiOiAxMi4wOTA5MDkwOTA5MDkwOX19Cg==');</script>\n",
       "    "
      ],
      "text/plain": [
       "<IPython.core.display.HTML object>"
      ]
     },
     "metadata": {},
     "output_type": "display_data"
    },
    {
     "data": {
      "text/html": [
       "\n",
       "        <div id=\"UjL9cNsTFKqK4zbnumEseu\"></div>\n",
       "        <script>netpixi.call('UjL9cNsTFKqK4zbnumEseu', 'CWg9o4qg8bP3GTPdF8FVig', 'changeGraph', 'eyJpZCI6ICJncmVlY2UiLCAidHlwZSI6ICJ2ZXJ0ZXgiLCAicHJvcHMiOiB7InNpemUiOiAxOC45MDkwOTA5MDkwOTA5MDd9fQo=');</script>\n",
       "    "
      ],
      "text/plain": [
       "<IPython.core.display.HTML object>"
      ]
     },
     "metadata": {},
     "output_type": "display_data"
    },
    {
     "data": {
      "text/html": [
       "\n",
       "        <div id=\"bFt9iLWCCkkgDPNkmsFq8h\"></div>\n",
       "        <script>netpixi.call('bFt9iLWCCkkgDPNkmsFq8h', 'CWg9o4qg8bP3GTPdF8FVig', 'changeGraph', 'eyJpZCI6ICJuaWNhcmFndWEiLCAidHlwZSI6ICJ2ZXJ0ZXgiLCAicHJvcHMiOiB7InNpemUiOiAxNS42MzYzNjM2MzYzNjM2Mzd9fQo=');</script>\n",
       "    "
      ],
      "text/plain": [
       "<IPython.core.display.HTML object>"
      ]
     },
     "metadata": {},
     "output_type": "display_data"
    },
    {
     "data": {
      "text/html": [
       "\n",
       "        <div id=\"Ks9dFepymQMP6hvYESyQqY\"></div>\n",
       "        <script>netpixi.call('Ks9dFepymQMP6hvYESyQqY', 'CWg9o4qg8bP3GTPdF8FVig', 'changeGraph', 'eyJpZCI6ICJzcGFpbiIsICJ0eXBlIjogInZlcnRleCIsICJwcm9wcyI6IHsic2l6ZSI6IDQ4LjIxNDI4NTcxNDI4NTcxfX0K');</script>\n",
       "    "
      ],
      "text/plain": [
       "<IPython.core.display.HTML object>"
      ]
     },
     "metadata": {},
     "output_type": "display_data"
    },
    {
     "data": {
      "text/html": [
       "\n",
       "        <div id=\"HhzzGRUBFQAbx7NpdfKgy9\"></div>\n",
       "        <script>netpixi.call('HhzzGRUBFQAbx7NpdfKgy9', 'CWg9o4qg8bP3GTPdF8FVig', 'changeGraph', 'eyJpZCI6ICJpbmRpYSIsICJ0eXBlIjogInZlcnRleCIsICJwcm9wcyI6IHsic2l6ZSI6IDE3LjgxODE4MTgxODE4MTgxN319Cg==');</script>\n",
       "    "
      ],
      "text/plain": [
       "<IPython.core.display.HTML object>"
      ]
     },
     "metadata": {},
     "output_type": "display_data"
    },
    {
     "data": {
      "text/html": [
       "\n",
       "        <div id=\"WEzxKHHBjwTL9cKDn2LHGv\"></div>\n",
       "        <script>netpixi.call('WEzxKHHBjwTL9cKDn2LHGv', 'CWg9o4qg8bP3GTPdF8FVig', 'changeGraph', 'eyJpZCI6ICJtb3phbWJpcXVlIiwgInR5cGUiOiAidmVydGV4IiwgInByb3BzIjogeyJzaXplIjogMTcuMjcyNzI3MjcyNzI3MjczfX0K');</script>\n",
       "    "
      ],
      "text/plain": [
       "<IPython.core.display.HTML object>"
      ]
     },
     "metadata": {},
     "output_type": "display_data"
    },
    {
     "data": {
      "text/html": [
       "\n",
       "        <div id=\"ns5Bj9BBTKxo5UT5BNW8zF\"></div>\n",
       "        <script>netpixi.call('ns5Bj9BBTKxo5UT5BNW8zF', 'CWg9o4qg8bP3GTPdF8FVig', 'changeGraph', 'eyJpZCI6ICJyb21hbmlhIiwgInR5cGUiOiAidmVydGV4IiwgInByb3BzIjogeyJzaXplIjogMTkuODE4MTgxODE4MTgxODJ9fQo=');</script>\n",
       "    "
      ],
      "text/plain": [
       "<IPython.core.display.HTML object>"
      ]
     },
     "metadata": {},
     "output_type": "display_data"
    },
    {
     "data": {
      "text/html": [
       "\n",
       "        <div id=\"4DbUBRUg46rEHdzKuWXVrx\"></div>\n",
       "        <script>netpixi.call('4DbUBRUg46rEHdzKuWXVrx', 'CWg9o4qg8bP3GTPdF8FVig', 'changeGraph', 'eyJpZCI6ICJzd2l0emVybGFuZCIsICJ0eXBlIjogInZlcnRleCIsICJwcm9wcyI6IHsic2l6ZSI6IDQzLjU3MTQyODU3MTQyODU3fX0K');</script>\n",
       "    "
      ],
      "text/plain": [
       "<IPython.core.display.HTML object>"
      ]
     },
     "metadata": {},
     "output_type": "display_data"
    },
    {
     "data": {
      "text/html": [
       "\n",
       "        <div id=\"8rRCjo4Nb37VNnXz7ZN9Et\"></div>\n",
       "        <script>netpixi.call('8rRCjo4Nb37VNnXz7ZN9Et', 'CWg9o4qg8bP3GTPdF8FVig', 'changeGraph', 'eyJpZCI6ICJ0YW56YW5pYSIsICJ0eXBlIjogInZlcnRleCIsICJwcm9wcyI6IHsic2l6ZSI6IDE3LjE4MTgxODE4MTgxODE4fX0K');</script>\n",
       "    "
      ],
      "text/plain": [
       "<IPython.core.display.HTML object>"
      ]
     },
     "metadata": {},
     "output_type": "display_data"
    },
    {
     "data": {
      "text/html": [
       "\n",
       "        <div id=\"niuAxKQX8qhNh3duGnr2Fs\"></div>\n",
       "        <script>netpixi.call('niuAxKQX8qhNh3duGnr2Fs', 'CWg9o4qg8bP3GTPdF8FVig', 'changeGraph', 'eyJpZCI6ICJrZW55YSIsICJ0eXBlIjogInZlcnRleCIsICJwcm9wcyI6IHsic2l6ZSI6IDQ0LjY0Mjg1NzE0Mjg1NzE0Nn19Cg==');</script>\n",
       "    "
      ],
      "text/plain": [
       "<IPython.core.display.HTML object>"
      ]
     },
     "metadata": {},
     "output_type": "display_data"
    },
    {
     "data": {
      "text/html": [
       "\n",
       "        <div id=\"96aUmH6b8Q6LY7LiSetf5M\"></div>\n",
       "        <script>netpixi.call('96aUmH6b8Q6LY7LiSetf5M', 'CWg9o4qg8bP3GTPdF8FVig', 'changeGraph', 'eyJpZCI6ICJkamlib3V0aSIsICJ0eXBlIjogInZlcnRleCIsICJwcm9wcyI6IHsic2l6ZSI6IDEwLjYzNjM2MzYzNjM2MzYzN319Cg==');</script>\n",
       "    "
      ],
      "text/plain": [
       "<IPython.core.display.HTML object>"
      ]
     },
     "metadata": {},
     "output_type": "display_data"
    },
    {
     "data": {
      "text/html": [
       "\n",
       "        <div id=\"QSLyxWMPM2CaC8CLpDNATy\"></div>\n",
       "        <script>netpixi.call('QSLyxWMPM2CaC8CLpDNATy', 'CWg9o4qg8bP3GTPdF8FVig', 'changeGraph', 'eyJpZCI6ICJ1Z2FuZGEiLCAidHlwZSI6ICJ2ZXJ0ZXgiLCAicHJvcHMiOiB7InNpemUiOiAxNy43MjcyNzI3MjcyNzI3Mjd9fQo=');</script>\n",
       "    "
      ],
      "text/plain": [
       "<IPython.core.display.HTML object>"
      ]
     },
     "metadata": {},
     "output_type": "display_data"
    },
    {
     "data": {
      "text/html": [
       "\n",
       "        <div id=\"FeYJRZKwSUomtpzyLuA3vg\"></div>\n",
       "        <script>netpixi.call('FeYJRZKwSUomtpzyLuA3vg', 'CWg9o4qg8bP3GTPdF8FVig', 'changeGraph', 'eyJpZCI6ICJ1ayIsICJ0eXBlIjogInZlcnRleCIsICJwcm9wcyI6IHsic2l6ZSI6IDQ3LjV9fQo=');</script>\n",
       "    "
      ],
      "text/plain": [
       "<IPython.core.display.HTML object>"
      ]
     },
     "metadata": {},
     "output_type": "display_data"
    },
    {
     "data": {
      "text/html": [
       "\n",
       "        <div id=\"dPFfHCyXSHYJZEDtzyZZhx\"></div>\n",
       "        <script>netpixi.call('dPFfHCyXSHYJZEDtzyZZhx', 'CWg9o4qg8bP3GTPdF8FVig', 'changeGraph', 'eyJpZCI6ICJzdWRhbiIsICJ0eXBlIjogInZlcnRleCIsICJwcm9wcyI6IHsic2l6ZSI6IDE1LjgxODE4MTgxODE4MTgxOH19Cg==');</script>\n",
       "    "
      ],
      "text/plain": [
       "<IPython.core.display.HTML object>"
      ]
     },
     "metadata": {},
     "output_type": "display_data"
    },
    {
     "data": {
      "text/html": [
       "\n",
       "        <div id=\"DD5STQ8PKVbEqemSWoZ2tz\"></div>\n",
       "        <script>netpixi.call('DD5STQ8PKVbEqemSWoZ2tz', 'CWg9o4qg8bP3GTPdF8FVig', 'changeGraph', 'eyJpZCI6ICJzb2FmcmljYSIsICJ0eXBlIjogInZlcnRleCIsICJwcm9wcyI6IHsic2l6ZSI6IDQxLjc4NTcxNDI4NTcxNDI4NX19Cg==');</script>\n",
       "    "
      ],
      "text/plain": [
       "<IPython.core.display.HTML object>"
      ]
     },
     "metadata": {},
     "output_type": "display_data"
    },
    {
     "data": {
      "text/html": [
       "\n",
       "        <div id=\"J8CHZqLRdT8pMTi8JhogEj\"></div>\n",
       "        <script>netpixi.call('J8CHZqLRdT8pMTi8JhogEj', 'CWg9o4qg8bP3GTPdF8FVig', 'changeGraph', 'eyJpZCI6ICJhcmdlbnRpbmEiLCAidHlwZSI6ICJ2ZXJ0ZXgiLCAicHJvcHMiOiB7InNpemUiOiAxOS43MjcyNzI3MjcyNzI3Mjd9fQo=');</script>\n",
       "    "
      ],
      "text/plain": [
       "<IPython.core.display.HTML object>"
      ]
     },
     "metadata": {},
     "output_type": "display_data"
    },
    {
     "data": {
      "text/html": [
       "\n",
       "        <div id=\"abHbnXP4LUPBz9WCzJ2e9b\"></div>\n",
       "        <script>netpixi.call('abHbnXP4LUPBz9WCzJ2e9b', 'CWg9o4qg8bP3GTPdF8FVig', 'changeGraph', 'eyJpZCI6ICJtb3JvY2NvIiwgInR5cGUiOiAidmVydGV4IiwgInByb3BzIjogeyJzaXplIjogNDkuNjQyODU3MTQyODU3MTQ2fX0K');</script>\n",
       "    "
      ],
      "text/plain": [
       "<IPython.core.display.HTML object>"
      ]
     },
     "metadata": {},
     "output_type": "display_data"
    },
    {
     "data": {
      "text/html": [
       "\n",
       "        <div id=\"33zXoZgxgM47j6YWk3KbkS\"></div>\n",
       "        <script>netpixi.call('33zXoZgxgM47j6YWk3KbkS', 'CWg9o4qg8bP3GTPdF8FVig', 'changeGraph', 'eyJpZCI6ICJpdGFseSIsICJ0eXBlIjogInZlcnRleCIsICJwcm9wcyI6IHsic2l6ZSI6IDQ2LjQyODU3MTQyODU3MTQzfX0K');</script>\n",
       "    "
      ],
      "text/plain": [
       "<IPython.core.display.HTML object>"
      ]
     },
     "metadata": {},
     "output_type": "display_data"
    },
    {
     "data": {
      "text/html": [
       "\n",
       "        <div id=\"78dwDGeBi5xBQmVWPUTpig\"></div>\n",
       "        <script>netpixi.call('78dwDGeBi5xBQmVWPUTpig', 'CWg9o4qg8bP3GTPdF8FVig', 'changeGraph', 'eyJpZCI6ICJ0b2dvIiwgInR5cGUiOiAidmVydGV4IiwgInByb3BzIjogeyJzaXplIjogMTkuNTQ1NDU0NTQ1NDU0NTQ3fX0K');</script>\n",
       "    "
      ],
      "text/plain": [
       "<IPython.core.display.HTML object>"
      ]
     },
     "metadata": {},
     "output_type": "display_data"
    },
    {
     "data": {
      "text/html": [
       "\n",
       "        <div id=\"Ccu82h7qZ9SsdE595Zkua4\"></div>\n",
       "        <script>netpixi.call('Ccu82h7qZ9SsdE595Zkua4', 'CWg9o4qg8bP3GTPdF8FVig', 'changeGraph', 'eyJpZCI6ICJndWF0ZW1hbGEiLCAidHlwZSI6ICJ2ZXJ0ZXgiLCAicHJvcHMiOiB7InNpemUiOiAxNC43MjcyNzI3MjcyNzI3Mjd9fQo=');</script>\n",
       "    "
      ],
      "text/plain": [
       "<IPython.core.display.HTML object>"
      ]
     },
     "metadata": {},
     "output_type": "display_data"
    },
    {
     "data": {
      "text/html": [
       "\n",
       "        <div id=\"SNfwinQJZMuZrcg3dL6F55\"></div>\n",
       "        <script>netpixi.call('SNfwinQJZMuZrcg3dL6F55', 'CWg9o4qg8bP3GTPdF8FVig', 'changeGraph', 'eyJpZCI6ICJidXJraW5hZmFzbyIsICJ0eXBlIjogInZlcnRleCIsICJwcm9wcyI6IHsic2l6ZSI6IDE2LjU0NTQ1NDU0NTQ1NDU0N319Cg==');</script>\n",
       "    "
      ],
      "text/plain": [
       "<IPython.core.display.HTML object>"
      ]
     },
     "metadata": {},
     "output_type": "display_data"
    },
    {
     "data": {
      "text/html": [
       "\n",
       "        <div id=\"DLwpGcVtFdEKzgyYKRgaZm\"></div>\n",
       "        <script>netpixi.call('DLwpGcVtFdEKzgyYKRgaZm', 'CWg9o4qg8bP3GTPdF8FVig', 'changeGraph', 'eyJpZCI6ICJjaGFkIiwgInR5cGUiOiAidmVydGV4IiwgInByb3BzIjogeyJzaXplIjogMTMuODE4MTgxODE4MTgxODE4fX0K');</script>\n",
       "    "
      ],
      "text/plain": [
       "<IPython.core.display.HTML object>"
      ]
     },
     "metadata": {},
     "output_type": "display_data"
    },
    {
     "data": {
      "text/html": [
       "\n",
       "        <div id=\"buF5M3VahsJe9PTQUXuhno\"></div>\n",
       "        <script>netpixi.call('buF5M3VahsJe9PTQUXuhno', 'CWg9o4qg8bP3GTPdF8FVig', 'changeGraph', 'eyJpZCI6ICJidXJ1bmRpIiwgInR5cGUiOiAidmVydGV4IiwgInByb3BzIjogeyJzaXplIjogMTEuOTA5MDkwOTA5MDkwOTA4fX0K');</script>\n",
       "    "
      ],
      "text/plain": [
       "<IPython.core.display.HTML object>"
      ]
     },
     "metadata": {},
     "output_type": "display_data"
    },
    {
     "data": {
      "text/html": [
       "\n",
       "        <div id=\"YrkZmUA2pPTFwF7LaWhkwz\"></div>\n",
       "        <script>netpixi.call('YrkZmUA2pPTFwF7LaWhkwz', 'CWg9o4qg8bP3GTPdF8FVig', 'changeGraph', 'eyJpZCI6ICJzb2tvcmVhIiwgInR5cGUiOiAidmVydGV4IiwgInByb3BzIjogeyJzaXplIjogNDMuMjE0Mjg1NzE0Mjg1NzE1fX0K');</script>\n",
       "    "
      ],
      "text/plain": [
       "<IPython.core.display.HTML object>"
      ]
     },
     "metadata": {},
     "output_type": "display_data"
    },
    {
     "data": {
      "text/html": [
       "\n",
       "        <div id=\"DknYXPMkVrXShnVFKURKbN\"></div>\n",
       "        <script>netpixi.call('DknYXPMkVrXShnVFKURKbN', 'CWg9o4qg8bP3GTPdF8FVig', 'changeGraph', 'eyJpZCI6ICJkb21yZXB1YmxpYyIsICJ0eXBlIjogInZlcnRleCIsICJwcm9wcyI6IHsic2l6ZSI6IDE4LjE4MTgxODE4MTgxODE4fX0K');</script>\n",
       "    "
      ],
      "text/plain": [
       "<IPython.core.display.HTML object>"
      ]
     },
     "metadata": {},
     "output_type": "display_data"
    },
    {
     "data": {
      "text/html": [
       "\n",
       "        <div id=\"FNzVfcytcj9wYtqENzGL4v\"></div>\n",
       "        <script>netpixi.call('FNzVfcytcj9wYtqENzGL4v', 'CWg9o4qg8bP3GTPdF8FVig', 'changeGraph', 'eyJpZCI6ICJob25kdXJhcyIsICJ0eXBlIjogInZlcnRleCIsICJwcm9wcyI6IHsic2l6ZSI6IDEzLjcyNzI3MjcyNzI3MjcyN319Cg==');</script>\n",
       "    "
      ],
      "text/plain": [
       "<IPython.core.display.HTML object>"
      ]
     },
     "metadata": {},
     "output_type": "display_data"
    },
    {
     "data": {
      "text/html": [
       "\n",
       "        <div id=\"G4ebvz2YVpJRdg4r3AKtmB\"></div>\n",
       "        <script>netpixi.call('G4ebvz2YVpJRdg4r3AKtmB', 'CWg9o4qg8bP3GTPdF8FVig', 'changeGraph', 'eyJpZCI6ICJtYWxheXNpYSIsICJ0eXBlIjogInZlcnRleCIsICJwcm9wcyI6IHsic2l6ZSI6IDQxLjA3MTQyODU3MTQyODU3fX0K');</script>\n",
       "    "
      ],
      "text/plain": [
       "<IPython.core.display.HTML object>"
      ]
     },
     "metadata": {},
     "output_type": "display_data"
    },
    {
     "data": {
      "text/html": [
       "\n",
       "        <div id=\"E6pRKwEXaRuexHrMGVYDL3\"></div>\n",
       "        <script>netpixi.call('E6pRKwEXaRuexHrMGVYDL3', 'CWg9o4qg8bP3GTPdF8FVig', 'changeGraph', 'eyJpZCI6ICJoYWl0aSIsICJ0eXBlIjogInZlcnRleCIsICJwcm9wcyI6IHsic2l6ZSI6IDE0LjkwOTA5MDkwOTA5MDkxfX0K');</script>\n",
       "    "
      ],
      "text/plain": [
       "<IPython.core.display.HTML object>"
      ]
     },
     "metadata": {},
     "output_type": "display_data"
    },
    {
     "data": {
      "text/html": [
       "\n",
       "        <div id=\"FbmiGNkRJ5z9uQUa375kS5\"></div>\n",
       "        <script>netpixi.call('FbmiGNkRJ5z9uQUa375kS5', 'CWg9o4qg8bP3GTPdF8FVig', 'changeGraph', 'eyJpZCI6ICJidWxnYXJpYSIsICJ0eXBlIjogInZlcnRleCIsICJwcm9wcyI6IHsic2l6ZSI6IDE2LjgxODE4MTgxODE4MTgxN319Cg==');</script>\n",
       "    "
      ],
      "text/plain": [
       "<IPython.core.display.HTML object>"
      ]
     },
     "metadata": {},
     "output_type": "display_data"
    },
    {
     "data": {
      "text/html": [
       "\n",
       "        <div id=\"SXVEP2nvo9pSHpW5uo4h6v\"></div>\n",
       "        <script>netpixi.call('SXVEP2nvo9pSHpW5uo4h6v', 'CWg9o4qg8bP3GTPdF8FVig', 'changeGraph', 'eyJpZCI6ICJzbG92ZW5pYSIsICJ0eXBlIjogInZlcnRleCIsICJwcm9wcyI6IHsic2l6ZSI6IDE5LjM2MzYzNjM2MzYzNjM2M319Cg==');</script>\n",
       "    "
      ],
      "text/plain": [
       "<IPython.core.display.HTML object>"
      ]
     },
     "metadata": {},
     "output_type": "display_data"
    },
    {
     "data": {
      "text/html": [
       "\n",
       "        <div id=\"fxuJKnnNmcsz2xdPXud32j\"></div>\n",
       "        <script>netpixi.call('fxuJKnnNmcsz2xdPXud32j', 'CWg9o4qg8bP3GTPdF8FVig', 'changeGraph', 'eyJpZCI6ICJuZXd6ZWFsYW5kIiwgInR5cGUiOiAidmVydGV4IiwgInByb3BzIjogeyJzaXplIjogMTYuMjcyNzI3MjcyNzI3MjczfX0K');</script>\n",
       "    "
      ],
      "text/plain": [
       "<IPython.core.display.HTML object>"
      ]
     },
     "metadata": {},
     "output_type": "display_data"
    },
    {
     "data": {
      "text/html": [
       "\n",
       "        <div id=\"ifsU6ReBAMm4rt7yGzL3ia\"></div>\n",
       "        <script>netpixi.call('ifsU6ReBAMm4rt7yGzL3ia', 'CWg9o4qg8bP3GTPdF8FVig', 'changeGraph', 'eyJpZCI6ICJ1a3JhaW5lIiwgInR5cGUiOiAidmVydGV4IiwgInByb3BzIjogeyJzaXplIjogMTMuNTQ1NDU0NTQ1NDU0NTQ1fX0K');</script>\n",
       "    "
      ],
      "text/plain": [
       "<IPython.core.display.HTML object>"
      ]
     },
     "metadata": {},
     "output_type": "display_data"
    },
    {
     "data": {
      "text/html": [
       "\n",
       "        <div id=\"HWHyqdYnkdgmnWhzemh2aW\"></div>\n",
       "        <script>netpixi.call('HWHyqdYnkdgmnWhzemh2aW', 'CWg9o4qg8bP3GTPdF8FVig', 'changeGraph', 'eyJpZCI6ICJtb25nb2xpYSIsICJ0eXBlIjogInZlcnRleCIsICJwcm9wcyI6IHsic2l6ZSI6IDE3LjYzNjM2MzYzNjM2MzYzN319Cg==');</script>\n",
       "    "
      ],
      "text/plain": [
       "<IPython.core.display.HTML object>"
      ]
     },
     "metadata": {},
     "output_type": "display_data"
    },
    {
     "data": {
      "text/html": [
       "\n",
       "        <div id=\"AuGAggwWthkvcfnuRYWPuX\"></div>\n",
       "        <script>netpixi.call('AuGAggwWthkvcfnuRYWPuX', 'CWg9o4qg8bP3GTPdF8FVig', 'changeGraph', 'eyJpZCI6ICJsZWJhbm9uIiwgInR5cGUiOiAidmVydGV4IiwgInByb3BzIjogeyJzaXplIjogMTQuNTQ1NDU0NTQ1NDU0NTQ1fX0K');</script>\n",
       "    "
      ],
      "text/plain": [
       "<IPython.core.display.HTML object>"
      ]
     },
     "metadata": {},
     "output_type": "display_data"
    },
    {
     "data": {
      "text/html": [
       "\n",
       "        <div id=\"6x64cDCYS75VySgrTUqMqD\"></div>\n",
       "        <script>netpixi.call('6x64cDCYS75VySgrTUqMqD', 'CWg9o4qg8bP3GTPdF8FVig', 'changeGraph', 'eyJpZCI6ICJ1cnVndWF5IiwgInR5cGUiOiAidmVydGV4IiwgInByb3BzIjogeyJzaXplIjogMTQuMjcyNzI3MjcyNzI3MjczfX0K');</script>\n",
       "    "
      ],
      "text/plain": [
       "<IPython.core.display.HTML object>"
      ]
     },
     "metadata": {},
     "output_type": "display_data"
    },
    {
     "data": {
      "text/html": [
       "\n",
       "        <div id=\"Nncc25yNBdNzB2UZn5kteS\"></div>\n",
       "        <script>netpixi.call('Nncc25yNBdNzB2UZn5kteS', 'CWg9o4qg8bP3GTPdF8FVig', 'changeGraph', 'eyJpZCI6ICJ0dXJrZXkiLCAidHlwZSI6ICJ2ZXJ0ZXgiLCAicHJvcHMiOiB7InNpemUiOiAyMC4wfX0K');</script>\n",
       "    "
      ],
      "text/plain": [
       "<IPython.core.display.HTML object>"
      ]
     },
     "metadata": {},
     "output_type": "display_data"
    },
    {
     "data": {
      "text/html": [
       "\n",
       "        <div id=\"o5FNMfww9JAiCK8YX2kw3d\"></div>\n",
       "        <script>netpixi.call('o5FNMfww9JAiCK8YX2kw3d', 'CWg9o4qg8bP3GTPdF8FVig', 'changeGraph', 'eyJpZCI6ICJwb2xhbmQiLCAidHlwZSI6ICJ2ZXJ0ZXgiLCAicHJvcHMiOiB7InNpemUiOiAxOS4yNzI3MjcyNzI3MjcyNzN9fQo=');</script>\n",
       "    "
      ],
      "text/plain": [
       "<IPython.core.display.HTML object>"
      ]
     },
     "metadata": {},
     "output_type": "display_data"
    },
    {
     "data": {
      "text/html": [
       "\n",
       "        <div id=\"AeMSxTLHzRqiBe6m9aW44p\"></div>\n",
       "        <script>netpixi.call('AeMSxTLHzRqiBe6m9aW44p', 'CWg9o4qg8bP3GTPdF8FVig', 'changeGraph', 'eyJpZCI6ICJpcmVsYW5kIiwgInR5cGUiOiAidmVydGV4IiwgInByb3BzIjogeyJzaXplIjogMTQuMTgxODE4MTgxODE4MTgyfX0K');</script>\n",
       "    "
      ],
      "text/plain": [
       "<IPython.core.display.HTML object>"
      ]
     },
     "metadata": {},
     "output_type": "display_data"
    },
    {
     "data": {
      "text/html": [
       "\n",
       "        <div id=\"8FHEgQRKgGK9yowoVpCPJh\"></div>\n",
       "        <script>netpixi.call('8FHEgQRKgGK9yowoVpCPJh', 'CWg9o4qg8bP3GTPdF8FVig', 'changeGraph', 'eyJpZCI6ICJhbGJhbmlhIiwgInR5cGUiOiAidmVydGV4IiwgInByb3BzIjogeyJzaXplIjogMTYuNzI3MjcyNzI3MjcyNzI3fX0K');</script>\n",
       "    "
      ],
      "text/plain": [
       "<IPython.core.display.HTML object>"
      ]
     },
     "metadata": {},
     "output_type": "display_data"
    },
    {
     "data": {
      "text/html": [
       "\n",
       "        <div id=\"Dt9qnV8LdiL5aa9LFUkean\"></div>\n",
       "        <script>netpixi.call('Dt9qnV8LdiL5aa9LFUkean', 'CWg9o4qg8bP3GTPdF8FVig', 'changeGraph', 'eyJpZCI6ICJiZWxhcnVzIiwgInR5cGUiOiAidmVydGV4IiwgInByb3BzIjogeyJzaXplIjogMTEuNzI3MjcyNzI3MjcyNzI3fX0K');</script>\n",
       "    "
      ],
      "text/plain": [
       "<IPython.core.display.HTML object>"
      ]
     },
     "metadata": {},
     "output_type": "display_data"
    },
    {
     "data": {
      "text/html": [
       "\n",
       "        <div id=\"b3RcD9z3X7LvPxFRtFrJQV\"></div>\n",
       "        <script>netpixi.call('b3RcD9z3X7LvPxFRtFrJQV', 'CWg9o4qg8bP3GTPdF8FVig', 'changeGraph', 'eyJpZCI6ICJjemVjaHJlcCIsICJ0eXBlIjogInZlcnRleCIsICJwcm9wcyI6IHsic2l6ZSI6IDE1LjM2MzYzNjM2MzYzNjM2M319Cg==');</script>\n",
       "    "
      ],
      "text/plain": [
       "<IPython.core.display.HTML object>"
      ]
     },
     "metadata": {},
     "output_type": "display_data"
    },
    {
     "data": {
      "text/html": [
       "\n",
       "        <div id=\"3PzpbCkwYtwMXcaZtfjgLJ\"></div>\n",
       "        <script>netpixi.call('3PzpbCkwYtwMXcaZtfjgLJ', 'CWg9o4qg8bP3GTPdF8FVig', 'changeGraph', 'eyJpZCI6ICJpY2VsYW5kIiwgInR5cGUiOiAidmVydGV4IiwgInByb3BzIjogeyJzaXplIjogMTMuMH19Cg==');</script>\n",
       "    "
      ],
      "text/plain": [
       "<IPython.core.display.HTML object>"
      ]
     },
     "metadata": {},
     "output_type": "display_data"
    },
    {
     "data": {
      "text/html": [
       "\n",
       "        <div id=\"cEwdzWCBMNPYuRMPrrLCLh\"></div>\n",
       "        <script>netpixi.call('cEwdzWCBMNPYuRMPrrLCLh', 'CWg9o4qg8bP3GTPdF8FVig', 'changeGraph', 'eyJpZCI6ICJ1c2EiLCAidHlwZSI6ICJ2ZXJ0ZXgiLCAicHJvcHMiOiB7InNpemUiOiAxNC4zNjM2MzYzNjM2MzYzNjN9fQo=');</script>\n",
       "    "
      ],
      "text/plain": [
       "<IPython.core.display.HTML object>"
      ]
     },
     "metadata": {},
     "output_type": "display_data"
    },
    {
     "data": {
      "text/html": [
       "\n",
       "        <div id=\"65238YrM8tMLBqZqjttTqn\"></div>\n",
       "        <script>netpixi.call('65238YrM8tMLBqZqjttTqn', 'CWg9o4qg8bP3GTPdF8FVig', 'changeGraph', 'eyJpZCI6ICJzcmlsYW5rYSIsICJ0eXBlIjogInZlcnRleCIsICJwcm9wcyI6IHsic2l6ZSI6IDE3LjA5MDkwOTA5MDkwOTA5fX0K');</script>\n",
       "    "
      ],
      "text/plain": [
       "<IPython.core.display.HTML object>"
      ]
     },
     "metadata": {},
     "output_type": "display_data"
    },
    {
     "data": {
      "text/html": [
       "\n",
       "        <div id=\"Xe8XTF4pUkb7PFzyGMaDw7\"></div>\n",
       "        <script>netpixi.call('Xe8XTF4pUkb7PFzyGMaDw7', 'CWg9o4qg8bP3GTPdF8FVig', 'changeGraph', 'eyJpZCI6ICJtYWx0YSIsICJ0eXBlIjogInZlcnRleCIsICJwcm9wcyI6IHsic2l6ZSI6IDE3LjB9fQo=');</script>\n",
       "    "
      ],
      "text/plain": [
       "<IPython.core.display.HTML object>"
      ]
     },
     "metadata": {},
     "output_type": "display_data"
    },
    {
     "data": {
      "text/html": [
       "\n",
       "        <div id=\"g9GYCFw7KFonaYHT3CZejc\"></div>\n",
       "        <script>netpixi.call('g9GYCFw7KFonaYHT3CZejc', 'CWg9o4qg8bP3GTPdF8FVig', 'changeGraph', 'eyJpZCI6ICJsYXR2aWEiLCAidHlwZSI6ICJ2ZXJ0ZXgiLCAicHJvcHMiOiB7InNpemUiOiAxMy4yNzI3MjcyNzI3MjcyNzN9fQo=');</script>\n",
       "    "
      ],
      "text/plain": [
       "<IPython.core.display.HTML object>"
      ]
     },
     "metadata": {},
     "output_type": "display_data"
    },
    {
     "data": {
      "text/html": [
       "\n",
       "        <div id=\"aw9zWRDAyPF3WpMPgdDCXW\"></div>\n",
       "        <script>netpixi.call('aw9zWRDAyPF3WpMPgdDCXW', 'CWg9o4qg8bP3GTPdF8FVig', 'changeGraph', 'eyJpZCI6ICJhdXN0cmFsaWEiLCAidHlwZSI6ICJ2ZXJ0ZXgiLCAicHJvcHMiOiB7InNpemUiOiAxNy40NTQ1NDU0NTQ1NDU0NTN9fQo=');</script>\n",
       "    "
      ],
      "text/plain": [
       "<IPython.core.display.HTML object>"
      ]
     },
     "metadata": {},
     "output_type": "display_data"
    },
    {
     "data": {
      "text/html": [
       "\n",
       "        <div id=\"64vUWgJMuUTjYQwDDE8trs\"></div>\n",
       "        <script>netpixi.call('64vUWgJMuUTjYQwDDE8trs', 'CWg9o4qg8bP3GTPdF8FVig', 'changeGraph', 'eyJpZCI6ICJiYW5nbGFkZXNoIiwgInR5cGUiOiAidmVydGV4IiwgInByb3BzIjogeyJzaXplIjogMTguNDU0NTQ1NDU0NTQ1NDUzfX0K');</script>\n",
       "    "
      ],
      "text/plain": [
       "<IPython.core.display.HTML object>"
      ]
     },
     "metadata": {},
     "output_type": "display_data"
    },
    {
     "data": {
      "text/html": [
       "\n",
       "        <div id=\"jV2GsVaZsBufmeB9prNiyX\"></div>\n",
       "        <script>netpixi.call('jV2GsVaZsBufmeB9prNiyX', 'CWg9o4qg8bP3GTPdF8FVig', 'changeGraph', 'eyJpZCI6ICJwYW5hbWEiLCAidHlwZSI6ICJ2ZXJ0ZXgiLCAicHJvcHMiOiB7InNpemUiOiAxNC44MTgxODE4MTgxODE4MTh9fQo=');</script>\n",
       "    "
      ],
      "text/plain": [
       "<IPython.core.display.HTML object>"
      ]
     },
     "metadata": {},
     "output_type": "display_data"
    },
    {
     "data": {
      "text/html": [
       "\n",
       "        <div id=\"gQtRvrrb9i6q2E3APHCYkv\"></div>\n",
       "        <script>netpixi.call('gQtRvrrb9i6q2E3APHCYkv', 'CWg9o4qg8bP3GTPdF8FVig', 'changeGraph', 'eyJpZCI6ICJsaXRodWFuaWEiLCAidHlwZSI6ICJ2ZXJ0ZXgiLCAicHJvcHMiOiB7InNpemUiOiAxNS40NTQ1NDU0NTQ1NDU0NTN9fQo=');</script>\n",
       "    "
      ],
      "text/plain": [
       "<IPython.core.display.HTML object>"
      ]
     },
     "metadata": {},
     "output_type": "display_data"
    },
    {
     "data": {
      "text/html": [
       "\n",
       "        <div id=\"5VFPCWFmts3hBnuuaE2xHc\"></div>\n",
       "        <script>netpixi.call('5VFPCWFmts3hBnuuaE2xHc', 'CWg9o4qg8bP3GTPdF8FVig', 'changeGraph', 'eyJpZCI6ICJtb2xkb3ZhIiwgInR5cGUiOiAidmVydGV4IiwgInByb3BzIjogeyJzaXplIjogMTIuNzI3MjcyNzI3MjcyNzI3fX0K');</script>\n",
       "    "
      ],
      "text/plain": [
       "<IPython.core.display.HTML object>"
      ]
     },
     "metadata": {},
     "output_type": "display_data"
    },
    {
     "data": {
      "text/html": [
       "\n",
       "        <div id=\"dgkRxJBTYvk4VhrVNFjeUn\"></div>\n",
       "        <script>netpixi.call('dgkRxJBTYvk4VhrVNFjeUn', 'CWg9o4qg8bP3GTPdF8FVig', 'changeGraph', 'eyJpZCI6ICJnZW9yZ2lhIiwgInR5cGUiOiAidmVydGV4IiwgInByb3BzIjogeyJzaXplIjogMTIuMzYzNjM2MzYzNjM2MzYzfX0K');</script>\n",
       "    "
      ],
      "text/plain": [
       "<IPython.core.display.HTML object>"
      ]
     },
     "metadata": {},
     "output_type": "display_data"
    },
    {
     "data": {
      "text/html": [
       "\n",
       "        <div id=\"3BgrpFfHsbt523oGzHfXN6\"></div>\n",
       "        <script>netpixi.call('3BgrpFfHsbt523oGzHfXN6', 'CWg9o4qg8bP3GTPdF8FVig', 'changeGraph', 'eyJpZCI6ICJtb250ZW5lZ3JvIiwgInR5cGUiOiAidmVydGV4IiwgInByb3BzIjogeyJzaXplIjogMTIuMjcyNzI3MjcyNzI3MjczfX0K');</script>\n",
       "    "
      ],
      "text/plain": [
       "<IPython.core.display.HTML object>"
      ]
     },
     "metadata": {},
     "output_type": "display_data"
    },
    {
     "data": {
      "text/html": [
       "\n",
       "        <div id=\"MnGUwRsvoNqi6y8fDGVfhe\"></div>\n",
       "        <script>netpixi.call('MnGUwRsvoNqi6y8fDGVfhe', 'CWg9o4qg8bP3GTPdF8FVig', 'changeGraph', 'eyJpZCI6ICJsdXhlbWJvdXJnIiwgInR5cGUiOiAidmVydGV4IiwgInByb3BzIjogeyJzaXplIjogMTYuMH19Cg==');</script>\n",
       "    "
      ],
      "text/plain": [
       "<IPython.core.display.HTML object>"
      ]
     },
     "metadata": {},
     "output_type": "display_data"
    },
    {
     "data": {
      "text/html": [
       "\n",
       "        <div id=\"QZKeZnigrs6sUF4At5C9g4\"></div>\n",
       "        <script>netpixi.call('QZKeZnigrs6sUF4At5C9g4', 'CWg9o4qg8bP3GTPdF8FVig', 'changeGraph', 'eyJpZCI6ICJjeXBydXMiLCAidHlwZSI6ICJ2ZXJ0ZXgiLCAicHJvcHMiOiB7InNpemUiOiAxOC4wOTA5MDkwOTA5MDkwOX19Cg==');</script>\n",
       "    "
      ],
      "text/plain": [
       "<IPython.core.display.HTML object>"
      ]
     },
     "metadata": {},
     "output_type": "display_data"
    },
    {
     "data": {
      "text/html": [
       "\n",
       "        <div id=\"mmzXr9mWZ8yWU7mBLqhWvW\"></div>\n",
       "        <script>netpixi.call('mmzXr9mWZ8yWU7mBLqhWvW', 'CWg9o4qg8bP3GTPdF8FVig', 'changeGraph', 'eyJpZCI6ICJwYXJhZ3VheSIsICJ0eXBlIjogInZlcnRleCIsICJwcm9wcyI6IHsic2l6ZSI6IDEyLjgxODE4MTgxODE4MTgxOH19Cg==');</script>\n",
       "    "
      ],
      "text/plain": [
       "<IPython.core.display.HTML object>"
      ]
     },
     "metadata": {},
     "output_type": "display_data"
    },
    {
     "data": {
      "text/html": [
       "\n",
       "        <div id=\"bGwuiQUrCxtjHkdzbCbBbf\"></div>\n",
       "        <script>netpixi.call('bGwuiQUrCxtjHkdzbCbBbf', 'CWg9o4qg8bP3GTPdF8FVig', 'changeGraph', 'eyJpZCI6ICJydXNzaWEiLCAidHlwZSI6ICJ2ZXJ0ZXgiLCAicHJvcHMiOiB7InNpemUiOiAxNS43MjcyNzI3MjcyNzI3Mjd9fQo=');</script>\n",
       "    "
      ],
      "text/plain": [
       "<IPython.core.display.HTML object>"
      ]
     },
     "metadata": {},
     "output_type": "display_data"
    },
    {
     "data": {
      "text/html": [
       "\n",
       "        <div id=\"hc8tWvM5ohgDi6es6TuXDT\"></div>\n",
       "        <script>netpixi.call('hc8tWvM5ohgDi6es6TuXDT', 'CWg9o4qg8bP3GTPdF8FVig', 'changeGraph', 'eyJpZCI6ICJodW5nYXJ5IiwgInR5cGUiOiAidmVydGV4IiwgInByb3BzIjogeyJzaXplIjogMTcuNTQ1NDU0NTQ1NDU0NTQ3fX0K');</script>\n",
       "    "
      ],
      "text/plain": [
       "<IPython.core.display.HTML object>"
      ]
     },
     "metadata": {},
     "output_type": "display_data"
    },
    {
     "data": {
      "text/html": [
       "\n",
       "        <div id=\"jCeksXuaziWv2KDfYnEBTg\"></div>\n",
       "        <script>netpixi.call('jCeksXuaziWv2KDfYnEBTg', 'CWg9o4qg8bP3GTPdF8FVig', 'changeGraph', 'eyJpZCI6ICJmeXJvbWFjZWRvbmlhIiwgInR5cGUiOiAidmVydGV4IiwgInByb3BzIjogeyJzaXplIjogMTEuMzYzNjM2MzYzNjM2MzYzfX0K');</script>\n",
       "    "
      ],
      "text/plain": [
       "<IPython.core.display.HTML object>"
      ]
     },
     "metadata": {},
     "output_type": "display_data"
    },
    {
     "data": {
      "text/html": [
       "\n",
       "        <div id=\"Ku5FkbzAZxbLS2xryRR6EN\"></div>\n",
       "        <script>netpixi.call('Ku5FkbzAZxbLS2xryRR6EN', 'CWg9o4qg8bP3GTPdF8FVig', 'changeGraph', 'eyJpZCI6ICJlc3RvbmlhIiwgInR5cGUiOiAidmVydGV4IiwgInByb3BzIjogeyJzaXplIjogMTUuNTQ1NDU0NTQ1NDU0NTQ3fX0K');</script>\n",
       "    "
      ],
      "text/plain": [
       "<IPython.core.display.HTML object>"
      ]
     },
     "metadata": {},
     "output_type": "display_data"
    },
    {
     "data": {
      "text/html": [
       "\n",
       "        <div id=\"WK5FhvspXZjKKYSmJPthZj\"></div>\n",
       "        <script>netpixi.call('WK5FhvspXZjKKYSmJPthZj', 'CWg9o4qg8bP3GTPdF8FVig', 'changeGraph', 'eyJpZCI6ICJjYW5hZGEiLCAidHlwZSI6ICJ2ZXJ0ZXgiLCAicHJvcHMiOiB7InNpemUiOiAxOS40NTQ1NDU0NTQ1NDU0NTN9fQo=');</script>\n",
       "    "
      ],
      "text/plain": [
       "<IPython.core.display.HTML object>"
      ]
     },
     "metadata": {},
     "output_type": "display_data"
    },
    {
     "data": {
      "text/html": [
       "\n",
       "        <div id=\"mrCDmpnwhAXmTMKAqJyE4n\"></div>\n",
       "        <script>netpixi.call('mrCDmpnwhAXmTMKAqJyE4n', 'CWg9o4qg8bP3GTPdF8FVig', 'changeGraph', 'eyJpZCI6ICJhemVyYmFpamFuIiwgInR5cGUiOiAidmVydGV4IiwgInByb3BzIjogeyJzaXplIjogMTEuMDkwOTA5MDkwOTA5MDl9fQo=');</script>\n",
       "    "
      ],
      "text/plain": [
       "<IPython.core.display.HTML object>"
      ]
     },
     "metadata": {},
     "output_type": "display_data"
    },
    {
     "data": {
      "text/html": [
       "\n",
       "        <div id=\"UKAJzUkPMKXYPE48nrnRc4\"></div>\n",
       "        <script>netpixi.call('UKAJzUkPMKXYPE48nrnRc4', 'CWg9o4qg8bP3GTPdF8FVig', 'changeGraph', 'eyJpZCI6ICJib2xpdmlhIiwgInR5cGUiOiAidmVydGV4IiwgInByb3BzIjogeyJzaXplIjogMTUuMDkwOTA5MDkwOTA5MDl9fQo=');</script>\n",
       "    "
      ],
      "text/plain": [
       "<IPython.core.display.HTML object>"
      ]
     },
     "metadata": {},
     "output_type": "display_data"
    },
    {
     "data": {
      "text/html": [
       "\n",
       "        <div id=\"Xt7xuH3odfyoaE6ckQMsDk\"></div>\n",
       "        <script>netpixi.call('Xt7xuH3odfyoaE6ckQMsDk', 'CWg9o4qg8bP3GTPdF8FVig', 'changeGraph', 'eyJpZCI6ICJjaGlsZSIsICJ0eXBlIjogInZlcnRleCIsICJwcm9wcyI6IHsic2l6ZSI6IDE4LjM2MzYzNjM2MzYzNjM2M319Cg==');</script>\n",
       "    "
      ],
      "text/plain": [
       "<IPython.core.display.HTML object>"
      ]
     },
     "metadata": {},
     "output_type": "display_data"
    },
    {
     "data": {
      "text/html": [
       "\n",
       "        <div id=\"eEvaMpzAQznfjGdHng5QRS\"></div>\n",
       "        <script>netpixi.call('eEvaMpzAQznfjGdHng5QRS', 'CWg9o4qg8bP3GTPdF8FVig', 'changeGraph', 'eyJpZCI6ICJjb3N0YXJpY2EiLCAidHlwZSI6ICJ2ZXJ0ZXgiLCAicHJvcHMiOiB7InNpemUiOiAxNC4wfX0K');</script>\n",
       "    "
      ],
      "text/plain": [
       "<IPython.core.display.HTML object>"
      ]
     },
     "metadata": {},
     "output_type": "display_data"
    },
    {
     "data": {
      "text/html": [
       "\n",
       "        <div id=\"khC3m67jMSJqUr5YAkwhrG\"></div>\n",
       "        <script>netpixi.call('khC3m67jMSJqUr5YAkwhrG', 'CWg9o4qg8bP3GTPdF8FVig', 'changeGraph', 'eyJpZCI6ICJjYW1ib2RpYSIsICJ0eXBlIjogInZlcnRleCIsICJwcm9wcyI6IHsic2l6ZSI6IDE0LjQ1NDU0NTQ1NDU0NTQ1M319Cg==');</script>\n",
       "    "
      ],
      "text/plain": [
       "<IPython.core.display.HTML object>"
      ]
     },
     "metadata": {},
     "output_type": "display_data"
    },
    {
     "data": {
      "text/html": [
       "\n",
       "        <div id=\"FbburwzoM9JvPxe7adRmq5\"></div>\n",
       "        <script>netpixi.call('FbburwzoM9JvPxe7adRmq5', 'CWg9o4qg8bP3GTPdF8FVig', 'changeGraph', 'eyJpZCI6ICJpc3JhZWwiLCAidHlwZSI6ICJ2ZXJ0ZXgiLCAicHJvcHMiOiB7InNpemUiOiAxOC41NDU0NTQ1NDU0NTQ1NDd9fQo=');</script>\n",
       "    "
      ],
      "text/plain": [
       "<IPython.core.display.HTML object>"
      ]
     },
     "metadata": {},
     "output_type": "display_data"
    },
    {
     "data": {
      "text/html": [
       "\n",
       "        <div id=\"YcqV2cM3X9NntDtjvtPAj6\"></div>\n",
       "        <script>netpixi.call('YcqV2cM3X9NntDtjvtPAj6', 'CWg9o4qg8bP3GTPdF8FVig', 'changeGraph', 'eyJpZCI6ICJqb3JkYW4iLCAidHlwZSI6ICJ2ZXJ0ZXgiLCAicHJvcHMiOiB7InNpemUiOiAxNS45MDkwOTA5MDkwOTA5MDh9fQo=');</script>\n",
       "    "
      ],
      "text/plain": [
       "<IPython.core.display.HTML object>"
      ]
     },
     "metadata": {},
     "output_type": "display_data"
    },
    {
     "data": {
      "text/html": [
       "\n",
       "        <div id=\"8EenXUsFjjHo3XLNoKUjMx\"></div>\n",
       "        <script>netpixi.call('8EenXUsFjjHo3XLNoKUjMx', 'CWg9o4qg8bP3GTPdF8FVig', 'changeGraph', 'eyJpZCI6ICJzbG92YWtpYSIsICJ0eXBlIjogInZlcnRleCIsICJwcm9wcyI6IHsic2l6ZSI6IDEzLjM2MzYzNjM2MzYzNjM2M319Cg==');</script>\n",
       "    "
      ],
      "text/plain": [
       "<IPython.core.display.HTML object>"
      ]
     },
     "metadata": {},
     "output_type": "display_data"
    },
    {
     "data": {
      "text/html": [
       "\n",
       "        <div id=\"nPVpsmfsccCSLpdvMJrqTp\"></div>\n",
       "        <script>netpixi.call('nPVpsmfsccCSLpdvMJrqTp', 'CWg9o4qg8bP3GTPdF8FVig', 'changeGraph', 'eyJpZCI6ICJuZXBhbCIsICJ0eXBlIjogInZlcnRleCIsICJwcm9wcyI6IHsic2l6ZSI6IDExLjE4MTgxODE4MTgxODE4Mn19Cg==');</script>\n",
       "    "
      ],
      "text/plain": [
       "<IPython.core.display.HTML object>"
      ]
     },
     "metadata": {},
     "output_type": "display_data"
    },
    {
     "data": {
      "text/html": [
       "\n",
       "        <div id=\"KAiEZ72hxfyoKURTd2uB6d\"></div>\n",
       "        <script>netpixi.call('KAiEZ72hxfyoKURTd2uB6d', 'CWg9o4qg8bP3GTPdF8FVig', 'changeGraph', 'eyJpZCI6ICJ2aWV0bmFtIiwgInR5cGUiOiAidmVydGV4IiwgInByb3BzIjogeyJzaXplIjogMTEuNjM2MzYzNjM2MzYzNjM3fX0K');</script>\n",
       "    "
      ],
      "text/plain": [
       "<IPython.core.display.HTML object>"
      ]
     },
     "metadata": {},
     "output_type": "display_data"
    },
    {
     "data": {
      "text/html": [
       "\n",
       "        <div id=\"NLnggnRxz7qzvzJbWoo9X8\"></div>\n",
       "        <script>netpixi.call('NLnggnRxz7qzvzJbWoo9X8', 'CWg9o4qg8bP3GTPdF8FVig', 'changeGraph', 'eyJpZCI6ICJzaW5nYXBvcmUiLCAidHlwZSI6ICJ2ZXJ0ZXgiLCAicHJvcHMiOiB7InNpemUiOiAxMi40NTQ1NDU0NTQ1NDU0NTV9fQo=');</script>\n",
       "    "
      ],
      "text/plain": [
       "<IPython.core.display.HTML object>"
      ]
     },
     "metadata": {},
     "output_type": "display_data"
    },
    {
     "data": {
      "text/html": [
       "\n",
       "        <div id=\"bkrcG7TgnYtu2CX6tZVCpz\"></div>\n",
       "        <script>netpixi.call('bkrcG7TgnYtu2CX6tZVCpz', 'CWg9o4qg8bP3GTPdF8FVig', 'changeGraph', 'eyJpZCI6ICJpcmFuIiwgInR5cGUiOiAidmVydGV4IiwgInByb3BzIjogeyJzaXplIjogMTQuMDkwOTA5MDkwOTA5MDl9fQo=');</script>\n",
       "    "
      ],
      "text/plain": [
       "<IPython.core.display.HTML object>"
      ]
     },
     "metadata": {},
     "output_type": "display_data"
    },
    {
     "data": {
      "text/html": [
       "\n",
       "        <div id=\"SC7T4WhJpDnGqY5ezqohe6\"></div>\n",
       "        <script>netpixi.call('SC7T4WhJpDnGqY5ezqohe6', 'CWg9o4qg8bP3GTPdF8FVig', 'changeGraph', 'eyJpZCI6ICJ1YWUiLCAidHlwZSI6ICJ2ZXJ0ZXgiLCAicHJvcHMiOiB7InNpemUiOiAxMi45MDkwOTA5MDkwOTA5MX19Cg==');</script>\n",
       "    "
      ],
      "text/plain": [
       "<IPython.core.display.HTML object>"
      ]
     },
     "metadata": {},
     "output_type": "display_data"
    },
    {
     "data": {
      "text/html": [
       "\n",
       "        <div id=\"nEkvo5czTzdsreyXGGe42R\"></div>\n",
       "        <script>netpixi.call('nEkvo5czTzdsreyXGGe42R', 'CWg9o4qg8bP3GTPdF8FVig', 'changeGraph', 'eyJpZCI6ICJpcmFxIiwgInR5cGUiOiAidmVydGV4IiwgInByb3BzIjogeyJzaXplIjogMTAuNTQ1NDU0NTQ1NDU0NTQ1fX0K');</script>\n",
       "    "
      ],
      "text/plain": [
       "<IPython.core.display.HTML object>"
      ]
     },
     "metadata": {},
     "output_type": "display_data"
    },
    {
     "data": {
      "text/html": [
       "\n",
       "        <div id=\"MxKUipCq38MCg9T8uTnQhb\"></div>\n",
       "        <script>netpixi.call('MxKUipCq38MCg9T8uTnQhb', 'CWg9o4qg8bP3GTPdF8FVig', 'changeGraph', 'eyJpZCI6ICJzeXJpYSIsICJ0eXBlIjogInZlcnRleCIsICJwcm9wcyI6IHsic2l6ZSI6IDExLjI3MjcyNzI3MjcyNzI3M319Cg==');</script>\n",
       "    "
      ],
      "text/plain": [
       "<IPython.core.display.HTML object>"
      ]
     },
     "metadata": {},
     "output_type": "display_data"
    },
    {
     "data": {
      "text/html": [
       "\n",
       "        <div id=\"ifhgeTAQm2f6mDBtXzeaK2\"></div>\n",
       "        <script>netpixi.call('ifhgeTAQm2f6mDBtXzeaK2', 'CWg9o4qg8bP3GTPdF8FVig', 'changeGraph', 'eyJpZCI6ICJsYW9zIiwgInR5cGUiOiAidmVydGV4IiwgInByb3BzIjogeyJzaXplIjogMTAuODE4MTgxODE4MTgxODE4fX0K');</script>\n",
       "    "
      ],
      "text/plain": [
       "<IPython.core.display.HTML object>"
      ]
     },
     "metadata": {},
     "output_type": "display_data"
    },
    {
     "data": {
      "text/html": [
       "\n",
       "        <div id=\"SzhPFSuQTWdfhtRa6xM5Hy\"></div>\n",
       "        <script>netpixi.call('SzhPFSuQTWdfhtRa6xM5Hy', 'CWg9o4qg8bP3GTPdF8FVig', 'changeGraph', 'eyJpZCI6ICJ5ZW1lbiIsICJ0eXBlIjogInZlcnRleCIsICJwcm9wcyI6IHsic2l6ZSI6IDExLjB9fQo=');</script>\n",
       "    "
      ],
      "text/plain": [
       "<IPython.core.display.HTML object>"
      ]
     },
     "metadata": {},
     "output_type": "display_data"
    },
    {
     "data": {
      "text/html": [
       "\n",
       "        <div id=\"FAuAfw4XuwcVoyeK3btSR9\"></div>\n",
       "        <script>netpixi.call('FAuAfw4XuwcVoyeK3btSR9', 'CWg9o4qg8bP3GTPdF8FVig', 'changeGraph', 'eyJpZCI6ICJrdXdhaXQiLCAidHlwZSI6ICJ2ZXJ0ZXgiLCAicHJvcHMiOiB7InNpemUiOiAxMy4wOTA5MDkwOTA5MDkwOX19Cg==');</script>\n",
       "    "
      ],
      "text/plain": [
       "<IPython.core.display.HTML object>"
      ]
     },
     "metadata": {},
     "output_type": "display_data"
    },
    {
     "data": {
      "text/html": [
       "\n",
       "        <div id=\"bWmoVo7Et8N5PSnhcrhVYB\"></div>\n",
       "        <script>netpixi.call('bWmoVo7Et8N5PSnhcrhVYB', 'CWg9o4qg8bP3GTPdF8FVig', 'changeGraph', 'eyJpZCI6ICJrYXpha2hzdGFuIiwgInR5cGUiOiAidmVydGV4IiwgInByb3BzIjogeyJzaXplIjogMTAuNzI3MjcyNzI3MjcyNzI3fX0K');</script>\n",
       "    "
      ],
      "text/plain": [
       "<IPython.core.display.HTML object>"
      ]
     },
     "metadata": {},
     "output_type": "display_data"
    },
    {
     "data": {
      "text/html": [
       "\n",
       "        <div id=\"9XbnjtLf4WcainAywfEpS9\"></div>\n",
       "        <script>netpixi.call('9XbnjtLf4WcainAywfEpS9', 'CWg9o4qg8bP3GTPdF8FVig', 'changeGraph', 'eyJpZCI6ICJxYXRhciIsICJ0eXBlIjogInZlcnRleCIsICJwcm9wcyI6IHsic2l6ZSI6IDEyLjB9fQo=');</script>\n",
       "    "
      ],
      "text/plain": [
       "<IPython.core.display.HTML object>"
      ]
     },
     "metadata": {},
     "output_type": "display_data"
    },
    {
     "data": {
      "text/html": [
       "\n",
       "        <div id=\"BYozg97gDh3xxBxqQ5pFfD\"></div>\n",
       "        <script>netpixi.call('BYozg97gDh3xxBxqQ5pFfD', 'CWg9o4qg8bP3GTPdF8FVig', 'changeGraph', 'eyJpZCI6ICJhZmdoYW5pc3RhbiIsICJ0eXBlIjogInZlcnRleCIsICJwcm9wcyI6IHsic2l6ZSI6IDEwLjQ1NDU0NTQ1NDU0NTQ1NX19Cg==');</script>\n",
       "    "
      ],
      "text/plain": [
       "<IPython.core.display.HTML object>"
      ]
     },
     "metadata": {},
     "output_type": "display_data"
    },
    {
     "data": {
      "text/html": [
       "\n",
       "        <div id=\"8Y9bB7M5oFSwN2ombDP4Dg\"></div>\n",
       "        <script>netpixi.call('8Y9bB7M5oFSwN2ombDP4Dg', 'CWg9o4qg8bP3GTPdF8FVig', 'changeGraph', 'eyJpZCI6ICJiYWhyYWluIiwgInR5cGUiOiAidmVydGV4IiwgInByb3BzIjogeyJzaXplIjogMTAuMzYzNjM2MzYzNjM2MzYzfX0K');</script>\n",
       "    "
      ],
      "text/plain": [
       "<IPython.core.display.HTML object>"
      ]
     },
     "metadata": {},
     "output_type": "display_data"
    },
    {
     "data": {
      "text/html": [
       "\n",
       "        <div id=\"bayn8KsbykDpbmhwsaNLiB\"></div>\n",
       "        <script>netpixi.call('bayn8KsbykDpbmhwsaNLiB', 'CWg9o4qg8bP3GTPdF8FVig', 'changeGraph', 'eyJpZCI6ICJhcm1lbmlhIiwgInR5cGUiOiAidmVydGV4IiwgInByb3BzIjogeyJzaXplIjogMTEuNDU0NTQ1NDU0NTQ1NDU1fX0K');</script>\n",
       "    "
      ],
      "text/plain": [
       "<IPython.core.display.HTML object>"
      ]
     },
     "metadata": {},
     "output_type": "display_data"
    },
    {
     "data": {
      "text/html": [
       "\n",
       "        <div id=\"GQffoDhtWqcfQRPPC5U6j7\"></div>\n",
       "        <script>netpixi.call('GQffoDhtWqcfQRPPC5U6j7', 'CWg9o4qg8bP3GTPdF8FVig', 'changeGraph', 'eyJpZCI6ICJ1emJla2lzdGFuIiwgInR5cGUiOiAidmVydGV4IiwgInByb3BzIjogeyJzaXplIjogMTAuMTgxODE4MTgxODE4MTgyfX0K');</script>\n",
       "    "
      ],
      "text/plain": [
       "<IPython.core.display.HTML object>"
      ]
     },
     "metadata": {},
     "output_type": "display_data"
    },
    {
     "data": {
      "text/html": [
       "\n",
       "        <div id=\"PHi9raHrSCUv62tdNhquTA\"></div>\n",
       "        <script>netpixi.call('PHi9raHrSCUv62tdNhquTA', 'CWg9o4qg8bP3GTPdF8FVig', 'changeGraph', 'eyJpZCI6ICJreXJneXpzdGFuIiwgInR5cGUiOiAidmVydGV4IiwgInByb3BzIjogeyJzaXplIjogMTAuMjcyNzI3MjcyNzI3MjczfX0K');</script>\n",
       "    "
      ],
      "text/plain": [
       "<IPython.core.display.HTML object>"
      ]
     },
     "metadata": {},
     "output_type": "display_data"
    },
    {
     "data": {
      "text/html": [
       "\n",
       "        <div id=\"gNqWx8XgvkPDcCaeVmGWEf\"></div>\n",
       "        <script>netpixi.call('gNqWx8XgvkPDcCaeVmGWEf', 'CWg9o4qg8bP3GTPdF8FVig', 'changeGraph', 'eyJpZCI6ICJlbHNhbHZhZG9yIiwgInR5cGUiOiAidmVydGV4IiwgInByb3BzIjogeyJzaXplIjogMTAuOTA5MDkwOTA5MDkwOTF9fQo=');</script>\n",
       "    "
      ],
      "text/plain": [
       "<IPython.core.display.HTML object>"
      ]
     },
     "metadata": {},
     "output_type": "display_data"
    },
    {
     "data": {
      "text/html": [
       "\n",
       "        <div id=\"ACvpagqt3nXt8czzHq9YCK\"></div>\n",
       "        <script>netpixi.call('ACvpagqt3nXt8czzHq9YCK', 'CWg9o4qg8bP3GTPdF8FVig', 'changeGraph', 'eyJpZCI6ICJ0YWppa2lzdGFuIiwgInR5cGUiOiAidmVydGV4IiwgInByb3BzIjogeyJzaXplIjogMTAuMH19Cg==');</script>\n",
       "    "
      ],
      "text/plain": [
       "<IPython.core.display.HTML object>"
      ]
     },
     "metadata": {},
     "output_type": "display_data"
    },
    {
     "data": {
      "text/html": [
       "\n",
       "        <div id=\"KDqvD2JhCnLR3NcFNhpari\"></div>\n",
       "        <script>netpixi.call('KDqvD2JhCnLR3NcFNhpari', 'CWg9o4qg8bP3GTPdF8FVig', 'changeGraph', 'eyJpZCI6ICJ0dXJrbWVuaXN0YW4iLCAidHlwZSI6ICJ2ZXJ0ZXgiLCAicHJvcHMiOiB7InNpemUiOiAxMC4wOTA5MDkwOTA5MDkwOTJ9fQo=');</script>\n",
       "    "
      ],
      "text/plain": [
       "<IPython.core.display.HTML object>"
      ]
     },
     "metadata": {},
     "output_type": "display_data"
    }
   ],
   "source": [
    "matrix = spectral.adjacency(g)\n",
    "\n",
    "# Além de cpnet.Rombach, há outras\n",
    "# opções de algoritmos contínuos:\n",
    "# cpnet.MINRES\n",
    "# cpnet.Rossa\n",
    "\n",
    "algorithm = cpnet.Rombach()\n",
    "algorithm.detect(matrix)\n",
    "c = algorithm.get_coreness()\n",
    "\n",
    "# Depois do código acima, c é um dicionário\n",
    "# em que as chaves são índices de vértices e\n",
    "# valores são os atribuídos pelo algoritmo.\n",
    "\n",
    "g.add_vp('coreness')\n",
    "for i, coreness in c.items():\n",
    "    v = g.get_vertex_by_index(i)\n",
    "    v['coreness'] = float(coreness)\n",
    "\n",
    "# Vamos usar coreness como referência para\n",
    "# o tamanho dos vértices. Estabelecemos 10\n",
    "# como o menor tamanho possível e 40 como\n",
    "# o maior tamanho possível. Como o coreness\n",
    "# está entre 0 e 1, a conta é bem simples.\n",
    "\n",
    "for v in g.all_vertices():\n",
    "    r.vertex(v['id'], size=(10 + 40 * v['coreness']))\n",
    "\n",
    "# Quando a execução desta célula terminar,\n",
    "# veja como ficou a visualização acima."
   ]
  },
  {
   "cell_type": "code",
   "execution_count": 39,
   "id": "dc658a5c",
   "metadata": {},
   "outputs": [
    {
     "data": {
      "text/html": [
       "<div>\n",
       "<style scoped>\n",
       "    .dataframe tbody tr th:only-of-type {\n",
       "        vertical-align: middle;\n",
       "    }\n",
       "\n",
       "    .dataframe tbody tr th {\n",
       "        vertical-align: top;\n",
       "    }\n",
       "\n",
       "    .dataframe thead th {\n",
       "        text-align: right;\n",
       "    }\n",
       "</style>\n",
       "<table border=\"1\" class=\"dataframe\">\n",
       "  <thead>\n",
       "    <tr style=\"text-align: right;\">\n",
       "      <th></th>\n",
       "      <th>coreness</th>\n",
       "    </tr>\n",
       "    <tr>\n",
       "      <th>id</th>\n",
       "      <th></th>\n",
       "    </tr>\n",
       "  </thead>\n",
       "  <tbody>\n",
       "    <tr>\n",
       "      <th>angola</th>\n",
       "      <td>0.125000</td>\n",
       "    </tr>\n",
       "    <tr>\n",
       "      <th>pakistan</th>\n",
       "      <td>0.767857</td>\n",
       "    </tr>\n",
       "    <tr>\n",
       "      <th>zambia</th>\n",
       "      <td>0.086364</td>\n",
       "    </tr>\n",
       "    <tr>\n",
       "      <th>madagascar</th>\n",
       "      <td>0.215909</td>\n",
       "    </tr>\n",
       "    <tr>\n",
       "      <th>saudiarabia</th>\n",
       "      <td>0.247727</td>\n",
       "    </tr>\n",
       "    <tr>\n",
       "      <th>...</th>\n",
       "      <td>...</td>\n",
       "    </tr>\n",
       "    <tr>\n",
       "      <th>uzbekistan</th>\n",
       "      <td>0.004545</td>\n",
       "    </tr>\n",
       "    <tr>\n",
       "      <th>kyrgyzstan</th>\n",
       "      <td>0.006818</td>\n",
       "    </tr>\n",
       "    <tr>\n",
       "      <th>elsalvador</th>\n",
       "      <td>0.022727</td>\n",
       "    </tr>\n",
       "    <tr>\n",
       "      <th>tajikistan</th>\n",
       "      <td>0.000000</td>\n",
       "    </tr>\n",
       "    <tr>\n",
       "      <th>turkmenistan</th>\n",
       "      <td>0.002273</td>\n",
       "    </tr>\n",
       "  </tbody>\n",
       "</table>\n",
       "<p>138 rows × 1 columns</p>\n",
       "</div>"
      ],
      "text/plain": [
       "              coreness\n",
       "id                    \n",
       "angola        0.125000\n",
       "pakistan      0.767857\n",
       "zambia        0.086364\n",
       "madagascar    0.215909\n",
       "saudiarabia   0.247727\n",
       "...                ...\n",
       "uzbekistan    0.004545\n",
       "kyrgyzstan    0.006818\n",
       "elsalvador    0.022727\n",
       "tajikistan    0.000000\n",
       "turkmenistan  0.002273\n",
       "\n",
       "[138 rows x 1 columns]"
      ]
     },
     "execution_count": 39,
     "metadata": {},
     "output_type": "execute_result"
    }
   ],
   "source": [
    "data = gt_data(g)\n",
    "\n",
    "coreness = []\n",
    "for v in g.all_vertices():\n",
    "    coreness.append(v['coreness'])\n",
    "    \n",
    "data['coreness'] = coreness\n",
    "data"
   ]
  },
  {
   "cell_type": "code",
   "execution_count": 40,
   "id": "e2569cb2",
   "metadata": {},
   "outputs": [],
   "source": [
    "data.to_csv(\"coreness_igos.csv\")"
   ]
  }
 ],
 "metadata": {
  "kernelspec": {
   "display_name": "Python 3 (ipykernel)",
   "language": "python",
   "name": "python3"
  },
  "language_info": {
   "codemirror_mode": {
    "name": "ipython",
    "version": 3
   },
   "file_extension": ".py",
   "mimetype": "text/x-python",
   "name": "python",
   "nbconvert_exporter": "python",
   "pygments_lexer": "ipython3",
   "version": "3.10.10"
  }
 },
 "nbformat": 4,
 "nbformat_minor": 5
}
