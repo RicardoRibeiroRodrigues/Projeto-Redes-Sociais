{
 "cells": [
  {
   "cell_type": "code",
   "execution_count": 1,
   "id": "41f27480",
   "metadata": {},
   "outputs": [],
   "source": [
    "import pandas as pd\n",
    "import numpy as np\n",
    "from scipy.stats import mode\n",
    "import seaborn as sns\n",
    "from tqdm import tqdm"
   ]
  },
  {
   "cell_type": "code",
   "execution_count": 2,
   "id": "c95fa9bc",
   "metadata": {},
   "outputs": [],
   "source": [
    "df = pd.read_csv(\"igo_year_formatv3.csv\", delimiter=\"\t\")"
   ]
  },
  {
   "cell_type": "code",
   "execution_count": 3,
   "id": "d00abaee",
   "metadata": {},
   "outputs": [],
   "source": [
    "years = (2012, 2013, 2014)\n",
    "wanted_years = df.loc[df.year.isin(years)]"
   ]
  },
  {
   "cell_type": "code",
   "execution_count": 4,
   "id": "739c0038",
   "metadata": {},
   "outputs": [
    {
     "data": {
      "text/plain": [
       "ioname                0\n",
       "orgname               0\n",
       "year                  0\n",
       "afghanistan           0\n",
       "albania               0\n",
       "                   ... \n",
       "sourcesandnotes    1003\n",
       "imputed               0\n",
       "political             0\n",
       "social                0\n",
       "economic              0\n",
       "Length: 235, dtype: int64"
      ]
     },
     "execution_count": 4,
     "metadata": {},
     "output_type": "execute_result"
    }
   ],
   "source": [
    "wanted_years.isnull().sum()"
   ]
  },
  {
   "cell_type": "code",
   "execution_count": 5,
   "id": "ebdeac0f",
   "metadata": {},
   "outputs": [
    {
     "data": {
      "text/plain": [
       "(1003, 235)"
      ]
     },
     "execution_count": 5,
     "metadata": {},
     "output_type": "execute_result"
    }
   ],
   "source": [
    "wanted_years.shape"
   ]
  },
  {
   "cell_type": "code",
   "execution_count": 6,
   "id": "ee37850a",
   "metadata": {},
   "outputs": [
    {
     "data": {
      "text/plain": [
       "Index(['afghanistan', 'albania', 'algeria', 'andorra', 'angola',\n",
       "       'antiguabarbuda', 'argentina', 'armenia', 'australia', 'austria',\n",
       "       ...\n",
       "       'vietnam', 'wgermany', 'wsamoa', 'wurtenburg', 'yemen',\n",
       "       'yugoslaviaserb', 'zaire', 'zambia', 'zanzibar', 'zimbabwe'],\n",
       "      dtype='object', length=217)"
      ]
     },
     "execution_count": 6,
     "metadata": {},
     "output_type": "execute_result"
    }
   ],
   "source": [
    "country_columns = wanted_years.columns[3:220]\n",
    "country_columns"
   ]
  },
  {
   "cell_type": "code",
   "execution_count": 7,
   "id": "7e34582b",
   "metadata": {
    "scrolled": false
   },
   "outputs": [
    {
     "name": "stdout",
     "output_type": "stream",
     "text": [
      "austriahungary has 940 nulls\n",
      "baden has 940 nulls\n",
      "bavariaelect has 940 nulls\n",
      "czechoslovakia has 940 nulls\n",
      "egermany has 940 nulls\n",
      "hanover has 940 nulls\n",
      "hesseelect has 940 nulls\n",
      "hessegrand has 940 nulls\n",
      "korea has 940 nulls\n",
      "mecklenburg has 940 nulls\n",
      "modena has 940 nulls\n",
      "nyemen has 940 nulls\n",
      "papalstates has 940 nulls\n",
      "parma has 940 nulls\n",
      "svietnam has 940 nulls\n",
      "syemen has 940 nulls\n",
      "saxony has 940 nulls\n",
      "tuscany has 940 nulls\n",
      "twosicilies has 940 nulls\n",
      "wgermany has 940 nulls\n",
      "wurtenburg has 940 nulls\n",
      "zanzibar has 940 nulls\n"
     ]
    }
   ],
   "source": [
    "for country in country_columns:\n",
    "    n_nulls = wanted_years[country].isnull().sum()\n",
    "    if n_nulls > 0:\n",
    "        print(f\"{country} has {n_nulls} nulls\")"
   ]
  },
  {
   "cell_type": "code",
   "execution_count": 8,
   "id": "0e702a65",
   "metadata": {},
   "outputs": [],
   "source": [
    "with open(\"country_columns.txt\", 'w') as f:\n",
    "    for country in country_columns:\n",
    "        f.write(f\"{country}\\n\")\n",
    "    "
   ]
  },
  {
   "cell_type": "code",
   "execution_count": 9,
   "id": "56de5629",
   "metadata": {},
   "outputs": [
    {
     "name": "stdout",
     "output_type": "stream",
     "text": [
      "**andorra** nao esta no happiness\n",
      "**antiguabarbuda** nao esta no happiness\n",
      "**austriahungary** nao esta no happiness\n",
      "**baden** nao esta no happiness\n",
      "**bahamas** nao esta no happiness\n",
      "**barbados** nao esta no happiness\n",
      "**bavariaelect** nao esta no happiness\n",
      "**belize** nao esta no happiness\n",
      "**bhutan** nao esta no happiness\n",
      "**bosnia** nao esta no happiness\n",
      "**brunei** nao esta no happiness\n",
      "**capeverde** nao esta no happiness\n",
      "**congobrazz** nao esta no happiness\n",
      "**cuba** nao esta no happiness\n",
      "**czechoslovakia** nao esta no happiness\n",
      "**dominica** nao esta no happiness\n",
      "**egermany** nao esta no happiness\n",
      "**etimor** nao esta no happiness\n",
      "**eqguinea** nao esta no happiness\n",
      "**eritrea** nao esta no happiness\n",
      "**ethiopia** nao esta no happiness\n",
      "**fiji** nao esta no happiness\n",
      "**gabon** nao esta no happiness\n",
      "**gambia** nao esta no happiness\n",
      "**grenada** nao esta no happiness\n",
      "**guineabissau** nao esta no happiness\n",
      "**guyana** nao esta no happiness\n",
      "**hanover** nao esta no happiness\n",
      "**hesseelect** nao esta no happiness\n",
      "**hessegrand** nao esta no happiness\n",
      "**jamaica** nao esta no happiness\n",
      "**kiribati** nao esta no happiness\n",
      "**korea** nao esta no happiness\n",
      "**lesotho** nao esta no happiness\n",
      "**liechtenstein** nao esta no happiness\n",
      "**maldives** nao esta no happiness\n",
      "**marshallis** nao esta no happiness\n",
      "**mecklenburg** nao esta no happiness\n",
      "**micronesiafs** nao esta no happiness\n",
      "**modena** nao esta no happiness\n",
      "**monaco** nao esta no happiness\n",
      "**myanmar** nao esta no happiness\n",
      "**namibia** nao esta no happiness\n",
      "**nauru** nao esta no happiness\n",
      "**nokorea** nao esta no happiness\n",
      "**nyemen** nao esta no happiness\n",
      "**oman** nao esta no happiness\n",
      "**palau** nao esta no happiness\n",
      "**papalstates** nao esta no happiness\n",
      "**papuanewguinea** nao esta no happiness\n",
      "**parma** nao esta no happiness\n",
      "**svietnam** nao esta no happiness\n",
      "**syemen** nao esta no happiness\n",
      "**sanmarino** nao esta no happiness\n",
      "**saotome** nao esta no happiness\n",
      "**saxony** nao esta no happiness\n",
      "**seychelles** nao esta no happiness\n",
      "**sosudan** nao esta no happiness\n",
      "**solomonis** nao esta no happiness\n",
      "**somalia** nao esta no happiness\n",
      "**stkitts** nao esta no happiness\n",
      "**stlucia** nao esta no happiness\n",
      "**stvincent** nao esta no happiness\n",
      "**suriname** nao esta no happiness\n",
      "**swaziland** nao esta no happiness\n",
      "**tonga** nao esta no happiness\n",
      "**trinidad** nao esta no happiness\n",
      "**tuscany** nao esta no happiness\n",
      "**tuvalu** nao esta no happiness\n",
      "**twosicilies** nao esta no happiness\n",
      "**vanuatu** nao esta no happiness\n",
      "**wgermany** nao esta no happiness\n",
      "**wsamoa** nao esta no happiness\n",
      "**wurtenburg** nao esta no happiness\n",
      "**yugoslaviaserb** nao esta no happiness\n",
      "**zaire** nao esta no happiness\n",
      "**zanzibar** nao esta no happiness\n"
     ]
    }
   ],
   "source": [
    "# From happines report\n",
    "with open(\"happiness_countrys.txt\", 'r') as f:\n",
    "    countrys = f.readlines()\n",
    "\n",
    "notacao_diff = {\n",
    "    \"unitedstates\": \"usa\",\n",
    "    \"unitedkingdom\": \"uk\",\n",
    "    \"centralafricanrepublic\": \"car\",\n",
    "    \"southkorea\": \"sokorea\",\n",
    "    \"czechrepublic\": \"czechrep\",\n",
    "    \"southafrica\": \"soafrica\",\n",
    "    \"dominicanrepublic\": \"domrepublic\",\n",
    "    \"macedonia\": \"fyromacedonia\",\n",
    "    \"unitedarabemirates\": \"uae\",\n",
    "}\n",
    "\n",
    "countrys = set(map(lambda x: x.lower().replace(\"\\n\", \"\").replace(\" \", \"\"), countrys))\n",
    "\n",
    "\n",
    "set_not_in_hr = set()\n",
    "for country in country_columns:\n",
    "    country = country.lower().replace(\"\\n\", \"\").replace(\" \", \"\")\n",
    "    if not country in countrys and not country in notacao_diff.values():\n",
    "        print(f\"**{country}** nao esta no happiness\")\n",
    "        set_not_in_hr.add(country)\n",
    "        \n",
    "set_country_columns = set(country_columns)\n",
    "set_country_columns = set_country_columns - set_not_in_hr"
   ]
  },
  {
   "cell_type": "code",
   "execution_count": 10,
   "id": "63501878",
   "metadata": {},
   "outputs": [
    {
     "name": "stderr",
     "output_type": "stream",
     "text": [
      "100%|██████████| 140/140 [00:10<00:00, 13.44it/s]\n"
     ]
    }
   ],
   "source": [
    "intersecs = {}\n",
    "\n",
    "for country_1 in tqdm(set_country_columns):\n",
    "    for country_2 in set_country_columns:\n",
    "        if country_1 != country_2:\n",
    "            country_1_present = wanted_years[country_1]\n",
    "            country_2_present = wanted_years[country_2]\n",
    "            n_intersecs = len(wanted_years.loc[(country_1_present == 1.0) & (country_2_present == 1.0)])\n",
    "            intersecs[(country_1, country_2)] = n_intersecs\n",
    "                "
   ]
  },
  {
   "cell_type": "code",
   "execution_count": 12,
   "id": "8f0aca62",
   "metadata": {},
   "outputs": [],
   "source": [
    "import pickle\n",
    "\n",
    "with open(\"intersecs.pickle\", 'wb') as f:\n",
    "    pickle.dump(intersecs, f)\n",
    "# with open(\"intersecs.pickle\", 'rb') as f:\n",
    "#     intersecs = pickle.load(f)"
   ]
  },
  {
   "cell_type": "code",
   "execution_count": 13,
   "id": "5f680642",
   "metadata": {
    "scrolled": false
   },
   "outputs": [
    {
     "data": {
      "image/png": "[encoded data removed]",
      "text/plain": [
       "<Figure size 640x480 with 1 Axes>"
      ]
     },
     "metadata": {},
     "output_type": "display_data"
    }
   ],
   "source": [
    "import matplotlib.pyplot as plt\n",
    "\n",
    "intersecs_values = list(intersecs.values())\n",
    "plt.hist(intersecs_values, color='red', alpha=0.7, edgecolor='black')\n",
    "plt.xlabel('Frequencias dos numeros IGOS em comum entre países')\n",
    "plt.show()"
   ]
  },
  {
   "cell_type": "code",
   "execution_count": 14,
   "id": "30cd3fef",
   "metadata": {},
   "outputs": [
    {
     "name": "stderr",
     "output_type": "stream",
     "text": [
      "/tmp/ipykernel_14/109831930.py:1: FutureWarning: Unlike other reduction functions (e.g. `skew`, `kurtosis`), the default behavior of `mode` typically preserves the axis it acts along. In SciPy 1.11.0, this behavior will change: the default value of `keepdims` will become False, the `axis` over which the statistic is taken will be eliminated, and the value None will no longer be accepted. Set `keepdims` to True or False to avoid this warning.\n",
      "  threshold = mode(intersecs_values)[0][0]\n"
     ]
    },
    {
     "data": {
      "text/plain": [
       "103"
      ]
     },
     "execution_count": 14,
     "metadata": {},
     "output_type": "execute_result"
    }
   ],
   "source": [
    "threshold = mode(intersecs_values)[0][0]\n",
    "# threshold = sum(intersecs_values) / len(intersecs_values)\n",
    "threshold"
   ]
  },
  {
   "cell_type": "code",
   "execution_count": 15,
   "id": "26f66ece",
   "metadata": {},
   "outputs": [
    {
     "data": {
      "text/html": [
       "\n",
       "    <script src=\"/files/netpixi.min.js\"></script>\n"
      ],
      "text/plain": [
       "<IPython.core.display.HTML object>"
      ]
     },
     "metadata": {},
     "output_type": "display_data"
    },
    {
     "name": "stderr",
     "output_type": "stream",
     "text": [
      "<frozen importlib._bootstrap>:914: ImportWarning: VendorImporter.find_spec() not found; falling back to find_module()\n"
     ]
    }
   ],
   "source": [
    "import netpixi\n",
    "from netpixi.integration.gt import *\n",
    "from regression.integration.gt import *"
   ]
  },
  {
   "cell_type": "code",
   "execution_count": 16,
   "id": "b6f382a9",
   "metadata": {},
   "outputs": [],
   "source": [
    "g = Graph(directed=False)\n",
    "\n",
    "for countrys, n_intersecs in intersecs.items():\n",
    "    if n_intersecs > threshold:\n",
    "        if not g.has_vertex(countrys[0]):\n",
    "            v1 = g.add_vertex(countrys[0])\n",
    "        if not g.has_vertex(countrys[1]):\n",
    "            v2 = g.add_vertex(countrys[1])\n",
    "            \n",
    "        if not g.has_edge(countrys[0], countrys[1]):\n",
    "            g.add_edge(countrys[0], countrys[1])\n",
    "\n",
    "PATH_REDE = 'IGOS.net.gz'\n",
    "gt_save(g, PATH_REDE)"
   ]
  },
  {
   "cell_type": "code",
   "execution_count": 18,
   "id": "e5de459a",
   "metadata": {},
   "outputs": [
    {
     "name": "stdout",
     "output_type": "stream",
     "text": [
      "Número de arestas: 6120\n",
      "Número de vértices: 138\n"
     ]
    }
   ],
   "source": [
    "n = g.num_vertices()\n",
    "m = g.num_edges()\n",
    "\n",
    "print(f\"Número de arestas: {m}\")\n",
    "print(f\"Número de vértices: {n}\")"
   ]
  },
  {
   "cell_type": "code",
   "execution_count": 19,
   "id": "e530e739",
   "metadata": {},
   "outputs": [
    {
     "name": "stdout",
     "output_type": "stream",
     "text": [
      "Número máximo de arestas: 9453\n",
      "Densidade: 0.6474135195176135\n"
     ]
    }
   ],
   "source": [
    "max_edges = n * (n - 1) // 2\n",
    "print(f\"Número máximo de arestas: {max_edges}\")\n",
    "d = m / max_edges\n",
    "print(f\"Densidade: {d}\")"
   ]
  },
  {
   "cell_type": "code",
   "execution_count": 20,
   "id": "74b3d73d",
   "metadata": {},
   "outputs": [],
   "source": [
    "data = gt_data(g)\n",
    "\n",
    "degrees = []\n",
    "for v in g.all_vertices():\n",
    "    degrees.append(v.total_degree())\n",
    "    \n",
    "data['degree'] = degrees"
   ]
  },
  {
   "cell_type": "code",
   "execution_count": 21,
   "id": "a48768d6",
   "metadata": {},
   "outputs": [
    {
     "data": {
      "text/plain": [
       "count    138.000000\n",
       "mean      88.695652\n",
       "std       31.510075\n",
       "min        4.000000\n",
       "25%       72.000000\n",
       "50%       98.000000\n",
       "75%      112.750000\n",
       "max      127.000000\n",
       "Name: degree, dtype: float64"
      ]
     },
     "execution_count": 21,
     "metadata": {},
     "output_type": "execute_result"
    }
   ],
   "source": [
    "data['degree'].describe()"
   ]
  },
  {
   "cell_type": "code",
   "execution_count": 22,
   "id": "2e5a2a4e",
   "metadata": {},
   "outputs": [
    {
     "data": {
      "text/plain": [
       "<AxesSubplot: xlabel='degree', ylabel='Count'>"
      ]
     },
     "execution_count": 22,
     "metadata": {},
     "output_type": "execute_result"
    },
    {
     "data": {
      "image/png": "[encoded data removed]",
      "text/plain": [
       "<Figure size 640x480 with 1 Axes>"
      ]
     },
     "metadata": {},
     "output_type": "display_data"
    }
   ],
   "source": [
    "sns.histplot(data['degree'])"
   ]
  },
  {
   "cell_type": "code",
   "execution_count": 23,
   "id": "647215d3",
   "metadata": {
    "scrolled": false
   },
   "outputs": [
    {
     "data": {
      "text/html": [
       "\n",
       "        <div id=\"G27xYFVvssHJAhWvEkQqxv\"></div>\n",
       "        <script>netpixi.render('G27xYFVvssHJAhWvEkQqxv', 'rede_sfdp.net.gz', 1.7777777777777777, true, true, false);</script>\n",
       "    "
      ],
      "text/plain": [
       "<IPython.core.display.HTML object>"
      ]
     },
     "metadata": {},
     "output_type": "display_data"
    }
   ],
   "source": [
    "m = gt_draw.sfdp_layout(g)\n",
    "gt_move(g, m)\n",
    "gt_save(g, 'rede_sfdp.net.gz')\n",
    "r = netpixi.render('rede_sfdp.net.gz', infinite=True);"
   ]
  },
  {
   "cell_type": "code",
   "execution_count": 25,
   "id": "e8a84192",
   "metadata": {},
   "outputs": [
    {
     "data": {
      "text/html": [
       "\n",
       "        <div id=\"DTMa7D9ui4dMxFqLsSKyLm\"></div>\n",
       "        <script>netpixi.call('DTMa7D9ui4dMxFqLsSKyLm', 'G27xYFVvssHJAhWvEkQqxv', 'setGraph', 'eyJ0eXBlIjogInZlcnRleCIsICJwcm9wcyI6IHsic3JjIjogImlkIiwgImRzdCI6ICJfa2V5In19Cg==');</script>\n",
       "    "
      ],
      "text/plain": [
       "<IPython.core.display.HTML object>"
      ]
     },
     "metadata": {},
     "output_type": "display_data"
    }
   ],
   "source": [
    "r.vertex_set_key('id')"
   ]
  },
  {
   "cell_type": "code",
   "execution_count": 27,
   "id": "c0ca5ed2",
   "metadata": {},
   "outputs": [
    {
     "name": "stderr",
     "output_type": "stream",
     "text": [
      "<frozen importlib._bootstrap>:914: ImportWarning: VendorImporter.find_spec() not found; falling back to find_module()\n"
     ]
    }
   ],
   "source": [
    "import cpnet\n",
    "\n",
    "from graph_tool import spectral"
   ]
  },
  {
   "cell_type": "code",
   "execution_count": 28,
   "id": "6bae21cd",
   "metadata": {},
   "outputs": [
    {
     "name": "stderr",
     "output_type": "stream",
     "text": [
      "<frozen importlib._bootstrap>:914: ImportWarning: VendorImporter.find_spec() not found; falling back to find_module()\n"
     ]
    },
    {
     "data": {
      "text/html": [
       "\n",
       "        <div id=\"9ATJpDAKfdGk33Tev4cXJb\"></div>\n",
       "        <script>netpixi.call('9ATJpDAKfdGk33Tev4cXJb', 'G27xYFVvssHJAhWvEkQqxv', 'changeGraph', 'eyJpZCI6ICJydXNzaWEiLCAidHlwZSI6ICJ2ZXJ0ZXgiLCAicHJvcHMiOiB7InNpemUiOiAxNi42MzYzNjM2MzYzNjM2Mzd9fQo=');</script>\n",
       "    "
      ],
      "text/plain": [
       "<IPython.core.display.HTML object>"
      ]
     },
     "metadata": {},
     "output_type": "display_data"
    },
    {
     "data": {
      "text/html": [
       "\n",
       "        <div id=\"LQpQSGo4u2rb9Ds9TTrJtL\"></div>\n",
       "        <script>netpixi.call('LQpQSGo4u2rb9Ds9TTrJtL', 'G27xYFVvssHJAhWvEkQqxv', 'changeGraph', 'eyJpZCI6ICJtYXVyaXRhbmlhIiwgInR5cGUiOiAidmVydGV4IiwgInByb3BzIjogeyJzaXplIjogMTYuMzYzNjM2MzYzNjM2MzYzfX0K');</script>\n",
       "    "
      ],
      "text/plain": [
       "<IPython.core.display.HTML object>"
      ]
     },
     "metadata": {},
     "output_type": "display_data"
    },
    {
     "data": {
      "text/html": [
       "\n",
       "        <div id=\"4cmuTGhNMTmsoKfHhKUHM5\"></div>\n",
       "        <script>netpixi.call('4cmuTGhNMTmsoKfHhKUHM5', 'G27xYFVvssHJAhWvEkQqxv', 'changeGraph', 'eyJpZCI6ICJ0dW5pc2lhIiwgInR5cGUiOiAidmVydGV4IiwgInByb3BzIjogeyJzaXplIjogNDguMjE0Mjg1NzE0Mjg1NzF9fQo=');</script>\n",
       "    "
      ],
      "text/plain": [
       "<IPython.core.display.HTML object>"
      ]
     },
     "metadata": {},
     "output_type": "display_data"
    },
    {
     "data": {
      "text/html": [
       "\n",
       "        <div id=\"TDnRz3vCfLzmKzQ7aZYUzW\"></div>\n",
       "        <script>netpixi.call('TDnRz3vCfLzmKzQ7aZYUzW', 'G27xYFVvssHJAhWvEkQqxv', 'changeGraph', 'eyJpZCI6ICJzYXVkaWFyYWJpYSIsICJ0eXBlIjogInZlcnRleCIsICJwcm9wcyI6IHsic2l6ZSI6IDE3LjcyNzI3MjcyNzI3MjcyN319Cg==');</script>\n",
       "    "
      ],
      "text/plain": [
       "<IPython.core.display.HTML object>"
      ]
     },
     "metadata": {},
     "output_type": "display_data"
    },
    {
     "data": {
      "text/html": [
       "\n",
       "        <div id=\"fbLpkjnqvutaSsa2nXt4NS\"></div>\n",
       "        <script>netpixi.call('fbLpkjnqvutaSsa2nXt4NS', 'G27xYFVvssHJAhWvEkQqxv', 'changeGraph', 'eyJpZCI6ICJ1YWUiLCAidHlwZSI6ICJ2ZXJ0ZXgiLCAicHJvcHMiOiB7InNpemUiOiAxNC41NDU0NTQ1NDU0NTQ1NDV9fQo=');</script>\n",
       "    "
      ],
      "text/plain": [
       "<IPython.core.display.HTML object>"
      ]
     },
     "metadata": {},
     "output_type": "display_data"
    },
    {
     "data": {
      "text/html": [
       "\n",
       "        <div id=\"9tyU2FoAXXac9CwQEtRrhh\"></div>\n",
       "        <script>netpixi.call('9tyU2FoAXXac9CwQEtRrhh', 'G27xYFVvssHJAhWvEkQqxv', 'changeGraph', 'eyJpZCI6ICJjemVjaHJlcCIsICJ0eXBlIjogInZlcnRleCIsICJwcm9wcyI6IHsic2l6ZSI6IDE2LjQ1NDU0NTQ1NDU0NTQ1M319Cg==');</script>\n",
       "    "
      ],
      "text/plain": [
       "<IPython.core.display.HTML object>"
      ]
     },
     "metadata": {},
     "output_type": "display_data"
    },
    {
     "data": {
      "text/html": [
       "\n",
       "        <div id=\"EWfgaMAzVRLMukHdLJpHCT\"></div>\n",
       "        <script>netpixi.call('EWfgaMAzVRLMukHdLJpHCT', 'G27xYFVvssHJAhWvEkQqxv', 'changeGraph', 'eyJpZCI6ICJwaGlsaXBwaW5lcyIsICJ0eXBlIjogInZlcnRleCIsICJwcm9wcyI6IHsic2l6ZSI6IDE4LjcyNzI3MjcyNzI3MjcyN319Cg==');</script>\n",
       "    "
      ],
      "text/plain": [
       "<IPython.core.display.HTML object>"
      ]
     },
     "metadata": {},
     "output_type": "display_data"
    },
    {
     "data": {
      "text/html": [
       "\n",
       "        <div id=\"4829rkhwbkwT7GL2rmnhAs\"></div>\n",
       "        <script>netpixi.call('4829rkhwbkwT7GL2rmnhAs', 'G27xYFVvssHJAhWvEkQqxv', 'changeGraph', 'eyJpZCI6ICJ1a3JhaW5lIiwgInR5cGUiOiAidmVydGV4IiwgInByb3BzIjogeyJzaXplIjogMTMuMTgxODE4MTgxODE4MTgyfX0K');</script>\n",
       "    "
      ],
      "text/plain": [
       "<IPython.core.display.HTML object>"
      ]
     },
     "metadata": {},
     "output_type": "display_data"
    },
    {
     "data": {
      "text/html": [
       "\n",
       "        <div id=\"HhNJNLkfaTLfLhFzkn4zRf\"></div>\n",
       "        <script>netpixi.call('HhNJNLkfaTLfLhFzkn4zRf', 'G27xYFVvssHJAhWvEkQqxv', 'changeGraph', 'eyJpZCI6ICJtb250ZW5lZ3JvIiwgInR5cGUiOiAidmVydGV4IiwgInByb3BzIjogeyJzaXplIjogMTEuMDkwOTA5MDkwOTA5MDl9fQo=');</script>\n",
       "    "
      ],
      "text/plain": [
       "<IPython.core.display.HTML object>"
      ]
     },
     "metadata": {},
     "output_type": "display_data"
    },
    {
     "data": {
      "text/html": [
       "\n",
       "        <div id=\"VvyyvHMSosJnyPjvyfEL2B\"></div>\n",
       "        <script>netpixi.call('VvyyvHMSosJnyPjvyfEL2B', 'G27xYFVvssHJAhWvEkQqxv', 'changeGraph', 'eyJpZCI6ICJlc3RvbmlhIiwgInR5cGUiOiAidmVydGV4IiwgInByb3BzIjogeyJzaXplIjogMTQuNzI3MjcyNzI3MjcyNzI3fX0K');</script>\n",
       "    "
      ],
      "text/plain": [
       "<IPython.core.display.HTML object>"
      ]
     },
     "metadata": {},
     "output_type": "display_data"
    },
    {
     "data": {
      "text/html": [
       "\n",
       "        <div id=\"AJ4fSJFxcduZFAsnjpVqmp\"></div>\n",
       "        <script>netpixi.call('AJ4fSJFxcduZFAsnjpVqmp', 'G27xYFVvssHJAhWvEkQqxv', 'changeGraph', 'eyJpZCI6ICJiZWxhcnVzIiwgInR5cGUiOiAidmVydGV4IiwgInByb3BzIjogeyJzaXplIjogMTAuODE4MTgxODE4MTgxODE4fX0K');</script>\n",
       "    "
      ],
      "text/plain": [
       "<IPython.core.display.HTML object>"
      ]
     },
     "metadata": {},
     "output_type": "display_data"
    },
    {
     "data": {
      "text/html": [
       "\n",
       "        <div id=\"kyZzxWjEKJSNvxPCZGmtue\"></div>\n",
       "        <script>netpixi.call('kyZzxWjEKJSNvxPCZGmtue', 'G27xYFVvssHJAhWvEkQqxv', 'changeGraph', 'eyJpZCI6ICJzaW5nYXBvcmUiLCAidHlwZSI6ICJ2ZXJ0ZXgiLCAicHJvcHMiOiB7InNpemUiOiAxMi4zNjM2MzYzNjM2MzYzNjN9fQo=');</script>\n",
       "    "
      ],
      "text/plain": [
       "<IPython.core.display.HTML object>"
      ]
     },
     "metadata": {},
     "output_type": "display_data"
    },
    {
     "data": {
      "text/html": [
       "\n",
       "        <div id=\"4YQxeZqbRPSe2ZEE868soa\"></div>\n",
       "        <script>netpixi.call('4YQxeZqbRPSe2ZEE868soa', 'G27xYFVvssHJAhWvEkQqxv', 'changeGraph', 'eyJpZCI6ICJnZXJtYW55IiwgInR5cGUiOiAidmVydGV4IiwgInByb3BzIjogeyJzaXplIjogMTguMTgxODE4MTgxODE4MTh9fQo=');</script>\n",
       "    "
      ],
      "text/plain": [
       "<IPython.core.display.HTML object>"
      ]
     },
     "metadata": {},
     "output_type": "display_data"
    },
    {
     "data": {
      "text/html": [
       "\n",
       "        <div id=\"C9WcMui2EFiqtPHi6MXbvE\"></div>\n",
       "        <script>netpixi.call('C9WcMui2EFiqtPHi6MXbvE', 'G27xYFVvssHJAhWvEkQqxv', 'changeGraph', 'eyJpZCI6ICJ0b2dvIiwgInR5cGUiOiAidmVydGV4IiwgInByb3BzIjogeyJzaXplIjogMTcuMzYzNjM2MzYzNjM2MzYzfX0K');</script>\n",
       "    "
      ],
      "text/plain": [
       "<IPython.core.display.HTML object>"
      ]
     },
     "metadata": {},
     "output_type": "display_data"
    },
    {
     "data": {
      "text/html": [
       "\n",
       "        <div id=\"UDDuL28mZPoSUxhkrGkUkD\"></div>\n",
       "        <script>netpixi.call('UDDuL28mZPoSUxhkrGkUkD', 'G27xYFVvssHJAhWvEkQqxv', 'changeGraph', 'eyJpZCI6ICJ1c2EiLCAidHlwZSI6ICJ2ZXJ0ZXgiLCAicHJvcHMiOiB7InNpemUiOiAxNC44MTgxODE4MTgxODE4MTh9fQo=');</script>\n",
       "    "
      ],
      "text/plain": [
       "<IPython.core.display.HTML object>"
      ]
     },
     "metadata": {},
     "output_type": "display_data"
    },
    {
     "data": {
      "text/html": [
       "\n",
       "        <div id=\"MM85UAqZ7fNUzKLb4SQByz\"></div>\n",
       "        <script>netpixi.call('MM85UAqZ7fNUzKLb4SQByz', 'G27xYFVvssHJAhWvEkQqxv', 'changeGraph', 'eyJpZCI6ICJjYW1lcm9vbiIsICJ0eXBlIjogInZlcnRleCIsICJwcm9wcyI6IHsic2l6ZSI6IDQ4LjU3MTQyODU3MTQyODU3fX0K');</script>\n",
       "    "
      ],
      "text/plain": [
       "<IPython.core.display.HTML object>"
      ]
     },
     "metadata": {},
     "output_type": "display_data"
    },
    {
     "data": {
      "text/html": [
       "\n",
       "        <div id=\"UYrtMmQ4ctwVooYmg7rGbR\"></div>\n",
       "        <script>netpixi.call('UYrtMmQ4ctwVooYmg7rGbR', 'G27xYFVvssHJAhWvEkQqxv', 'changeGraph', 'eyJpZCI6ICJjb2xvbWJpYSIsICJ0eXBlIjogInZlcnRleCIsICJwcm9wcyI6IHsic2l6ZSI6IDE5LjU0NTQ1NDU0NTQ1NDU0N319Cg==');</script>\n",
       "    "
      ],
      "text/plain": [
       "<IPython.core.display.HTML object>"
      ]
     },
     "metadata": {},
     "output_type": "display_data"
    },
    {
     "data": {
      "text/html": [
       "\n",
       "        <div id=\"DoD4bMNVqAXpdKvgR6RuAJ\"></div>\n",
       "        <script>netpixi.call('DoD4bMNVqAXpdKvgR6RuAJ', 'G27xYFVvssHJAhWvEkQqxv', 'changeGraph', 'eyJpZCI6ICJtb3JvY2NvIiwgInR5cGUiOiAidmVydGV4IiwgInByb3BzIjogeyJzaXplIjogNDkuNjQyODU3MTQyODU3MTQ2fX0K');</script>\n",
       "    "
      ],
      "text/plain": [
       "<IPython.core.display.HTML object>"
      ]
     },
     "metadata": {},
     "output_type": "display_data"
    },
    {
     "data": {
      "text/html": [
       "\n",
       "        <div id=\"4MhMXYAMHcSAQwLqyXsce7\"></div>\n",
       "        <script>netpixi.call('4MhMXYAMHcSAQwLqyXsce7', 'G27xYFVvssHJAhWvEkQqxv', 'changeGraph', 'eyJpZCI6ICJ2ZW5lenVlbGEiLCAidHlwZSI6ICJ2ZXJ0ZXgiLCAicHJvcHMiOiB7InNpemUiOiAxOS4wfX0K');</script>\n",
       "    "
      ],
      "text/plain": [
       "<IPython.core.display.HTML object>"
      ]
     },
     "metadata": {},
     "output_type": "display_data"
    },
    {
     "data": {
      "text/html": [
       "\n",
       "        <div id=\"T2JtXoyVRQiCiRH5C47Y3e\"></div>\n",
       "        <script>netpixi.call('T2JtXoyVRQiCiRH5C47Y3e', 'G27xYFVvssHJAhWvEkQqxv', 'changeGraph', 'eyJpZCI6ICJ1emJla2lzdGFuIiwgInR5cGUiOiAidmVydGV4IiwgInByb3BzIjogeyJzaXplIjogMTAuNDU0NTQ1NDU0NTQ1NDU1fX0K');</script>\n",
       "    "
      ],
      "text/plain": [
       "<IPython.core.display.HTML object>"
      ]
     },
     "metadata": {},
     "output_type": "display_data"
    },
    {
     "data": {
      "text/html": [
       "\n",
       "        <div id=\"FHHpYK6nHmPQGCBWRMj4FQ\"></div>\n",
       "        <script>netpixi.call('FHHpYK6nHmPQGCBWRMj4FQ', 'G27xYFVvssHJAhWvEkQqxv', 'changeGraph', 'eyJpZCI6ICJpY2VsYW5kIiwgInR5cGUiOiAidmVydGV4IiwgInByb3BzIjogeyJzaXplIjogMTMuNTQ1NDU0NTQ1NDU0NTQ1fX0K');</script>\n",
       "    "
      ],
      "text/plain": [
       "<IPython.core.display.HTML object>"
      ]
     },
     "metadata": {},
     "output_type": "display_data"
    },
    {
     "data": {
      "text/html": [
       "\n",
       "        <div id=\"2WGn4tLwBf6oN45Nor4pkj\"></div>\n",
       "        <script>netpixi.call('2WGn4tLwBf6oN45Nor4pkj', 'G27xYFVvssHJAhWvEkQqxv', 'changeGraph', 'eyJpZCI6ICJicmF6aWwiLCAidHlwZSI6ICJ2ZXJ0ZXgiLCAicHJvcHMiOiB7InNpemUiOiAxOS42MzYzNjM2MzYzNjM2Mzd9fQo=');</script>\n",
       "    "
      ],
      "text/plain": [
       "<IPython.core.display.HTML object>"
      ]
     },
     "metadata": {},
     "output_type": "display_data"
    },
    {
     "data": {
      "text/html": [
       "\n",
       "        <div id=\"GMvrt9MGtyRevLSMD4R8hM\"></div>\n",
       "        <script>netpixi.call('GMvrt9MGtyRevLSMD4R8hM', 'G27xYFVvssHJAhWvEkQqxv', 'changeGraph', 'eyJpZCI6ICJsZWJhbm9uIiwgInR5cGUiOiAidmVydGV4IiwgInByb3BzIjogeyJzaXplIjogMTMuMDkwOTA5MDkwOTA5MDl9fQo=');</script>\n",
       "    "
      ],
      "text/plain": [
       "<IPython.core.display.HTML object>"
      ]
     },
     "metadata": {},
     "output_type": "display_data"
    },
    {
     "data": {
      "text/html": [
       "\n",
       "        <div id=\"oAdkgfUnjZp7DxeStFbWRd\"></div>\n",
       "        <script>netpixi.call('oAdkgfUnjZp7DxeStFbWRd', 'G27xYFVvssHJAhWvEkQqxv', 'changeGraph', 'eyJpZCI6ICJnZW9yZ2lhIiwgInR5cGUiOiAidmVydGV4IiwgInByb3BzIjogeyJzaXplIjogMTMuMzYzNjM2MzYzNjM2MzYzfX0K');</script>\n",
       "    "
      ],
      "text/plain": [
       "<IPython.core.display.HTML object>"
      ]
     },
     "metadata": {},
     "output_type": "display_data"
    },
    {
     "data": {
      "text/html": [
       "\n",
       "        <div id=\"j5QfKYJzMoDXoALAbmXcDw\"></div>\n",
       "        <script>netpixi.call('j5QfKYJzMoDXoALAbmXcDw', 'G27xYFVvssHJAhWvEkQqxv', 'changeGraph', 'eyJpZCI6ICJiZWxnaXVtIiwgInR5cGUiOiAidmVydGV4IiwgInByb3BzIjogeyJzaXplIjogNDEuMDcxNDI4NTcxNDI4NTd9fQo=');</script>\n",
       "    "
      ],
      "text/plain": [
       "<IPython.core.display.HTML object>"
      ]
     },
     "metadata": {},
     "output_type": "display_data"
    },
    {
     "data": {
      "text/html": [
       "\n",
       "        <div id=\"QSxyTkBuZMSF6oebhf8ANc\"></div>\n",
       "        <script>netpixi.call('QSxyTkBuZMSF6oebhf8ANc', 'G27xYFVvssHJAhWvEkQqxv', 'changeGraph', 'eyJpZCI6ICJtb25nb2xpYSIsICJ0eXBlIjogInZlcnRleCIsICJwcm9wcyI6IHsic2l6ZSI6IDE1LjB9fQo=');</script>\n",
       "    "
      ],
      "text/plain": [
       "<IPython.core.display.HTML object>"
      ]
     },
     "metadata": {},
     "output_type": "display_data"
    },
    {
     "data": {
      "text/html": [
       "\n",
       "        <div id=\"hv3QNUxbbwhXHRFMvSMMLf\"></div>\n",
       "        <script>netpixi.call('hv3QNUxbbwhXHRFMvSMMLf', 'G27xYFVvssHJAhWvEkQqxv', 'changeGraph', 'eyJpZCI6ICJhcm1lbmlhIiwgInR5cGUiOiAidmVydGV4IiwgInByb3BzIjogeyJzaXplIjogMTAuNTQ1NDU0NTQ1NDU0NTQ1fX0K');</script>\n",
       "    "
      ],
      "text/plain": [
       "<IPython.core.display.HTML object>"
      ]
     },
     "metadata": {},
     "output_type": "display_data"
    },
    {
     "data": {
      "text/html": [
       "\n",
       "        <div id=\"jfHzqVBVsnWCbicQdXtGXC\"></div>\n",
       "        <script>netpixi.call('jfHzqVBVsnWCbicQdXtGXC', 'G27xYFVvssHJAhWvEkQqxv', 'changeGraph', 'eyJpZCI6ICJ0YWppa2lzdGFuIiwgInR5cGUiOiAidmVydGV4IiwgInByb3BzIjogeyJzaXplIjogMTAuMjcyNzI3MjcyNzI3MjczfX0K');</script>\n",
       "    "
      ],
      "text/plain": [
       "<IPython.core.display.HTML object>"
      ]
     },
     "metadata": {},
     "output_type": "display_data"
    },
    {
     "data": {
      "text/html": [
       "\n",
       "        <div id=\"YR9urfP3oamSS4MTPD28KB\"></div>\n",
       "        <script>netpixi.call('YR9urfP3oamSS4MTPD28KB', 'G27xYFVvssHJAhWvEkQqxv', 'changeGraph', 'eyJpZCI6ICJzd2l0emVybGFuZCIsICJ0eXBlIjogInZlcnRleCIsICJwcm9wcyI6IHsic2l6ZSI6IDQzLjU3MTQyODU3MTQyODU3fX0K');</script>\n",
       "    "
      ],
      "text/plain": [
       "<IPython.core.display.HTML object>"
      ]
     },
     "metadata": {},
     "output_type": "display_data"
    },
    {
     "data": {
      "text/html": [
       "\n",
       "        <div id=\"2Yo27HPeaE7zDJZvuxig6R\"></div>\n",
       "        <script>netpixi.call('2Yo27HPeaE7zDJZvuxig6R', 'G27xYFVvssHJAhWvEkQqxv', 'changeGraph', 'eyJpZCI6ICJzbG92YWtpYSIsICJ0eXBlIjogInZlcnRleCIsICJwcm9wcyI6IHsic2l6ZSI6IDE1LjE4MTgxODE4MTgxODE4Mn19Cg==');</script>\n",
       "    "
      ],
      "text/plain": [
       "<IPython.core.display.HTML object>"
      ]
     },
     "metadata": {},
     "output_type": "display_data"
    },
    {
     "data": {
      "text/html": [
       "\n",
       "        <div id=\"DGBKKYBVwWckfmnHRBShry\"></div>\n",
       "        <script>netpixi.call('DGBKKYBVwWckfmnHRBShry', 'G27xYFVvssHJAhWvEkQqxv', 'changeGraph', 'eyJpZCI6ICJyb21hbmlhIiwgInR5cGUiOiAidmVydGV4IiwgInByb3BzIjogeyJzaXplIjogMTcuNDU0NTQ1NDU0NTQ1NDUzfX0K');</script>\n",
       "    "
      ],
      "text/plain": [
       "<IPython.core.display.HTML object>"
      ]
     },
     "metadata": {},
     "output_type": "display_data"
    },
    {
     "data": {
      "text/html": [
       "\n",
       "        <div id=\"99nEX4qah7hPJcHnGQvmqg\"></div>\n",
       "        <script>netpixi.call('99nEX4qah7hPJcHnGQvmqg', 'G27xYFVvssHJAhWvEkQqxv', 'changeGraph', 'eyJpZCI6ICJ1cnVndWF5IiwgInR5cGUiOiAidmVydGV4IiwgInByb3BzIjogeyJzaXplIjogMTUuNjM2MzYzNjM2MzYzNjM3fX0K');</script>\n",
       "    "
      ],
      "text/plain": [
       "<IPython.core.display.HTML object>"
      ]
     },
     "metadata": {},
     "output_type": "display_data"
    },
    {
     "data": {
      "text/html": [
       "\n",
       "        <div id=\"6bmMFqH2bGnVnVWkQL8dzc\"></div>\n",
       "        <script>netpixi.call('6bmMFqH2bGnVnVWkQL8dzc', 'G27xYFVvssHJAhWvEkQqxv', 'changeGraph', 'eyJpZCI6ICJuaWdlcmlhIiwgInR5cGUiOiAidmVydGV4IiwgInByb3BzIjogeyJzaXplIjogNDUuMH19Cg==');</script>\n",
       "    "
      ],
      "text/plain": [
       "<IPython.core.display.HTML object>"
      ]
     },
     "metadata": {},
     "output_type": "display_data"
    },
    {
     "data": {
      "text/html": [
       "\n",
       "        <div id=\"dmM6EDbu6ehT2MaFuzTzRj\"></div>\n",
       "        <script>netpixi.call('dmM6EDbu6ehT2MaFuzTzRj', 'G27xYFVvssHJAhWvEkQqxv', 'changeGraph', 'eyJpZCI6ICJwZXJ1IiwgInR5cGUiOiAidmVydGV4IiwgInByb3BzIjogeyJzaXplIjogMTguNjM2MzYzNjM2MzYzNjM3fX0K');</script>\n",
       "    "
      ],
      "text/plain": [
       "<IPython.core.display.HTML object>"
      ]
     },
     "metadata": {},
     "output_type": "display_data"
    },
    {
     "data": {
      "text/html": [
       "\n",
       "        <div id=\"TtPmVH4CDyuBzChgek5tmB\"></div>\n",
       "        <script>netpixi.call('TtPmVH4CDyuBzChgek5tmB', 'G27xYFVvssHJAhWvEkQqxv', 'changeGraph', 'eyJpZCI6ICJkb21yZXB1YmxpYyIsICJ0eXBlIjogInZlcnRleCIsICJwcm9wcyI6IHsic2l6ZSI6IDE3LjYzNjM2MzYzNjM2MzYzN319Cg==');</script>\n",
       "    "
      ],
      "text/plain": [
       "<IPython.core.display.HTML object>"
      ]
     },
     "metadata": {},
     "output_type": "display_data"
    },
    {
     "data": {
      "text/html": [
       "\n",
       "        <div id=\"EE8TiyENH9hxg29WrvP4JT\"></div>\n",
       "        <script>netpixi.call('EE8TiyENH9hxg29WrvP4JT', 'G27xYFVvssHJAhWvEkQqxv', 'changeGraph', 'eyJpZCI6ICJ2aWV0bmFtIiwgInR5cGUiOiAidmVydGV4IiwgInByb3BzIjogeyJzaXplIjogMTIuMDkwOTA5MDkwOTA5MDl9fQo=');</script>\n",
       "    "
      ],
      "text/plain": [
       "<IPython.core.display.HTML object>"
      ]
     },
     "metadata": {},
     "output_type": "display_data"
    },
    {
     "data": {
      "text/html": [
       "\n",
       "        <div id=\"UNRGLRG998fidgqTgcifo8\"></div>\n",
       "        <script>netpixi.call('UNRGLRG998fidgqTgcifo8', 'G27xYFVvssHJAhWvEkQqxv', 'changeGraph', 'eyJpZCI6ICJjb3N0YXJpY2EiLCAidHlwZSI6ICJ2ZXJ0ZXgiLCAicHJvcHMiOiB7InNpemUiOiAxNi4xODE4MTgxODE4MTgxOH19Cg==');</script>\n",
       "    "
      ],
      "text/plain": [
       "<IPython.core.display.HTML object>"
      ]
     },
     "metadata": {},
     "output_type": "display_data"
    },
    {
     "data": {
      "text/html": [
       "\n",
       "        <div id=\"QbU4Z95FBNzkDmUPf49Tr2\"></div>\n",
       "        <script>netpixi.call('QbU4Z95FBNzkDmUPf49Tr2', 'G27xYFVvssHJAhWvEkQqxv', 'changeGraph', 'eyJpZCI6ICJhbGJhbmlhIiwgInR5cGUiOiAidmVydGV4IiwgInByb3BzIjogeyJzaXplIjogMTcuMDkwOTA5MDkwOTA5MDl9fQo=');</script>\n",
       "    "
      ],
      "text/plain": [
       "<IPython.core.display.HTML object>"
      ]
     },
     "metadata": {},
     "output_type": "display_data"
    },
    {
     "data": {
      "text/html": [
       "\n",
       "        <div id=\"9S482N2mPGpTuJjv3iP6ot\"></div>\n",
       "        <script>netpixi.call('9S482N2mPGpTuJjv3iP6ot', 'G27xYFVvssHJAhWvEkQqxv', 'changeGraph', 'eyJpZCI6ICJuZXRoZXJsYW5kcyIsICJ0eXBlIjogInZlcnRleCIsICJwcm9wcyI6IHsic2l6ZSI6IDQ2LjQyODU3MTQyODU3MTQzfX0K');</script>\n",
       "    "
      ],
      "text/plain": [
       "<IPython.core.display.HTML object>"
      ]
     },
     "metadata": {},
     "output_type": "display_data"
    },
    {
     "data": {
      "text/html": [
       "\n",
       "        <div id=\"YRThFPfxfp45ZML3ix4RxS\"></div>\n",
       "        <script>netpixi.call('YRThFPfxfp45ZML3ix4RxS', 'G27xYFVvssHJAhWvEkQqxv', 'changeGraph', 'eyJpZCI6ICJreXJneXpzdGFuIiwgInR5cGUiOiAidmVydGV4IiwgInByb3BzIjogeyJzaXplIjogMTAuMDkwOTA5MDkwOTA5MDkyfX0K');</script>\n",
       "    "
      ],
      "text/plain": [
       "<IPython.core.display.HTML object>"
      ]
     },
     "metadata": {},
     "output_type": "display_data"
    },
    {
     "data": {
      "text/html": [
       "\n",
       "        <div id=\"QDJfZhNvJ9c5xbyGBEBaei\"></div>\n",
       "        <script>netpixi.call('QDJfZhNvJ9c5xbyGBEBaei', 'G27xYFVvssHJAhWvEkQqxv', 'changeGraph', 'eyJpZCI6ICJpdGFseSIsICJ0eXBlIjogInZlcnRleCIsICJwcm9wcyI6IHsic2l6ZSI6IDQxLjc4NTcxNDI4NTcxNDI4NX19Cg==');</script>\n",
       "    "
      ],
      "text/plain": [
       "<IPython.core.display.HTML object>"
      ]
     },
     "metadata": {},
     "output_type": "display_data"
    },
    {
     "data": {
      "text/html": [
       "\n",
       "        <div id=\"2WWNoQ57bfB6VwKHT2o4E3\"></div>\n",
       "        <script>netpixi.call('2WWNoQ57bfB6VwKHT2o4E3', 'G27xYFVvssHJAhWvEkQqxv', 'changeGraph', 'eyJpZCI6ICJpcmVsYW5kIiwgInR5cGUiOiAidmVydGV4IiwgInByb3BzIjogeyJzaXplIjogMTcuMjcyNzI3MjcyNzI3MjczfX0K');</script>\n",
       "    "
      ],
      "text/plain": [
       "<IPython.core.display.HTML object>"
      ]
     },
     "metadata": {},
     "output_type": "display_data"
    },
    {
     "data": {
      "text/html": [
       "\n",
       "        <div id=\"654T5Fp6QkGLkkpEVtytmX\"></div>\n",
       "        <script>netpixi.call('654T5Fp6QkGLkkpEVtytmX', 'G27xYFVvssHJAhWvEkQqxv', 'changeGraph', 'eyJpZCI6ICJiYW5nbGFkZXNoIiwgInR5cGUiOiAidmVydGV4IiwgInByb3BzIjogeyJzaXplIjogMTcuNTQ1NDU0NTQ1NDU0NTQ3fX0K');</script>\n",
       "    "
      ],
      "text/plain": [
       "<IPython.core.display.HTML object>"
      ]
     },
     "metadata": {},
     "output_type": "display_data"
    },
    {
     "data": {
      "text/html": [
       "\n",
       "        <div id=\"6Zv9TM6YvD47x5WzHnjc4B\"></div>\n",
       "        <script>netpixi.call('6Zv9TM6YvD47x5WzHnjc4B', 'G27xYFVvssHJAhWvEkQqxv', 'changeGraph', 'eyJpZCI6ICJzb2FmcmljYSIsICJ0eXBlIjogInZlcnRleCIsICJwcm9wcyI6IHsic2l6ZSI6IDQxLjQyODU3MTQyODU3MTQzfX0K');</script>\n",
       "    "
      ],
      "text/plain": [
       "<IPython.core.display.HTML object>"
      ]
     },
     "metadata": {},
     "output_type": "display_data"
    },
    {
     "data": {
      "text/html": [
       "\n",
       "        <div id=\"2uv7WSWxQRiMogWYBSTAmv\"></div>\n",
       "        <script>netpixi.call('2uv7WSWxQRiMogWYBSTAmv', 'G27xYFVvssHJAhWvEkQqxv', 'changeGraph', 'eyJpZCI6ICJkZW5tYXJrIiwgInR5cGUiOiAidmVydGV4IiwgInByb3BzIjogeyJzaXplIjogMTkuMzYzNjM2MzYzNjM2MzYzfX0K');</script>\n",
       "    "
      ],
      "text/plain": [
       "<IPython.core.display.HTML object>"
      ]
     },
     "metadata": {},
     "output_type": "display_data"
    },
    {
     "data": {
      "text/html": [
       "\n",
       "        <div id=\"LyFLvTCebe7xuM2PeV4xS7\"></div>\n",
       "        <script>netpixi.call('LyFLvTCebe7xuM2PeV4xS7', 'G27xYFVvssHJAhWvEkQqxv', 'changeGraph', 'eyJpZCI6ICJwb3J0dWdhbCIsICJ0eXBlIjogInZlcnRleCIsICJwcm9wcyI6IHsic2l6ZSI6IDQzLjIxNDI4NTcxNDI4NTcxNX19Cg==');</script>\n",
       "    "
      ],
      "text/plain": [
       "<IPython.core.display.HTML object>"
      ]
     },
     "metadata": {},
     "output_type": "display_data"
    },
    {
     "data": {
      "text/html": [
       "\n",
       "        <div id=\"P9BSfn9Bbkiwn7tsUsEijr\"></div>\n",
       "        <script>netpixi.call('P9BSfn9Bbkiwn7tsUsEijr', 'G27xYFVvssHJAhWvEkQqxv', 'changeGraph', 'eyJpZCI6ICJzb2tvcmVhIiwgInR5cGUiOiAidmVydGV4IiwgInByb3BzIjogeyJzaXplIjogNDUuNzE0Mjg1NzE0Mjg1NzF9fQo=');</script>\n",
       "    "
      ],
      "text/plain": [
       "<IPython.core.display.HTML object>"
      ]
     },
     "metadata": {},
     "output_type": "display_data"
    },
    {
     "data": {
      "text/html": [
       "\n",
       "        <div id=\"XaZkAnFRwZ9oNohtpQymsA\"></div>\n",
       "        <script>netpixi.call('XaZkAnFRwZ9oNohtpQymsA', 'G27xYFVvssHJAhWvEkQqxv', 'changeGraph', 'eyJpZCI6ICJuaWNhcmFndWEiLCAidHlwZSI6ICJ2ZXJ0ZXgiLCAicHJvcHMiOiB7InNpemUiOiAxOC44MTgxODE4MTgxODE4MTd9fQo=');</script>\n",
       "    "
      ],
      "text/plain": [
       "<IPython.core.display.HTML object>"
      ]
     },
     "metadata": {},
     "output_type": "display_data"
    },
    {
     "data": {
      "text/html": [
       "\n",
       "        <div id=\"ZbYu3CZhLBUNi45cya7Ni7\"></div>\n",
       "        <script>netpixi.call('ZbYu3CZhLBUNi45cya7Ni7', 'G27xYFVvssHJAhWvEkQqxv', 'changeGraph', 'eyJpZCI6ICJlY3VhZG9yIiwgInR5cGUiOiAidmVydGV4IiwgInByb3BzIjogeyJzaXplIjogMTYuMjcyNzI3MjcyNzI3MjczfX0K');</script>\n",
       "    "
      ],
      "text/plain": [
       "<IPython.core.display.HTML object>"
      ]
     },
     "metadata": {},
     "output_type": "display_data"
    },
    {
     "data": {
      "text/html": [
       "\n",
       "        <div id=\"KPT3jvNBZDw2unsnPNdzcE\"></div>\n",
       "        <script>netpixi.call('KPT3jvNBZDw2unsnPNdzcE', 'G27xYFVvssHJAhWvEkQqxv', 'changeGraph', 'eyJpZCI6ICJwYW5hbWEiLCAidHlwZSI6ICJ2ZXJ0ZXgiLCAicHJvcHMiOiB7InNpemUiOiAxNS44MTgxODE4MTgxODE4MTh9fQo=');</script>\n",
       "    "
      ],
      "text/plain": [
       "<IPython.core.display.HTML object>"
      ]
     },
     "metadata": {},
     "output_type": "display_data"
    },
    {
     "data": {
      "text/html": [
       "\n",
       "        <div id=\"o5yRQzJ2vtRcbbCD6YbctU\"></div>\n",
       "        <script>netpixi.call('o5yRQzJ2vtRcbbCD6YbctU', 'G27xYFVvssHJAhWvEkQqxv', 'changeGraph', 'eyJpZCI6ICJsaXRodWFuaWEiLCAidHlwZSI6ICJ2ZXJ0ZXgiLCAicHJvcHMiOiB7InNpemUiOiAxNC40NTQ1NDU0NTQ1NDU0NTN9fQo=');</script>\n",
       "    "
      ],
      "text/plain": [
       "<IPython.core.display.HTML object>"
      ]
     },
     "metadata": {},
     "output_type": "display_data"
    },
    {
     "data": {
      "text/html": [
       "\n",
       "        <div id=\"bJJzR4X33cKmeg8LNTBt6k\"></div>\n",
       "        <script>netpixi.call('bJJzR4X33cKmeg8LNTBt6k', 'G27xYFVvssHJAhWvEkQqxv', 'changeGraph', 'eyJpZCI6ICJrZW55YSIsICJ0eXBlIjogInZlcnRleCIsICJwcm9wcyI6IHsic2l6ZSI6IDQ3LjE0Mjg1NzE0Mjg1NzE0Nn19Cg==');</script>\n",
       "    "
      ],
      "text/plain": [
       "<IPython.core.display.HTML object>"
      ]
     },
     "metadata": {},
     "output_type": "display_data"
    },
    {
     "data": {
      "text/html": [
       "\n",
       "        <div id=\"eBYpcyvVZR8amCHYiWMXYJ\"></div>\n",
       "        <script>netpixi.call('eBYpcyvVZR8amCHYiWMXYJ', 'G27xYFVvssHJAhWvEkQqxv', 'changeGraph', 'eyJpZCI6ICJqb3JkYW4iLCAidHlwZSI6ICJ2ZXJ0ZXgiLCAicHJvcHMiOiB7InNpemUiOiAxNS45MDkwOTA5MDkwOTA5MDh9fQo=');</script>\n",
       "    "
      ],
      "text/plain": [
       "<IPython.core.display.HTML object>"
      ]
     },
     "metadata": {},
     "output_type": "display_data"
    },
    {
     "data": {
      "text/html": [
       "\n",
       "        <div id=\"oAVpqEujKYgARXmXcBkkpj\"></div>\n",
       "        <script>netpixi.call('oAVpqEujKYgARXmXcBkkpj', 'G27xYFVvssHJAhWvEkQqxv', 'changeGraph', 'eyJpZCI6ICJjcm9hdGlhIiwgInR5cGUiOiAidmVydGV4IiwgInByb3BzIjogeyJzaXplIjogMTkuMDkwOTA5MDkwOTA5MDl9fQo=');</script>\n",
       "    "
      ],
      "text/plain": [
       "<IPython.core.display.HTML object>"
      ]
     },
     "metadata": {},
     "output_type": "display_data"
    },
    {
     "data": {
      "text/html": [
       "\n",
       "        <div id=\"Uc34JoSdfi29SoLMgizruF\"></div>\n",
       "        <script>netpixi.call('Uc34JoSdfi29SoLMgizruF', 'G27xYFVvssHJAhWvEkQqxv', 'changeGraph', 'eyJpZCI6ICJndWluZWEiLCAidHlwZSI6ICJ2ZXJ0ZXgiLCAicHJvcHMiOiB7InNpemUiOiAxOS44MTgxODE4MTgxODE4Mn19Cg==');</script>\n",
       "    "
      ],
      "text/plain": [
       "<IPython.core.display.HTML object>"
      ]
     },
     "metadata": {},
     "output_type": "display_data"
    },
    {
     "data": {
      "text/html": [
       "\n",
       "        <div id=\"Bdy6ToahMzxS4RBjP68mgq\"></div>\n",
       "        <script>netpixi.call('Bdy6ToahMzxS4RBjP68mgq', 'G27xYFVvssHJAhWvEkQqxv', 'changeGraph', 'eyJpZCI6ICJtYWx0YSIsICJ0eXBlIjogInZlcnRleCIsICJwcm9wcyI6IHsic2l6ZSI6IDE2LjgxODE4MTgxODE4MTgxN319Cg==');</script>\n",
       "    "
      ],
      "text/plain": [
       "<IPython.core.display.HTML object>"
      ]
     },
     "metadata": {},
     "output_type": "display_data"
    },
    {
     "data": {
      "text/html": [
       "\n",
       "        <div id=\"ZHg86BsEckRPCSza6Qe6o3\"></div>\n",
       "        <script>netpixi.call('ZHg86BsEckRPCSza6Qe6o3', 'G27xYFVvssHJAhWvEkQqxv', 'changeGraph', 'eyJpZCI6ICJhcmdlbnRpbmEiLCAidHlwZSI6ICJ2ZXJ0ZXgiLCAicHJvcHMiOiB7InNpemUiOiAxOS43MjcyNzI3MjcyNzI3Mjd9fQo=');</script>\n",
       "    "
      ],
      "text/plain": [
       "<IPython.core.display.HTML object>"
      ]
     },
     "metadata": {},
     "output_type": "display_data"
    },
    {
     "data": {
      "text/html": [
       "\n",
       "        <div id=\"3Em3t4WSRaTjLmQm6hWW2R\"></div>\n",
       "        <script>netpixi.call('3Em3t4WSRaTjLmQm6hWW2R', 'G27xYFVvssHJAhWvEkQqxv', 'changeGraph', 'eyJpZCI6ICJtb2xkb3ZhIiwgInR5cGUiOiAidmVydGV4IiwgInByb3BzIjogeyJzaXplIjogMTEuNzI3MjcyNzI3MjcyNzI3fX0K');</script>\n",
       "    "
      ],
      "text/plain": [
       "<IPython.core.display.HTML object>"
      ]
     },
     "metadata": {},
     "output_type": "display_data"
    },
    {
     "data": {
      "text/html": [
       "\n",
       "        <div id=\"kNdBEKM5sBofKbTvzTc2m4\"></div>\n",
       "        <script>netpixi.call('kNdBEKM5sBofKbTvzTc2m4', 'G27xYFVvssHJAhWvEkQqxv', 'changeGraph', 'eyJpZCI6ICJjYW5hZGEiLCAidHlwZSI6ICJ2ZXJ0ZXgiLCAicHJvcHMiOiB7InNpemUiOiAxNy4wfX0K');</script>\n",
       "    "
      ],
      "text/plain": [
       "<IPython.core.display.HTML object>"
      ]
     },
     "metadata": {},
     "output_type": "display_data"
    },
    {
     "data": {
      "text/html": [
       "\n",
       "        <div id=\"Dpd6nLBddApLDpVb7EorED\"></div>\n",
       "        <script>netpixi.call('Dpd6nLBddApLDpVb7EorED', 'G27xYFVvssHJAhWvEkQqxv', 'changeGraph', 'eyJpZCI6ICJsdXhlbWJvdXJnIiwgInR5cGUiOiAidmVydGV4IiwgInByb3BzIjogeyJzaXplIjogMTYuNzI3MjcyNzI3MjcyNzI3fX0K');</script>\n",
       "    "
      ],
      "text/plain": [
       "<IPython.core.display.HTML object>"
      ]
     },
     "metadata": {},
     "output_type": "display_data"
    },
    {
     "data": {
      "text/html": [
       "\n",
       "        <div id=\"B7N5WHCU9jgySqixvLRrUB\"></div>\n",
       "        <script>netpixi.call('B7N5WHCU9jgySqixvLRrUB', 'G27xYFVvssHJAhWvEkQqxv', 'changeGraph', 'eyJpZCI6ICJmaW5sYW5kIiwgInR5cGUiOiAidmVydGV4IiwgInByb3BzIjogeyJzaXplIjogNDQuNjQyODU3MTQyODU3MTQ2fX0K');</script>\n",
       "    "
      ],
      "text/plain": [
       "<IPython.core.display.HTML object>"
      ]
     },
     "metadata": {},
     "output_type": "display_data"
    },
    {
     "data": {
      "text/html": [
       "\n",
       "        <div id=\"SfLMPWbffQChpMxKgXNAFD\"></div>\n",
       "        <script>netpixi.call('SfLMPWbffQChpMxKgXNAFD', 'G27xYFVvssHJAhWvEkQqxv', 'changeGraph', 'eyJpZCI6ICJzZW5lZ2FsIiwgInR5cGUiOiAidmVydGV4IiwgInByb3BzIjogeyJzaXplIjogNDYuNzg1NzE0Mjg1NzE0Mjl9fQo=');</script>\n",
       "    "
      ],
      "text/plain": [
       "<IPython.core.display.HTML object>"
      ]
     },
     "metadata": {},
     "output_type": "display_data"
    },
    {
     "data": {
      "text/html": [
       "\n",
       "        <div id=\"5g6GoPyMY6ArLZsZfubqn8\"></div>\n",
       "        <script>netpixi.call('5g6GoPyMY6ArLZsZfubqn8', 'G27xYFVvssHJAhWvEkQqxv', 'changeGraph', 'eyJpZCI6ICJsYXR2aWEiLCAidHlwZSI6ICJ2ZXJ0ZXgiLCAicHJvcHMiOiB7InNpemUiOiAxMi4xODE4MTgxODE4MTgxODJ9fQo=');</script>\n",
       "    "
      ],
      "text/plain": [
       "<IPython.core.display.HTML object>"
      ]
     },
     "metadata": {},
     "output_type": "display_data"
    },
    {
     "data": {
      "text/html": [
       "\n",
       "        <div id=\"GQZHsBqSWfJHeqZJ9gjdhM\"></div>\n",
       "        <script>netpixi.call('GQZHsBqSWfJHeqZJ9gjdhM', 'G27xYFVvssHJAhWvEkQqxv', 'changeGraph', 'eyJpZCI6ICJiZW5pbiIsICJ0eXBlIjogInZlcnRleCIsICJwcm9wcyI6IHsic2l6ZSI6IDE4LjM2MzYzNjM2MzYzNjM2M319Cg==');</script>\n",
       "    "
      ],
      "text/plain": [
       "<IPython.core.display.HTML object>"
      ]
     },
     "metadata": {},
     "output_type": "display_data"
    },
    {
     "data": {
      "text/html": [
       "\n",
       "        <div id=\"iKJPaW9nPCfM4EA4no6tgd\"></div>\n",
       "        <script>netpixi.call('iKJPaW9nPCfM4EA4no6tgd', 'G27xYFVvssHJAhWvEkQqxv', 'changeGraph', 'eyJpZCI6ICJtZXhpY28iLCAidHlwZSI6ICJ2ZXJ0ZXgiLCAicHJvcHMiOiB7InNpemUiOiAxNy44MTgxODE4MTgxODE4MTd9fQo=');</script>\n",
       "    "
      ],
      "text/plain": [
       "<IPython.core.display.HTML object>"
      ]
     },
     "metadata": {},
     "output_type": "display_data"
    },
    {
     "data": {
      "text/html": [
       "\n",
       "        <div id=\"oMaQ7UNerr5A8y29HjF5vz\"></div>\n",
       "        <script>netpixi.call('oMaQ7UNerr5A8y29HjF5vz', 'G27xYFVvssHJAhWvEkQqxv', 'changeGraph', 'eyJpZCI6ICJmcmFuY2UiLCAidHlwZSI6ICJ2ZXJ0ZXgiLCAicHJvcHMiOiB7InNpemUiOiA0OC45Mjg1NzE0Mjg1NzE0M319Cg==');</script>\n",
       "    "
      ],
      "text/plain": [
       "<IPython.core.display.HTML object>"
      ]
     },
     "metadata": {},
     "output_type": "display_data"
    },
    {
     "data": {
      "text/html": [
       "\n",
       "        <div id=\"LMgukB3z2cYcgrzxCkrEJE\"></div>\n",
       "        <script>netpixi.call('LMgukB3z2cYcgrzxCkrEJE', 'G27xYFVvssHJAhWvEkQqxv', 'changeGraph', 'eyJpZCI6ICJtYXVyaXRpdXMiLCAidHlwZSI6ICJ2ZXJ0ZXgiLCAicHJvcHMiOiB7InNpemUiOiA0OS4yODU3MTQyODU3MTQyOX19Cg==');</script>\n",
       "    "
      ],
      "text/plain": [
       "<IPython.core.display.HTML object>"
      ]
     },
     "metadata": {},
     "output_type": "display_data"
    },
    {
     "data": {
      "text/html": [
       "\n",
       "        <div id=\"7wctoWtnQmrmvAjmZxa4bd\"></div>\n",
       "        <script>netpixi.call('7wctoWtnQmrmvAjmZxa4bd', 'G27xYFVvssHJAhWvEkQqxv', 'changeGraph', 'eyJpZCI6ICJwYWtpc3RhbiIsICJ0eXBlIjogInZlcnRleCIsICJwcm9wcyI6IHsic2l6ZSI6IDQyLjV9fQo=');</script>\n",
       "    "
      ],
      "text/plain": [
       "<IPython.core.display.HTML object>"
      ]
     },
     "metadata": {},
     "output_type": "display_data"
    },
    {
     "data": {
      "text/html": [
       "\n",
       "        <div id=\"bEhTJkiXeLGeK6YaVpUQW8\"></div>\n",
       "        <script>netpixi.call('bEhTJkiXeLGeK6YaVpUQW8', 'G27xYFVvssHJAhWvEkQqxv', 'changeGraph', 'eyJpZCI6ICJjaGluYSIsICJ0eXBlIjogInZlcnRleCIsICJwcm9wcyI6IHsic2l6ZSI6IDQ0LjI4NTcxNDI4NTcxNDI4NX19Cg==');</script>\n",
       "    "
      ],
      "text/plain": [
       "<IPython.core.display.HTML object>"
      ]
     },
     "metadata": {},
     "output_type": "display_data"
    },
    {
     "data": {
      "text/html": [
       "\n",
       "        <div id=\"KWyeuGnrgVv6ogyaPK5njb\"></div>\n",
       "        <script>netpixi.call('KWyeuGnrgVv6ogyaPK5njb', 'G27xYFVvssHJAhWvEkQqxv', 'changeGraph', 'eyJpZCI6ICJtYWRhZ2FzY2FyIiwgInR5cGUiOiAidmVydGV4IiwgInByb3BzIjogeyJzaXplIjogMTkuMjcyNzI3MjcyNzI3MjczfX0K');</script>\n",
       "    "
      ],
      "text/plain": [
       "<IPython.core.display.HTML object>"
      ]
     },
     "metadata": {},
     "output_type": "display_data"
    },
    {
     "data": {
      "text/html": [
       "\n",
       "        <div id=\"F6qvNaTyJneHtrmuJYy6Cu\"></div>\n",
       "        <script>netpixi.call('F6qvNaTyJneHtrmuJYy6Cu', 'G27xYFVvssHJAhWvEkQqxv', 'changeGraph', 'eyJpZCI6ICJpcmFuIiwgInR5cGUiOiAidmVydGV4IiwgInByb3BzIjogeyJzaXplIjogMTIuNTQ1NDU0NTQ1NDU0NTQ1fX0K');</script>\n",
       "    "
      ],
      "text/plain": [
       "<IPython.core.display.HTML object>"
      ]
     },
     "metadata": {},
     "output_type": "display_data"
    },
    {
     "data": {
      "text/html": [
       "\n",
       "        <div id=\"45kUGtUzQqEuEXACQ3gGSh\"></div>\n",
       "        <script>netpixi.call('45kUGtUzQqEuEXACQ3gGSh', 'G27xYFVvssHJAhWvEkQqxv', 'changeGraph', 'eyJpZCI6ICJncmVlY2UiLCAidHlwZSI6ICJ2ZXJ0ZXgiLCAicHJvcHMiOiB7InNpemUiOiAxOC45MDkwOTA5MDkwOTA5MDd9fQo=');</script>\n",
       "    "
      ],
      "text/plain": [
       "<IPython.core.display.HTML object>"
      ]
     },
     "metadata": {},
     "output_type": "display_data"
    },
    {
     "data": {
      "text/html": [
       "\n",
       "        <div id=\"5zr3pevaeJ35juucUtPCRS\"></div>\n",
       "        <script>netpixi.call('5zr3pevaeJ35juucUtPCRS', 'G27xYFVvssHJAhWvEkQqxv', 'changeGraph', 'eyJpZCI6ICJpc3JhZWwiLCAidHlwZSI6ICJ2ZXJ0ZXgiLCAicHJvcHMiOiB7InNpemUiOiAxOC4wOTA5MDkwOTA5MDkwOX19Cg==');</script>\n",
       "    "
      ],
      "text/plain": [
       "<IPython.core.display.HTML object>"
      ]
     },
     "metadata": {},
     "output_type": "display_data"
    },
    {
     "data": {
      "text/html": [
       "\n",
       "        <div id=\"ZegJJKVu65xeJYrFYLTxpz\"></div>\n",
       "        <script>netpixi.call('ZegJJKVu65xeJYrFYLTxpz', 'G27xYFVvssHJAhWvEkQqxv', 'changeGraph', 'eyJpZCI6ICJhbGdlcmlhIiwgInR5cGUiOiAidmVydGV4IiwgInByb3BzIjogeyJzaXplIjogNDcuNX19Cg==');</script>\n",
       "    "
      ],
      "text/plain": [
       "<IPython.core.display.HTML object>"
      ]
     },
     "metadata": {},
     "output_type": "display_data"
    },
    {
     "data": {
      "text/html": [
       "\n",
       "        <div id=\"XtGgQf6fR9d3rBJEr6TQgX\"></div>\n",
       "        <script>netpixi.call('XtGgQf6fR9d3rBJEr6TQgX', 'G27xYFVvssHJAhWvEkQqxv', 'changeGraph', 'eyJpZCI6ICJhemVyYmFpamFuIiwgInR5cGUiOiAidmVydGV4IiwgInByb3BzIjogeyJzaXplIjogMTIuNDU0NTQ1NDU0NTQ1NDU1fX0K');</script>\n",
       "    "
      ],
      "text/plain": [
       "<IPython.core.display.HTML object>"
      ]
     },
     "metadata": {},
     "output_type": "display_data"
    },
    {
     "data": {
      "text/html": [
       "\n",
       "        <div id=\"6BzBAjgT62MCRedH82JCZs\"></div>\n",
       "        <script>netpixi.call('6BzBAjgT62MCRedH82JCZs', 'G27xYFVvssHJAhWvEkQqxv', 'changeGraph', 'eyJpZCI6ICJjaGlsZSIsICJ0eXBlIjogInZlcnRleCIsICJwcm9wcyI6IHsic2l6ZSI6IDE5LjkwOTA5MDkwOTA5MDkwN319Cg==');</script>\n",
       "    "
      ],
      "text/plain": [
       "<IPython.core.display.HTML object>"
      ]
     },
     "metadata": {},
     "output_type": "display_data"
    },
    {
     "data": {
      "text/html": [
       "\n",
       "        <div id=\"dbuoQEUUUrMSnTRngnR4Yd\"></div>\n",
       "        <script>netpixi.call('dbuoQEUUUrMSnTRngnR4Yd', 'G27xYFVvssHJAhWvEkQqxv', 'changeGraph', 'eyJpZCI6ICJzbG92ZW5pYSIsICJ0eXBlIjogInZlcnRleCIsICJwcm9wcyI6IHsic2l6ZSI6IDE2LjU0NTQ1NDU0NTQ1NDU0N319Cg==');</script>\n",
       "    "
      ],
      "text/plain": [
       "<IPython.core.display.HTML object>"
      ]
     },
     "metadata": {},
     "output_type": "display_data"
    },
    {
     "data": {
      "text/html": [
       "\n",
       "        <div id=\"32add5mHUasf4w2x3mVDCS\"></div>\n",
       "        <script>netpixi.call('32add5mHUasf4w2x3mVDCS', 'G27xYFVvssHJAhWvEkQqxv', 'changeGraph', 'eyJpZCI6ICJpdm9yeWNvYXN0IiwgInR5cGUiOiAidmVydGV4IiwgInByb3BzIjogeyJzaXplIjogNDcuODU3MTQyODU3MTQyODU0fX0K');</script>\n",
       "    "
      ],
      "text/plain": [
       "<IPython.core.display.HTML object>"
      ]
     },
     "metadata": {},
     "output_type": "display_data"
    },
    {
     "data": {
      "text/html": [
       "\n",
       "        <div id=\"MfJRqusW2ThCpyaQuTEJEA\"></div>\n",
       "        <script>netpixi.call('MfJRqusW2ThCpyaQuTEJEA', 'G27xYFVvssHJAhWvEkQqxv', 'changeGraph', 'eyJpZCI6ICJpbmRvbmVzaWEiLCAidHlwZSI6ICJ2ZXJ0ZXgiLCAicHJvcHMiOiB7InNpemUiOiAxNi45MDkwOTA5MDkwOTA5MX19Cg==');</script>\n",
       "    "
      ],
      "text/plain": [
       "<IPython.core.display.HTML object>"
      ]
     },
     "metadata": {},
     "output_type": "display_data"
    },
    {
     "data": {
      "text/html": [
       "\n",
       "        <div id=\"cB2hQmDAhUrBVFUUU5cxRQ\"></div>\n",
       "        <script>netpixi.call('cB2hQmDAhUrBVFUUU5cxRQ', 'G27xYFVvssHJAhWvEkQqxv', 'changeGraph', 'eyJpZCI6ICJuZXd6ZWFsYW5kIiwgInR5cGUiOiAidmVydGV4IiwgInByb3BzIjogeyJzaXplIjogMTUuNzI3MjcyNzI3MjcyNzI3fX0K');</script>\n",
       "    "
      ],
      "text/plain": [
       "<IPython.core.display.HTML object>"
      ]
     },
     "metadata": {},
     "output_type": "display_data"
    },
    {
     "data": {
      "text/html": [
       "\n",
       "        <div id=\"g78i6swszg7rbeN45agjba\"></div>\n",
       "        <script>netpixi.call('g78i6swszg7rbeN45agjba', 'G27xYFVvssHJAhWvEkQqxv', 'changeGraph', 'eyJpZCI6ICJ0aGFpbGFuZCIsICJ0eXBlIjogInZlcnRleCIsICJwcm9wcyI6IHsic2l6ZSI6IDE5LjQ1NDU0NTQ1NDU0NTQ1M319Cg==');</script>\n",
       "    "
      ],
      "text/plain": [
       "<IPython.core.display.HTML object>"
      ]
     },
     "metadata": {},
     "output_type": "display_data"
    },
    {
     "data": {
      "text/html": [
       "\n",
       "        <div id=\"i29xnvGg7tTfsxRQNuBXdL\"></div>\n",
       "        <script>netpixi.call('i29xnvGg7tTfsxRQNuBXdL', 'G27xYFVvssHJAhWvEkQqxv', 'changeGraph', 'eyJpZCI6ICJjeXBydXMiLCAidHlwZSI6ICJ2ZXJ0ZXgiLCAicHJvcHMiOiB7InNpemUiOiAxNi4wfX0K');</script>\n",
       "    "
      ],
      "text/plain": [
       "<IPython.core.display.HTML object>"
      ]
     },
     "metadata": {},
     "output_type": "display_data"
    },
    {
     "data": {
      "text/html": [
       "\n",
       "        <div id=\"ZgQJtq2SKZLeLZTaox9g28\"></div>\n",
       "        <script>netpixi.call('ZgQJtq2SKZLeLZTaox9g28', 'G27xYFVvssHJAhWvEkQqxv', 'changeGraph', 'eyJpZCI6ICJzdWRhbiIsICJ0eXBlIjogInZlcnRleCIsICJwcm9wcyI6IHsic2l6ZSI6IDE0LjE4MTgxODE4MTgxODE4Mn19Cg==');</script>\n",
       "    "
      ],
      "text/plain": [
       "<IPython.core.display.HTML object>"
      ]
     },
     "metadata": {},
     "output_type": "display_data"
    },
    {
     "data": {
      "text/html": [
       "\n",
       "        <div id=\"fDjBC9EdsbRMbfUKK4sgqS\"></div>\n",
       "        <script>netpixi.call('fDjBC9EdsbRMbfUKK4sgqS', 'G27xYFVvssHJAhWvEkQqxv', 'changeGraph', 'eyJpZCI6ICJrYXpha2hzdGFuIiwgInR5cGUiOiAidmVydGV4IiwgInByb3BzIjogeyJzaXplIjogMTEuMTgxODE4MTgxODE4MTgyfX0K');</script>\n",
       "    "
      ],
      "text/plain": [
       "<IPython.core.display.HTML object>"
      ]
     },
     "metadata": {},
     "output_type": "display_data"
    },
    {
     "data": {
      "text/html": [
       "\n",
       "        <div id=\"FdSy9kWd87puDXTxhYTCjb\"></div>\n",
       "        <script>netpixi.call('FdSy9kWd87puDXTxhYTCjb', 'G27xYFVvssHJAhWvEkQqxv', 'changeGraph', 'eyJpZCI6ICJtYWxheXNpYSIsICJ0eXBlIjogInZlcnRleCIsICJwcm9wcyI6IHsic2l6ZSI6IDQyLjg1NzE0Mjg1NzE0Mjg1NH19Cg==');</script>\n",
       "    "
      ],
      "text/plain": [
       "<IPython.core.display.HTML object>"
      ]
     },
     "metadata": {},
     "output_type": "display_data"
    },
    {
     "data": {
      "text/html": [
       "\n",
       "        <div id=\"j4pj28XrJFfSJo9uHyC2AV\"></div>\n",
       "        <script>netpixi.call('j4pj28XrJFfSJo9uHyC2AV', 'G27xYFVvssHJAhWvEkQqxv', 'changeGraph', 'eyJpZCI6ICJqYXBhbiIsICJ0eXBlIjogInZlcnRleCIsICJwcm9wcyI6IHsic2l6ZSI6IDE4LjQ1NDU0NTQ1NDU0NTQ1M319Cg==');</script>\n",
       "    "
      ],
      "text/plain": [
       "<IPython.core.display.HTML object>"
      ]
     },
     "metadata": {},
     "output_type": "display_data"
    },
    {
     "data": {
      "text/html": [
       "\n",
       "        <div id=\"mxCWaupLnLgLHwuXvfotao\"></div>\n",
       "        <script>netpixi.call('mxCWaupLnLgLHwuXvfotao', 'G27xYFVvssHJAhWvEkQqxv', 'changeGraph', 'eyJpZCI6ICJwb2xhbmQiLCAidHlwZSI6ICJ2ZXJ0ZXgiLCAicHJvcHMiOiB7InNpemUiOiAxOC4yNzI3MjcyNzI3MjcyNzN9fQo=');</script>\n",
       "    "
      ],
      "text/plain": [
       "<IPython.core.display.HTML object>"
      ]
     },
     "metadata": {},
     "output_type": "display_data"
    },
    {
     "data": {
      "text/html": [
       "\n",
       "        <div id=\"29gWvRXEQAD5Em4VHPDpXw\"></div>\n",
       "        <script>netpixi.call('29gWvRXEQAD5Em4VHPDpXw', 'G27xYFVvssHJAhWvEkQqxv', 'changeGraph', 'eyJpZCI6ICJzd2VkZW4iLCAidHlwZSI6ICJ2ZXJ0ZXgiLCAicHJvcHMiOiB7InNpemUiOiA0MC4zNTcxNDI4NTcxNDI4NTR9fQo=');</script>\n",
       "    "
      ],
      "text/plain": [
       "<IPython.core.display.HTML object>"
      ]
     },
     "metadata": {},
     "output_type": "display_data"
    },
    {
     "data": {
      "text/html": [
       "\n",
       "        <div id=\"iWWxQ7qEf7byKWw2J9i5s6\"></div>\n",
       "        <script>netpixi.call('iWWxQ7qEf7byKWw2J9i5s6', 'G27xYFVvssHJAhWvEkQqxv', 'changeGraph', 'eyJpZCI6ICJpbmRpYSIsICJ0eXBlIjogInZlcnRleCIsICJwcm9wcyI6IHsic2l6ZSI6IDQyLjE0Mjg1NzE0Mjg1NzE0Nn19Cg==');</script>\n",
       "    "
      ],
      "text/plain": [
       "<IPython.core.display.HTML object>"
      ]
     },
     "metadata": {},
     "output_type": "display_data"
    },
    {
     "data": {
      "text/html": [
       "\n",
       "        <div id=\"NkEr7rTFTnQh6U7HsrrLrf\"></div>\n",
       "        <script>netpixi.call('NkEr7rTFTnQh6U7HsrrLrf', 'G27xYFVvssHJAhWvEkQqxv', 'changeGraph', 'eyJpZCI6ICJhdXN0cmlhIiwgInR5cGUiOiAidmVydGV4IiwgInByb3BzIjogeyJzaXplIjogMjAuMH19Cg==');</script>\n",
       "    "
      ],
      "text/plain": [
       "<IPython.core.display.HTML object>"
      ]
     },
     "metadata": {},
     "output_type": "display_data"
    },
    {
     "data": {
      "text/html": [
       "\n",
       "        <div id=\"AM83Mz7Hf64mbuGmcc3v94\"></div>\n",
       "        <script>netpixi.call('AM83Mz7Hf64mbuGmcc3v94', 'G27xYFVvssHJAhWvEkQqxv', 'changeGraph', 'eyJpZCI6ICJodW5nYXJ5IiwgInR5cGUiOiAidmVydGV4IiwgInByb3BzIjogeyJzaXplIjogMTUuMDkwOTA5MDkwOTA5MDl9fQo=');</script>\n",
       "    "
      ],
      "text/plain": [
       "<IPython.core.display.HTML object>"
      ]
     },
     "metadata": {},
     "output_type": "display_data"
    },
    {
     "data": {
      "text/html": [
       "\n",
       "        <div id=\"myap3ToN87vNK6nDyW6DL2\"></div>\n",
       "        <script>netpixi.call('myap3ToN87vNK6nDyW6DL2', 'G27xYFVvssHJAhWvEkQqxv', 'changeGraph', 'eyJpZCI6ICJnaGFuYSIsICJ0eXBlIjogInZlcnRleCIsICJwcm9wcyI6IHsic2l6ZSI6IDE3LjE4MTgxODE4MTgxODE4fX0K');</script>\n",
       "    "
      ],
      "text/plain": [
       "<IPython.core.display.HTML object>"
      ]
     },
     "metadata": {},
     "output_type": "display_data"
    },
    {
     "data": {
      "text/html": [
       "\n",
       "        <div id=\"BiXCY4LwzE9L5vVgbHCJRv\"></div>\n",
       "        <script>netpixi.call('BiXCY4LwzE9L5vVgbHCJRv', 'G27xYFVvssHJAhWvEkQqxv', 'changeGraph', 'eyJpZCI6ICJzcGFpbiIsICJ0eXBlIjogInZlcnRleCIsICJwcm9wcyI6IHsic2l6ZSI6IDQ2LjA3MTQyODU3MTQyODU3fX0K');</script>\n",
       "    "
      ],
      "text/plain": [
       "<IPython.core.display.HTML object>"
      ]
     },
     "metadata": {},
     "output_type": "display_data"
    },
    {
     "data": {
      "text/html": [
       "\n",
       "        <div id=\"HGRT4NjjarcixbGzyqunwB\"></div>\n",
       "        <script>netpixi.call('HGRT4NjjarcixbGzyqunwB', 'G27xYFVvssHJAhWvEkQqxv', 'changeGraph', 'eyJpZCI6ICJlZ3lwdCIsICJ0eXBlIjogInZlcnRleCIsICJwcm9wcyI6IHsic2l6ZSI6IDQzLjkyODU3MTQyODU3MTQzfX0K');</script>\n",
       "    "
      ],
      "text/plain": [
       "<IPython.core.display.HTML object>"
      ]
     },
     "metadata": {},
     "output_type": "display_data"
    },
    {
     "data": {
      "text/html": [
       "\n",
       "        <div id=\"CjfLVHYbKNcngw7RZCXXKE\"></div>\n",
       "        <script>netpixi.call('CjfLVHYbKNcngw7RZCXXKE', 'G27xYFVvssHJAhWvEkQqxv', 'changeGraph', 'eyJpZCI6ICJhdXN0cmFsaWEiLCAidHlwZSI6ICJ2ZXJ0ZXgiLCAicHJvcHMiOiB7InNpemUiOiAxNy45MDkwOTA5MDkwOTA5MX19Cg==');</script>\n",
       "    "
      ],
      "text/plain": [
       "<IPython.core.display.HTML object>"
      ]
     },
     "metadata": {},
     "output_type": "display_data"
    },
    {
     "data": {
      "text/html": [
       "\n",
       "        <div id=\"Mci59GREJUZxXLzgAdxmZG\"></div>\n",
       "        <script>netpixi.call('Mci59GREJUZxXLzgAdxmZG', 'G27xYFVvssHJAhWvEkQqxv', 'changeGraph', 'eyJpZCI6ICJidWxnYXJpYSIsICJ0eXBlIjogInZlcnRleCIsICJwcm9wcyI6IHsic2l6ZSI6IDE4LjU0NTQ1NDU0NTQ1NDU0N319Cg==');</script>\n",
       "    "
      ],
      "text/plain": [
       "<IPython.core.display.HTML object>"
      ]
     },
     "metadata": {},
     "output_type": "display_data"
    },
    {
     "data": {
      "text/html": [
       "\n",
       "        <div id=\"EBkWZaMuRPZpQpkH4Xvrdn\"></div>\n",
       "        <script>netpixi.call('EBkWZaMuRPZpQpkH4Xvrdn', 'G27xYFVvssHJAhWvEkQqxv', 'changeGraph', 'eyJpZCI6ICJmeXJvbWFjZWRvbmlhIiwgInR5cGUiOiAidmVydGV4IiwgInByb3BzIjogeyJzaXplIjogMTEuNTQ1NDU0NTQ1NDU0NTQ1fX0K');</script>\n",
       "    "
      ],
      "text/plain": [
       "<IPython.core.display.HTML object>"
      ]
     },
     "metadata": {},
     "output_type": "display_data"
    },
    {
     "data": {
      "text/html": [
       "\n",
       "        <div id=\"fZG6Z6WLAUrTceqrXhyCTY\"></div>\n",
       "        <script>netpixi.call('fZG6Z6WLAUrTceqrXhyCTY', 'G27xYFVvssHJAhWvEkQqxv', 'changeGraph', 'eyJpZCI6ICJidXJraW5hZmFzbyIsICJ0eXBlIjogInZlcnRleCIsICJwcm9wcyI6IHsic2l6ZSI6IDE5LjE4MTgxODE4MTgxODE4fX0K');</script>\n",
       "    "
      ],
      "text/plain": [
       "<IPython.core.display.HTML object>"
      ]
     },
     "metadata": {},
     "output_type": "display_data"
    },
    {
     "data": {
      "text/html": [
       "\n",
       "        <div id=\"TJjLnz2wd24joTK8X5ASiJ\"></div>\n",
       "        <script>netpixi.call('TJjLnz2wd24joTK8X5ASiJ', 'G27xYFVvssHJAhWvEkQqxv', 'changeGraph', 'eyJpZCI6ICJzcmlsYW5rYSIsICJ0eXBlIjogInZlcnRleCIsICJwcm9wcyI6IHsic2l6ZSI6IDE1LjU0NTQ1NDU0NTQ1NDU0N319Cg==');</script>\n",
       "    "
      ],
      "text/plain": [
       "<IPython.core.display.HTML object>"
      ]
     },
     "metadata": {},
     "output_type": "display_data"
    },
    {
     "data": {
      "text/html": [
       "\n",
       "        <div id=\"8JqFCvm3xyWfA4XzU2hFLb\"></div>\n",
       "        <script>netpixi.call('8JqFCvm3xyWfA4XzU2hFLb', 'G27xYFVvssHJAhWvEkQqxv', 'changeGraph', 'eyJpZCI6ICJ0dXJrZXkiLCAidHlwZSI6ICJ2ZXJ0ZXgiLCAicHJvcHMiOiB7InNpemUiOiAxOC4wfX0K');</script>\n",
       "    "
      ],
      "text/plain": [
       "<IPython.core.display.HTML object>"
      ]
     },
     "metadata": {},
     "output_type": "display_data"
    },
    {
     "data": {
      "text/html": [
       "\n",
       "        <div id=\"KUnsJjmKwpVr8Yj6YgBySE\"></div>\n",
       "        <script>netpixi.call('KUnsJjmKwpVr8Yj6YgBySE', 'G27xYFVvssHJAhWvEkQqxv', 'changeGraph', 'eyJpZCI6ICJ1ayIsICJ0eXBlIjogInZlcnRleCIsICJwcm9wcyI6IHsic2l6ZSI6IDQwLjcxNDI4NTcxNDI4NTcxNX19Cg==');</script>\n",
       "    "
      ],
      "text/plain": [
       "<IPython.core.display.HTML object>"
      ]
     },
     "metadata": {},
     "output_type": "display_data"
    },
    {
     "data": {
      "text/html": [
       "\n",
       "        <div id=\"Gr6cQHxeL67Dq5HEz8qWJe\"></div>\n",
       "        <script>netpixi.call('Gr6cQHxeL67Dq5HEz8qWJe', 'G27xYFVvssHJAhWvEkQqxv', 'changeGraph', 'eyJpZCI6ICJ0YW56YW5pYSIsICJ0eXBlIjogInZlcnRleCIsICJwcm9wcyI6IHsic2l6ZSI6IDE2LjA5MDkwOTA5MDkwOTA5fX0K');</script>\n",
       "    "
      ],
      "text/plain": [
       "<IPython.core.display.HTML object>"
      ]
     },
     "metadata": {},
     "output_type": "display_data"
    },
    {
     "data": {
      "text/html": [
       "\n",
       "        <div id=\"gLwq7tPeTMw4PGa4gihFag\"></div>\n",
       "        <script>netpixi.call('gLwq7tPeTMw4PGa4gihFag', 'G27xYFVvssHJAhWvEkQqxv', 'changeGraph', 'eyJpZCI6ICJub3J3YXkiLCAidHlwZSI6ICJ2ZXJ0ZXgiLCAicHJvcHMiOiB7InNpemUiOiA0NS4zNTcxNDI4NTcxNDI4NTR9fQo=');</script>\n",
       "    "
      ],
      "text/plain": [
       "<IPython.core.display.HTML object>"
      ]
     },
     "metadata": {},
     "output_type": "display_data"
    },
    {
     "data": {
      "text/html": [
       "\n",
       "        <div id=\"eZ2GW7Djg4trDvdCMPup6Q\"></div>\n",
       "        <script>netpixi.call('eZ2GW7Djg4trDvdCMPup6Q', 'G27xYFVvssHJAhWvEkQqxv', 'changeGraph', 'eyJpZCI6ICJidXJ1bmRpIiwgInR5cGUiOiAidmVydGV4IiwgInByb3BzIjogeyJzaXplIjogMTEuOTA5MDkwOTA5MDkwOTA4fX0K');</script>\n",
       "    "
      ],
      "text/plain": [
       "<IPython.core.display.HTML object>"
      ]
     },
     "metadata": {},
     "output_type": "display_data"
    },
    {
     "data": {
      "text/html": [
       "\n",
       "        <div id=\"3CUfKNvZPxKCJKaQwcZU9c\"></div>\n",
       "        <script>netpixi.call('3CUfKNvZPxKCJKaQwcZU9c', 'G27xYFVvssHJAhWvEkQqxv', 'changeGraph', 'eyJpZCI6ICJ6YW1iaWEiLCAidHlwZSI6ICJ2ZXJ0ZXgiLCAicHJvcHMiOiB7InNpemUiOiAxMi44MTgxODE4MTgxODE4MTh9fQo=');</script>\n",
       "    "
      ],
      "text/plain": [
       "<IPython.core.display.HTML object>"
      ]
     },
     "metadata": {},
     "output_type": "display_data"
    },
    {
     "data": {
      "text/html": [
       "\n",
       "        <div id=\"PZjP59K3STBxBzR4LATRi4\"></div>\n",
       "        <script>netpixi.call('PZjP59K3STBxBzR4LATRi4', 'G27xYFVvssHJAhWvEkQqxv', 'changeGraph', 'eyJpZCI6ICJsaWJ5YSIsICJ0eXBlIjogInZlcnRleCIsICJwcm9wcyI6IHsic2l6ZSI6IDE0LjB9fQo=');</script>\n",
       "    "
      ],
      "text/plain": [
       "<IPython.core.display.HTML object>"
      ]
     },
     "metadata": {},
     "output_type": "display_data"
    },
    {
     "data": {
      "text/html": [
       "\n",
       "        <div id=\"M7JiVAY5BGFBzkZYRixVqx\"></div>\n",
       "        <script>netpixi.call('M7JiVAY5BGFBzkZYRixVqx', 'G27xYFVvssHJAhWvEkQqxv', 'changeGraph', 'eyJpZCI6ICJpcmFxIiwgInR5cGUiOiAidmVydGV4IiwgInByb3BzIjogeyJzaXplIjogMTEuMjcyNzI3MjcyNzI3MjczfX0K');</script>\n",
       "    "
      ],
      "text/plain": [
       "<IPython.core.display.HTML object>"
      ]
     },
     "metadata": {},
     "output_type": "display_data"
    },
    {
     "data": {
      "text/html": [
       "\n",
       "        <div id=\"5YmbtuLND4DD7NBXaTdAiH\"></div>\n",
       "        <script>netpixi.call('5YmbtuLND4DD7NBXaTdAiH', 'G27xYFVvssHJAhWvEkQqxv', 'changeGraph', 'eyJpZCI6ICJyd2FuZGEiLCAidHlwZSI6ICJ2ZXJ0ZXgiLCAicHJvcHMiOiB7InNpemUiOiAxMi4wfX0K');</script>\n",
       "    "
      ],
      "text/plain": [
       "<IPython.core.display.HTML object>"
      ]
     },
     "metadata": {},
     "output_type": "display_data"
    },
    {
     "data": {
      "text/html": [
       "\n",
       "        <div id=\"4L5VfFLqFnxv6xdZ4AJ3Ud\"></div>\n",
       "        <script>netpixi.call('4L5VfFLqFnxv6xdZ4AJ3Ud', 'G27xYFVvssHJAhWvEkQqxv', 'changeGraph', 'eyJpZCI6ICJxYXRhciIsICJ0eXBlIjogInZlcnRleCIsICJwcm9wcyI6IHsic2l6ZSI6IDEzLjkwOTA5MDkwOTA5MDkwOH19Cg==');</script>\n",
       "    "
      ],
      "text/plain": [
       "<IPython.core.display.HTML object>"
      ]
     },
     "metadata": {},
     "output_type": "display_data"
    },
    {
     "data": {
      "text/html": [
       "\n",
       "        <div id=\"8cS5iog29FTxRxCvoegSTq\"></div>\n",
       "        <script>netpixi.call('8cS5iog29FTxRxCvoegSTq', 'G27xYFVvssHJAhWvEkQqxv', 'changeGraph', 'eyJpZCI6ICJsaWJlcmlhIiwgInR5cGUiOiAidmVydGV4IiwgInByb3BzIjogeyJzaXplIjogMTMuMjcyNzI3MjcyNzI3MjczfX0K');</script>\n",
       "    "
      ],
      "text/plain": [
       "<IPython.core.display.HTML object>"
      ]
     },
     "metadata": {},
     "output_type": "display_data"
    },
    {
     "data": {
      "text/html": [
       "\n",
       "        <div id=\"PJS6xRdjnqPQHvYdfjpHTz\"></div>\n",
       "        <script>netpixi.call('PJS6xRdjnqPQHvYdfjpHTz', 'G27xYFVvssHJAhWvEkQqxv', 'changeGraph', 'eyJpZCI6ICJ1Z2FuZGEiLCAidHlwZSI6ICJ2ZXJ0ZXgiLCAicHJvcHMiOiB7InNpemUiOiAxNC45MDkwOTA5MDkwOTA5MX19Cg==');</script>\n",
       "    "
      ],
      "text/plain": [
       "<IPython.core.display.HTML object>"
      ]
     },
     "metadata": {},
     "output_type": "display_data"
    },
    {
     "data": {
      "text/html": [
       "\n",
       "        <div id=\"mwQY2pwuuSwW2ZqmHAVQmA\"></div>\n",
       "        <script>netpixi.call('mwQY2pwuuSwW2ZqmHAVQmA', 'G27xYFVvssHJAhWvEkQqxv', 'changeGraph', 'eyJpZCI6ICJndWF0ZW1hbGEiLCAidHlwZSI6ICJ2ZXJ0ZXgiLCAicHJvcHMiOiB7InNpemUiOiAxNS40NTQ1NDU0NTQ1NDU0NTN9fQo=');</script>\n",
       "    "
      ],
      "text/plain": [
       "<IPython.core.display.HTML object>"
      ]
     },
     "metadata": {},
     "output_type": "display_data"
    },
    {
     "data": {
      "text/html": [
       "\n",
       "        <div id=\"CgD8MF84xGUmjqMoWVmP6d\"></div>\n",
       "        <script>netpixi.call('CgD8MF84xGUmjqMoWVmP6d', 'G27xYFVvssHJAhWvEkQqxv', 'changeGraph', 'eyJpZCI6ICJjaGFkIiwgInR5cGUiOiAidmVydGV4IiwgInByb3BzIjogeyJzaXplIjogMTIuNzI3MjcyNzI3MjcyNzI3fX0K');</script>\n",
       "    "
      ],
      "text/plain": [
       "<IPython.core.display.HTML object>"
      ]
     },
     "metadata": {},
     "output_type": "display_data"
    },
    {
     "data": {
      "text/html": [
       "\n",
       "        <div id=\"Lw5wz5gVwBBFyHkZyGgqUm\"></div>\n",
       "        <script>netpixi.call('Lw5wz5gVwBBFyHkZyGgqUm', 'G27xYFVvssHJAhWvEkQqxv', 'changeGraph', 'eyJpZCI6ICJob25kdXJhcyIsICJ0eXBlIjogInZlcnRleCIsICJwcm9wcyI6IHsic2l6ZSI6IDE0LjI3MjcyNzI3MjcyNzI3M319Cg==');</script>\n",
       "    "
      ],
      "text/plain": [
       "<IPython.core.display.HTML object>"
      ]
     },
     "metadata": {},
     "output_type": "display_data"
    },
    {
     "data": {
      "text/html": [
       "\n",
       "        <div id=\"UkZUiQfccNeHYSDk9hThXn\"></div>\n",
       "        <script>netpixi.call('UkZUiQfccNeHYSDk9hThXn', 'G27xYFVvssHJAhWvEkQqxv', 'changeGraph', 'eyJpZCI6ICJtYWxhd2kiLCAidHlwZSI6ICJ2ZXJ0ZXgiLCAicHJvcHMiOiB7InNpemUiOiAxMi4yNzI3MjcyNzI3MjcyNzN9fQo=');</script>\n",
       "    "
      ],
      "text/plain": [
       "<IPython.core.display.HTML object>"
      ]
     },
     "metadata": {},
     "output_type": "display_data"
    },
    {
     "data": {
      "text/html": [
       "\n",
       "        <div id=\"2z6YooudP6RKi8KJcgNUuf\"></div>\n",
       "        <script>netpixi.call('2z6YooudP6RKi8KJcgNUuf', 'G27xYFVvssHJAhWvEkQqxv', 'changeGraph', 'eyJpZCI6ICJib3Rzd2FuYSIsICJ0eXBlIjogInZlcnRleCIsICJwcm9wcyI6IHsic2l6ZSI6IDExLjB9fQo=');</script>\n",
       "    "
      ],
      "text/plain": [
       "<IPython.core.display.HTML object>"
      ]
     },
     "metadata": {},
     "output_type": "display_data"
    },
    {
     "data": {
      "text/html": [
       "\n",
       "        <div id=\"iWCAaZwBwQGJvuZ6WsyvkQ\"></div>\n",
       "        <script>netpixi.call('iWCAaZwBwQGJvuZ6WsyvkQ', 'G27xYFVvssHJAhWvEkQqxv', 'changeGraph', 'eyJpZCI6ICJzaWVycmFsZW9uZSIsICJ0eXBlIjogInZlcnRleCIsICJwcm9wcyI6IHsic2l6ZSI6IDE0LjYzNjM2MzYzNjM2MzYzN319Cg==');</script>\n",
       "    "
      ],
      "text/plain": [
       "<IPython.core.display.HTML object>"
      ]
     },
     "metadata": {},
     "output_type": "display_data"
    },
    {
     "data": {
      "text/html": [
       "\n",
       "        <div id=\"dDNNHyQWYSXqPmrCk5p4w6\"></div>\n",
       "        <script>netpixi.call('dDNNHyQWYSXqPmrCk5p4w6', 'G27xYFVvssHJAhWvEkQqxv', 'changeGraph', 'eyJpZCI6ICJoYWl0aSIsICJ0eXBlIjogInZlcnRleCIsICJwcm9wcyI6IHsic2l6ZSI6IDEyLjkwOTA5MDkwOTA5MDkxfX0K');</script>\n",
       "    "
      ],
      "text/plain": [
       "<IPython.core.display.HTML object>"
      ]
     },
     "metadata": {},
     "output_type": "display_data"
    },
    {
     "data": {
      "text/html": [
       "\n",
       "        <div id=\"adKSs2KbqedsZnZe4n2LRu\"></div>\n",
       "        <script>netpixi.call('adKSs2KbqedsZnZe4n2LRu', 'G27xYFVvssHJAhWvEkQqxv', 'changeGraph', 'eyJpZCI6ICJjb21vcm9zIiwgInR5cGUiOiAidmVydGV4IiwgInByb3BzIjogeyJzaXplIjogMTEuMzYzNjM2MzYzNjM2MzYzfX0K');</script>\n",
       "    "
      ],
      "text/plain": [
       "<IPython.core.display.HTML object>"
      ]
     },
     "metadata": {},
     "output_type": "display_data"
    },
    {
     "data": {
      "text/html": [
       "\n",
       "        <div id=\"HBL4Vyz2yVMQoEdYczMijj\"></div>\n",
       "        <script>netpixi.call('HBL4Vyz2yVMQoEdYczMijj', 'G27xYFVvssHJAhWvEkQqxv', 'changeGraph', 'eyJpZCI6ICJkamlib3V0aSIsICJ0eXBlIjogInZlcnRleCIsICJwcm9wcyI6IHsic2l6ZSI6IDEwLjYzNjM2MzYzNjM2MzYzN319Cg==');</script>\n",
       "    "
      ],
      "text/plain": [
       "<IPython.core.display.HTML object>"
      ]
     },
     "metadata": {},
     "output_type": "display_data"
    },
    {
     "data": {
      "text/html": [
       "\n",
       "        <div id=\"EEhQdZwBAnEjiTyNVn9DoL\"></div>\n",
       "        <script>netpixi.call('EEhQdZwBAnEjiTyNVn9DoL', 'G27xYFVvssHJAhWvEkQqxv', 'changeGraph', 'eyJpZCI6ICJiYWhyYWluIiwgInR5cGUiOiAidmVydGV4IiwgInByb3BzIjogeyJzaXplIjogMTAuOTA5MDkwOTA5MDkwOTF9fQo=');</script>\n",
       "    "
      ],
      "text/plain": [
       "<IPython.core.display.HTML object>"
      ]
     },
     "metadata": {},
     "output_type": "display_data"
    },
    {
     "data": {
      "text/html": [
       "\n",
       "        <div id=\"8z2UdwKsHoGqMVgWsLj2uU\"></div>\n",
       "        <script>netpixi.call('8z2UdwKsHoGqMVgWsLj2uU', 'G27xYFVvssHJAhWvEkQqxv', 'changeGraph', 'eyJpZCI6ICJtYWxpIiwgInR5cGUiOiAidmVydGV4IiwgInByb3BzIjogeyJzaXplIjogMTQuMDkwOTA5MDkwOTA5MDl9fQo=');</script>\n",
       "    "
      ],
      "text/plain": [
       "<IPython.core.display.HTML object>"
      ]
     },
     "metadata": {},
     "output_type": "display_data"
    },
    {
     "data": {
      "text/html": [
       "\n",
       "        <div id=\"avApkuYHFtJx6strSWLwhd\"></div>\n",
       "        <script>netpixi.call('avApkuYHFtJx6strSWLwhd', 'G27xYFVvssHJAhWvEkQqxv', 'changeGraph', 'eyJpZCI6ICJzeXJpYSIsICJ0eXBlIjogInZlcnRleCIsICJwcm9wcyI6IHsic2l6ZSI6IDExLjYzNjM2MzYzNjM2MzYzN319Cg==');</script>\n",
       "    "
      ],
      "text/plain": [
       "<IPython.core.display.HTML object>"
      ]
     },
     "metadata": {},
     "output_type": "display_data"
    },
    {
     "data": {
      "text/html": [
       "\n",
       "        <div id=\"Av84iqwBQnLtiwZqkPnGBH\"></div>\n",
       "        <script>netpixi.call('Av84iqwBQnLtiwZqkPnGBH', 'G27xYFVvssHJAhWvEkQqxv', 'changeGraph', 'eyJpZCI6ICJuaWdlciIsICJ0eXBlIjogInZlcnRleCIsICJwcm9wcyI6IHsic2l6ZSI6IDEzLjgxODE4MTgxODE4MTgxOH19Cg==');</script>\n",
       "    "
      ],
      "text/plain": [
       "<IPython.core.display.HTML object>"
      ]
     },
     "metadata": {},
     "output_type": "display_data"
    },
    {
     "data": {
      "text/html": [
       "\n",
       "        <div id=\"Xy6YY89QqiY2UUJxpHjByG\"></div>\n",
       "        <script>netpixi.call('Xy6YY89QqiY2UUJxpHjByG', 'G27xYFVvssHJAhWvEkQqxv', 'changeGraph', 'eyJpZCI6ICJ6aW1iYWJ3ZSIsICJ0eXBlIjogInZlcnRleCIsICJwcm9wcyI6IHsic2l6ZSI6IDEzLjYzNjM2MzYzNjM2MzYzN319Cg==');</script>\n",
       "    "
      ],
      "text/plain": [
       "<IPython.core.display.HTML object>"
      ]
     },
     "metadata": {},
     "output_type": "display_data"
    },
    {
     "data": {
      "text/html": [
       "\n",
       "        <div id=\"gKKxVVQ7HJ4ha5ZedhhgYS\"></div>\n",
       "        <script>netpixi.call('gKKxVVQ7HJ4ha5ZedhhgYS', 'G27xYFVvssHJAhWvEkQqxv', 'changeGraph', 'eyJpZCI6ICJhbmdvbGEiLCAidHlwZSI6ICJ2ZXJ0ZXgiLCAicHJvcHMiOiB7InNpemUiOiAxMy40NTQ1NDU0NTQ1NDU0NTV9fQo=');</script>\n",
       "    "
      ],
      "text/plain": [
       "<IPython.core.display.HTML object>"
      ]
     },
     "metadata": {},
     "output_type": "display_data"
    },
    {
     "data": {
      "text/html": [
       "\n",
       "        <div id=\"QWKDQFAG89wRRfeSUoeiyK\"></div>\n",
       "        <script>netpixi.call('QWKDQFAG89wRRfeSUoeiyK', 'G27xYFVvssHJAhWvEkQqxv', 'changeGraph', 'eyJpZCI6ICJjYW1ib2RpYSIsICJ0eXBlIjogInZlcnRleCIsICJwcm9wcyI6IHsic2l6ZSI6IDE1LjI3MjcyNzI3MjcyNzI3M319Cg==');</script>\n",
       "    "
      ],
      "text/plain": [
       "<IPython.core.display.HTML object>"
      ]
     },
     "metadata": {},
     "output_type": "display_data"
    },
    {
     "data": {
      "text/html": [
       "\n",
       "        <div id=\"JxWdCAFq7HKQsGGu5RKVfj\"></div>\n",
       "        <script>netpixi.call('JxWdCAFq7HKQsGGu5RKVfj', 'G27xYFVvssHJAhWvEkQqxv', 'changeGraph', 'eyJpZCI6ICJtb3phbWJpcXVlIiwgInR5cGUiOiAidmVydGV4IiwgInByb3BzIjogeyJzaXplIjogMTQuMzYzNjM2MzYzNjM2MzYzfX0K');</script>\n",
       "    "
      ],
      "text/plain": [
       "<IPython.core.display.HTML object>"
      ]
     },
     "metadata": {},
     "output_type": "display_data"
    },
    {
     "data": {
      "text/html": [
       "\n",
       "        <div id=\"2W4GwoGWNggqs4EtpbJWUV\"></div>\n",
       "        <script>netpixi.call('2W4GwoGWNggqs4EtpbJWUV', 'G27xYFVvssHJAhWvEkQqxv', 'changeGraph', 'eyJpZCI6ICJjYXIiLCAidHlwZSI6ICJ2ZXJ0ZXgiLCAicHJvcHMiOiB7InNpemUiOiAxMy4wfX0K');</script>\n",
       "    "
      ],
      "text/plain": [
       "<IPython.core.display.HTML object>"
      ]
     },
     "metadata": {},
     "output_type": "display_data"
    },
    {
     "data": {
      "text/html": [
       "\n",
       "        <div id=\"cYJDMFjw6Pu6uNY4ndhHqK\"></div>\n",
       "        <script>netpixi.call('cYJDMFjw6Pu6uNY4ndhHqK', 'G27xYFVvssHJAhWvEkQqxv', 'changeGraph', 'eyJpZCI6ICJ5ZW1lbiIsICJ0eXBlIjogInZlcnRleCIsICJwcm9wcyI6IHsic2l6ZSI6IDExLjQ1NDU0NTQ1NDU0NTQ1NX19Cg==');</script>\n",
       "    "
      ],
      "text/plain": [
       "<IPython.core.display.HTML object>"
      ]
     },
     "metadata": {},
     "output_type": "display_data"
    },
    {
     "data": {
      "text/html": [
       "\n",
       "        <div id=\"BzbwzhTPxz6NdBKLqb9DPd\"></div>\n",
       "        <script>netpixi.call('BzbwzhTPxz6NdBKLqb9DPd', 'G27xYFVvssHJAhWvEkQqxv', 'changeGraph', 'eyJpZCI6ICJrdXdhaXQiLCAidHlwZSI6ICJ2ZXJ0ZXgiLCAicHJvcHMiOiB7InNpemUiOiAxMi42MzYzNjM2MzYzNjM2Mzd9fQo=');</script>\n",
       "    "
      ],
      "text/plain": [
       "<IPython.core.display.HTML object>"
      ]
     },
     "metadata": {},
     "output_type": "display_data"
    },
    {
     "data": {
      "text/html": [
       "\n",
       "        <div id=\"Qc6URU72RY7vMx5RGYLTg5\"></div>\n",
       "        <script>netpixi.call('Qc6URU72RY7vMx5RGYLTg5', 'G27xYFVvssHJAhWvEkQqxv', 'changeGraph', 'eyJpZCI6ICJ0dXJrbWVuaXN0YW4iLCAidHlwZSI6ICJ2ZXJ0ZXgiLCAicHJvcHMiOiB7InNpemUiOiAxMC4wfX0K');</script>\n",
       "    "
      ],
      "text/plain": [
       "<IPython.core.display.HTML object>"
      ]
     },
     "metadata": {},
     "output_type": "display_data"
    },
    {
     "data": {
      "text/html": [
       "\n",
       "        <div id=\"9NJjT6HMXynJGtXzGxat8f\"></div>\n",
       "        <script>netpixi.call('9NJjT6HMXynJGtXzGxat8f', 'G27xYFVvssHJAhWvEkQqxv', 'changeGraph', 'eyJpZCI6ICJwYXJhZ3VheSIsICJ0eXBlIjogInZlcnRleCIsICJwcm9wcyI6IHsic2l6ZSI6IDEzLjcyNzI3MjcyNzI3MjcyN319Cg==');</script>\n",
       "    "
      ],
      "text/plain": [
       "<IPython.core.display.HTML object>"
      ]
     },
     "metadata": {},
     "output_type": "display_data"
    },
    {
     "data": {
      "text/html": [
       "\n",
       "        <div id=\"ZAwQNDFBSCoohbkYJtca9y\"></div>\n",
       "        <script>netpixi.call('ZAwQNDFBSCoohbkYJtca9y', 'G27xYFVvssHJAhWvEkQqxv', 'changeGraph', 'eyJpZCI6ICJib2xpdmlhIiwgInR5cGUiOiAidmVydGV4IiwgInByb3BzIjogeyJzaXplIjogMTUuMzYzNjM2MzYzNjM2MzYzfX0K');</script>\n",
       "    "
      ],
      "text/plain": [
       "<IPython.core.display.HTML object>"
      ]
     },
     "metadata": {},
     "output_type": "display_data"
    },
    {
     "data": {
      "text/html": [
       "\n",
       "        <div id=\"UmUbZCAQRgQuZqWESCG3r4\"></div>\n",
       "        <script>netpixi.call('UmUbZCAQRgQuZqWESCG3r4', 'G27xYFVvssHJAhWvEkQqxv', 'changeGraph', 'eyJpZCI6ICJsYW9zIiwgInR5cGUiOiAidmVydGV4IiwgInByb3BzIjogeyJzaXplIjogMTAuMzYzNjM2MzYzNjM2MzYzfX0K');</script>\n",
       "    "
      ],
      "text/plain": [
       "<IPython.core.display.HTML object>"
      ]
     },
     "metadata": {},
     "output_type": "display_data"
    },
    {
     "data": {
      "text/html": [
       "\n",
       "        <div id=\"R57zgkFzMXbQeqm7xePi4E\"></div>\n",
       "        <script>netpixi.call('R57zgkFzMXbQeqm7xePi4E', 'G27xYFVvssHJAhWvEkQqxv', 'changeGraph', 'eyJpZCI6ICJlbHNhbHZhZG9yIiwgInR5cGUiOiAidmVydGV4IiwgInByb3BzIjogeyJzaXplIjogMTAuNzI3MjcyNzI3MjcyNzI3fX0K');</script>\n",
       "    "
      ],
      "text/plain": [
       "<IPython.core.display.HTML object>"
      ]
     },
     "metadata": {},
     "output_type": "display_data"
    },
    {
     "data": {
      "text/html": [
       "\n",
       "        <div id=\"TBuE6kMpahnWbzr5m6oGyj\"></div>\n",
       "        <script>netpixi.call('TBuE6kMpahnWbzr5m6oGyj', 'G27xYFVvssHJAhWvEkQqxv', 'changeGraph', 'eyJpZCI6ICJuZXBhbCIsICJ0eXBlIjogInZlcnRleCIsICJwcm9wcyI6IHsic2l6ZSI6IDExLjgxODE4MTgxODE4MTgxOH19Cg==');</script>\n",
       "    "
      ],
      "text/plain": [
       "<IPython.core.display.HTML object>"
      ]
     },
     "metadata": {},
     "output_type": "display_data"
    },
    {
     "data": {
      "text/html": [
       "\n",
       "        <div id=\"AtPsvziXMwkZDH9krfPrwS\"></div>\n",
       "        <script>netpixi.call('AtPsvziXMwkZDH9krfPrwS', 'G27xYFVvssHJAhWvEkQqxv', 'changeGraph', 'eyJpZCI6ICJhZmdoYW5pc3RhbiIsICJ0eXBlIjogInZlcnRleCIsICJwcm9wcyI6IHsic2l6ZSI6IDEwLjE4MTgxODE4MTgxODE4Mn19Cg==');</script>\n",
       "    "
      ],
      "text/plain": [
       "<IPython.core.display.HTML object>"
      ]
     },
     "metadata": {},
     "output_type": "display_data"
    }
   ],
   "source": [
    "matrix = spectral.adjacency(g)\n",
    "\n",
    "# Além de cpnet.Rombach, há outras\n",
    "# opções de algoritmos contínuos:\n",
    "# cpnet.MINRES\n",
    "# cpnet.Rossa\n",
    "\n",
    "algorithm = cpnet.Rombach()\n",
    "algorithm.detect(matrix)\n",
    "c = algorithm.get_coreness()\n",
    "\n",
    "# Depois do código acima, c é um dicionário\n",
    "# em que as chaves são índices de vértices e\n",
    "# valores são os atribuídos pelo algoritmo.\n",
    "\n",
    "g.add_vp('coreness')\n",
    "for i, coreness in c.items():\n",
    "    v = g.get_vertex_by_index(i)\n",
    "    v['coreness'] = float(coreness)\n",
    "\n",
    "# Vamos usar coreness como referência para\n",
    "# o tamanho dos vértices. Estabelecemos 10\n",
    "# como o menor tamanho possível e 40 como\n",
    "# o maior tamanho possível. Como o coreness\n",
    "# está entre 0 e 1, a conta é bem simples.\n",
    "\n",
    "for v in g.all_vertices():\n",
    "    r.vertex(v['id'], size=(10 + 40 * v['coreness']))\n",
    "\n",
    "# Quando a execução desta célula terminar,\n",
    "# veja como ficou a visualização acima."
   ]
  },
  {
   "cell_type": "code",
   "execution_count": 29,
   "id": "dc658a5c",
   "metadata": {},
   "outputs": [
    {
     "data": {
      "text/html": [
       "<div>\n",
       "<style scoped>\n",
       "    .dataframe tbody tr th:only-of-type {\n",
       "        vertical-align: middle;\n",
       "    }\n",
       "\n",
       "    .dataframe tbody tr th {\n",
       "        vertical-align: top;\n",
       "    }\n",
       "\n",
       "    .dataframe thead th {\n",
       "        text-align: right;\n",
       "    }\n",
       "</style>\n",
       "<table border=\"1\" class=\"dataframe\">\n",
       "  <thead>\n",
       "    <tr style=\"text-align: right;\">\n",
       "      <th></th>\n",
       "      <th>coreness</th>\n",
       "    </tr>\n",
       "    <tr>\n",
       "      <th>id</th>\n",
       "      <th></th>\n",
       "    </tr>\n",
       "  </thead>\n",
       "  <tbody>\n",
       "    <tr>\n",
       "      <th>russia</th>\n",
       "      <td>0.165909</td>\n",
       "    </tr>\n",
       "    <tr>\n",
       "      <th>mauritania</th>\n",
       "      <td>0.159091</td>\n",
       "    </tr>\n",
       "    <tr>\n",
       "      <th>tunisia</th>\n",
       "      <td>0.955357</td>\n",
       "    </tr>\n",
       "    <tr>\n",
       "      <th>saudiarabia</th>\n",
       "      <td>0.193182</td>\n",
       "    </tr>\n",
       "    <tr>\n",
       "      <th>uae</th>\n",
       "      <td>0.113636</td>\n",
       "    </tr>\n",
       "    <tr>\n",
       "      <th>...</th>\n",
       "      <td>...</td>\n",
       "    </tr>\n",
       "    <tr>\n",
       "      <th>bolivia</th>\n",
       "      <td>0.134091</td>\n",
       "    </tr>\n",
       "    <tr>\n",
       "      <th>laos</th>\n",
       "      <td>0.009091</td>\n",
       "    </tr>\n",
       "    <tr>\n",
       "      <th>elsalvador</th>\n",
       "      <td>0.018182</td>\n",
       "    </tr>\n",
       "    <tr>\n",
       "      <th>nepal</th>\n",
       "      <td>0.045455</td>\n",
       "    </tr>\n",
       "    <tr>\n",
       "      <th>afghanistan</th>\n",
       "      <td>0.004545</td>\n",
       "    </tr>\n",
       "  </tbody>\n",
       "</table>\n",
       "<p>138 rows × 1 columns</p>\n",
       "</div>"
      ],
      "text/plain": [
       "             coreness\n",
       "id                   \n",
       "russia       0.165909\n",
       "mauritania   0.159091\n",
       "tunisia      0.955357\n",
       "saudiarabia  0.193182\n",
       "uae          0.113636\n",
       "...               ...\n",
       "bolivia      0.134091\n",
       "laos         0.009091\n",
       "elsalvador   0.018182\n",
       "nepal        0.045455\n",
       "afghanistan  0.004545\n",
       "\n",
       "[138 rows x 1 columns]"
      ]
     },
     "execution_count": 29,
     "metadata": {},
     "output_type": "execute_result"
    }
   ],
   "source": [
    "data = gt_data(g)\n",
    "\n",
    "coreness = []\n",
    "for v in g.all_vertices():\n",
    "    coreness.append(v['coreness'])\n",
    "    \n",
    "data['coreness'] = coreness\n",
    "data"
   ]
  },
  {
   "cell_type": "code",
   "execution_count": 30,
   "id": "e2569cb2",
   "metadata": {},
   "outputs": [],
   "source": [
    "data.to_csv(\"coreness_igos.csv\")"
   ]
  },
  {
   "cell_type": "code",
   "execution_count": null,
   "id": "dd28476d",
   "metadata": {},
   "outputs": [],
   "source": []
  }
 ],
 "metadata": {
  "kernelspec": {
   "display_name": "Python 3 (ipykernel)",
   "language": "python",
   "name": "python3"
  },
  "language_info": {
   "codemirror_mode": {
    "name": "ipython",
    "version": 3
   },
   "file_extension": ".py",
   "mimetype": "text/x-python",
   "name": "python",
   "nbconvert_exporter": "python",
   "pygments_lexer": "ipython3",
   "version": "3.10.10"
  }
 },
 "nbformat": 4,
 "nbformat_minor": 5
}
