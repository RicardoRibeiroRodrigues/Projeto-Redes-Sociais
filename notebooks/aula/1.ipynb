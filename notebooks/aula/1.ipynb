{
 "cells": [
  {
   "cell_type": "code",
   "execution_count": null,
   "id": "4b6a2c59",
   "metadata": {},
   "outputs": [],
   "source": [
    "import pandas as pd\n",
    "import matplotlib.pyplot as plt\n",
    "import seaborn as sns\n",
    "import regression\n",
    "\n",
    "from random import random\n",
    "\n",
    "from matplotlib import rcParams"
   ]
  },
  {
   "cell_type": "code",
   "execution_count": null,
   "id": "a57ac363",
   "metadata": {},
   "outputs": [],
   "source": [
    "seniority = [\n",
    "    9,\n",
    "    3,\n",
    "    6,\n",
    "    2,\n",
    "    5,\n",
    "    4,\n",
    "    2,\n",
    "    1,\n",
    "    1,\n",
    "    3,\n",
    "    2,\n",
    "    5,\n",
    "    9,\n",
    "    9,\n",
    "    0,\n",
    "    7,\n",
    "    7,\n",
    "]\n",
    "\n",
    "degree = [\n",
    "    7,\n",
    "    4,\n",
    "    4,\n",
    "    3,\n",
    "    6,\n",
    "    6,\n",
    "    6,\n",
    "    6,\n",
    "    3,\n",
    "    3,\n",
    "    6,\n",
    "    4,\n",
    "    5,\n",
    "    3,\n",
    "    8,\n",
    "    3,\n",
    "    5,\n",
    "]\n",
    "\n",
    "betweenness = [\n",
    "    0.278472,\n",
    "    0.002778,\n",
    "    0.000000,\n",
    "    0.000000,\n",
    "    0.025000,\n",
    "    0.050694,\n",
    "    0.205556,\n",
    "    0.259722,\n",
    "    0.002778,\n",
    "    0.000000,\n",
    "    0.050694,\n",
    "    0.525000,\n",
    "    0.009722,\n",
    "    0.002778,\n",
    "    0.125694,\n",
    "    0.000000,\n",
    "    0.169444,\n",
    "]\n",
    "\n",
    "idea = [\n",
    "    10.00,\n",
    "     3.16,\n",
    "     4.29,\n",
    "     2.15,\n",
    "     5.08,\n",
    "     4.99,\n",
    "     5.55,\n",
    "     5.88,\n",
    "     1.70,\n",
    "     2.47,\n",
    "     3.81,\n",
    "     9.51,\n",
    "     5.93,\n",
    "     5.68,\n",
    "     4.25,\n",
    "     4.20,\n",
    "     7.31,\n",
    "]"
   ]
  },
  {
   "cell_type": "code",
   "execution_count": null,
   "id": "ed485750",
   "metadata": {},
   "outputs": [],
   "source": [
    "idea = []\n",
    "for s, d, b in zip(seniority, degree, betweenness):\n",
    "    idea.append(0.706 * s + 0.563 * d + 20 * 0.818 * b + (0.5 - random()))\n",
    "\n",
    "m = max(idea)\n",
    "idea = [round(10 * i / m, 2) for i in idea]"
   ]
  },
  {
   "cell_type": "code",
   "execution_count": null,
   "id": "118d4b14",
   "metadata": {},
   "outputs": [],
   "source": [
    "l = idea\n",
    "[round(40 * x / max(l)) + 20 for x in l]"
   ]
  },
  {
   "cell_type": "code",
   "execution_count": null,
   "id": "5bdefe04",
   "metadata": {},
   "outputs": [],
   "source": [
    "data = pd.DataFrame({\n",
    "    'seniority': seniority,\n",
    "    'degree': degree,\n",
    "    'betweenness': betweenness,\n",
    "    'idea': idea,\n",
    "})\n",
    "\n",
    "data"
   ]
  },
  {
   "cell_type": "code",
   "execution_count": null,
   "id": "6c365d5d",
   "metadata": {},
   "outputs": [],
   "source": [
    "rcParams['figure.figsize'] = (16, 9)"
   ]
  },
  {
   "cell_type": "code",
   "execution_count": null,
   "id": "b8bf2ece",
   "metadata": {},
   "outputs": [],
   "source": [
    "sns.regplot(data=data, x='seniority', y='idea');"
   ]
  },
  {
   "cell_type": "code",
   "execution_count": null,
   "id": "f7a93981",
   "metadata": {},
   "outputs": [],
   "source": [
    "sns.regplot(data=data, x='degree', y='idea');"
   ]
  },
  {
   "cell_type": "code",
   "execution_count": null,
   "id": "dc4a398d",
   "metadata": {},
   "outputs": [],
   "source": [
    "sns.regplot(data=data, x='betweenness', y='idea');"
   ]
  },
  {
   "cell_type": "code",
   "execution_count": null,
   "id": "4ad997e5",
   "metadata": {},
   "outputs": [],
   "source": [
    "rcParams['figure.figsize'] = (8, 4.5)"
   ]
  },
  {
   "cell_type": "code",
   "execution_count": null,
   "id": "89490ee8",
   "metadata": {},
   "outputs": [],
   "source": [
    "results = regression.linear(data=data, formula='idea ~ seniority')\n",
    "results.micro_summary()"
   ]
  },
  {
   "cell_type": "code",
   "execution_count": null,
   "id": "770e8141",
   "metadata": {},
   "outputs": [],
   "source": [
    "results.nano_summary()"
   ]
  },
  {
   "cell_type": "code",
   "execution_count": null,
   "id": "dcd35aa4",
   "metadata": {},
   "outputs": [],
   "source": [
    "results.plot_residuals()"
   ]
  },
  {
   "cell_type": "code",
   "execution_count": null,
   "id": "eb721f9e",
   "metadata": {},
   "outputs": [],
   "source": [
    "results = regression.linear(data=data, formula='idea ~ degree')\n",
    "results.micro_summary()"
   ]
  },
  {
   "cell_type": "code",
   "execution_count": null,
   "id": "6e6a5508",
   "metadata": {},
   "outputs": [],
   "source": [
    "results.nano_summary()"
   ]
  },
  {
   "cell_type": "code",
   "execution_count": null,
   "id": "6389decc",
   "metadata": {},
   "outputs": [],
   "source": [
    "results.plot_residuals()"
   ]
  },
  {
   "cell_type": "code",
   "execution_count": null,
   "id": "c36c34ee",
   "metadata": {},
   "outputs": [],
   "source": [
    "results = regression.linear(data=data, formula='idea ~ betweenness')\n",
    "results.micro_summary()"
   ]
  },
  {
   "cell_type": "code",
   "execution_count": null,
   "id": "ba5a360e",
   "metadata": {},
   "outputs": [],
   "source": [
    "results.nano_summary()"
   ]
  },
  {
   "cell_type": "code",
   "execution_count": null,
   "id": "2d89a137",
   "metadata": {},
   "outputs": [],
   "source": [
    "results.plot_residuals()"
   ]
  },
  {
   "cell_type": "code",
   "execution_count": null,
   "id": "ab92f561",
   "metadata": {},
   "outputs": [],
   "source": [
    "results = regression.linear(data=data, formula='idea ~ seniority + degree + betweenness')\n",
    "results.micro_summary()"
   ]
  },
  {
   "cell_type": "code",
   "execution_count": null,
   "id": "d8006fae",
   "metadata": {},
   "outputs": [],
   "source": [
    "results.nano_summary()"
   ]
  },
  {
   "cell_type": "code",
   "execution_count": null,
   "id": "72d7e39e",
   "metadata": {},
   "outputs": [],
   "source": [
    "results.plot_residuals()"
   ]
  },
  {
   "cell_type": "markdown",
   "id": "a5b35d34",
   "metadata": {},
   "source": [
    "EOF"
   ]
  }
 ],
 "metadata": {
  "kernelspec": {
   "display_name": "Python 3 (ipykernel)",
   "language": "python",
   "name": "python3"
  },
  "language_info": {
   "codemirror_mode": {
    "name": "ipython",
    "version": 3
   },
   "file_extension": ".py",
   "mimetype": "text/x-python",
   "name": "python",
   "nbconvert_exporter": "python",
   "pygments_lexer": "ipython3",
   "version": "3.8.12"
  }
 },
 "nbformat": 4,
 "nbformat_minor": 5
}
