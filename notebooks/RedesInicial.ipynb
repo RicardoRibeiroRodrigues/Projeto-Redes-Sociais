{
 "cells": [
  {
   "cell_type": "code",
   "execution_count": 1,
   "id": "41f27480",
   "metadata": {},
   "outputs": [],
   "source": [
    "import pandas as pd\n",
    "import numpy as np\n",
    "from scipy.stats import mode\n",
    "import seaborn as sns"
   ]
  },
  {
   "cell_type": "code",
   "execution_count": 4,
   "id": "c95fa9bc",
   "metadata": {},
   "outputs": [],
   "source": [
    "df = pd.read_csv(\"igo_year_formatv3.csv\", delimiter=\"\t\")"
   ]
  },
  {
   "cell_type": "code",
   "execution_count": 10,
   "id": "d00abaee",
   "metadata": {},
   "outputs": [
    {
     "ename": "AttributeError",
     "evalue": "'DataFrame' object has no attribute 'year'",
     "output_type": "error",
     "traceback": [
      "\u001b[0;31m---------------------------------------------------------------------------\u001b[0m",
      "\u001b[0;31mAttributeError\u001b[0m                            Traceback (most recent call last)",
      "Cell \u001b[0;32mIn[10], line 1\u001b[0m\n\u001b[0;32m----> 1\u001b[0m wanted_years \u001b[38;5;241m=\u001b[39m df\u001b[38;5;241m.\u001b[39mloc[\u001b[43mdf\u001b[49m\u001b[38;5;241;43m.\u001b[39;49m\u001b[43myear\u001b[49m \u001b[38;5;241m==\u001b[39m \u001b[38;5;241m2012\u001b[39m]\n",
      "File \u001b[0;32m/usr/local/lib/python3.10/site-packages/pandas/core/generic.py:5902\u001b[0m, in \u001b[0;36mNDFrame.__getattr__\u001b[0;34m(self, name)\u001b[0m\n\u001b[1;32m   5895\u001b[0m \u001b[38;5;28;01mif\u001b[39;00m (\n\u001b[1;32m   5896\u001b[0m     name \u001b[38;5;129;01mnot\u001b[39;00m \u001b[38;5;129;01min\u001b[39;00m \u001b[38;5;28mself\u001b[39m\u001b[38;5;241m.\u001b[39m_internal_names_set\n\u001b[1;32m   5897\u001b[0m     \u001b[38;5;129;01mand\u001b[39;00m name \u001b[38;5;129;01mnot\u001b[39;00m \u001b[38;5;129;01min\u001b[39;00m \u001b[38;5;28mself\u001b[39m\u001b[38;5;241m.\u001b[39m_metadata\n\u001b[1;32m   5898\u001b[0m     \u001b[38;5;129;01mand\u001b[39;00m name \u001b[38;5;129;01mnot\u001b[39;00m \u001b[38;5;129;01min\u001b[39;00m \u001b[38;5;28mself\u001b[39m\u001b[38;5;241m.\u001b[39m_accessors\n\u001b[1;32m   5899\u001b[0m     \u001b[38;5;129;01mand\u001b[39;00m \u001b[38;5;28mself\u001b[39m\u001b[38;5;241m.\u001b[39m_info_axis\u001b[38;5;241m.\u001b[39m_can_hold_identifiers_and_holds_name(name)\n\u001b[1;32m   5900\u001b[0m ):\n\u001b[1;32m   5901\u001b[0m     \u001b[38;5;28;01mreturn\u001b[39;00m \u001b[38;5;28mself\u001b[39m[name]\n\u001b[0;32m-> 5902\u001b[0m \u001b[38;5;28;01mreturn\u001b[39;00m \u001b[38;5;28;43mobject\u001b[39;49m\u001b[38;5;241;43m.\u001b[39;49m\u001b[38;5;21;43m__getattribute__\u001b[39;49m\u001b[43m(\u001b[49m\u001b[38;5;28;43mself\u001b[39;49m\u001b[43m,\u001b[49m\u001b[43m \u001b[49m\u001b[43mname\u001b[49m\u001b[43m)\u001b[49m\n",
      "\u001b[0;31mAttributeError\u001b[0m: 'DataFrame' object has no attribute 'year'"
     ]
    }
   ],
   "source": [
    "wanted_years = df.loc[df.year == 2012]"
   ]
  },
  {
   "cell_type": "code",
   "execution_count": 11,
   "id": "ef77973d",
   "metadata": {},
   "outputs": [
    {
     "ename": "NameError",
     "evalue": "name 'wanted_years' is not defined",
     "output_type": "error",
     "traceback": [
      "\u001b[0;31m---------------------------------------------------------------------------\u001b[0m",
      "\u001b[0;31mNameError\u001b[0m                                 Traceback (most recent call last)",
      "Cell \u001b[0;32mIn[11], line 1\u001b[0m\n\u001b[0;32m----> 1\u001b[0m \u001b[43mwanted_years\u001b[49m\u001b[38;5;241m.\u001b[39mshape\n",
      "\u001b[0;31mNameError\u001b[0m: name 'wanted_years' is not defined"
     ]
    }
   ],
   "source": [
    "wanted_years.shape"
   ]
  },
  {
   "cell_type": "code",
   "execution_count": null,
   "id": "739c0038",
   "metadata": {},
   "outputs": [],
   "source": [
    "wanted_years.isnull().sum()"
   ]
  },
  {
   "cell_type": "code",
   "execution_count": null,
   "id": "ee37850a",
   "metadata": {},
   "outputs": [],
   "source": [
    "country_columns = wanted_years.columns[3:220]\n",
    "country_columns"
   ]
  },
  {
   "cell_type": "code",
   "execution_count": null,
   "id": "7e34582b",
   "metadata": {
    "scrolled": false
   },
   "outputs": [],
   "source": [
    "for country in country_columns:\n",
    "    n_nulls = wanted_years[country].isnull().sum()\n",
    "    if n_nulls > 0:\n",
    "        print(f\"{country} has {n_nulls} nulls\")"
   ]
  },
  {
   "cell_type": "code",
   "execution_count": null,
   "id": "0e702a65",
   "metadata": {},
   "outputs": [],
   "source": [
    "with open(\"country_columns.txt\", 'w') as f:\n",
    "    for country in country_columns:\n",
    "        f.write(f\"{country}\\n\")\n",
    "    "
   ]
  },
  {
   "cell_type": "code",
   "execution_count": null,
   "id": "56de5629",
   "metadata": {},
   "outputs": [],
   "source": [
    "# From happines report\n",
    "with open(\"happiness_countrys.txt\", 'r') as f:\n",
    "    countrys = f.readlines()\n",
    "\n",
    "notacao_diff = {\n",
    "    \"unitedstates\": \"usa\",\n",
    "    \"unitedkingdom\": \"uk\",\n",
    "    \"centralafricanrepublic\": \"car\",\n",
    "    \"southkorea\": \"sokorea\",\n",
    "    \"czechrepublic\": \"czechrep\",\n",
    "    \"southafrica\": \"soafrica\",\n",
    "    \"dominicanrepublic\": \"domrepublic\",\n",
    "    \"macedonia\": \"fyromacedonia\",\n",
    "    \"unitedarabemirates\": \"uae\",\n",
    "}\n",
    "\n",
    "countrys = set(map(lambda x: x.lower().replace(\"\\n\", \"\").replace(\" \", \"\"), countrys))\n",
    "\n",
    "\n",
    "set_not_in_hr = set()\n",
    "for country in country_columns:\n",
    "    country = country.lower().replace(\"\\n\", \"\").replace(\" \", \"\")\n",
    "    if not country in countrys and not country in notacao_diff.values():\n",
    "        print(f\"**{country}** nao esta no happiness\")\n",
    "        set_not_in_hr.add(country)\n",
    "        \n",
    "set_country_columns = set(country_columns)\n",
    "set_country_columns = set_country_columns - set_not_in_hr"
   ]
  },
  {
   "cell_type": "code",
   "execution_count": null,
   "id": "346c7fc0",
   "metadata": {},
   "outputs": [],
   "source": [
    "from tqdm import tqdm"
   ]
  },
  {
   "cell_type": "code",
   "execution_count": null,
   "id": "63501878",
   "metadata": {},
   "outputs": [],
   "source": [
    "intersecs = {}\n",
    "\n",
    "for country_1 in tqdm(set_country_columns):\n",
    "    for country_2 in set_country_columns:\n",
    "        if country_1 != country_2:\n",
    "            country_1_present = wanted_years[country_1]\n",
    "            country_2_present = wanted_years[country_2]\n",
    "            n_intersecs = len(wanted_years.loc[(country_1_present == 1.0) & (country_2_present == 1.0)])\n",
    "            intersecs[(country_1, country_2)] = n_intersecs\n",
    "                "
   ]
  },
  {
   "cell_type": "code",
   "execution_count": null,
   "id": "8f0aca62",
   "metadata": {},
   "outputs": [],
   "source": [
    "import pickle\n",
    "\n",
    "with open(\"intersecs.pickle\", 'wb') as f:\n",
    "    pickle.dump(intersecs, f)\n",
    "# with open(\"intersecs.pickle\", 'rb') as f:\n",
    "#     intersecs = pickle.load(f)"
   ]
  },
  {
   "cell_type": "code",
   "execution_count": null,
   "id": "5f680642",
   "metadata": {
    "scrolled": false
   },
   "outputs": [],
   "source": [
    "import matplotlib.pyplot as plt\n",
    "\n",
    "intersecs_values = list(intersecs.values())\n",
    "plt.hist(intersecs_values, color='red', alpha=0.7, edgecolor='black')\n",
    "plt.xlabel('Frequencias dos numeros IGOS em comum entre países')\n",
    "plt.show()"
   ]
  },
  {
   "cell_type": "code",
   "execution_count": null,
   "id": "30cd3fef",
   "metadata": {},
   "outputs": [],
   "source": [
    "threshold = mode(intersecs_values)[0][0]\n",
    "# threshold = sum(intersecs_values) / len(intersecs_values)\n",
    "threshold"
   ]
  },
  {
   "cell_type": "code",
   "execution_count": null,
   "id": "26f66ece",
   "metadata": {},
   "outputs": [],
   "source": [
    "import netpixi\n",
    "from netpixi.integration.gt import *\n",
    "from regression.integration.gt import *"
   ]
  },
  {
   "cell_type": "code",
   "execution_count": null,
   "id": "b6f382a9",
   "metadata": {},
   "outputs": [],
   "source": [
    "g = Graph(directed=False)\n",
    "\n",
    "for countrys, n_intersecs in intersecs.items():\n",
    "    if n_intersecs > threshold:\n",
    "        if not g.has_vertex(countrys[0]):\n",
    "            v1 = g.add_vertex(countrys[0])\n",
    "        if not g.has_vertex(countrys[1]):\n",
    "            v2 = g.add_vertex(countrys[1])\n",
    "            \n",
    "        if not g.has_edge(countrys[0], countrys[1]):\n",
    "            g.add_edge(countrys[0], countrys[1])\n",
    "\n",
    "PATH_REDE = 'IGOS.net.gz'\n",
    "gt_save(g, PATH_REDE)"
   ]
  },
  {
   "cell_type": "code",
   "execution_count": null,
   "id": "e5de459a",
   "metadata": {},
   "outputs": [],
   "source": [
    "n = g.num_vertices()\n",
    "m = g.num_edges()\n",
    "\n",
    "print(f\"Número de arestas: {m}\")\n",
    "print(f\"Número de vértices: {n}\")"
   ]
  },
  {
   "cell_type": "code",
   "execution_count": null,
   "id": "e530e739",
   "metadata": {},
   "outputs": [],
   "source": [
    "max_edges = n * (n - 1) // 2\n",
    "print(f\"Número máximo de arestas: {max_edges}\")\n",
    "d = m / max_edges\n",
    "print(f\"Densidade: {d}\")"
   ]
  },
  {
   "cell_type": "code",
   "execution_count": null,
   "id": "74b3d73d",
   "metadata": {},
   "outputs": [],
   "source": [
    "data = gt_data(g)\n",
    "\n",
    "degrees = []\n",
    "for v in g.all_vertices():\n",
    "    degrees.append(v.total_degree())\n",
    "    \n",
    "data['degree'] = degrees"
   ]
  },
  {
   "cell_type": "code",
   "execution_count": null,
   "id": "a48768d6",
   "metadata": {},
   "outputs": [],
   "source": [
    "data['degree'].describe()"
   ]
  },
  {
   "cell_type": "code",
   "execution_count": null,
   "id": "2e5a2a4e",
   "metadata": {},
   "outputs": [],
   "source": [
    "sns.histplot(data['degree'])"
   ]
  },
  {
   "cell_type": "code",
   "execution_count": null,
   "id": "647215d3",
   "metadata": {
    "scrolled": false
   },
   "outputs": [],
   "source": [
    "m = gt_draw.sfdp_layout(g)\n",
    "gt_move(g, m)\n",
    "gt_save(g, 'rede_sfdp.net.gz')\n",
    "r = netpixi.render('rede_sfdp.net.gz', infinite=True);"
   ]
  },
  {
   "cell_type": "code",
   "execution_count": null,
   "id": "e8a84192",
   "metadata": {},
   "outputs": [],
   "source": [
    "r.vertex_set_key('id')"
   ]
  },
  {
   "cell_type": "code",
   "execution_count": null,
   "id": "c0ca5ed2",
   "metadata": {},
   "outputs": [],
   "source": [
    "import cpnet\n",
    "\n",
    "from graph_tool import spectral"
   ]
  },
  {
   "cell_type": "code",
   "execution_count": null,
   "id": "6bae21cd",
   "metadata": {},
   "outputs": [],
   "source": [
    "matrix = spectral.adjacency(g)\n",
    "\n",
    "# Além de cpnet.Rombach, há outras\n",
    "# opções de algoritmos contínuos:\n",
    "# cpnet.MINRES\n",
    "# cpnet.Rossa\n",
    "\n",
    "algorithm = cpnet.Rombach()\n",
    "algorithm.detect(matrix)\n",
    "c = algorithm.get_coreness()\n",
    "\n",
    "# Depois do código acima, c é um dicionário\n",
    "# em que as chaves são índices de vértices e\n",
    "# valores são os atribuídos pelo algoritmo.\n",
    "\n",
    "g.add_vp('coreness')\n",
    "for i, coreness in c.items():\n",
    "    v = g.get_vertex_by_index(i)\n",
    "    v['coreness'] = float(coreness)\n",
    "\n",
    "# Vamos usar coreness como referência para\n",
    "# o tamanho dos vértices. Estabelecemos 10\n",
    "# como o menor tamanho possível e 40 como\n",
    "# o maior tamanho possível. Como o coreness\n",
    "# está entre 0 e 1, a conta é bem simples.\n",
    "\n",
    "for v in g.all_vertices():\n",
    "    r.vertex(v['id'], size=(10 + 40 * v['coreness']))\n",
    "\n",
    "# Quando a execução desta célula terminar,\n",
    "# veja como ficou a visualização acima."
   ]
  },
  {
   "cell_type": "code",
   "execution_count": null,
   "id": "dc658a5c",
   "metadata": {},
   "outputs": [],
   "source": [
    "data = gt_data(g)\n",
    "\n",
    "coreness = []\n",
    "for v in g.all_vertices():\n",
    "    coreness.append(v['coreness'])\n",
    "    \n",
    "data['coreness'] = coreness\n",
    "data"
   ]
  },
  {
   "cell_type": "code",
   "execution_count": null,
   "id": "e2569cb2",
   "metadata": {},
   "outputs": [],
   "source": [
    "data.to_csv(\"coreness_igos.csv\")"
   ]
  }
 ],
 "metadata": {
  "kernelspec": {
   "display_name": "Python 3 (ipykernel)",
   "language": "python",
   "name": "python3"
  },
  "language_info": {
   "codemirror_mode": {
    "name": "ipython",
    "version": 3
   },
   "file_extension": ".py",
   "mimetype": "text/x-python",
   "name": "python",
   "nbconvert_exporter": "python",
   "pygments_lexer": "ipython3",
   "version": "3.10.10"
  }
 },
 "nbformat": 4,
 "nbformat_minor": 5
}
