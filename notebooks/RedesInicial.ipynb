{
 "cells": [
  {
   "cell_type": "code",
   "execution_count": 1,
   "id": "41f27480",
   "metadata": {},
   "outputs": [],
   "source": [
    "import pandas as pd\n",
    "import numpy as np\n",
    "from scipy.stats import mode\n",
    "import seaborn as sns"
   ]
  },
  {
   "cell_type": "code",
   "execution_count": 2,
   "id": "c95fa9bc",
   "metadata": {},
   "outputs": [],
   "source": [
    "df = pd.read_csv(\"igo_year_formatv3.csv\", delimiter=\"\t\")"
   ]
  },
  {
   "cell_type": "code",
   "execution_count": 3,
   "id": "d00abaee",
   "metadata": {},
   "outputs": [],
   "source": [
    "wanted_years = df.loc[df.year == 2012]"
   ]
  },
  {
   "cell_type": "code",
   "execution_count": 4,
   "id": "ef77973d",
   "metadata": {},
   "outputs": [
    {
     "data": {
      "text/plain": [
       "(334, 235)"
      ]
     },
     "execution_count": 4,
     "metadata": {},
     "output_type": "execute_result"
    }
   ],
   "source": [
    "wanted_years.shape"
   ]
  },
  {
   "cell_type": "code",
   "execution_count": 5,
   "id": "739c0038",
   "metadata": {},
   "outputs": [
    {
     "data": {
      "text/plain": [
       "ioname               0\n",
       "orgname              0\n",
       "year                 0\n",
       "afghanistan          0\n",
       "albania              0\n",
       "                  ... \n",
       "sourcesandnotes    334\n",
       "imputed              0\n",
       "political            0\n",
       "social               0\n",
       "economic             0\n",
       "Length: 235, dtype: int64"
      ]
     },
     "execution_count": 5,
     "metadata": {},
     "output_type": "execute_result"
    }
   ],
   "source": [
    "wanted_years.isnull().sum()"
   ]
  },
  {
   "cell_type": "code",
   "execution_count": 6,
   "id": "ee37850a",
   "metadata": {},
   "outputs": [
    {
     "data": {
      "text/plain": [
       "Index(['afghanistan', 'albania', 'algeria', 'andorra', 'angola',\n",
       "       'antiguabarbuda', 'argentina', 'armenia', 'australia', 'austria',\n",
       "       ...\n",
       "       'vietnam', 'wgermany', 'wsamoa', 'wurtenburg', 'yemen',\n",
       "       'yugoslaviaserb', 'zaire', 'zambia', 'zanzibar', 'zimbabwe'],\n",
       "      dtype='object', length=217)"
      ]
     },
     "execution_count": 6,
     "metadata": {},
     "output_type": "execute_result"
    }
   ],
   "source": [
    "country_columns = wanted_years.columns[3:220]\n",
    "country_columns"
   ]
  },
  {
   "cell_type": "code",
   "execution_count": 7,
   "id": "7e34582b",
   "metadata": {
    "scrolled": false
   },
   "outputs": [
    {
     "name": "stdout",
     "output_type": "stream",
     "text": [
      "austriahungary has 315 nulls\n",
      "baden has 315 nulls\n",
      "bavariaelect has 315 nulls\n",
      "czechoslovakia has 315 nulls\n",
      "egermany has 315 nulls\n",
      "hanover has 315 nulls\n",
      "hesseelect has 315 nulls\n",
      "hessegrand has 315 nulls\n",
      "korea has 315 nulls\n",
      "mecklenburg has 315 nulls\n",
      "modena has 315 nulls\n",
      "nyemen has 315 nulls\n",
      "papalstates has 315 nulls\n",
      "parma has 315 nulls\n",
      "svietnam has 315 nulls\n",
      "syemen has 315 nulls\n",
      "saxony has 315 nulls\n",
      "tuscany has 315 nulls\n",
      "twosicilies has 315 nulls\n",
      "wgermany has 315 nulls\n",
      "wurtenburg has 315 nulls\n",
      "zanzibar has 315 nulls\n"
     ]
    }
   ],
   "source": [
    "for country in country_columns:\n",
    "    n_nulls = wanted_years[country].isnull().sum()\n",
    "    if n_nulls > 0:\n",
    "        print(f\"{country} has {n_nulls} nulls\")"
   ]
  },
  {
   "cell_type": "code",
   "execution_count": 8,
   "id": "0e702a65",
   "metadata": {},
   "outputs": [],
   "source": [
    "with open(\"country_columns.txt\", 'w') as f:\n",
    "    for country in country_columns:\n",
    "        f.write(f\"{country}\\n\")\n",
    "    "
   ]
  },
  {
   "cell_type": "code",
   "execution_count": 10,
   "id": "56de5629",
   "metadata": {},
   "outputs": [
    {
     "name": "stdout",
     "output_type": "stream",
     "text": [
      "**andorra** nao esta no happiness\n",
      "**antiguabarbuda** nao esta no happiness\n",
      "**austriahungary** nao esta no happiness\n",
      "**baden** nao esta no happiness\n",
      "**bahamas** nao esta no happiness\n",
      "**barbados** nao esta no happiness\n",
      "**bavariaelect** nao esta no happiness\n",
      "**belize** nao esta no happiness\n",
      "**bhutan** nao esta no happiness\n",
      "**bosnia** nao esta no happiness\n",
      "**brunei** nao esta no happiness\n",
      "**capeverde** nao esta no happiness\n",
      "**congobrazz** nao esta no happiness\n",
      "**cuba** nao esta no happiness\n",
      "**czechoslovakia** nao esta no happiness\n",
      "**dominica** nao esta no happiness\n",
      "**egermany** nao esta no happiness\n",
      "**etimor** nao esta no happiness\n",
      "**eqguinea** nao esta no happiness\n",
      "**eritrea** nao esta no happiness\n",
      "**ethiopia** nao esta no happiness\n",
      "**fiji** nao esta no happiness\n",
      "**gabon** nao esta no happiness\n",
      "**gambia** nao esta no happiness\n",
      "**grenada** nao esta no happiness\n",
      "**guineabissau** nao esta no happiness\n",
      "**guyana** nao esta no happiness\n",
      "**hanover** nao esta no happiness\n",
      "**hesseelect** nao esta no happiness\n",
      "**hessegrand** nao esta no happiness\n",
      "**jamaica** nao esta no happiness\n",
      "**kiribati** nao esta no happiness\n",
      "**korea** nao esta no happiness\n",
      "**lesotho** nao esta no happiness\n",
      "**liechtenstein** nao esta no happiness\n",
      "**maldives** nao esta no happiness\n",
      "**marshallis** nao esta no happiness\n",
      "**mecklenburg** nao esta no happiness\n",
      "**micronesiafs** nao esta no happiness\n",
      "**modena** nao esta no happiness\n",
      "**monaco** nao esta no happiness\n",
      "**myanmar** nao esta no happiness\n",
      "**namibia** nao esta no happiness\n",
      "**nauru** nao esta no happiness\n",
      "**nokorea** nao esta no happiness\n",
      "**nyemen** nao esta no happiness\n",
      "**oman** nao esta no happiness\n",
      "**palau** nao esta no happiness\n",
      "**papalstates** nao esta no happiness\n",
      "**papuanewguinea** nao esta no happiness\n",
      "**parma** nao esta no happiness\n",
      "**svietnam** nao esta no happiness\n",
      "**syemen** nao esta no happiness\n",
      "**sanmarino** nao esta no happiness\n",
      "**saotome** nao esta no happiness\n",
      "**saxony** nao esta no happiness\n",
      "**seychelles** nao esta no happiness\n",
      "**sosudan** nao esta no happiness\n",
      "**solomonis** nao esta no happiness\n",
      "**somalia** nao esta no happiness\n",
      "**stkitts** nao esta no happiness\n",
      "**stlucia** nao esta no happiness\n",
      "**stvincent** nao esta no happiness\n",
      "**suriname** nao esta no happiness\n",
      "**swaziland** nao esta no happiness\n",
      "**tonga** nao esta no happiness\n",
      "**trinidad** nao esta no happiness\n",
      "**tuscany** nao esta no happiness\n",
      "**tuvalu** nao esta no happiness\n",
      "**twosicilies** nao esta no happiness\n",
      "**vanuatu** nao esta no happiness\n",
      "**wgermany** nao esta no happiness\n",
      "**wsamoa** nao esta no happiness\n",
      "**wurtenburg** nao esta no happiness\n",
      "**yugoslaviaserb** nao esta no happiness\n",
      "**zaire** nao esta no happiness\n",
      "**zanzibar** nao esta no happiness\n"
     ]
    }
   ],
   "source": [
    "# From happines report\n",
    "with open(\"happiness_countries.txt\", 'r') as f:\n",
    "    countrys = f.readlines()\n",
    "\n",
    "notacao_diff = {\n",
    "    \"unitedstates\": \"usa\",\n",
    "    \"unitedkingdom\": \"uk\",\n",
    "    \"centralafricanrepublic\": \"car\",\n",
    "    \"southkorea\": \"sokorea\",\n",
    "    \"czechrepublic\": \"czechrep\",\n",
    "    \"southafrica\": \"soafrica\",\n",
    "    \"dominicanrepublic\": \"domrepublic\",\n",
    "    \"macedonia\": \"fyromacedonia\",\n",
    "    \"unitedarabemirates\": \"uae\",\n",
    "}\n",
    "\n",
    "countrys = set(map(lambda x: x.lower().replace(\"\\n\", \"\").replace(\" \", \"\"), countrys))\n",
    "\n",
    "\n",
    "set_not_in_hr = set()\n",
    "for country in country_columns:\n",
    "    country = country.lower().replace(\"\\n\", \"\").replace(\" \", \"\")\n",
    "    if not country in countrys and not country in notacao_diff.values():\n",
    "        print(f\"**{country}** nao esta no happiness\")\n",
    "        set_not_in_hr.add(country)\n",
    "        \n",
    "set_country_columns = set(country_columns)\n",
    "set_country_columns = set_country_columns - set_not_in_hr"
   ]
  },
  {
   "cell_type": "code",
   "execution_count": 11,
   "id": "346c7fc0",
   "metadata": {},
   "outputs": [],
   "source": [
    "from tqdm import tqdm"
   ]
  },
  {
   "cell_type": "code",
   "execution_count": 12,
   "id": "63501878",
   "metadata": {},
   "outputs": [
    {
     "name": "stderr",
     "output_type": "stream",
     "text": [
      "100%|██████████| 140/140 [00:09<00:00, 14.69it/s]\n"
     ]
    }
   ],
   "source": [
    "intersecs = {}\n",
    "\n",
    "for country_1 in tqdm(set_country_columns):\n",
    "    for country_2 in set_country_columns:\n",
    "        if country_1 != country_2:\n",
    "            country_1_present = wanted_years[country_1]\n",
    "            country_2_present = wanted_years[country_2]\n",
    "            n_intersecs = len(wanted_years.loc[(country_1_present == 1.0) & (country_2_present == 1.0)])\n",
    "            intersecs[(country_1, country_2)] = n_intersecs\n",
    "                "
   ]
  },
  {
   "cell_type": "code",
   "execution_count": null,
   "id": "8f0aca62",
   "metadata": {},
   "outputs": [],
   "source": [
    "import pickle\n",
    "\n",
    "with open(\"intersecs.pickle\", 'wb') as f:\n",
    "    pickle.dump(intersecs, f)\n",
    "# with open(\"intersecs.pickle\", 'rb') as f:\n",
    "#     intersecs = pickle.load(f)"
   ]
  },
  {
   "cell_type": "code",
   "execution_count": 13,
   "id": "5f680642",
   "metadata": {
    "scrolled": false
   },
   "outputs": [
    {
     "data": {
      "image/png": "[encoded data removed]",
      "text/plain": [
       "<Figure size 640x480 with 1 Axes>"
      ]
     },
     "metadata": {},
     "output_type": "display_data"
    }
   ],
   "source": [
    "import matplotlib.pyplot as plt\n",
    "\n",
    "intersecs_values = list(intersecs.values())\n",
    "plt.hist(intersecs_values, color='red', alpha=0.7, edgecolor='black')\n",
    "plt.xlabel('Frequencias dos numeros IGOS em comum entre países')\n",
    "plt.show()"
   ]
  },
  {
   "cell_type": "code",
   "execution_count": 14,
   "id": "30cd3fef",
   "metadata": {},
   "outputs": [
    {
     "name": "stderr",
     "output_type": "stream",
     "text": [
      "/tmp/ipykernel_174/109831930.py:1: FutureWarning: Unlike other reduction functions (e.g. `skew`, `kurtosis`), the default behavior of `mode` typically preserves the axis it acts along. In SciPy 1.11.0, this behavior will change: the default value of `keepdims` will become False, the `axis` over which the statistic is taken will be eliminated, and the value None will no longer be accepted. Set `keepdims` to True or False to avoid this warning.\n",
      "  threshold = mode(intersecs_values)[0][0]\n"
     ]
    },
    {
     "data": {
      "text/plain": [
       "35"
      ]
     },
     "execution_count": 14,
     "metadata": {},
     "output_type": "execute_result"
    }
   ],
   "source": [
    "threshold = mode(intersecs_values)[0][0]\n",
    "# threshold = sum(intersecs_values) / len(intersecs_values)\n",
    "threshold"
   ]
  },
  {
   "cell_type": "code",
   "execution_count": 15,
   "id": "26f66ece",
   "metadata": {},
   "outputs": [
    {
     "data": {
      "text/html": [
       "\n",
       "    <script src=\"/files/netpixi.min.js\"></script>\n"
      ],
      "text/plain": [
       "<IPython.core.display.HTML object>"
      ]
     },
     "metadata": {},
     "output_type": "display_data"
    },
    {
     "name": "stderr",
     "output_type": "stream",
     "text": [
      "<frozen importlib._bootstrap>:914: ImportWarning: VendorImporter.find_spec() not found; falling back to find_module()\n"
     ]
    }
   ],
   "source": [
    "import netpixi\n",
    "from netpixi.integration.gt import *\n",
    "from regression.integration.gt import *"
   ]
  },
  {
   "cell_type": "code",
   "execution_count": 16,
   "id": "b6f382a9",
   "metadata": {},
   "outputs": [],
   "source": [
    "g = Graph(directed=False)\n",
    "\n",
    "for countrys, n_intersecs in intersecs.items():\n",
    "    if n_intersecs > threshold:\n",
    "        if not g.has_vertex(countrys[0]):\n",
    "            v1 = g.add_vertex(countrys[0])\n",
    "        if not g.has_vertex(countrys[1]):\n",
    "            v2 = g.add_vertex(countrys[1])\n",
    "            \n",
    "        if not g.has_edge(countrys[0], countrys[1]):\n",
    "            g.add_edge(countrys[0], countrys[1])\n",
    "\n",
    "PATH_REDE = 'IGOS.net.gz'\n",
    "gt_save(g, PATH_REDE)"
   ]
  },
  {
   "cell_type": "code",
   "execution_count": 17,
   "id": "e5de459a",
   "metadata": {},
   "outputs": [
    {
     "name": "stdout",
     "output_type": "stream",
     "text": [
      "Número de arestas: 5591\n",
      "Número de vértices: 138\n"
     ]
    }
   ],
   "source": [
    "n = g.num_vertices()\n",
    "m = g.num_edges()\n",
    "\n",
    "print(f\"Número de arestas: {m}\")\n",
    "print(f\"Número de vértices: {n}\")"
   ]
  },
  {
   "cell_type": "code",
   "execution_count": 18,
   "id": "e530e739",
   "metadata": {},
   "outputs": [
    {
     "name": "stdout",
     "output_type": "stream",
     "text": [
      "Número máximo de arestas: 9453\n",
      "Densidade: 0.5914524489580028\n"
     ]
    }
   ],
   "source": [
    "max_edges = n * (n - 1) // 2\n",
    "print(f\"Número máximo de arestas: {max_edges}\")\n",
    "d = m / max_edges\n",
    "print(f\"Densidade: {d}\")"
   ]
  },
  {
   "cell_type": "code",
   "execution_count": 19,
   "id": "74b3d73d",
   "metadata": {},
   "outputs": [],
   "source": [
    "data = gt_data(g)\n",
    "\n",
    "degrees = []\n",
    "for v in g.all_vertices():\n",
    "    degrees.append(v.total_degree())\n",
    "    \n",
    "data['degree'] = degrees"
   ]
  },
  {
   "cell_type": "code",
   "execution_count": 20,
   "id": "a48768d6",
   "metadata": {},
   "outputs": [
    {
     "data": {
      "text/plain": [
       "count    138.000000\n",
       "mean      81.028986\n",
       "std       32.060605\n",
       "min        3.000000\n",
       "25%       59.250000\n",
       "50%       90.500000\n",
       "75%      107.000000\n",
       "max      125.000000\n",
       "Name: degree, dtype: float64"
      ]
     },
     "execution_count": 20,
     "metadata": {},
     "output_type": "execute_result"
    }
   ],
   "source": [
    "data['degree'].describe()"
   ]
  },
  {
   "cell_type": "code",
   "execution_count": 21,
   "id": "2e5a2a4e",
   "metadata": {},
   "outputs": [
    {
     "data": {
      "text/plain": [
       "<AxesSubplot: xlabel='degree', ylabel='Count'>"
      ]
     },
     "execution_count": 21,
     "metadata": {},
     "output_type": "execute_result"
    },
    {
     "data": {
      "image/png": "[encoded data removed]",
      "text/plain": [
       "<Figure size 640x480 with 1 Axes>"
      ]
     },
     "metadata": {},
     "output_type": "display_data"
    }
   ],
   "source": [
    "sns.histplot(data['degree'])"
   ]
  },
  {
   "cell_type": "code",
   "execution_count": 22,
   "id": "647215d3",
   "metadata": {
    "scrolled": false
   },
   "outputs": [
    {
     "data": {
      "text/html": [
       "\n",
       "        <div id=\"HBKaewv8ikAeXPEvpmSLQV\"></div>\n",
       "        <script>netpixi.render('HBKaewv8ikAeXPEvpmSLQV', 'rede_sfdp.net.gz', 1.7777777777777777, true, true, false);</script>\n",
       "    "
      ],
      "text/plain": [
       "<IPython.core.display.HTML object>"
      ]
     },
     "metadata": {},
     "output_type": "display_data"
    }
   ],
   "source": [
    "m = gt_draw.sfdp_layout(g)\n",
    "gt_move(g, m)\n",
    "gt_save(g, 'rede_sfdp.net.gz')\n",
    "r = netpixi.render('rede_sfdp.net.gz', infinite=True);"
   ]
  },
  {
   "cell_type": "code",
   "execution_count": 23,
   "id": "e8a84192",
   "metadata": {},
   "outputs": [
    {
     "data": {
      "text/html": [
       "\n",
       "        <div id=\"hoAePpMBGnwuvBrAivk52E\"></div>\n",
       "        <script>netpixi.call('hoAePpMBGnwuvBrAivk52E', 'HBKaewv8ikAeXPEvpmSLQV', 'setGraph', 'eyJ0eXBlIjogInZlcnRleCIsICJwcm9wcyI6IHsic3JjIjogImlkIiwgImRzdCI6ICJfa2V5In19Cg==');</script>\n",
       "    "
      ],
      "text/plain": [
       "<IPython.core.display.HTML object>"
      ]
     },
     "metadata": {},
     "output_type": "display_data"
    }
   ],
   "source": [
    "r.vertex_set_key('id')"
   ]
  },
  {
   "cell_type": "code",
   "execution_count": 24,
   "id": "c0ca5ed2",
   "metadata": {},
   "outputs": [
    {
     "name": "stderr",
     "output_type": "stream",
     "text": [
      "<frozen importlib._bootstrap>:914: ImportWarning: VendorImporter.find_spec() not found; falling back to find_module()\n"
     ]
    }
   ],
   "source": [
    "import cpnet\n",
    "\n",
    "from graph_tool import spectral"
   ]
  },
  {
   "cell_type": "code",
   "execution_count": 25,
   "id": "6bae21cd",
   "metadata": {},
   "outputs": [
    {
     "name": "stderr",
     "output_type": "stream",
     "text": [
      "<frozen importlib._bootstrap>:914: ImportWarning: VendorImporter.find_spec() not found; falling back to find_module()\n"
     ]
    },
    {
     "data": {
      "text/html": [
       "\n",
       "        <div id=\"XnLpcoWkjpBFVnUWHocncY\"></div>\n",
       "        <script>netpixi.call('XnLpcoWkjpBFVnUWHocncY', 'HBKaewv8ikAeXPEvpmSLQV', 'changeGraph', 'eyJpZCI6ICJuZXRoZXJsYW5kcyIsICJ0eXBlIjogInZlcnRleCIsICJwcm9wcyI6IHsic2l6ZSI6IDQyLjE0Mjg1NzE0Mjg1NzE0Nn19Cg==');</script>\n",
       "    "
      ],
      "text/plain": [
       "<IPython.core.display.HTML object>"
      ]
     },
     "metadata": {},
     "output_type": "display_data"
    },
    {
     "data": {
      "text/html": [
       "\n",
       "        <div id=\"DbQfCjNWRrdgwpAasqmEkV\"></div>\n",
       "        <script>netpixi.call('DbQfCjNWRrdgwpAasqmEkV', 'HBKaewv8ikAeXPEvpmSLQV', 'changeGraph', 'eyJpZCI6ICJjemVjaHJlcCIsICJ0eXBlIjogInZlcnRleCIsICJwcm9wcyI6IHsic2l6ZSI6IDEzLjkwOTA5MDkwOTA5MDkwOH19Cg==');</script>\n",
       "    "
      ],
      "text/plain": [
       "<IPython.core.display.HTML object>"
      ]
     },
     "metadata": {},
     "output_type": "display_data"
    },
    {
     "data": {
      "text/html": [
       "\n",
       "        <div id=\"EiVxkjmwxxr9KKsRij5cWE\"></div>\n",
       "        <script>netpixi.call('EiVxkjmwxxr9KKsRij5cWE', 'HBKaewv8ikAeXPEvpmSLQV', 'changeGraph', 'eyJpZCI6ICJuaWNhcmFndWEiLCAidHlwZSI6ICJ2ZXJ0ZXgiLCAicHJvcHMiOiB7InNpemUiOiAxNi4xODE4MTgxODE4MTgxOH19Cg==');</script>\n",
       "    "
      ],
      "text/plain": [
       "<IPython.core.display.HTML object>"
      ]
     },
     "metadata": {},
     "output_type": "display_data"
    },
    {
     "data": {
      "text/html": [
       "\n",
       "        <div id=\"K4xdeSoU2SRHyy6TbFnT9z\"></div>\n",
       "        <script>netpixi.call('K4xdeSoU2SRHyy6TbFnT9z', 'HBKaewv8ikAeXPEvpmSLQV', 'changeGraph', 'eyJpZCI6ICJjaGlsZSIsICJ0eXBlIjogInZlcnRleCIsICJwcm9wcyI6IHsic2l6ZSI6IDE4LjkwOTA5MDkwOTA5MDkwN319Cg==');</script>\n",
       "    "
      ],
      "text/plain": [
       "<IPython.core.display.HTML object>"
      ]
     },
     "metadata": {},
     "output_type": "display_data"
    },
    {
     "data": {
      "text/html": [
       "\n",
       "        <div id=\"9kLh8SBUFqvRHdhR7oeiih\"></div>\n",
       "        <script>netpixi.call('9kLh8SBUFqvRHdhR7oeiih', 'HBKaewv8ikAeXPEvpmSLQV', 'changeGraph', 'eyJpZCI6ICJjb3N0YXJpY2EiLCAidHlwZSI6ICJ2ZXJ0ZXgiLCAicHJvcHMiOiB7InNpemUiOiAxNS40NTQ1NDU0NTQ1NDU0NTN9fQo=');</script>\n",
       "    "
      ],
      "text/plain": [
       "<IPython.core.display.HTML object>"
      ]
     },
     "metadata": {},
     "output_type": "display_data"
    },
    {
     "data": {
      "text/html": [
       "\n",
       "        <div id=\"dX89asJ2wqTpgmxr5tBXnG\"></div>\n",
       "        <script>netpixi.call('dX89asJ2wqTpgmxr5tBXnG', 'HBKaewv8ikAeXPEvpmSLQV', 'changeGraph', 'eyJpZCI6ICJ0YW56YW5pYSIsICJ0eXBlIjogInZlcnRleCIsICJwcm9wcyI6IHsic2l6ZSI6IDE5LjA5MDkwOTA5MDkwOTA5fX0K');</script>\n",
       "    "
      ],
      "text/plain": [
       "<IPython.core.display.HTML object>"
      ]
     },
     "metadata": {},
     "output_type": "display_data"
    },
    {
     "data": {
      "text/html": [
       "\n",
       "        <div id=\"323Ntuyrf2NKTtguF7tYpJ\"></div>\n",
       "        <script>netpixi.call('323Ntuyrf2NKTtguF7tYpJ', 'HBKaewv8ikAeXPEvpmSLQV', 'changeGraph', 'eyJpZCI6ICJtYWxheXNpYSIsICJ0eXBlIjogInZlcnRleCIsICJwcm9wcyI6IHsic2l6ZSI6IDQ4LjU3MTQyODU3MTQyODU3fX0K');</script>\n",
       "    "
      ],
      "text/plain": [
       "<IPython.core.display.HTML object>"
      ]
     },
     "metadata": {},
     "output_type": "display_data"
    },
    {
     "data": {
      "text/html": [
       "\n",
       "        <div id=\"FMJ2XDhx2DMb5Ce7GwoMr6\"></div>\n",
       "        <script>netpixi.call('FMJ2XDhx2DMb5Ce7GwoMr6', 'HBKaewv8ikAeXPEvpmSLQV', 'changeGraph', 'eyJpZCI6ICJpbmRpYSIsICJ0eXBlIjogInZlcnRleCIsICJwcm9wcyI6IHsic2l6ZSI6IDQ0LjI4NTcxNDI4NTcxNDI4NX19Cg==');</script>\n",
       "    "
      ],
      "text/plain": [
       "<IPython.core.display.HTML object>"
      ]
     },
     "metadata": {},
     "output_type": "display_data"
    },
    {
     "data": {
      "text/html": [
       "\n",
       "        <div id=\"MguvVyhpSWSm3na7gyPEnh\"></div>\n",
       "        <script>netpixi.call('MguvVyhpSWSm3na7gyPEnh', 'HBKaewv8ikAeXPEvpmSLQV', 'changeGraph', 'eyJpZCI6ICJjeXBydXMiLCAidHlwZSI6ICJ2ZXJ0ZXgiLCAicHJvcHMiOiB7InNpemUiOiAxOS45MDkwOTA5MDkwOTA5MDd9fQo=');</script>\n",
       "    "
      ],
      "text/plain": [
       "<IPython.core.display.HTML object>"
      ]
     },
     "metadata": {},
     "output_type": "display_data"
    },
    {
     "data": {
      "text/html": [
       "\n",
       "        <div id=\"4afDQifmtQEqpoNcS4XzJA\"></div>\n",
       "        <script>netpixi.call('4afDQifmtQEqpoNcS4XzJA', 'HBKaewv8ikAeXPEvpmSLQV', 'changeGraph', 'eyJpZCI6ICJtYWRhZ2FzY2FyIiwgInR5cGUiOiAidmVydGV4IiwgInByb3BzIjogeyJzaXplIjogMTcuMjcyNzI3MjcyNzI3MjczfX0K');</script>\n",
       "    "
      ],
      "text/plain": [
       "<IPython.core.display.HTML object>"
      ]
     },
     "metadata": {},
     "output_type": "display_data"
    },
    {
     "data": {
      "text/html": [
       "\n",
       "        <div id=\"gGYkpJxGmA5AHsWGBiY5fG\"></div>\n",
       "        <script>netpixi.call('gGYkpJxGmA5AHsWGBiY5fG', 'HBKaewv8ikAeXPEvpmSLQV', 'changeGraph', 'eyJpZCI6ICJpc3JhZWwiLCAidHlwZSI6ICJ2ZXJ0ZXgiLCAicHJvcHMiOiB7InNpemUiOiAxOC4wfX0K');</script>\n",
       "    "
      ],
      "text/plain": [
       "<IPython.core.display.HTML object>"
      ]
     },
     "metadata": {},
     "output_type": "display_data"
    },
    {
     "data": {
      "text/html": [
       "\n",
       "        <div id=\"jBFia5xhorrwgvc2gnQs2r\"></div>\n",
       "        <script>netpixi.call('jBFia5xhorrwgvc2gnQs2r', 'HBKaewv8ikAeXPEvpmSLQV', 'changeGraph', 'eyJpZCI6ICJ0b2dvIiwgInR5cGUiOiAidmVydGV4IiwgInByb3BzIjogeyJzaXplIjogMTcuMH19Cg==');</script>\n",
       "    "
      ],
      "text/plain": [
       "<IPython.core.display.HTML object>"
      ]
     },
     "metadata": {},
     "output_type": "display_data"
    },
    {
     "data": {
      "text/html": [
       "\n",
       "        <div id=\"UnEq2sdxza8ku7XrnkHjoo\"></div>\n",
       "        <script>netpixi.call('UnEq2sdxza8ku7XrnkHjoo', 'HBKaewv8ikAeXPEvpmSLQV', 'changeGraph', 'eyJpZCI6ICJidXJraW5hZmFzbyIsICJ0eXBlIjogInZlcnRleCIsICJwcm9wcyI6IHsic2l6ZSI6IDE1LjM2MzYzNjM2MzYzNjM2M319Cg==');</script>\n",
       "    "
      ],
      "text/plain": [
       "<IPython.core.display.HTML object>"
      ]
     },
     "metadata": {},
     "output_type": "display_data"
    },
    {
     "data": {
      "text/html": [
       "\n",
       "        <div id=\"m6CrYgcwFEe32XcbrAmSiz\"></div>\n",
       "        <script>netpixi.call('m6CrYgcwFEe32XcbrAmSiz', 'HBKaewv8ikAeXPEvpmSLQV', 'changeGraph', 'eyJpZCI6ICJndWluZWEiLCAidHlwZSI6ICJ2ZXJ0ZXgiLCAicHJvcHMiOiB7InNpemUiOiAxNS45MDkwOTA5MDkwOTA5MDh9fQo=');</script>\n",
       "    "
      ],
      "text/plain": [
       "<IPython.core.display.HTML object>"
      ]
     },
     "metadata": {},
     "output_type": "display_data"
    },
    {
     "data": {
      "text/html": [
       "\n",
       "        <div id=\"WADbiq9FHeNcZkpYCogaf8\"></div>\n",
       "        <script>netpixi.call('WADbiq9FHeNcZkpYCogaf8', 'HBKaewv8ikAeXPEvpmSLQV', 'changeGraph', 'eyJpZCI6ICJhbGdlcmlhIiwgInR5cGUiOiAidmVydGV4IiwgInByb3BzIjogeyJzaXplIjogMTkuMTgxODE4MTgxODE4MTh9fQo=');</script>\n",
       "    "
      ],
      "text/plain": [
       "<IPython.core.display.HTML object>"
      ]
     },
     "metadata": {},
     "output_type": "display_data"
    },
    {
     "data": {
      "text/html": [
       "\n",
       "        <div id=\"4uc9tjFrbnMsnSxccxu3Hf\"></div>\n",
       "        <script>netpixi.call('4uc9tjFrbnMsnSxccxu3Hf', 'HBKaewv8ikAeXPEvpmSLQV', 'changeGraph', 'eyJpZCI6ICJhemVyYmFpamFuIiwgInR5cGUiOiAidmVydGV4IiwgInByb3BzIjogeyJzaXplIjogMTIuODE4MTgxODE4MTgxODE4fX0K');</script>\n",
       "    "
      ],
      "text/plain": [
       "<IPython.core.display.HTML object>"
      ]
     },
     "metadata": {},
     "output_type": "display_data"
    },
    {
     "data": {
      "text/html": [
       "\n",
       "        <div id=\"2A47oMYatJZ5RtfbGJmGve\"></div>\n",
       "        <script>netpixi.call('2A47oMYatJZ5RtfbGJmGve', 'HBKaewv8ikAeXPEvpmSLQV', 'changeGraph', 'eyJpZCI6ICJhbmdvbGEiLCAidHlwZSI6ICJ2ZXJ0ZXgiLCAicHJvcHMiOiB7InNpemUiOiAxMy41NDU0NTQ1NDU0NTQ1NDV9fQo=');</script>\n",
       "    "
      ],
      "text/plain": [
       "<IPython.core.display.HTML object>"
      ]
     },
     "metadata": {},
     "output_type": "display_data"
    },
    {
     "data": {
      "text/html": [
       "\n",
       "        <div id=\"AJwefAsiHYJZDWoiAKfXae\"></div>\n",
       "        <script>netpixi.call('AJwefAsiHYJZDWoiAKfXae', 'HBKaewv8ikAeXPEvpmSLQV', 'changeGraph', 'eyJpZCI6ICJwaGlsaXBwaW5lcyIsICJ0eXBlIjogInZlcnRleCIsICJwcm9wcyI6IHsic2l6ZSI6IDQwLjcxNDI4NTcxNDI4NTcxNX19Cg==');</script>\n",
       "    "
      ],
      "text/plain": [
       "<IPython.core.display.HTML object>"
      ]
     },
     "metadata": {},
     "output_type": "display_data"
    },
    {
     "data": {
      "text/html": [
       "\n",
       "        <div id=\"CeRx7ouLJKSDnknqxpRLvF\"></div>\n",
       "        <script>netpixi.call('CeRx7ouLJKSDnknqxpRLvF', 'HBKaewv8ikAeXPEvpmSLQV', 'changeGraph', 'eyJpZCI6ICJydXNzaWEiLCAidHlwZSI6ICJ2ZXJ0ZXgiLCAicHJvcHMiOiB7InNpemUiOiAxNy42MzYzNjM2MzYzNjM2Mzd9fQo=');</script>\n",
       "    "
      ],
      "text/plain": [
       "<IPython.core.display.HTML object>"
      ]
     },
     "metadata": {},
     "output_type": "display_data"
    },
    {
     "data": {
      "text/html": [
       "\n",
       "        <div id=\"B3wTAbjXKFoL8LcxKkKLVg\"></div>\n",
       "        <script>netpixi.call('B3wTAbjXKFoL8LcxKkKLVg', 'HBKaewv8ikAeXPEvpmSLQV', 'changeGraph', 'eyJpZCI6ICJrdXdhaXQiLCAidHlwZSI6ICJ2ZXJ0ZXgiLCAicHJvcHMiOiB7InNpemUiOiAxMy4wOTA5MDkwOTA5MDkwOX19Cg==');</script>\n",
       "    "
      ],
      "text/plain": [
       "<IPython.core.display.HTML object>"
      ]
     },
     "metadata": {},
     "output_type": "display_data"
    },
    {
     "data": {
      "text/html": [
       "\n",
       "        <div id=\"ghWvUSJCttPEz38ZqjMGCP\"></div>\n",
       "        <script>netpixi.call('ghWvUSJCttPEz38ZqjMGCP', 'HBKaewv8ikAeXPEvpmSLQV', 'changeGraph', 'eyJpZCI6ICJjYW5hZGEiLCAidHlwZSI6ICJ2ZXJ0ZXgiLCAicHJvcHMiOiB7InNpemUiOiAxOC41NDU0NTQ1NDU0NTQ1NDd9fQo=');</script>\n",
       "    "
      ],
      "text/plain": [
       "<IPython.core.display.HTML object>"
      ]
     },
     "metadata": {},
     "output_type": "display_data"
    },
    {
     "data": {
      "text/html": [
       "\n",
       "        <div id=\"9uzhxf8TcXTCcEdg3hdMdx\"></div>\n",
       "        <script>netpixi.call('9uzhxf8TcXTCcEdg3hdMdx', 'HBKaewv8ikAeXPEvpmSLQV', 'changeGraph', 'eyJpZCI6ICJyb21hbmlhIiwgInR5cGUiOiAidmVydGV4IiwgInByb3BzIjogeyJzaXplIjogMTkuNDU0NTQ1NDU0NTQ1NDUzfX0K');</script>\n",
       "    "
      ],
      "text/plain": [
       "<IPython.core.display.HTML object>"
      ]
     },
     "metadata": {},
     "output_type": "display_data"
    },
    {
     "data": {
      "text/html": [
       "\n",
       "        <div id=\"cBA37nYz4kSUE7oap3vDXj\"></div>\n",
       "        <script>netpixi.call('cBA37nYz4kSUE7oap3vDXj', 'HBKaewv8ikAeXPEvpmSLQV', 'changeGraph', 'eyJpZCI6ICJzaW5nYXBvcmUiLCAidHlwZSI6ICJ2ZXJ0ZXgiLCAicHJvcHMiOiB7InNpemUiOiAxMy4xODE4MTgxODE4MTgxODJ9fQo=');</script>\n",
       "    "
      ],
      "text/plain": [
       "<IPython.core.display.HTML object>"
      ]
     },
     "metadata": {},
     "output_type": "display_data"
    },
    {
     "data": {
      "text/html": [
       "\n",
       "        <div id=\"bv56yTxPMTTFPaqqLbyLmr\"></div>\n",
       "        <script>netpixi.call('bv56yTxPMTTFPaqqLbyLmr', 'HBKaewv8ikAeXPEvpmSLQV', 'changeGraph', 'eyJpZCI6ICJ1Z2FuZGEiLCAidHlwZSI6ICJ2ZXJ0ZXgiLCAicHJvcHMiOiB7InNpemUiOiAxNS44MTgxODE4MTgxODE4MTh9fQo=');</script>\n",
       "    "
      ],
      "text/plain": [
       "<IPython.core.display.HTML object>"
      ]
     },
     "metadata": {},
     "output_type": "display_data"
    },
    {
     "data": {
      "text/html": [
       "\n",
       "        <div id=\"ayvNg7zrhX2AYrtv5tbgcH\"></div>\n",
       "        <script>netpixi.call('ayvNg7zrhX2AYrtv5tbgcH', 'HBKaewv8ikAeXPEvpmSLQV', 'changeGraph', 'eyJpZCI6ICJqYXBhbiIsICJ0eXBlIjogInZlcnRleCIsICJwcm9wcyI6IHsic2l6ZSI6IDQxLjQyODU3MTQyODU3MTQzfX0K');</script>\n",
       "    "
      ],
      "text/plain": [
       "<IPython.core.display.HTML object>"
      ]
     },
     "metadata": {},
     "output_type": "display_data"
    },
    {
     "data": {
      "text/html": [
       "\n",
       "        <div id=\"BCjifzHU3XsVot8hJ6t4dM\"></div>\n",
       "        <script>netpixi.call('BCjifzHU3XsVot8hJ6t4dM', 'HBKaewv8ikAeXPEvpmSLQV', 'changeGraph', 'eyJpZCI6ICJtYXVyaXRhbmlhIiwgInR5cGUiOiAidmVydGV4IiwgInByb3BzIjogeyJzaXplIjogMTcuOTA5MDkwOTA5MDkwOTF9fQo=');</script>\n",
       "    "
      ],
      "text/plain": [
       "<IPython.core.display.HTML object>"
      ]
     },
     "metadata": {},
     "output_type": "display_data"
    },
    {
     "data": {
      "text/html": [
       "\n",
       "        <div id=\"EpR3qvv4xJ6Z8cRLXtxnSM\"></div>\n",
       "        <script>netpixi.call('EpR3qvv4xJ6Z8cRLXtxnSM', 'HBKaewv8ikAeXPEvpmSLQV', 'changeGraph', 'eyJpZCI6ICJ1c2EiLCAidHlwZSI6ICJ2ZXJ0ZXgiLCAicHJvcHMiOiB7InNpemUiOiAxNi43MjcyNzI3MjcyNzI3Mjd9fQo=');</script>\n",
       "    "
      ],
      "text/plain": [
       "<IPython.core.display.HTML object>"
      ]
     },
     "metadata": {},
     "output_type": "display_data"
    },
    {
     "data": {
      "text/html": [
       "\n",
       "        <div id=\"LFt47cTTC8Hn5CaAUFCrWH\"></div>\n",
       "        <script>netpixi.call('LFt47cTTC8Hn5CaAUFCrWH', 'HBKaewv8ikAeXPEvpmSLQV', 'changeGraph', 'eyJpZCI6ICJ6aW1iYWJ3ZSIsICJ0eXBlIjogInZlcnRleCIsICJwcm9wcyI6IHsic2l6ZSI6IDE0LjI3MjcyNzI3MjcyNzI3M319Cg==');</script>\n",
       "    "
      ],
      "text/plain": [
       "<IPython.core.display.HTML object>"
      ]
     },
     "metadata": {},
     "output_type": "display_data"
    },
    {
     "data": {
      "text/html": [
       "\n",
       "        <div id=\"36tczx9HYpD4DnUhC9iL2Z\"></div>\n",
       "        <script>netpixi.call('36tczx9HYpD4DnUhC9iL2Z', 'HBKaewv8ikAeXPEvpmSLQV', 'changeGraph', 'eyJpZCI6ICJjYW1lcm9vbiIsICJ0eXBlIjogInZlcnRleCIsICJwcm9wcyI6IHsic2l6ZSI6IDQ5LjY0Mjg1NzE0Mjg1NzE0Nn19Cg==');</script>\n",
       "    "
      ],
      "text/plain": [
       "<IPython.core.display.HTML object>"
      ]
     },
     "metadata": {},
     "output_type": "display_data"
    },
    {
     "data": {
      "text/html": [
       "\n",
       "        <div id=\"74RwQcDDw6nFZWYT7dBS3a\"></div>\n",
       "        <script>netpixi.call('74RwQcDDw6nFZWYT7dBS3a', 'HBKaewv8ikAeXPEvpmSLQV', 'changeGraph', 'eyJpZCI6ICJtb2xkb3ZhIiwgInR5cGUiOiAidmVydGV4IiwgInByb3BzIjogeyJzaXplIjogMTIuNDU0NTQ1NDU0NTQ1NDU1fX0K');</script>\n",
       "    "
      ],
      "text/plain": [
       "<IPython.core.display.HTML object>"
      ]
     },
     "metadata": {},
     "output_type": "display_data"
    },
    {
     "data": {
      "text/html": [
       "\n",
       "        <div id=\"kWWuRsJpnvccAoED7phQq7\"></div>\n",
       "        <script>netpixi.call('kWWuRsJpnvccAoED7phQq7', 'HBKaewv8ikAeXPEvpmSLQV', 'changeGraph', 'eyJpZCI6ICJ6YW1iaWEiLCAidHlwZSI6ICJ2ZXJ0ZXgiLCAicHJvcHMiOiB7InNpemUiOiAxNS4wfX0K');</script>\n",
       "    "
      ],
      "text/plain": [
       "<IPython.core.display.HTML object>"
      ]
     },
     "metadata": {},
     "output_type": "display_data"
    },
    {
     "data": {
      "text/html": [
       "\n",
       "        <div id=\"ciH2xHYfrSGd8eG9FGYvaW\"></div>\n",
       "        <script>netpixi.call('ciH2xHYfrSGd8eG9FGYvaW', 'HBKaewv8ikAeXPEvpmSLQV', 'changeGraph', 'eyJpZCI6ICJkb21yZXB1YmxpYyIsICJ0eXBlIjogInZlcnRleCIsICJwcm9wcyI6IHsic2l6ZSI6IDE3LjgxODE4MTgxODE4MTgxN319Cg==');</script>\n",
       "    "
      ],
      "text/plain": [
       "<IPython.core.display.HTML object>"
      ]
     },
     "metadata": {},
     "output_type": "display_data"
    },
    {
     "data": {
      "text/html": [
       "\n",
       "        <div id=\"RUaSsHLytTZ7ZAGGsMegLe\"></div>\n",
       "        <script>netpixi.call('RUaSsHLytTZ7ZAGGsMegLe', 'HBKaewv8ikAeXPEvpmSLQV', 'changeGraph', 'eyJpZCI6ICJpbmRvbmVzaWEiLCAidHlwZSI6ICJ2ZXJ0ZXgiLCAicHJvcHMiOiB7InNpemUiOiAxOC44MTgxODE4MTgxODE4MTd9fQo=');</script>\n",
       "    "
      ],
      "text/plain": [
       "<IPython.core.display.HTML object>"
      ]
     },
     "metadata": {},
     "output_type": "display_data"
    },
    {
     "data": {
      "text/html": [
       "\n",
       "        <div id=\"4BVd7ZCrCPBT2teWvFwebW\"></div>\n",
       "        <script>netpixi.call('4BVd7ZCrCPBT2teWvFwebW', 'HBKaewv8ikAeXPEvpmSLQV', 'changeGraph', 'eyJpZCI6ICJzcGFpbiIsICJ0eXBlIjogInZlcnRleCIsICJwcm9wcyI6IHsic2l6ZSI6IDQ2LjA3MTQyODU3MTQyODU3fX0K');</script>\n",
       "    "
      ],
      "text/plain": [
       "<IPython.core.display.HTML object>"
      ]
     },
     "metadata": {},
     "output_type": "display_data"
    },
    {
     "data": {
      "text/html": [
       "\n",
       "        <div id=\"4a93VXnM65TpovP4NAn832\"></div>\n",
       "        <script>netpixi.call('4a93VXnM65TpovP4NAn832', 'HBKaewv8ikAeXPEvpmSLQV', 'changeGraph', 'eyJpZCI6ICJiZW5pbiIsICJ0eXBlIjogInZlcnRleCIsICJwcm9wcyI6IHsic2l6ZSI6IDE4LjQ1NDU0NTQ1NDU0NTQ1M319Cg==');</script>\n",
       "    "
      ],
      "text/plain": [
       "<IPython.core.display.HTML object>"
      ]
     },
     "metadata": {},
     "output_type": "display_data"
    },
    {
     "data": {
      "text/html": [
       "\n",
       "        <div id=\"io3SNYPfuhYaXANu4sbQy7\"></div>\n",
       "        <script>netpixi.call('io3SNYPfuhYaXANu4sbQy7', 'HBKaewv8ikAeXPEvpmSLQV', 'changeGraph', 'eyJpZCI6ICJsdXhlbWJvdXJnIiwgInR5cGUiOiAidmVydGV4IiwgInByb3BzIjogeyJzaXplIjogMTYuODE4MTgxODE4MTgxODE3fX0K');</script>\n",
       "    "
      ],
      "text/plain": [
       "<IPython.core.display.HTML object>"
      ]
     },
     "metadata": {},
     "output_type": "display_data"
    },
    {
     "data": {
      "text/html": [
       "\n",
       "        <div id=\"SN2yurL7gyyM8mXv9g8Q65\"></div>\n",
       "        <script>netpixi.call('SN2yurL7gyyM8mXv9g8Q65', 'HBKaewv8ikAeXPEvpmSLQV', 'changeGraph', 'eyJpZCI6ICJmcmFuY2UiLCAidHlwZSI6ICJ2ZXJ0ZXgiLCAicHJvcHMiOiB7InNpemUiOiA0Ny44NTcxNDI4NTcxNDI4NTR9fQo=');</script>\n",
       "    "
      ],
      "text/plain": [
       "<IPython.core.display.HTML object>"
      ]
     },
     "metadata": {},
     "output_type": "display_data"
    },
    {
     "data": {
      "text/html": [
       "\n",
       "        <div id=\"CjJ9ifVreLPNkpH2M5sGpv\"></div>\n",
       "        <script>netpixi.call('CjJ9ifVreLPNkpH2M5sGpv', 'HBKaewv8ikAeXPEvpmSLQV', 'changeGraph', 'eyJpZCI6ICJzd2l0emVybGFuZCIsICJ0eXBlIjogInZlcnRleCIsICJwcm9wcyI6IHsic2l6ZSI6IDQzLjkyODU3MTQyODU3MTQzfX0K');</script>\n",
       "    "
      ],
      "text/plain": [
       "<IPython.core.display.HTML object>"
      ]
     },
     "metadata": {},
     "output_type": "display_data"
    },
    {
     "data": {
      "text/html": [
       "\n",
       "        <div id=\"DvzctJeYJTAqof3cAtAWgS\"></div>\n",
       "        <script>netpixi.call('DvzctJeYJTAqof3cAtAWgS', 'HBKaewv8ikAeXPEvpmSLQV', 'changeGraph', 'eyJpZCI6ICJsaWJ5YSIsICJ0eXBlIjogInZlcnRleCIsICJwcm9wcyI6IHsic2l6ZSI6IDEyLjU0NTQ1NDU0NTQ1NDU0NX19Cg==');</script>\n",
       "    "
      ],
      "text/plain": [
       "<IPython.core.display.HTML object>"
      ]
     },
     "metadata": {},
     "output_type": "display_data"
    },
    {
     "data": {
      "text/html": [
       "\n",
       "        <div id=\"cBiyK9HEZVNApYfyTvsdAP\"></div>\n",
       "        <script>netpixi.call('cBiyK9HEZVNApYfyTvsdAP', 'HBKaewv8ikAeXPEvpmSLQV', 'changeGraph', 'eyJpZCI6ICJzbG92YWtpYSIsICJ0eXBlIjogInZlcnRleCIsICJwcm9wcyI6IHsic2l6ZSI6IDE1LjA5MDkwOTA5MDkwOTA5fX0K');</script>\n",
       "    "
      ],
      "text/plain": [
       "<IPython.core.display.HTML object>"
      ]
     },
     "metadata": {},
     "output_type": "display_data"
    },
    {
     "data": {
      "text/html": [
       "\n",
       "        <div id=\"bGmxsCqFeWe76WuzsHR8B4\"></div>\n",
       "        <script>netpixi.call('bGmxsCqFeWe76WuzsHR8B4', 'HBKaewv8ikAeXPEvpmSLQV', 'changeGraph', 'eyJpZCI6ICJiZWxnaXVtIiwgInR5cGUiOiAidmVydGV4IiwgInByb3BzIjogeyJzaXplIjogNDUuMzU3MTQyODU3MTQyODU0fX0K');</script>\n",
       "    "
      ],
      "text/plain": [
       "<IPython.core.display.HTML object>"
      ]
     },
     "metadata": {},
     "output_type": "display_data"
    },
    {
     "data": {
      "text/html": [
       "\n",
       "        <div id=\"F5gDGuz3nXcgPtcDEuJwb6\"></div>\n",
       "        <script>netpixi.call('F5gDGuz3nXcgPtcDEuJwb6', 'HBKaewv8ikAeXPEvpmSLQV', 'changeGraph', 'eyJpZCI6ICJlbHNhbHZhZG9yIiwgInR5cGUiOiAidmVydGV4IiwgInByb3BzIjogeyJzaXplIjogMTEuMDkwOTA5MDkwOTA5MDl9fQo=');</script>\n",
       "    "
      ],
      "text/plain": [
       "<IPython.core.display.HTML object>"
      ]
     },
     "metadata": {},
     "output_type": "display_data"
    },
    {
     "data": {
      "text/html": [
       "\n",
       "        <div id=\"XAHM4bqvLkzQWvrD7kHPxf\"></div>\n",
       "        <script>netpixi.call('XAHM4bqvLkzQWvrD7kHPxf', 'HBKaewv8ikAeXPEvpmSLQV', 'changeGraph', 'eyJpZCI6ICJoYWl0aSIsICJ0eXBlIjogInZlcnRleCIsICJwcm9wcyI6IHsic2l6ZSI6IDE0LjYzNjM2MzYzNjM2MzYzN319Cg==');</script>\n",
       "    "
      ],
      "text/plain": [
       "<IPython.core.display.HTML object>"
      ]
     },
     "metadata": {},
     "output_type": "display_data"
    },
    {
     "data": {
      "text/html": [
       "\n",
       "        <div id=\"iUHi8iEkC5BYshUCr5xw5v\"></div>\n",
       "        <script>netpixi.call('iUHi8iEkC5BYshUCr5xw5v', 'HBKaewv8ikAeXPEvpmSLQV', 'changeGraph', 'eyJpZCI6ICJzZW5lZ2FsIiwgInR5cGUiOiAidmVydGV4IiwgInByb3BzIjogeyJzaXplIjogMTkuNzI3MjcyNzI3MjcyNzI3fX0K');</script>\n",
       "    "
      ],
      "text/plain": [
       "<IPython.core.display.HTML object>"
      ]
     },
     "metadata": {},
     "output_type": "display_data"
    },
    {
     "data": {
      "text/html": [
       "\n",
       "        <div id=\"U9Kc4rxZWzZo26SWtxassA\"></div>\n",
       "        <script>netpixi.call('U9Kc4rxZWzZo26SWtxassA', 'HBKaewv8ikAeXPEvpmSLQV', 'changeGraph', 'eyJpZCI6ICJzb2tvcmVhIiwgInR5cGUiOiAidmVydGV4IiwgInByb3BzIjogeyJzaXplIjogNDEuMDcxNDI4NTcxNDI4NTd9fQo=');</script>\n",
       "    "
      ],
      "text/plain": [
       "<IPython.core.display.HTML object>"
      ]
     },
     "metadata": {},
     "output_type": "display_data"
    },
    {
     "data": {
      "text/html": [
       "\n",
       "        <div id=\"TgHGjY8uUACTMkjxu4wDkX\"></div>\n",
       "        <script>netpixi.call('TgHGjY8uUACTMkjxu4wDkX', 'HBKaewv8ikAeXPEvpmSLQV', 'changeGraph', 'eyJpZCI6ICJ1YWUiLCAidHlwZSI6ICJ2ZXJ0ZXgiLCAicHJvcHMiOiB7InNpemUiOiAxMy43MjcyNzI3MjcyNzI3Mjd9fQo=');</script>\n",
       "    "
      ],
      "text/plain": [
       "<IPython.core.display.HTML object>"
      ]
     },
     "metadata": {},
     "output_type": "display_data"
    },
    {
     "data": {
      "text/html": [
       "\n",
       "        <div id=\"c46WGDDQMQMSPvn6UgAYFH\"></div>\n",
       "        <script>netpixi.call('c46WGDDQMQMSPvn6UgAYFH', 'HBKaewv8ikAeXPEvpmSLQV', 'changeGraph', 'eyJpZCI6ICJtb3JvY2NvIiwgInR5cGUiOiAidmVydGV4IiwgInByb3BzIjogeyJzaXplIjogNDguMjE0Mjg1NzE0Mjg1NzF9fQo=');</script>\n",
       "    "
      ],
      "text/plain": [
       "<IPython.core.display.HTML object>"
      ]
     },
     "metadata": {},
     "output_type": "display_data"
    },
    {
     "data": {
      "text/html": [
       "\n",
       "        <div id=\"GD39iPPN5ESNZvGYzzzRgQ\"></div>\n",
       "        <script>netpixi.call('GD39iPPN5ESNZvGYzzzRgQ', 'HBKaewv8ikAeXPEvpmSLQV', 'changeGraph', 'eyJpZCI6ICJwb2xhbmQiLCAidHlwZSI6ICJ2ZXJ0ZXgiLCAicHJvcHMiOiB7InNpemUiOiAxOS4yNzI3MjcyNzI3MjcyNzN9fQo=');</script>\n",
       "    "
      ],
      "text/plain": [
       "<IPython.core.display.HTML object>"
      ]
     },
     "metadata": {},
     "output_type": "display_data"
    },
    {
     "data": {
      "text/html": [
       "\n",
       "        <div id=\"6Jbomw5kgJ72rgZQBYKM3u\"></div>\n",
       "        <script>netpixi.call('6Jbomw5kgJ72rgZQBYKM3u', 'HBKaewv8ikAeXPEvpmSLQV', 'changeGraph', 'eyJpZCI6ICJodW5nYXJ5IiwgInR5cGUiOiAidmVydGV4IiwgInByb3BzIjogeyJzaXplIjogMTYuMH19Cg==');</script>\n",
       "    "
      ],
      "text/plain": [
       "<IPython.core.display.HTML object>"
      ]
     },
     "metadata": {},
     "output_type": "display_data"
    },
    {
     "data": {
      "text/html": [
       "\n",
       "        <div id=\"PF6Zt8ePuwuPPRFzzfheTr\"></div>\n",
       "        <script>netpixi.call('PF6Zt8ePuwuPPRFzzfheTr', 'HBKaewv8ikAeXPEvpmSLQV', 'changeGraph', 'eyJpZCI6ICJzYXVkaWFyYWJpYSIsICJ0eXBlIjogInZlcnRleCIsICJwcm9wcyI6IHsic2l6ZSI6IDE3LjcyNzI3MjcyNzI3MjcyN319Cg==');</script>\n",
       "    "
      ],
      "text/plain": [
       "<IPython.core.display.HTML object>"
      ]
     },
     "metadata": {},
     "output_type": "display_data"
    },
    {
     "data": {
      "text/html": [
       "\n",
       "        <div id=\"haEmnp9TBL6swFe8A57HYb\"></div>\n",
       "        <script>netpixi.call('haEmnp9TBL6swFe8A57HYb', 'HBKaewv8ikAeXPEvpmSLQV', 'changeGraph', 'eyJpZCI6ICJ2ZW5lenVlbGEiLCAidHlwZSI6ICJ2ZXJ0ZXgiLCAicHJvcHMiOiB7InNpemUiOiAxNi42MzYzNjM2MzYzNjM2Mzd9fQo=');</script>\n",
       "    "
      ],
      "text/plain": [
       "<IPython.core.display.HTML object>"
      ]
     },
     "metadata": {},
     "output_type": "display_data"
    },
    {
     "data": {
      "text/html": [
       "\n",
       "        <div id=\"8N5ErW6Bu7Vx23JtvPguKV\"></div>\n",
       "        <script>netpixi.call('8N5ErW6Bu7Vx23JtvPguKV', 'HBKaewv8ikAeXPEvpmSLQV', 'changeGraph', 'eyJpZCI6ICJzb2FmcmljYSIsICJ0eXBlIjogInZlcnRleCIsICJwcm9wcyI6IHsic2l6ZSI6IDQ2Ljc4NTcxNDI4NTcxNDI5fX0K');</script>\n",
       "    "
      ],
      "text/plain": [
       "<IPython.core.display.HTML object>"
      ]
     },
     "metadata": {},
     "output_type": "display_data"
    },
    {
     "data": {
      "text/html": [
       "\n",
       "        <div id=\"Mq2Vm3BPUD5ucifZYa9iSm\"></div>\n",
       "        <script>netpixi.call('Mq2Vm3BPUD5ucifZYa9iSm', 'HBKaewv8ikAeXPEvpmSLQV', 'changeGraph', 'eyJpZCI6ICJpY2VsYW5kIiwgInR5cGUiOiAidmVydGV4IiwgInByb3BzIjogeyJzaXplIjogMTMuMzYzNjM2MzYzNjM2MzYzfX0K');</script>\n",
       "    "
      ],
      "text/plain": [
       "<IPython.core.display.HTML object>"
      ]
     },
     "metadata": {},
     "output_type": "display_data"
    },
    {
     "data": {
      "text/html": [
       "\n",
       "        <div id=\"5TaKdoEtWQ3e7UWurTULLW\"></div>\n",
       "        <script>netpixi.call('5TaKdoEtWQ3e7UWurTULLW', 'HBKaewv8ikAeXPEvpmSLQV', 'changeGraph', 'eyJpZCI6ICJrYXpha2hzdGFuIiwgInR5cGUiOiAidmVydGV4IiwgInByb3BzIjogeyJzaXplIjogMTIuMTgxODE4MTgxODE4MTgyfX0K');</script>\n",
       "    "
      ],
      "text/plain": [
       "<IPython.core.display.HTML object>"
      ]
     },
     "metadata": {},
     "output_type": "display_data"
    },
    {
     "data": {
      "text/html": [
       "\n",
       "        <div id=\"Hu3PqFa7jEqBmAtC3h7fTU\"></div>\n",
       "        <script>netpixi.call('Hu3PqFa7jEqBmAtC3h7fTU', 'HBKaewv8ikAeXPEvpmSLQV', 'changeGraph', 'eyJpZCI6ICJzcmlsYW5rYSIsICJ0eXBlIjogInZlcnRleCIsICJwcm9wcyI6IHsic2l6ZSI6IDE3LjM2MzYzNjM2MzYzNjM2M319Cg==');</script>\n",
       "    "
      ],
      "text/plain": [
       "<IPython.core.display.HTML object>"
      ]
     },
     "metadata": {},
     "output_type": "display_data"
    },
    {
     "data": {
      "text/html": [
       "\n",
       "        <div id=\"GdyqGMSnvdpdgZbGFdTpCh\"></div>\n",
       "        <script>netpixi.call('GdyqGMSnvdpdgZbGFdTpCh', 'HBKaewv8ikAeXPEvpmSLQV', 'changeGraph', 'eyJpZCI6ICJiZWxhcnVzIiwgInR5cGUiOiAidmVydGV4IiwgInByb3BzIjogeyJzaXplIjogMTEuODE4MTgxODE4MTgxODE4fX0K');</script>\n",
       "    "
      ],
      "text/plain": [
       "<IPython.core.display.HTML object>"
      ]
     },
     "metadata": {},
     "output_type": "display_data"
    },
    {
     "data": {
      "text/html": [
       "\n",
       "        <div id=\"B5phHKVLehcVumNHAHBEQ5\"></div>\n",
       "        <script>netpixi.call('B5phHKVLehcVumNHAHBEQ5', 'HBKaewv8ikAeXPEvpmSLQV', 'changeGraph', 'eyJpZCI6ICJib2xpdmlhIiwgInR5cGUiOiAidmVydGV4IiwgInByb3BzIjogeyJzaXplIjogMTUuNjM2MzYzNjM2MzYzNjM3fX0K');</script>\n",
       "    "
      ],
      "text/plain": [
       "<IPython.core.display.HTML object>"
      ]
     },
     "metadata": {},
     "output_type": "display_data"
    },
    {
     "data": {
      "text/html": [
       "\n",
       "        <div id=\"nnWqjNPrYWND28jjJACaKL\"></div>\n",
       "        <script>netpixi.call('nnWqjNPrYWND28jjJACaKL', 'HBKaewv8ikAeXPEvpmSLQV', 'changeGraph', 'eyJpZCI6ICJjYXIiLCAidHlwZSI6ICJ2ZXJ0ZXgiLCAicHJvcHMiOiB7InNpemUiOiAxMS45MDkwOTA5MDkwOTA5MDh9fQo=');</script>\n",
       "    "
      ],
      "text/plain": [
       "<IPython.core.display.HTML object>"
      ]
     },
     "metadata": {},
     "output_type": "display_data"
    },
    {
     "data": {
      "text/html": [
       "\n",
       "        <div id=\"U4jX4GezqUrP4YfAuRenpo\"></div>\n",
       "        <script>netpixi.call('U4jX4GezqUrP4YfAuRenpo', 'HBKaewv8ikAeXPEvpmSLQV', 'changeGraph', 'eyJpZCI6ICJsZWJhbm9uIiwgInR5cGUiOiAidmVydGV4IiwgInByb3BzIjogeyJzaXplIjogMTQuMTgxODE4MTgxODE4MTgyfX0K');</script>\n",
       "    "
      ],
      "text/plain": [
       "<IPython.core.display.HTML object>"
      ]
     },
     "metadata": {},
     "output_type": "display_data"
    },
    {
     "data": {
      "text/html": [
       "\n",
       "        <div id=\"h42ZBry4eAbGbkhzVWzo2b\"></div>\n",
       "        <script>netpixi.call('h42ZBry4eAbGbkhzVWzo2b', 'HBKaewv8ikAeXPEvpmSLQV', 'changeGraph', 'eyJpZCI6ICJlY3VhZG9yIiwgInR5cGUiOiAidmVydGV4IiwgInByb3BzIjogeyJzaXplIjogMTguMTgxODE4MTgxODE4MTh9fQo=');</script>\n",
       "    "
      ],
      "text/plain": [
       "<IPython.core.display.HTML object>"
      ]
     },
     "metadata": {},
     "output_type": "display_data"
    },
    {
     "data": {
      "text/html": [
       "\n",
       "        <div id=\"M93hERjUADBc759YoVukLW\"></div>\n",
       "        <script>netpixi.call('M93hERjUADBc759YoVukLW', 'HBKaewv8ikAeXPEvpmSLQV', 'changeGraph', 'eyJpZCI6ICJncmVlY2UiLCAidHlwZSI6ICJ2ZXJ0ZXgiLCAicHJvcHMiOiB7InNpemUiOiA0MC4zNTcxNDI4NTcxNDI4NTR9fQo=');</script>\n",
       "    "
      ],
      "text/plain": [
       "<IPython.core.display.HTML object>"
      ]
     },
     "metadata": {},
     "output_type": "display_data"
    },
    {
     "data": {
      "text/html": [
       "\n",
       "        <div id=\"BiRCe9LCiRsf9J48x82QrA\"></div>\n",
       "        <script>netpixi.call('BiRCe9LCiRsf9J48x82QrA', 'HBKaewv8ikAeXPEvpmSLQV', 'changeGraph', 'eyJpZCI6ICJ0dXJrZXkiLCAidHlwZSI6ICJ2ZXJ0ZXgiLCAicHJvcHMiOiB7InNpemUiOiAxOC4yNzI3MjcyNzI3MjcyNzN9fQo=');</script>\n",
       "    "
      ],
      "text/plain": [
       "<IPython.core.display.HTML object>"
      ]
     },
     "metadata": {},
     "output_type": "display_data"
    },
    {
     "data": {
      "text/html": [
       "\n",
       "        <div id=\"JHBhWYpNvuH6vDk6N4Bzf2\"></div>\n",
       "        <script>netpixi.call('JHBhWYpNvuH6vDk6N4Bzf2', 'HBKaewv8ikAeXPEvpmSLQV', 'changeGraph', 'eyJpZCI6ICJ1cnVndWF5IiwgInR5cGUiOiAidmVydGV4IiwgInByb3BzIjogeyJzaXplIjogMTYuMzYzNjM2MzYzNjM2MzYzfX0K');</script>\n",
       "    "
      ],
      "text/plain": [
       "<IPython.core.display.HTML object>"
      ]
     },
     "metadata": {},
     "output_type": "display_data"
    },
    {
     "data": {
      "text/html": [
       "\n",
       "        <div id=\"HVGTKivu5HAmBNByDd9YhV\"></div>\n",
       "        <script>netpixi.call('HVGTKivu5HAmBNByDd9YhV', 'HBKaewv8ikAeXPEvpmSLQV', 'changeGraph', 'eyJpZCI6ICJmaW5sYW5kIiwgInR5cGUiOiAidmVydGV4IiwgInByb3BzIjogeyJzaXplIjogNDQuNjQyODU3MTQyODU3MTQ2fX0K');</script>\n",
       "    "
      ],
      "text/plain": [
       "<IPython.core.display.HTML object>"
      ]
     },
     "metadata": {},
     "output_type": "display_data"
    },
    {
     "data": {
      "text/html": [
       "\n",
       "        <div id=\"gCyxYDXHhzj7Wx9SPbwn9u\"></div>\n",
       "        <script>netpixi.call('gCyxYDXHhzj7Wx9SPbwn9u', 'HBKaewv8ikAeXPEvpmSLQV', 'changeGraph', 'eyJpZCI6ICJqb3JkYW4iLCAidHlwZSI6ICJ2ZXJ0ZXgiLCAicHJvcHMiOiB7InNpemUiOiAxNy40NTQ1NDU0NTQ1NDU0NTN9fQo=');</script>\n",
       "    "
      ],
      "text/plain": [
       "<IPython.core.display.HTML object>"
      ]
     },
     "metadata": {},
     "output_type": "display_data"
    },
    {
     "data": {
      "text/html": [
       "\n",
       "        <div id=\"VEQYYvmcXCDqCnGxEcLnRJ\"></div>\n",
       "        <script>netpixi.call('VEQYYvmcXCDqCnGxEcLnRJ', 'HBKaewv8ikAeXPEvpmSLQV', 'changeGraph', 'eyJpZCI6ICJjaGluYSIsICJ0eXBlIjogInZlcnRleCIsICJwcm9wcyI6IHsic2l6ZSI6IDQyLjV9fQo=');</script>\n",
       "    "
      ],
      "text/plain": [
       "<IPython.core.display.HTML object>"
      ]
     },
     "metadata": {},
     "output_type": "display_data"
    },
    {
     "data": {
      "text/html": [
       "\n",
       "        <div id=\"MneqTnq2rhi4waVzMAxJsT\"></div>\n",
       "        <script>netpixi.call('MneqTnq2rhi4waVzMAxJsT', 'HBKaewv8ikAeXPEvpmSLQV', 'changeGraph', 'eyJpZCI6ICJjaGFkIiwgInR5cGUiOiAidmVydGV4IiwgInByb3BzIjogeyJzaXplIjogMTIuNjM2MzYzNjM2MzYzNjM3fX0K');</script>\n",
       "    "
      ],
      "text/plain": [
       "<IPython.core.display.HTML object>"
      ]
     },
     "metadata": {},
     "output_type": "display_data"
    },
    {
     "data": {
      "text/html": [
       "\n",
       "        <div id=\"44qUsVbKdPVLXL2F3GzKEi\"></div>\n",
       "        <script>netpixi.call('44qUsVbKdPVLXL2F3GzKEi', 'HBKaewv8ikAeXPEvpmSLQV', 'changeGraph', 'eyJpZCI6ICJpcmFuIiwgInR5cGUiOiAidmVydGV4IiwgInByb3BzIjogeyJzaXplIjogMTQuMzYzNjM2MzYzNjM2MzYzfX0K');</script>\n",
       "    "
      ],
      "text/plain": [
       "<IPython.core.display.HTML object>"
      ]
     },
     "metadata": {},
     "output_type": "display_data"
    },
    {
     "data": {
      "text/html": [
       "\n",
       "        <div id=\"KQnJHgjEjcGkXyUMcMvPEs\"></div>\n",
       "        <script>netpixi.call('KQnJHgjEjcGkXyUMcMvPEs', 'HBKaewv8ikAeXPEvpmSLQV', 'changeGraph', 'eyJpZCI6ICJpdGFseSIsICJ0eXBlIjogInZlcnRleCIsICJwcm9wcyI6IHsic2l6ZSI6IDQzLjU3MTQyODU3MTQyODU3fX0K');</script>\n",
       "    "
      ],
      "text/plain": [
       "<IPython.core.display.HTML object>"
      ]
     },
     "metadata": {},
     "output_type": "display_data"
    },
    {
     "data": {
      "text/html": [
       "\n",
       "        <div id=\"9kcRc6cxrcVVqw8vG2Z5TG\"></div>\n",
       "        <script>netpixi.call('9kcRc6cxrcVVqw8vG2Z5TG', 'HBKaewv8ikAeXPEvpmSLQV', 'changeGraph', 'eyJpZCI6ICJwYWtpc3RhbiIsICJ0eXBlIjogInZlcnRleCIsICJwcm9wcyI6IHsic2l6ZSI6IDIwLjB9fQo=');</script>\n",
       "    "
      ],
      "text/plain": [
       "<IPython.core.display.HTML object>"
      ]
     },
     "metadata": {},
     "output_type": "display_data"
    },
    {
     "data": {
      "text/html": [
       "\n",
       "        <div id=\"6eoVerYFiFcZrMcoBWvuMG\"></div>\n",
       "        <script>netpixi.call('6eoVerYFiFcZrMcoBWvuMG', 'HBKaewv8ikAeXPEvpmSLQV', 'changeGraph', 'eyJpZCI6ICJwb3J0dWdhbCIsICJ0eXBlIjogInZlcnRleCIsICJwcm9wcyI6IHsic2l6ZSI6IDQxLjc4NTcxNDI4NTcxNDI4NX19Cg==');</script>\n",
       "    "
      ],
      "text/plain": [
       "<IPython.core.display.HTML object>"
      ]
     },
     "metadata": {},
     "output_type": "display_data"
    },
    {
     "data": {
      "text/html": [
       "\n",
       "        <div id=\"24AYkuYBU6Hdb9iSipPXrk\"></div>\n",
       "        <script>netpixi.call('24AYkuYBU6Hdb9iSipPXrk', 'HBKaewv8ikAeXPEvpmSLQV', 'changeGraph', 'eyJpZCI6ICJpdm9yeWNvYXN0IiwgInR5cGUiOiAidmVydGV4IiwgInByb3BzIjogeyJzaXplIjogMTcuMTgxODE4MTgxODE4MTh9fQo=');</script>\n",
       "    "
      ],
      "text/plain": [
       "<IPython.core.display.HTML object>"
      ]
     },
     "metadata": {},
     "output_type": "display_data"
    },
    {
     "data": {
      "text/html": [
       "\n",
       "        <div id=\"hKVWgQ8N25wjCVYd6qL4nj\"></div>\n",
       "        <script>netpixi.call('hKVWgQ8N25wjCVYd6qL4nj', 'HBKaewv8ikAeXPEvpmSLQV', 'changeGraph', 'eyJpZCI6ICJtYXVyaXRpdXMiLCAidHlwZSI6ICJ2ZXJ0ZXgiLCAicHJvcHMiOiB7InNpemUiOiAxOC4wOTA5MDkwOTA5MDkwOX19Cg==');</script>\n",
       "    "
      ],
      "text/plain": [
       "<IPython.core.display.HTML object>"
      ]
     },
     "metadata": {},
     "output_type": "display_data"
    },
    {
     "data": {
      "text/html": [
       "\n",
       "        <div id=\"cMgWzUYUxDNdfwi6QXYfLS\"></div>\n",
       "        <script>netpixi.call('cMgWzUYUxDNdfwi6QXYfLS', 'HBKaewv8ikAeXPEvpmSLQV', 'changeGraph', 'eyJpZCI6ICJuaWdlcmlhIiwgInR5cGUiOiAidmVydGV4IiwgInByb3BzIjogeyJzaXplIjogNDYuNDI4NTcxNDI4NTcxNDN9fQo=');</script>\n",
       "    "
      ],
      "text/plain": [
       "<IPython.core.display.HTML object>"
      ]
     },
     "metadata": {},
     "output_type": "display_data"
    },
    {
     "data": {
      "text/html": [
       "\n",
       "        <div id=\"Jj5fQs2QdLjFn7TAg8xHcB\"></div>\n",
       "        <script>netpixi.call('Jj5fQs2QdLjFn7TAg8xHcB', 'HBKaewv8ikAeXPEvpmSLQV', 'changeGraph', 'eyJpZCI6ICJsaWJlcmlhIiwgInR5cGUiOiAidmVydGV4IiwgInByb3BzIjogeyJzaXplIjogMTEuNzI3MjcyNzI3MjcyNzI3fX0K');</script>\n",
       "    "
      ],
      "text/plain": [
       "<IPython.core.display.HTML object>"
      ]
     },
     "metadata": {},
     "output_type": "display_data"
    },
    {
     "data": {
      "text/html": [
       "\n",
       "        <div id=\"fMrogpXmut25g2nMn4cTCr\"></div>\n",
       "        <script>netpixi.call('fMrogpXmut25g2nMn4cTCr', 'HBKaewv8ikAeXPEvpmSLQV', 'changeGraph', 'eyJpZCI6ICJ0aGFpbGFuZCIsICJ0eXBlIjogInZlcnRleCIsICJwcm9wcyI6IHsic2l6ZSI6IDE4LjcyNzI3MjcyNzI3MjcyN319Cg==');</script>\n",
       "    "
      ],
      "text/plain": [
       "<IPython.core.display.HTML object>"
      ]
     },
     "metadata": {},
     "output_type": "display_data"
    },
    {
     "data": {
      "text/html": [
       "\n",
       "        <div id=\"3XA9E9z578VBAjGbMY89JT\"></div>\n",
       "        <script>netpixi.call('3XA9E9z578VBAjGbMY89JT', 'HBKaewv8ikAeXPEvpmSLQV', 'changeGraph', 'eyJpZCI6ICJmeXJvbWFjZWRvbmlhIiwgInR5cGUiOiAidmVydGV4IiwgInByb3BzIjogeyJzaXplIjogMTEuMTgxODE4MTgxODE4MTgyfX0K');</script>\n",
       "    "
      ],
      "text/plain": [
       "<IPython.core.display.HTML object>"
      ]
     },
     "metadata": {},
     "output_type": "display_data"
    },
    {
     "data": {
      "text/html": [
       "\n",
       "        <div id=\"jXeR4F7UWpDmYUYjiggW2b\"></div>\n",
       "        <script>netpixi.call('jXeR4F7UWpDmYUYjiggW2b', 'HBKaewv8ikAeXPEvpmSLQV', 'changeGraph', 'eyJpZCI6ICJtb25nb2xpYSIsICJ0eXBlIjogInZlcnRleCIsICJwcm9wcyI6IHsic2l6ZSI6IDE0LjkwOTA5MDkwOTA5MDkxfX0K');</script>\n",
       "    "
      ],
      "text/plain": [
       "<IPython.core.display.HTML object>"
      ]
     },
     "metadata": {},
     "output_type": "display_data"
    },
    {
     "data": {
      "text/html": [
       "\n",
       "        <div id=\"W5meWi5CWASRrdNuXw6wj2\"></div>\n",
       "        <script>netpixi.call('W5meWi5CWASRrdNuXw6wj2', 'HBKaewv8ikAeXPEvpmSLQV', 'changeGraph', 'eyJpZCI6ICJjcm9hdGlhIiwgInR5cGUiOiAidmVydGV4IiwgInByb3BzIjogeyJzaXplIjogMTUuNzI3MjcyNzI3MjcyNzI3fX0K');</script>\n",
       "    "
      ],
      "text/plain": [
       "<IPython.core.display.HTML object>"
      ]
     },
     "metadata": {},
     "output_type": "display_data"
    },
    {
     "data": {
      "text/html": [
       "\n",
       "        <div id=\"Ly9iLJX2PMjsYgp6x7vuDD\"></div>\n",
       "        <script>netpixi.call('Ly9iLJX2PMjsYgp6x7vuDD', 'HBKaewv8ikAeXPEvpmSLQV', 'changeGraph', 'eyJpZCI6ICJrZW55YSIsICJ0eXBlIjogInZlcnRleCIsICJwcm9wcyI6IHsic2l6ZSI6IDQzLjIxNDI4NTcxNDI4NTcxNX19Cg==');</script>\n",
       "    "
      ],
      "text/plain": [
       "<IPython.core.display.HTML object>"
      ]
     },
     "metadata": {},
     "output_type": "display_data"
    },
    {
     "data": {
      "text/html": [
       "\n",
       "        <div id=\"AYLMEhUYV2TikwQy4y2ikm\"></div>\n",
       "        <script>netpixi.call('AYLMEhUYV2TikwQy4y2ikm', 'HBKaewv8ikAeXPEvpmSLQV', 'changeGraph', 'eyJpZCI6ICJ0dW5pc2lhIiwgInR5cGUiOiAidmVydGV4IiwgInByb3BzIjogeyJzaXplIjogNDkuMjg1NzE0Mjg1NzE0Mjl9fQo=');</script>\n",
       "    "
      ],
      "text/plain": [
       "<IPython.core.display.HTML object>"
      ]
     },
     "metadata": {},
     "output_type": "display_data"
    },
    {
     "data": {
      "text/html": [
       "\n",
       "        <div id=\"8jGPfoXKJvK8XCsCXofryZ\"></div>\n",
       "        <script>netpixi.call('8jGPfoXKJvK8XCsCXofryZ', 'HBKaewv8ikAeXPEvpmSLQV', 'changeGraph', 'eyJpZCI6ICJhbGJhbmlhIiwgInR5cGUiOiAidmVydGV4IiwgInByb3BzIjogeyJzaXplIjogMTQuODE4MTgxODE4MTgxODE4fX0K');</script>\n",
       "    "
      ],
      "text/plain": [
       "<IPython.core.display.HTML object>"
      ]
     },
     "metadata": {},
     "output_type": "display_data"
    },
    {
     "data": {
      "text/html": [
       "\n",
       "        <div id=\"GcuQVrvfTNTFyRRRnkeCwN\"></div>\n",
       "        <script>netpixi.call('GcuQVrvfTNTFyRRRnkeCwN', 'HBKaewv8ikAeXPEvpmSLQV', 'changeGraph', 'eyJpZCI6ICJtYWxpIiwgInR5cGUiOiAidmVydGV4IiwgInByb3BzIjogeyJzaXplIjogMTQuNDU0NTQ1NDU0NTQ1NDUzfX0K');</script>\n",
       "    "
      ],
      "text/plain": [
       "<IPython.core.display.HTML object>"
      ]
     },
     "metadata": {},
     "output_type": "display_data"
    },
    {
     "data": {
      "text/html": [
       "\n",
       "        <div id=\"8a4JTbiNQNR3VNCgBppw6p\"></div>\n",
       "        <script>netpixi.call('8a4JTbiNQNR3VNCgBppw6p', 'HBKaewv8ikAeXPEvpmSLQV', 'changeGraph', 'eyJpZCI6ICJzd2VkZW4iLCAidHlwZSI6ICJ2ZXJ0ZXgiLCAicHJvcHMiOiB7InNpemUiOiA0OC45Mjg1NzE0Mjg1NzE0M319Cg==');</script>\n",
       "    "
      ],
      "text/plain": [
       "<IPython.core.display.HTML object>"
      ]
     },
     "metadata": {},
     "output_type": "display_data"
    },
    {
     "data": {
      "text/html": [
       "\n",
       "        <div id=\"naM9EWUEBKEGptnSfWem3k\"></div>\n",
       "        <script>netpixi.call('naM9EWUEBKEGptnSfWem3k', 'HBKaewv8ikAeXPEvpmSLQV', 'changeGraph', 'eyJpZCI6ICJidWxnYXJpYSIsICJ0eXBlIjogInZlcnRleCIsICJwcm9wcyI6IHsic2l6ZSI6IDE5LjgxODE4MTgxODE4MTgyfX0K');</script>\n",
       "    "
      ],
      "text/plain": [
       "<IPython.core.display.HTML object>"
      ]
     },
     "metadata": {},
     "output_type": "display_data"
    },
    {
     "data": {
      "text/html": [
       "\n",
       "        <div id=\"3G6mJ2enC8kuR7ZwZd7a3f\"></div>\n",
       "        <script>netpixi.call('3G6mJ2enC8kuR7ZwZd7a3f', 'HBKaewv8ikAeXPEvpmSLQV', 'changeGraph', 'eyJpZCI6ICJhdXN0cmFsaWEiLCAidHlwZSI6ICJ2ZXJ0ZXgiLCAicHJvcHMiOiB7InNpemUiOiAxOS4zNjM2MzYzNjM2MzYzNjN9fQo=');</script>\n",
       "    "
      ],
      "text/plain": [
       "<IPython.core.display.HTML object>"
      ]
     },
     "metadata": {},
     "output_type": "display_data"
    },
    {
     "data": {
      "text/html": [
       "\n",
       "        <div id=\"KEcqik98VeYq6j9knz3ssD\"></div>\n",
       "        <script>netpixi.call('KEcqik98VeYq6j9knz3ssD', 'HBKaewv8ikAeXPEvpmSLQV', 'changeGraph', 'eyJpZCI6ICJjb2xvbWJpYSIsICJ0eXBlIjogInZlcnRleCIsICJwcm9wcyI6IHsic2l6ZSI6IDE3LjU0NTQ1NDU0NTQ1NDU0N319Cg==');</script>\n",
       "    "
      ],
      "text/plain": [
       "<IPython.core.display.HTML object>"
      ]
     },
     "metadata": {},
     "output_type": "display_data"
    },
    {
     "data": {
      "text/html": [
       "\n",
       "        <div id=\"iFMMyGCZDLMkA44fXpkWon\"></div>\n",
       "        <script>netpixi.call('iFMMyGCZDLMkA44fXpkWon', 'HBKaewv8ikAeXPEvpmSLQV', 'changeGraph', 'eyJpZCI6ICJicmF6aWwiLCAidHlwZSI6ICJ2ZXJ0ZXgiLCAicHJvcHMiOiB7InNpemUiOiAxOS4wfX0K');</script>\n",
       "    "
      ],
      "text/plain": [
       "<IPython.core.display.HTML object>"
      ]
     },
     "metadata": {},
     "output_type": "display_data"
    },
    {
     "data": {
      "text/html": [
       "\n",
       "        <div id=\"8k8LdbUrvuk6pbMX5ACgQr\"></div>\n",
       "        <script>netpixi.call('8k8LdbUrvuk6pbMX5ACgQr', 'HBKaewv8ikAeXPEvpmSLQV', 'changeGraph', 'eyJpZCI6ICJuZXd6ZWFsYW5kIiwgInR5cGUiOiAidmVydGV4IiwgInByb3BzIjogeyJzaXplIjogMTYuMDkwOTA5MDkwOTA5MDl9fQo=');</script>\n",
       "    "
      ],
      "text/plain": [
       "<IPython.core.display.HTML object>"
      ]
     },
     "metadata": {},
     "output_type": "display_data"
    },
    {
     "data": {
      "text/html": [
       "\n",
       "        <div id=\"N4Qm9NK2UqhQHxdFA9ZCuq\"></div>\n",
       "        <script>netpixi.call('N4Qm9NK2UqhQHxdFA9ZCuq', 'HBKaewv8ikAeXPEvpmSLQV', 'changeGraph', 'eyJpZCI6ICJiYW5nbGFkZXNoIiwgInR5cGUiOiAidmVydGV4IiwgInByb3BzIjogeyJzaXplIjogMTUuMjcyNzI3MjcyNzI3MjczfX0K');</script>\n",
       "    "
      ],
      "text/plain": [
       "<IPython.core.display.HTML object>"
      ]
     },
     "metadata": {},
     "output_type": "display_data"
    },
    {
     "data": {
      "text/html": [
       "\n",
       "        <div id=\"YVexoHq4DnQ9iE6gUduxfe\"></div>\n",
       "        <script>netpixi.call('YVexoHq4DnQ9iE6gUduxfe', 'HBKaewv8ikAeXPEvpmSLQV', 'changeGraph', 'eyJpZCI6ICJhcm1lbmlhIiwgInR5cGUiOiAidmVydGV4IiwgInByb3BzIjogeyJzaXplIjogMTAuNzI3MjcyNzI3MjcyNzI3fX0K');</script>\n",
       "    "
      ],
      "text/plain": [
       "<IPython.core.display.HTML object>"
      ]
     },
     "metadata": {},
     "output_type": "display_data"
    },
    {
     "data": {
      "text/html": [
       "\n",
       "        <div id=\"ZwXixxetmTErEaYpoR2kz6\"></div>\n",
       "        <script>netpixi.call('ZwXixxetmTErEaYpoR2kz6', 'HBKaewv8ikAeXPEvpmSLQV', 'changeGraph', 'eyJpZCI6ICJzaWVycmFsZW9uZSIsICJ0eXBlIjogInZlcnRleCIsICJwcm9wcyI6IHsic2l6ZSI6IDEzLjB9fQo=');</script>\n",
       "    "
      ],
      "text/plain": [
       "<IPython.core.display.HTML object>"
      ]
     },
     "metadata": {},
     "output_type": "display_data"
    },
    {
     "data": {
      "text/html": [
       "\n",
       "        <div id=\"VtzmYpjAGfzquHhfpjPiP2\"></div>\n",
       "        <script>netpixi.call('VtzmYpjAGfzquHhfpjPiP2', 'HBKaewv8ikAeXPEvpmSLQV', 'changeGraph', 'eyJpZCI6ICJob25kdXJhcyIsICJ0eXBlIjogInZlcnRleCIsICJwcm9wcyI6IHsic2l6ZSI6IDE0LjU0NTQ1NDU0NTQ1NDU0NX19Cg==');</script>\n",
       "    "
      ],
      "text/plain": [
       "<IPython.core.display.HTML object>"
      ]
     },
     "metadata": {},
     "output_type": "display_data"
    },
    {
     "data": {
      "text/html": [
       "\n",
       "        <div id=\"oB8EpyQ8NcW6FJXsQf532g\"></div>\n",
       "        <script>netpixi.call('oB8EpyQ8NcW6FJXsQf532g', 'HBKaewv8ikAeXPEvpmSLQV', 'changeGraph', 'eyJpZCI6ICJlc3RvbmlhIiwgInR5cGUiOiAidmVydGV4IiwgInByb3BzIjogeyJzaXplIjogMTMuNjM2MzYzNjM2MzYzNjM3fX0K');</script>\n",
       "    "
      ],
      "text/plain": [
       "<IPython.core.display.HTML object>"
      ]
     },
     "metadata": {},
     "output_type": "display_data"
    },
    {
     "data": {
      "text/html": [
       "\n",
       "        <div id=\"dSy85RJyenp6it9E7dvNK4\"></div>\n",
       "        <script>netpixi.call('dSy85RJyenp6it9E7dvNK4', 'HBKaewv8ikAeXPEvpmSLQV', 'changeGraph', 'eyJpZCI6ICJtb3phbWJpcXVlIiwgInR5cGUiOiAidmVydGV4IiwgInByb3BzIjogeyJzaXplIjogMTYuNDU0NTQ1NDU0NTQ1NDUzfX0K');</script>\n",
       "    "
      ],
      "text/plain": [
       "<IPython.core.display.HTML object>"
      ]
     },
     "metadata": {},
     "output_type": "display_data"
    },
    {
     "data": {
      "text/html": [
       "\n",
       "        <div id=\"4YChcLENQWg9YBmAdV2itC\"></div>\n",
       "        <script>netpixi.call('4YChcLENQWg9YBmAdV2itC', 'HBKaewv8ikAeXPEvpmSLQV', 'changeGraph', 'eyJpZCI6ICJnZW9yZ2lhIiwgInR5cGUiOiAidmVydGV4IiwgInByb3BzIjogeyJzaXplIjogMTIuNzI3MjcyNzI3MjcyNzI3fX0K');</script>\n",
       "    "
      ],
      "text/plain": [
       "<IPython.core.display.HTML object>"
      ]
     },
     "metadata": {},
     "output_type": "display_data"
    },
    {
     "data": {
      "text/html": [
       "\n",
       "        <div id=\"Ynh8j4xHaSnQH7i4CwyVez\"></div>\n",
       "        <script>netpixi.call('Ynh8j4xHaSnQH7i4CwyVez', 'HBKaewv8ikAeXPEvpmSLQV', 'changeGraph', 'eyJpZCI6ICJwYW5hbWEiLCAidHlwZSI6ICJ2ZXJ0ZXgiLCAicHJvcHMiOiB7InNpemUiOiAxNy4wOTA5MDkwOTA5MDkwOX19Cg==');</script>\n",
       "    "
      ],
      "text/plain": [
       "<IPython.core.display.HTML object>"
      ]
     },
     "metadata": {},
     "output_type": "display_data"
    },
    {
     "data": {
      "text/html": [
       "\n",
       "        <div id=\"3Ci2hhTKXi44ungGwvqBUr\"></div>\n",
       "        <script>netpixi.call('3Ci2hhTKXi44ungGwvqBUr', 'HBKaewv8ikAeXPEvpmSLQV', 'changeGraph', 'eyJpZCI6ICJtYWx0YSIsICJ0eXBlIjogInZlcnRleCIsICJwcm9wcyI6IHsic2l6ZSI6IDE2LjI3MjcyNzI3MjcyNzI3M319Cg==');</script>\n",
       "    "
      ],
      "text/plain": [
       "<IPython.core.display.HTML object>"
      ]
     },
     "metadata": {},
     "output_type": "display_data"
    },
    {
     "data": {
      "text/html": [
       "\n",
       "        <div id=\"Ly4YGKF6pfhyAndmD2z8dw\"></div>\n",
       "        <script>netpixi.call('Ly4YGKF6pfhyAndmD2z8dw', 'HBKaewv8ikAeXPEvpmSLQV', 'changeGraph', 'eyJpZCI6ICJhdXN0cmlhIiwgInR5cGUiOiAidmVydGV4IiwgInByb3BzIjogeyJzaXplIjogNDIuODU3MTQyODU3MTQyODU0fX0K');</script>\n",
       "    "
      ],
      "text/plain": [
       "<IPython.core.display.HTML object>"
      ]
     },
     "metadata": {},
     "output_type": "display_data"
    },
    {
     "data": {
      "text/html": [
       "\n",
       "        <div id=\"9i2C3EQ5xZFv5gG3taExjq\"></div>\n",
       "        <script>netpixi.call('9i2C3EQ5xZFv5gG3taExjq', 'HBKaewv8ikAeXPEvpmSLQV', 'changeGraph', 'eyJpZCI6ICJnZXJtYW55IiwgInR5cGUiOiAidmVydGV4IiwgInByb3BzIjogeyJzaXplIjogMTkuNjM2MzYzNjM2MzYzNjM3fX0K');</script>\n",
       "    "
      ],
      "text/plain": [
       "<IPython.core.display.HTML object>"
      ]
     },
     "metadata": {},
     "output_type": "display_data"
    },
    {
     "data": {
      "text/html": [
       "\n",
       "        <div id=\"73k9NCT2F2VENV89fzGCzG\"></div>\n",
       "        <script>netpixi.call('73k9NCT2F2VENV89fzGCzG', 'HBKaewv8ikAeXPEvpmSLQV', 'changeGraph', 'eyJpZCI6ICJndWF0ZW1hbGEiLCAidHlwZSI6ICJ2ZXJ0ZXgiLCAicHJvcHMiOiB7InNpemUiOiAxNC43MjcyNzI3MjcyNzI3Mjd9fQo=');</script>\n",
       "    "
      ],
      "text/plain": [
       "<IPython.core.display.HTML object>"
      ]
     },
     "metadata": {},
     "output_type": "display_data"
    },
    {
     "data": {
      "text/html": [
       "\n",
       "        <div id=\"UeG2PXbWFafA3SGtmjfUQ7\"></div>\n",
       "        <script>netpixi.call('UeG2PXbWFafA3SGtmjfUQ7', 'HBKaewv8ikAeXPEvpmSLQV', 'changeGraph', 'eyJpZCI6ICJpcmVsYW5kIiwgInR5cGUiOiAidmVydGV4IiwgInByb3BzIjogeyJzaXplIjogMTYuNTQ1NDU0NTQ1NDU0NTQ3fX0K');</script>\n",
       "    "
      ],
      "text/plain": [
       "<IPython.core.display.HTML object>"
      ]
     },
     "metadata": {},
     "output_type": "display_data"
    },
    {
     "data": {
      "text/html": [
       "\n",
       "        <div id=\"2nSkMFo9GBJbKXDtrBnXci\"></div>\n",
       "        <script>netpixi.call('2nSkMFo9GBJbKXDtrBnXci', 'HBKaewv8ikAeXPEvpmSLQV', 'changeGraph', 'eyJpZCI6ICJtZXhpY28iLCAidHlwZSI6ICJ2ZXJ0ZXgiLCAicHJvcHMiOiB7InNpemUiOiAxNS41NDU0NTQ1NDU0NTQ1NDd9fQo=');</script>\n",
       "    "
      ],
      "text/plain": [
       "<IPython.core.display.HTML object>"
      ]
     },
     "metadata": {},
     "output_type": "display_data"
    },
    {
     "data": {
      "text/html": [
       "\n",
       "        <div id=\"oEgJQcoPDNQxmcV3MB5ZbD\"></div>\n",
       "        <script>netpixi.call('oEgJQcoPDNQxmcV3MB5ZbD', 'HBKaewv8ikAeXPEvpmSLQV', 'changeGraph', 'eyJpZCI6ICJsaXRodWFuaWEiLCAidHlwZSI6ICJ2ZXJ0ZXgiLCAicHJvcHMiOiB7InNpemUiOiAxNS4xODE4MTgxODE4MTgxODJ9fQo=');</script>\n",
       "    "
      ],
      "text/plain": [
       "<IPython.core.display.HTML object>"
      ]
     },
     "metadata": {},
     "output_type": "display_data"
    },
    {
     "data": {
      "text/html": [
       "\n",
       "        <div id=\"HwbKVUb88QQo4b7afdAT9c\"></div>\n",
       "        <script>netpixi.call('HwbKVUb88QQo4b7afdAT9c', 'HBKaewv8ikAeXPEvpmSLQV', 'changeGraph', 'eyJpZCI6ICJhcmdlbnRpbmEiLCAidHlwZSI6ICJ2ZXJ0ZXgiLCAicHJvcHMiOiB7InNpemUiOiA0NS4wfX0K');</script>\n",
       "    "
      ],
      "text/plain": [
       "<IPython.core.display.HTML object>"
      ]
     },
     "metadata": {},
     "output_type": "display_data"
    },
    {
     "data": {
      "text/html": [
       "\n",
       "        <div id=\"LVcPs9HQwLEVx6tNYNqaDU\"></div>\n",
       "        <script>netpixi.call('LVcPs9HQwLEVx6tNYNqaDU', 'HBKaewv8ikAeXPEvpmSLQV', 'changeGraph', 'eyJpZCI6ICJjYW1ib2RpYSIsICJ0eXBlIjogInZlcnRleCIsICJwcm9wcyI6IHsic2l6ZSI6IDEzLjQ1NDU0NTQ1NDU0NTQ1NX19Cg==');</script>\n",
       "    "
      ],
      "text/plain": [
       "<IPython.core.display.HTML object>"
      ]
     },
     "metadata": {},
     "output_type": "display_data"
    },
    {
     "data": {
      "text/html": [
       "\n",
       "        <div id=\"Rgm7mms6swjUYHsL5Qt6yK\"></div>\n",
       "        <script>netpixi.call('Rgm7mms6swjUYHsL5Qt6yK', 'HBKaewv8ikAeXPEvpmSLQV', 'changeGraph', 'eyJpZCI6ICJkZW5tYXJrIiwgInR5cGUiOiAidmVydGV4IiwgInByb3BzIjogeyJzaXplIjogMTguNjM2MzYzNjM2MzYzNjM3fX0K');</script>\n",
       "    "
      ],
      "text/plain": [
       "<IPython.core.display.HTML object>"
      ]
     },
     "metadata": {},
     "output_type": "display_data"
    },
    {
     "data": {
      "text/html": [
       "\n",
       "        <div id=\"2nFmenCs3CqsSytc2HrN6J\"></div>\n",
       "        <script>netpixi.call('2nFmenCs3CqsSytc2HrN6J', 'HBKaewv8ikAeXPEvpmSLQV', 'changeGraph', 'eyJpZCI6ICJwZXJ1IiwgInR5cGUiOiAidmVydGV4IiwgInByb3BzIjogeyJzaXplIjogMTYuOTA5MDkwOTA5MDkwOTF9fQo=');</script>\n",
       "    "
      ],
      "text/plain": [
       "<IPython.core.display.HTML object>"
      ]
     },
     "metadata": {},
     "output_type": "display_data"
    },
    {
     "data": {
      "text/html": [
       "\n",
       "        <div id=\"QAonMjbmfs9dqzQFLTtzGY\"></div>\n",
       "        <script>netpixi.call('QAonMjbmfs9dqzQFLTtzGY', 'HBKaewv8ikAeXPEvpmSLQV', 'changeGraph', 'eyJpZCI6ICJwYXJhZ3VheSIsICJ0eXBlIjogInZlcnRleCIsICJwcm9wcyI6IHsic2l6ZSI6IDEyLjM2MzYzNjM2MzYzNjM2M319Cg==');</script>\n",
       "    "
      ],
      "text/plain": [
       "<IPython.core.display.HTML object>"
      ]
     },
     "metadata": {},
     "output_type": "display_data"
    },
    {
     "data": {
      "text/html": [
       "\n",
       "        <div id=\"nD5Qzyp6wmo4Vc2FGxfBxK\"></div>\n",
       "        <script>netpixi.call('nD5Qzyp6wmo4Vc2FGxfBxK', 'HBKaewv8ikAeXPEvpmSLQV', 'changeGraph', 'eyJpZCI6ICJlZ3lwdCIsICJ0eXBlIjogInZlcnRleCIsICJwcm9wcyI6IHsic2l6ZSI6IDQ3LjE0Mjg1NzE0Mjg1NzE0Nn19Cg==');</script>\n",
       "    "
      ],
      "text/plain": [
       "<IPython.core.display.HTML object>"
      ]
     },
     "metadata": {},
     "output_type": "display_data"
    },
    {
     "data": {
      "text/html": [
       "\n",
       "        <div id=\"PnSRvdoDiDhrXdWTSVEvXt\"></div>\n",
       "        <script>netpixi.call('PnSRvdoDiDhrXdWTSVEvXt', 'HBKaewv8ikAeXPEvpmSLQV', 'changeGraph', 'eyJpZCI6ICJub3J3YXkiLCAidHlwZSI6ICJ2ZXJ0ZXgiLCAicHJvcHMiOiB7InNpemUiOiA0Ny41fX0K');</script>\n",
       "    "
      ],
      "text/plain": [
       "<IPython.core.display.HTML object>"
      ]
     },
     "metadata": {},
     "output_type": "display_data"
    },
    {
     "data": {
      "text/html": [
       "\n",
       "        <div id=\"TaDEhxbQwcdggedj7CWGBS\"></div>\n",
       "        <script>netpixi.call('TaDEhxbQwcdggedj7CWGBS', 'HBKaewv8ikAeXPEvpmSLQV', 'changeGraph', 'eyJpZCI6ICJ1ayIsICJ0eXBlIjogInZlcnRleCIsICJwcm9wcyI6IHsic2l6ZSI6IDQ1LjcxNDI4NTcxNDI4NTcxfX0K');</script>\n",
       "    "
      ],
      "text/plain": [
       "<IPython.core.display.HTML object>"
      ]
     },
     "metadata": {},
     "output_type": "display_data"
    },
    {
     "data": {
      "text/html": [
       "\n",
       "        <div id=\"XtwQJitWV5ktPBYjR7b8MC\"></div>\n",
       "        <script>netpixi.call('XtwQJitWV5ktPBYjR7b8MC', 'HBKaewv8ikAeXPEvpmSLQV', 'changeGraph', 'eyJpZCI6ICJsYXR2aWEiLCAidHlwZSI6ICJ2ZXJ0ZXgiLCAicHJvcHMiOiB7InNpemUiOiAxMy44MTgxODE4MTgxODE4MTh9fQo=');</script>\n",
       "    "
      ],
      "text/plain": [
       "<IPython.core.display.HTML object>"
      ]
     },
     "metadata": {},
     "output_type": "display_data"
    },
    {
     "data": {
      "text/html": [
       "\n",
       "        <div id=\"JRQnrXxVkdYEW7eGuhhaVo\"></div>\n",
       "        <script>netpixi.call('JRQnrXxVkdYEW7eGuhhaVo', 'HBKaewv8ikAeXPEvpmSLQV', 'changeGraph', 'eyJpZCI6ICJ1a3JhaW5lIiwgInR5cGUiOiAidmVydGV4IiwgInByb3BzIjogeyJzaXplIjogMTQuMH19Cg==');</script>\n",
       "    "
      ],
      "text/plain": [
       "<IPython.core.display.HTML object>"
      ]
     },
     "metadata": {},
     "output_type": "display_data"
    },
    {
     "data": {
      "text/html": [
       "\n",
       "        <div id=\"AXDtHGBJ3TtP3kS3AKfAZT\"></div>\n",
       "        <script>netpixi.call('AXDtHGBJ3TtP3kS3AKfAZT', 'HBKaewv8ikAeXPEvpmSLQV', 'changeGraph', 'eyJpZCI6ICJzbG92ZW5pYSIsICJ0eXBlIjogInZlcnRleCIsICJwcm9wcyI6IHsic2l6ZSI6IDE4LjM2MzYzNjM2MzYzNjM2M319Cg==');</script>\n",
       "    "
      ],
      "text/plain": [
       "<IPython.core.display.HTML object>"
      ]
     },
     "metadata": {},
     "output_type": "display_data"
    },
    {
     "data": {
      "text/html": [
       "\n",
       "        <div id=\"mhAG8xrCaissis4GSnamT3\"></div>\n",
       "        <script>netpixi.call('mhAG8xrCaissis4GSnamT3', 'HBKaewv8ikAeXPEvpmSLQV', 'changeGraph', 'eyJpZCI6ICJnaGFuYSIsICJ0eXBlIjogInZlcnRleCIsICJwcm9wcyI6IHsic2l6ZSI6IDE5LjU0NTQ1NDU0NTQ1NDU0N319Cg==');</script>\n",
       "    "
      ],
      "text/plain": [
       "<IPython.core.display.HTML object>"
      ]
     },
     "metadata": {},
     "output_type": "display_data"
    },
    {
     "data": {
      "text/html": [
       "\n",
       "        <div id=\"6W9hKktYjdrDDTiLfp6GrZ\"></div>\n",
       "        <script>netpixi.call('6W9hKktYjdrDDTiLfp6GrZ', 'HBKaewv8ikAeXPEvpmSLQV', 'changeGraph', 'eyJpZCI6ICJtb250ZW5lZ3JvIiwgInR5cGUiOiAidmVydGV4IiwgInByb3BzIjogeyJzaXplIjogMTIuMjcyNzI3MjcyNzI3MjczfX0K');</script>\n",
       "    "
      ],
      "text/plain": [
       "<IPython.core.display.HTML object>"
      ]
     },
     "metadata": {},
     "output_type": "display_data"
    },
    {
     "data": {
      "text/html": [
       "\n",
       "        <div id=\"js9GC27xdJELgAkmFHaxGa\"></div>\n",
       "        <script>netpixi.call('js9GC27xdJELgAkmFHaxGa', 'HBKaewv8ikAeXPEvpmSLQV', 'changeGraph', 'eyJpZCI6ICJidXJ1bmRpIiwgInR5cGUiOiAidmVydGV4IiwgInByb3BzIjogeyJzaXplIjogMTMuMjcyNzI3MjcyNzI3MjczfX0K');</script>\n",
       "    "
      ],
      "text/plain": [
       "<IPython.core.display.HTML object>"
      ]
     },
     "metadata": {},
     "output_type": "display_data"
    },
    {
     "data": {
      "text/html": [
       "\n",
       "        <div id=\"LdAX4BLq7W3MnCX4EpHEqN\"></div>\n",
       "        <script>netpixi.call('LdAX4BLq7W3MnCX4EpHEqN', 'HBKaewv8ikAeXPEvpmSLQV', 'changeGraph', 'eyJpZCI6ICJzdWRhbiIsICJ0eXBlIjogInZlcnRleCIsICJwcm9wcyI6IHsic2l6ZSI6IDE0LjA5MDkwOTA5MDkwOTA5fX0K');</script>\n",
       "    "
      ],
      "text/plain": [
       "<IPython.core.display.HTML object>"
      ]
     },
     "metadata": {},
     "output_type": "display_data"
    },
    {
     "data": {
      "text/html": [
       "\n",
       "        <div id=\"d3hnXxj7fZHZAe6NyzTjDa\"></div>\n",
       "        <script>netpixi.call('d3hnXxj7fZHZAe6NyzTjDa', 'HBKaewv8ikAeXPEvpmSLQV', 'changeGraph', 'eyJpZCI6ICJ2aWV0bmFtIiwgInR5cGUiOiAidmVydGV4IiwgInByb3BzIjogeyJzaXplIjogMTIuOTA5MDkwOTA5MDkwOTF9fQo=');</script>\n",
       "    "
      ],
      "text/plain": [
       "<IPython.core.display.HTML object>"
      ]
     },
     "metadata": {},
     "output_type": "display_data"
    },
    {
     "data": {
      "text/html": [
       "\n",
       "        <div id=\"kRZniYktgqToEQdQGikC9q\"></div>\n",
       "        <script>netpixi.call('kRZniYktgqToEQdQGikC9q', 'HBKaewv8ikAeXPEvpmSLQV', 'changeGraph', 'eyJpZCI6ICJsYW9zIiwgInR5cGUiOiAidmVydGV4IiwgInByb3BzIjogeyJzaXplIjogMTAuMzYzNjM2MzYzNjM2MzYzfX0K');</script>\n",
       "    "
      ],
      "text/plain": [
       "<IPython.core.display.HTML object>"
      ]
     },
     "metadata": {},
     "output_type": "display_data"
    },
    {
     "data": {
      "text/html": [
       "\n",
       "        <div id=\"KoYh9WJFTa3QMTprQ44ZUQ\"></div>\n",
       "        <script>netpixi.call('KoYh9WJFTa3QMTprQ44ZUQ', 'HBKaewv8ikAeXPEvpmSLQV', 'changeGraph', 'eyJpZCI6ICJyd2FuZGEiLCAidHlwZSI6ICJ2ZXJ0ZXgiLCAicHJvcHMiOiB7InNpemUiOiAxMS4yNzI3MjcyNzI3MjcyNzN9fQo=');</script>\n",
       "    "
      ],
      "text/plain": [
       "<IPython.core.display.HTML object>"
      ]
     },
     "metadata": {},
     "output_type": "display_data"
    },
    {
     "data": {
      "text/html": [
       "\n",
       "        <div id=\"ibrGuoUg53atPKo9SXahcC\"></div>\n",
       "        <script>netpixi.call('ibrGuoUg53atPKo9SXahcC', 'HBKaewv8ikAeXPEvpmSLQV', 'changeGraph', 'eyJpZCI6ICJtYWxhd2kiLCAidHlwZSI6ICJ2ZXJ0ZXgiLCAicHJvcHMiOiB7InNpemUiOiAxMS4zNjM2MzYzNjM2MzYzNjN9fQo=');</script>\n",
       "    "
      ],
      "text/plain": [
       "<IPython.core.display.HTML object>"
      ]
     },
     "metadata": {},
     "output_type": "display_data"
    },
    {
     "data": {
      "text/html": [
       "\n",
       "        <div id=\"bRpqHzrzVsTrmAMEiGTvjh\"></div>\n",
       "        <script>netpixi.call('bRpqHzrzVsTrmAMEiGTvjh', 'HBKaewv8ikAeXPEvpmSLQV', 'changeGraph', 'eyJpZCI6ICJkamlib3V0aSIsICJ0eXBlIjogInZlcnRleCIsICJwcm9wcyI6IHsic2l6ZSI6IDExLjU0NTQ1NDU0NTQ1NDU0NX19Cg==');</script>\n",
       "    "
      ],
      "text/plain": [
       "<IPython.core.display.HTML object>"
      ]
     },
     "metadata": {},
     "output_type": "display_data"
    },
    {
     "data": {
      "text/html": [
       "\n",
       "        <div id=\"E8Z6BHec2DeiCheqAciCXU\"></div>\n",
       "        <script>netpixi.call('E8Z6BHec2DeiCheqAciCXU', 'HBKaewv8ikAeXPEvpmSLQV', 'changeGraph', 'eyJpZCI6ICJib3Rzd2FuYSIsICJ0eXBlIjogInZlcnRleCIsICJwcm9wcyI6IHsic2l6ZSI6IDExLjQ1NDU0NTQ1NDU0NTQ1NX19Cg==');</script>\n",
       "    "
      ],
      "text/plain": [
       "<IPython.core.display.HTML object>"
      ]
     },
     "metadata": {},
     "output_type": "display_data"
    },
    {
     "data": {
      "text/html": [
       "\n",
       "        <div id=\"h8WLfsvQFweWXJFHPMQKMT\"></div>\n",
       "        <script>netpixi.call('h8WLfsvQFweWXJFHPMQKMT', 'HBKaewv8ikAeXPEvpmSLQV', 'changeGraph', 'eyJpZCI6ICJ5ZW1lbiIsICJ0eXBlIjogInZlcnRleCIsICJwcm9wcyI6IHsic2l6ZSI6IDExLjYzNjM2MzYzNjM2MzYzN319Cg==');</script>\n",
       "    "
      ],
      "text/plain": [
       "<IPython.core.display.HTML object>"
      ]
     },
     "metadata": {},
     "output_type": "display_data"
    },
    {
     "data": {
      "text/html": [
       "\n",
       "        <div id=\"A2Jgx2NLVDbidxzdvRPWRz\"></div>\n",
       "        <script>netpixi.call('A2Jgx2NLVDbidxzdvRPWRz', 'HBKaewv8ikAeXPEvpmSLQV', 'changeGraph', 'eyJpZCI6ICJuaWdlciIsICJ0eXBlIjogInZlcnRleCIsICJwcm9wcyI6IHsic2l6ZSI6IDEyLjB9fQo=');</script>\n",
       "    "
      ],
      "text/plain": [
       "<IPython.core.display.HTML object>"
      ]
     },
     "metadata": {},
     "output_type": "display_data"
    },
    {
     "data": {
      "text/html": [
       "\n",
       "        <div id=\"94u9N5PqfdiCCDA4JPL7iW\"></div>\n",
       "        <script>netpixi.call('94u9N5PqfdiCCDA4JPL7iW', 'HBKaewv8ikAeXPEvpmSLQV', 'changeGraph', 'eyJpZCI6ICJjb21vcm9zIiwgInR5cGUiOiAidmVydGV4IiwgInByb3BzIjogeyJzaXplIjogMTAuODE4MTgxODE4MTgxODE4fX0K');</script>\n",
       "    "
      ],
      "text/plain": [
       "<IPython.core.display.HTML object>"
      ]
     },
     "metadata": {},
     "output_type": "display_data"
    },
    {
     "data": {
      "text/html": [
       "\n",
       "        <div id=\"LmrRoPm3tPEnPSYAhpQftY\"></div>\n",
       "        <script>netpixi.call('LmrRoPm3tPEnPSYAhpQftY', 'HBKaewv8ikAeXPEvpmSLQV', 'changeGraph', 'eyJpZCI6ICJuZXBhbCIsICJ0eXBlIjogInZlcnRleCIsICJwcm9wcyI6IHsic2l6ZSI6IDEwLjkwOTA5MDkwOTA5MDkxfX0K');</script>\n",
       "    "
      ],
      "text/plain": [
       "<IPython.core.display.HTML object>"
      ]
     },
     "metadata": {},
     "output_type": "display_data"
    },
    {
     "data": {
      "text/html": [
       "\n",
       "        <div id=\"JnDoA4JKKwJfmcTynkTDHp\"></div>\n",
       "        <script>netpixi.call('JnDoA4JKKwJfmcTynkTDHp', 'HBKaewv8ikAeXPEvpmSLQV', 'changeGraph', 'eyJpZCI6ICJzeXJpYSIsICJ0eXBlIjogInZlcnRleCIsICJwcm9wcyI6IHsic2l6ZSI6IDEyLjA5MDkwOTA5MDkwOTA5fX0K');</script>\n",
       "    "
      ],
      "text/plain": [
       "<IPython.core.display.HTML object>"
      ]
     },
     "metadata": {},
     "output_type": "display_data"
    },
    {
     "data": {
      "text/html": [
       "\n",
       "        <div id=\"WvtNMW5ebroHeXnsLtEqaj\"></div>\n",
       "        <script>netpixi.call('WvtNMW5ebroHeXnsLtEqaj', 'HBKaewv8ikAeXPEvpmSLQV', 'changeGraph', 'eyJpZCI6ICJxYXRhciIsICJ0eXBlIjogInZlcnRleCIsICJwcm9wcyI6IHsic2l6ZSI6IDEwLjYzNjM2MzYzNjM2MzYzN319Cg==');</script>\n",
       "    "
      ],
      "text/plain": [
       "<IPython.core.display.HTML object>"
      ]
     },
     "metadata": {},
     "output_type": "display_data"
    },
    {
     "data": {
      "text/html": [
       "\n",
       "        <div id=\"ANFmUyYHHnkfEX596T56Cv\"></div>\n",
       "        <script>netpixi.call('ANFmUyYHHnkfEX596T56Cv', 'HBKaewv8ikAeXPEvpmSLQV', 'changeGraph', 'eyJpZCI6ICJiYWhyYWluIiwgInR5cGUiOiAidmVydGV4IiwgInByb3BzIjogeyJzaXplIjogMTAuNTQ1NDU0NTQ1NDU0NTQ1fX0K');</script>\n",
       "    "
      ],
      "text/plain": [
       "<IPython.core.display.HTML object>"
      ]
     },
     "metadata": {},
     "output_type": "display_data"
    },
    {
     "data": {
      "text/html": [
       "\n",
       "        <div id=\"jneQvYUBCeMfz6NhzQwEuh\"></div>\n",
       "        <script>netpixi.call('jneQvYUBCeMfz6NhzQwEuh', 'HBKaewv8ikAeXPEvpmSLQV', 'changeGraph', 'eyJpZCI6ICJpcmFxIiwgInR5cGUiOiAidmVydGV4IiwgInByb3BzIjogeyJzaXplIjogMTAuNDU0NTQ1NDU0NTQ1NDU1fX0K');</script>\n",
       "    "
      ],
      "text/plain": [
       "<IPython.core.display.HTML object>"
      ]
     },
     "metadata": {},
     "output_type": "display_data"
    },
    {
     "data": {
      "text/html": [
       "\n",
       "        <div id=\"AxEZDiTiG8QYxvJsjuLy8S\"></div>\n",
       "        <script>netpixi.call('AxEZDiTiG8QYxvJsjuLy8S', 'HBKaewv8ikAeXPEvpmSLQV', 'changeGraph', 'eyJpZCI6ICJhZmdoYW5pc3RhbiIsICJ0eXBlIjogInZlcnRleCIsICJwcm9wcyI6IHsic2l6ZSI6IDExLjB9fQo=');</script>\n",
       "    "
      ],
      "text/plain": [
       "<IPython.core.display.HTML object>"
      ]
     },
     "metadata": {},
     "output_type": "display_data"
    },
    {
     "data": {
      "text/html": [
       "\n",
       "        <div id=\"XAoeuVpnQpZw2z5TXAijVR\"></div>\n",
       "        <script>netpixi.call('XAoeuVpnQpZw2z5TXAijVR', 'HBKaewv8ikAeXPEvpmSLQV', 'changeGraph', 'eyJpZCI6ICJ0YWppa2lzdGFuIiwgInR5cGUiOiAidmVydGV4IiwgInByb3BzIjogeyJzaXplIjogMTAuMDkwOTA5MDkwOTA5MDkyfX0K');</script>\n",
       "    "
      ],
      "text/plain": [
       "<IPython.core.display.HTML object>"
      ]
     },
     "metadata": {},
     "output_type": "display_data"
    },
    {
     "data": {
      "text/html": [
       "\n",
       "        <div id=\"Dt3jsKk3Kpbk59Bw3HyYV5\"></div>\n",
       "        <script>netpixi.call('Dt3jsKk3Kpbk59Bw3HyYV5', 'HBKaewv8ikAeXPEvpmSLQV', 'changeGraph', 'eyJpZCI6ICJ1emJla2lzdGFuIiwgInR5cGUiOiAidmVydGV4IiwgInByb3BzIjogeyJzaXplIjogMTAuMTgxODE4MTgxODE4MTgyfX0K');</script>\n",
       "    "
      ],
      "text/plain": [
       "<IPython.core.display.HTML object>"
      ]
     },
     "metadata": {},
     "output_type": "display_data"
    },
    {
     "data": {
      "text/html": [
       "\n",
       "        <div id=\"XP9qS5UjdA2yps9nRm7fZ8\"></div>\n",
       "        <script>netpixi.call('XP9qS5UjdA2yps9nRm7fZ8', 'HBKaewv8ikAeXPEvpmSLQV', 'changeGraph', 'eyJpZCI6ICJreXJneXpzdGFuIiwgInR5cGUiOiAidmVydGV4IiwgInByb3BzIjogeyJzaXplIjogMTAuMH19Cg==');</script>\n",
       "    "
      ],
      "text/plain": [
       "<IPython.core.display.HTML object>"
      ]
     },
     "metadata": {},
     "output_type": "display_data"
    },
    {
     "data": {
      "text/html": [
       "\n",
       "        <div id=\"FZXv3pDBUb9FH4htGU3oyT\"></div>\n",
       "        <script>netpixi.call('FZXv3pDBUb9FH4htGU3oyT', 'HBKaewv8ikAeXPEvpmSLQV', 'changeGraph', 'eyJpZCI6ICJ0dXJrbWVuaXN0YW4iLCAidHlwZSI6ICJ2ZXJ0ZXgiLCAicHJvcHMiOiB7InNpemUiOiAxMC4yNzI3MjcyNzI3MjcyNzN9fQo=');</script>\n",
       "    "
      ],
      "text/plain": [
       "<IPython.core.display.HTML object>"
      ]
     },
     "metadata": {},
     "output_type": "display_data"
    }
   ],
   "source": [
    "matrix = spectral.adjacency(g)\n",
    "\n",
    "# Além de cpnet.Rombach, há outras\n",
    "# opções de algoritmos contínuos:\n",
    "# cpnet.MINRES\n",
    "# cpnet.Rossa\n",
    "\n",
    "algorithm = cpnet.Rombach()\n",
    "algorithm.detect(matrix)\n",
    "c = algorithm.get_coreness()\n",
    "\n",
    "# Depois do código acima, c é um dicionário\n",
    "# em que as chaves são índices de vértices e\n",
    "# valores são os atribuídos pelo algoritmo.\n",
    "\n",
    "g.add_vp('coreness')\n",
    "for i, coreness in c.items():\n",
    "    v = g.get_vertex_by_index(i)\n",
    "    v['coreness'] = float(coreness)\n",
    "\n",
    "# Vamos usar coreness como referência para\n",
    "# o tamanho dos vértices. Estabelecemos 10\n",
    "# como o menor tamanho possível e 40 como\n",
    "# o maior tamanho possível. Como o coreness\n",
    "# está entre 0 e 1, a conta é bem simples.\n",
    "\n",
    "for v in g.all_vertices():\n",
    "    r.vertex(v['id'], size=(10 + 40 * v['coreness']))\n",
    "\n",
    "# Quando a execução desta célula terminar,\n",
    "# veja como ficou a visualização acima."
   ]
  },
  {
   "cell_type": "code",
   "execution_count": 26,
   "id": "dc658a5c",
   "metadata": {},
   "outputs": [
    {
     "data": {
      "text/html": [
       "<div>\n",
       "<style scoped>\n",
       "    .dataframe tbody tr th:only-of-type {\n",
       "        vertical-align: middle;\n",
       "    }\n",
       "\n",
       "    .dataframe tbody tr th {\n",
       "        vertical-align: top;\n",
       "    }\n",
       "\n",
       "    .dataframe thead th {\n",
       "        text-align: right;\n",
       "    }\n",
       "</style>\n",
       "<table border=\"1\" class=\"dataframe\">\n",
       "  <thead>\n",
       "    <tr style=\"text-align: right;\">\n",
       "      <th></th>\n",
       "      <th>coreness</th>\n",
       "    </tr>\n",
       "    <tr>\n",
       "      <th>id</th>\n",
       "      <th></th>\n",
       "    </tr>\n",
       "  </thead>\n",
       "  <tbody>\n",
       "    <tr>\n",
       "      <th>netherlands</th>\n",
       "      <td>0.803571</td>\n",
       "    </tr>\n",
       "    <tr>\n",
       "      <th>czechrep</th>\n",
       "      <td>0.097727</td>\n",
       "    </tr>\n",
       "    <tr>\n",
       "      <th>nicaragua</th>\n",
       "      <td>0.154545</td>\n",
       "    </tr>\n",
       "    <tr>\n",
       "      <th>chile</th>\n",
       "      <td>0.222727</td>\n",
       "    </tr>\n",
       "    <tr>\n",
       "      <th>costarica</th>\n",
       "      <td>0.136364</td>\n",
       "    </tr>\n",
       "    <tr>\n",
       "      <th>...</th>\n",
       "      <td>...</td>\n",
       "    </tr>\n",
       "    <tr>\n",
       "      <th>afghanistan</th>\n",
       "      <td>0.025000</td>\n",
       "    </tr>\n",
       "    <tr>\n",
       "      <th>tajikistan</th>\n",
       "      <td>0.002273</td>\n",
       "    </tr>\n",
       "    <tr>\n",
       "      <th>uzbekistan</th>\n",
       "      <td>0.004545</td>\n",
       "    </tr>\n",
       "    <tr>\n",
       "      <th>kyrgyzstan</th>\n",
       "      <td>0.000000</td>\n",
       "    </tr>\n",
       "    <tr>\n",
       "      <th>turkmenistan</th>\n",
       "      <td>0.006818</td>\n",
       "    </tr>\n",
       "  </tbody>\n",
       "</table>\n",
       "<p>138 rows × 1 columns</p>\n",
       "</div>"
      ],
      "text/plain": [
       "              coreness\n",
       "id                    \n",
       "netherlands   0.803571\n",
       "czechrep      0.097727\n",
       "nicaragua     0.154545\n",
       "chile         0.222727\n",
       "costarica     0.136364\n",
       "...                ...\n",
       "afghanistan   0.025000\n",
       "tajikistan    0.002273\n",
       "uzbekistan    0.004545\n",
       "kyrgyzstan    0.000000\n",
       "turkmenistan  0.006818\n",
       "\n",
       "[138 rows x 1 columns]"
      ]
     },
     "execution_count": 26,
     "metadata": {},
     "output_type": "execute_result"
    }
   ],
   "source": [
    "data = gt_data(g)\n",
    "\n",
    "coreness = []\n",
    "for v in g.all_vertices():\n",
    "    coreness.append(v['coreness'])\n",
    "    \n",
    "data['coreness'] = coreness\n",
    "data"
   ]
  }
 ],
 "metadata": {
  "kernelspec": {
   "display_name": "Python 3 (ipykernel)",
   "language": "python",
   "name": "python3"
  },
  "language_info": {
   "codemirror_mode": {
    "name": "ipython",
    "version": 3
   },
   "file_extension": ".py",
   "mimetype": "text/x-python",
   "name": "python",
   "nbconvert_exporter": "python",
   "pygments_lexer": "ipython3",
   "version": "3.10.10"
  }
 },
 "nbformat": 4,
 "nbformat_minor": 5
}
