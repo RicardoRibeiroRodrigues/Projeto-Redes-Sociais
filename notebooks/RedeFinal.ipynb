{
 "cells": [
  {
   "cell_type": "code",
   "execution_count": 39,
   "id": "41f27480",
   "metadata": {},
   "outputs": [],
   "source": [
    "import pandas as pd\n",
    "import numpy as np\n",
    "import seaborn as sns\n",
    "from tqdm import tqdm"
   ]
  },
  {
   "cell_type": "markdown",
   "id": "e6a8493a",
   "metadata": {},
   "source": [
    "## Lendo o dataset das organizações intergovernamentais\n",
    "https://correlatesofwar.org/data-sets/igos/ - IGO_igounit_v3.zip"
   ]
  },
  {
   "cell_type": "code",
   "execution_count": 40,
   "id": "c95fa9bc",
   "metadata": {},
   "outputs": [],
   "source": [
    "df = pd.read_csv(\"igo_year_formatv3.csv\", delimiter=\"\t\")"
   ]
  },
  {
   "cell_type": "code",
   "execution_count": 41,
   "id": "d00abaee",
   "metadata": {},
   "outputs": [],
   "source": [
    "# Usando apenas os anos 2012-2014\n",
    "years = (2012, 2013, 2014)\n",
    "wanted_years = df.loc[df.year.isin(years)]"
   ]
  },
  {
   "cell_type": "code",
   "execution_count": 42,
   "id": "739c0038",
   "metadata": {},
   "outputs": [
    {
     "data": {
      "text/plain": [
       "ioname                0\n",
       "orgname               0\n",
       "year                  0\n",
       "afghanistan           0\n",
       "albania               0\n",
       "                   ... \n",
       "sourcesandnotes    1003\n",
       "imputed               0\n",
       "political             0\n",
       "social                0\n",
       "economic              0\n",
       "Length: 235, dtype: int64"
      ]
     },
     "execution_count": 42,
     "metadata": {},
     "output_type": "execute_result"
    }
   ],
   "source": [
    "wanted_years.isnull().sum()"
   ]
  },
  {
   "cell_type": "code",
   "execution_count": 43,
   "id": "ebdeac0f",
   "metadata": {},
   "outputs": [
    {
     "data": {
      "text/plain": [
       "(1003, 235)"
      ]
     },
     "execution_count": 43,
     "metadata": {},
     "output_type": "execute_result"
    }
   ],
   "source": [
    "wanted_years.shape"
   ]
  },
  {
   "cell_type": "code",
   "execution_count": 44,
   "id": "ee37850a",
   "metadata": {},
   "outputs": [
    {
     "data": {
      "text/plain": [
       "Index(['afghanistan', 'albania', 'algeria', 'andorra', 'angola',\n",
       "       'antiguabarbuda', 'argentina', 'armenia', 'australia', 'austria',\n",
       "       ...\n",
       "       'vietnam', 'wgermany', 'wsamoa', 'wurtenburg', 'yemen',\n",
       "       'yugoslaviaserb', 'zaire', 'zambia', 'zanzibar', 'zimbabwe'],\n",
       "      dtype='object', length=217)"
      ]
     },
     "execution_count": 44,
     "metadata": {},
     "output_type": "execute_result"
    }
   ],
   "source": [
    "country_columns = wanted_years.columns[3:220]\n",
    "country_columns"
   ]
  },
  {
   "cell_type": "markdown",
   "id": "392d2213",
   "metadata": {},
   "source": [
    "## Problema:\n",
    "\n",
    "Os dois datasets usados tem nomes diferentes para mesmos países, e até mesmo tem países que existem em um e não no outro.\n",
    "\n",
    "Solução: Pegamos um .txt com os nomes de todos os países do World happines report, vamos converter a notação do nome para os dois datasets ficarem igual e vamos pegar os países contidos nos dois."
   ]
  },
  {
   "cell_type": "code",
   "execution_count": 45,
   "id": "56de5629",
   "metadata": {},
   "outputs": [],
   "source": [
    "# Extraído do happiness report de 2015 - Simplesmente um arquivo de texto com os nomes de todos os países considerados.\n",
    "with open(\"happiness_countries.txt\", 'r') as f:\n",
    "    countrys = f.readlines()\n",
    "\n",
    "notacao_diff = {\n",
    "    \"unitedstates\": \"usa\",\n",
    "    \"unitedkingdom\": \"uk\",\n",
    "    \"centralafricanrepublic\": \"car\",\n",
    "    \"southkorea\": \"sokorea\",\n",
    "    \"czechrepublic\": \"czechrep\",\n",
    "    \"southafrica\": \"soafrica\",\n",
    "    \"dominicanrepublic\": \"domrepublic\",\n",
    "    \"macedonia\": \"fyromacedonia\",\n",
    "    \"unitedarabemirates\": \"uae\",\n",
    "}\n",
    "\n",
    "countrys = set(map(lambda x: x.lower().replace(\"\\n\", \"\").replace(\" \", \"\"), countrys))\n",
    "\n",
    "\n",
    "set_not_in_hr = set()\n",
    "for country in country_columns:\n",
    "    country = country.lower().replace(\"\\n\", \"\").replace(\" \", \"\")\n",
    "    # Pegamos os países que não existem no happiness report.\n",
    "    if not country in countrys and not country in notacao_diff.values():\n",
    "        set_not_in_hr.add(country)\n",
    "    \n",
    "\n",
    "# Pega apenas a intersecção.\n",
    "set_country_columns = set(country_columns)\n",
    "set_country_columns = set_country_columns - set_not_in_hr"
   ]
  },
  {
   "cell_type": "code",
   "execution_count": 46,
   "id": "63501878",
   "metadata": {},
   "outputs": [
    {
     "name": "stderr",
     "output_type": "stream",
     "text": [
      "100%|██████████| 140/140 [00:10<00:00, 13.87it/s]\n"
     ]
    }
   ],
   "source": [
    "# Agora montamos um Dicionário com todas as combinações (País1, País2, numero IGOS em comum)\n",
    "intersecs = {}\n",
    "\n",
    "for country_1 in tqdm(set_country_columns):\n",
    "    for country_2 in set_country_columns:\n",
    "        if country_1 != country_2:\n",
    "            country_1_present = wanted_years[country_1]\n",
    "            country_2_present = wanted_years[country_2]\n",
    "            # Quando o valor é 1, o país é valido e está presente na IGO.\n",
    "            n_intersecs = len(wanted_years.loc[(country_1_present == 1.0) & (country_2_present == 1.0)])\n",
    "            intersecs[(country_1, country_2)] = n_intersecs\n",
    "                "
   ]
  },
  {
   "cell_type": "markdown",
   "id": "576e2d45",
   "metadata": {},
   "source": [
    "### Checkpoint - Ler/Gravar o resultado anterior para construir a rede."
   ]
  },
  {
   "cell_type": "code",
   "execution_count": null,
   "id": "8f0aca62",
   "metadata": {},
   "outputs": [],
   "source": [
    "import pickle\n",
    "\n",
    "with open(\"intersecs.pickle\", 'wb') as f:\n",
    "    pickle.dump(intersecs, f)\n",
    "# with open(\"intersecs.pickle\", 'rb') as f:\n",
    "#     intersecs = pickle.load(f)"
   ]
  },
  {
   "cell_type": "code",
   "execution_count": 47,
   "id": "5f680642",
   "metadata": {
    "scrolled": false
   },
   "outputs": [
    {
     "data": {
      "image/png": "[encoded data removed]",
      "text/plain": [
       "<Figure size 640x480 with 1 Axes>"
      ]
     },
     "metadata": {},
     "output_type": "display_data"
    }
   ],
   "source": [
    "import matplotlib.pyplot as plt\n",
    "\n",
    "intersecs_values = list(intersecs.values())\n",
    "plt.hist(intersecs_values, color='red', alpha=0.7, edgecolor='black')\n",
    "plt.xlabel('Números de IGOs em comum entre países')\n",
    "plt.ylabel(\"Frequência\")\n",
    "plt.title(\"Distribuição do número de IGOs em comum entre os países\")\n",
    "plt.show()"
   ]
  },
  {
   "cell_type": "code",
   "execution_count": 48,
   "id": "55952f68",
   "metadata": {},
   "outputs": [
    {
     "data": {
      "text/plain": [
       "count    19460.000000\n",
       "mean       117.651593\n",
       "std         37.309994\n",
       "min          0.000000\n",
       "25%         97.000000\n",
       "50%        112.000000\n",
       "75%        134.000000\n",
       "max        299.000000\n",
       "Name: N intersecs, dtype: float64"
      ]
     },
     "execution_count": 48,
     "metadata": {},
     "output_type": "execute_result"
    }
   ],
   "source": [
    "inter_df = pd.DataFrame(intersecs_values, columns=['N intersecs'])\n",
    "inter_df['N intersecs'].describe()"
   ]
  },
  {
   "cell_type": "code",
   "execution_count": 49,
   "id": "30cd3fef",
   "metadata": {},
   "outputs": [
    {
     "data": {
      "text/plain": [
       "103"
      ]
     },
     "execution_count": 49,
     "metadata": {},
     "output_type": "execute_result"
    }
   ],
   "source": [
    "threshold = inter_df['N intersecs'].mode()[0]\n",
    "threshold"
   ]
  },
  {
   "cell_type": "code",
   "execution_count": 50,
   "id": "26f66ece",
   "metadata": {},
   "outputs": [],
   "source": [
    "import netpixi\n",
    "from netpixi.integration.gt import *\n",
    "from regression.integration.gt import *"
   ]
  },
  {
   "cell_type": "markdown",
   "id": "98473fa8",
   "metadata": {},
   "source": [
    "## Montando a rede"
   ]
  },
  {
   "cell_type": "code",
   "execution_count": 51,
   "id": "b6f382a9",
   "metadata": {},
   "outputs": [],
   "source": [
    "g = Graph(directed=False)\n",
    "\n",
    "for countrys, n_intersecs in intersecs.items():\n",
    "    if n_intersecs > threshold:\n",
    "        if not g.has_vertex(countrys[0]):\n",
    "            v1 = g.add_vertex(countrys[0])\n",
    "        if not g.has_vertex(countrys[1]):\n",
    "            v2 = g.add_vertex(countrys[1])\n",
    "            \n",
    "        if not g.has_edge(countrys[0], countrys[1]):\n",
    "            g.add_edge(countrys[0], countrys[1])\n",
    "\n",
    "PATH_REDE = 'IGOS.net.gz'\n",
    "gt_save(g, PATH_REDE)"
   ]
  },
  {
   "cell_type": "markdown",
   "id": "712fe90a",
   "metadata": {},
   "source": [
    "## Estatísticas"
   ]
  },
  {
   "cell_type": "code",
   "execution_count": 52,
   "id": "e5de459a",
   "metadata": {},
   "outputs": [
    {
     "name": "stdout",
     "output_type": "stream",
     "text": [
      "Número de arestas: 6120\n",
      "Número de vértices: 138\n"
     ]
    }
   ],
   "source": [
    "n = g.num_vertices()\n",
    "m = g.num_edges()\n",
    "\n",
    "print(f\"Número de arestas: {m}\")\n",
    "print(f\"Número de vértices: {n}\")"
   ]
  },
  {
   "cell_type": "code",
   "execution_count": 53,
   "id": "e530e739",
   "metadata": {},
   "outputs": [
    {
     "name": "stdout",
     "output_type": "stream",
     "text": [
      "Número máximo de arestas: 9453\n",
      "Densidade: 0.6474135195176135\n"
     ]
    }
   ],
   "source": [
    "max_edges = n * (n - 1) // 2\n",
    "print(f\"Número máximo de arestas: {max_edges}\")\n",
    "d = m / max_edges\n",
    "print(f\"Densidade: {d}\")"
   ]
  },
  {
   "cell_type": "code",
   "execution_count": 54,
   "id": "74b3d73d",
   "metadata": {},
   "outputs": [],
   "source": [
    "data = gt_data(g)\n",
    "\n",
    "degrees = []\n",
    "for v in g.all_vertices():\n",
    "    degrees.append(v.total_degree())\n",
    "    \n",
    "data['degree'] = degrees"
   ]
  },
  {
   "cell_type": "code",
   "execution_count": 55,
   "id": "a48768d6",
   "metadata": {},
   "outputs": [
    {
     "data": {
      "text/plain": [
       "count    138.000000\n",
       "mean      88.695652\n",
       "std       31.510075\n",
       "min        4.000000\n",
       "25%       72.000000\n",
       "50%       98.000000\n",
       "75%      112.750000\n",
       "max      127.000000\n",
       "Name: degree, dtype: float64"
      ]
     },
     "execution_count": 55,
     "metadata": {},
     "output_type": "execute_result"
    }
   ],
   "source": [
    "data['degree'].describe()"
   ]
  },
  {
   "cell_type": "code",
   "execution_count": 56,
   "id": "2e5a2a4e",
   "metadata": {},
   "outputs": [
    {
     "data": {
      "text/plain": [
       "<AxesSubplot: xlabel='degree', ylabel='Count'>"
      ]
     },
     "execution_count": 56,
     "metadata": {},
     "output_type": "execute_result"
    },
    {
     "data": {
      "image/png": "[encoded data removed]",
      "text/plain": [
       "<Figure size 640x480 with 1 Axes>"
      ]
     },
     "metadata": {},
     "output_type": "display_data"
    }
   ],
   "source": [
    "sns.histplot(data['degree'])"
   ]
  },
  {
   "cell_type": "code",
   "execution_count": 57,
   "id": "647215d3",
   "metadata": {
    "scrolled": false
   },
   "outputs": [
    {
     "data": {
      "text/html": [
       "\n",
       "        <div id=\"oSB3seCQsq5MTJVUr2gsiZ\"></div>\n",
       "        <script>netpixi.render('oSB3seCQsq5MTJVUr2gsiZ', 'rede_sfdp.net.gz', 1.7777777777777777, true, true, false);</script>\n",
       "    "
      ],
      "text/plain": [
       "<IPython.core.display.HTML object>"
      ]
     },
     "metadata": {},
     "output_type": "display_data"
    }
   ],
   "source": [
    "m = gt_draw.sfdp_layout(g)\n",
    "gt_move(g, m)\n",
    "gt_save(g, 'rede_sfdp.net.gz')\n",
    "r = netpixi.render('rede_sfdp.net.gz', infinite=True);"
   ]
  },
  {
   "cell_type": "code",
   "execution_count": 58,
   "id": "e8a84192",
   "metadata": {},
   "outputs": [
    {
     "data": {
      "text/html": [
       "\n",
       "        <div id=\"K5A3HreNZjVXsN7HmcndQm\"></div>\n",
       "        <script>netpixi.call('K5A3HreNZjVXsN7HmcndQm', 'oSB3seCQsq5MTJVUr2gsiZ', 'setGraph', 'eyJ0eXBlIjogInZlcnRleCIsICJwcm9wcyI6IHsic3JjIjogImlkIiwgImRzdCI6ICJfa2V5In19Cg==');</script>\n",
       "    "
      ],
      "text/plain": [
       "<IPython.core.display.HTML object>"
      ]
     },
     "metadata": {},
     "output_type": "display_data"
    }
   ],
   "source": [
    "# Para poder visualizar o nome dos países (Ajuda a ver quais são os países no centro/periferia).\n",
    "r.vertex_set_key('id')"
   ]
  },
  {
   "cell_type": "markdown",
   "id": "c459af74",
   "metadata": {},
   "source": [
    "## Algoritmo para cálcular o coreness contínuo\n",
    "\n",
    "Escala o tamanho dos vértices do grafo com o valor do coreness."
   ]
  },
  {
   "cell_type": "code",
   "execution_count": 59,
   "id": "c0ca5ed2",
   "metadata": {},
   "outputs": [],
   "source": [
    "import cpnet\n",
    "\n",
    "from graph_tool import spectral"
   ]
  },
  {
   "cell_type": "code",
   "execution_count": 60,
   "id": "6bae21cd",
   "metadata": {
    "scrolled": true
   },
   "outputs": [
    {
     "data": {
      "text/html": [
       "\n",
       "        <div id=\"fmTdSNGnjwYtaQfe4HVbuk\"></div>\n",
       "        <script>netpixi.call('fmTdSNGnjwYtaQfe4HVbuk', 'oSB3seCQsq5MTJVUr2gsiZ', 'changeGraph', 'eyJpZCI6ICJzcmlsYW5rYSIsICJ0eXBlIjogInZlcnRleCIsICJwcm9wcyI6IHsic2l6ZSI6IDE1LjE4MTgxODE4MTgxODE4Mn19Cg==');</script>\n",
       "    "
      ],
      "text/plain": [
       "<IPython.core.display.HTML object>"
      ]
     },
     "metadata": {},
     "output_type": "display_data"
    },
    {
     "data": {
      "text/html": [
       "\n",
       "        <div id=\"HmaZgmXPjHXZSQxn98Sfqx\"></div>\n",
       "        <script>netpixi.call('HmaZgmXPjHXZSQxn98Sfqx', 'oSB3seCQsq5MTJVUr2gsiZ', 'changeGraph', 'eyJpZCI6ICJtb3JvY2NvIiwgInR5cGUiOiAidmVydGV4IiwgInByb3BzIjogeyJzaXplIjogNDYuNDI4NTcxNDI4NTcxNDN9fQo=');</script>\n",
       "    "
      ],
      "text/plain": [
       "<IPython.core.display.HTML object>"
      ]
     },
     "metadata": {},
     "output_type": "display_data"
    },
    {
     "data": {
      "text/html": [
       "\n",
       "        <div id=\"MP3zvPzSe3RZXxvgvRFDko\"></div>\n",
       "        <script>netpixi.call('MP3zvPzSe3RZXxvgvRFDko', 'oSB3seCQsq5MTJVUr2gsiZ', 'changeGraph', 'eyJpZCI6ICJqb3JkYW4iLCAidHlwZSI6ICJ2ZXJ0ZXgiLCAicHJvcHMiOiB7InNpemUiOiAxNy4wfX0K');</script>\n",
       "    "
      ],
      "text/plain": [
       "<IPython.core.display.HTML object>"
      ]
     },
     "metadata": {},
     "output_type": "display_data"
    },
    {
     "data": {
      "text/html": [
       "\n",
       "        <div id=\"n8w2joJckqmZWdzBzuKUwS\"></div>\n",
       "        <script>netpixi.call('n8w2joJckqmZWdzBzuKUwS', 'oSB3seCQsq5MTJVUr2gsiZ', 'changeGraph', 'eyJpZCI6ICJrZW55YSIsICJ0eXBlIjogInZlcnRleCIsICJwcm9wcyI6IHsic2l6ZSI6IDE5LjB9fQo=');</script>\n",
       "    "
      ],
      "text/plain": [
       "<IPython.core.display.HTML object>"
      ]
     },
     "metadata": {},
     "output_type": "display_data"
    },
    {
     "data": {
      "text/html": [
       "\n",
       "        <div id=\"Q46eproW97g5i2tKRDT7Tv\"></div>\n",
       "        <script>netpixi.call('Q46eproW97g5i2tKRDT7Tv', 'oSB3seCQsq5MTJVUr2gsiZ', 'changeGraph', 'eyJpZCI6ICJ0aGFpbGFuZCIsICJ0eXBlIjogInZlcnRleCIsICJwcm9wcyI6IHsic2l6ZSI6IDE4LjQ1NDU0NTQ1NDU0NTQ1M319Cg==');</script>\n",
       "    "
      ],
      "text/plain": [
       "<IPython.core.display.HTML object>"
      ]
     },
     "metadata": {},
     "output_type": "display_data"
    },
    {
     "data": {
      "text/html": [
       "\n",
       "        <div id=\"gPSZGyTc4VoWHcAiHwo8Jn\"></div>\n",
       "        <script>netpixi.call('gPSZGyTc4VoWHcAiHwo8Jn', 'oSB3seCQsq5MTJVUr2gsiZ', 'changeGraph', 'eyJpZCI6ICJxYXRhciIsICJ0eXBlIjogInZlcnRleCIsICJwcm9wcyI6IHsic2l6ZSI6IDEyLjM2MzYzNjM2MzYzNjM2M319Cg==');</script>\n",
       "    "
      ],
      "text/plain": [
       "<IPython.core.display.HTML object>"
      ]
     },
     "metadata": {},
     "output_type": "display_data"
    },
    {
     "data": {
      "text/html": [
       "\n",
       "        <div id=\"CocPifwKciYx2cnV7B7nnK\"></div>\n",
       "        <script>netpixi.call('CocPifwKciYx2cnV7B7nnK', 'oSB3seCQsq5MTJVUr2gsiZ', 'changeGraph', 'eyJpZCI6ICJjcm9hdGlhIiwgInR5cGUiOiAidmVydGV4IiwgInByb3BzIjogeyJzaXplIjogMTYuMH19Cg==');</script>\n",
       "    "
      ],
      "text/plain": [
       "<IPython.core.display.HTML object>"
      ]
     },
     "metadata": {},
     "output_type": "display_data"
    },
    {
     "data": {
      "text/html": [
       "\n",
       "        <div id=\"hoKAouLYEwiB2rpbHoZAjn\"></div>\n",
       "        <script>netpixi.call('hoKAouLYEwiB2rpbHoZAjn', 'oSB3seCQsq5MTJVUr2gsiZ', 'changeGraph', 'eyJpZCI6ICJlY3VhZG9yIiwgInR5cGUiOiAidmVydGV4IiwgInByb3BzIjogeyJzaXplIjogMTUuNTQ1NDU0NTQ1NDU0NTQ3fX0K');</script>\n",
       "    "
      ],
      "text/plain": [
       "<IPython.core.display.HTML object>"
      ]
     },
     "metadata": {},
     "output_type": "display_data"
    },
    {
     "data": {
      "text/html": [
       "\n",
       "        <div id=\"NTEf7iLhC2mQdeiaJoDSPS\"></div>\n",
       "        <script>netpixi.call('NTEf7iLhC2mQdeiaJoDSPS', 'oSB3seCQsq5MTJVUr2gsiZ', 'changeGraph', 'eyJpZCI6ICJjYW1lcm9vbiIsICJ0eXBlIjogInZlcnRleCIsICJwcm9wcyI6IHsic2l6ZSI6IDE4LjcyNzI3MjcyNzI3MjcyN319Cg==');</script>\n",
       "    "
      ],
      "text/plain": [
       "<IPython.core.display.HTML object>"
      ]
     },
     "metadata": {},
     "output_type": "display_data"
    },
    {
     "data": {
      "text/html": [
       "\n",
       "        <div id=\"DCMB4Jr7qzBNwit3aQFqFh\"></div>\n",
       "        <script>netpixi.call('DCMB4Jr7qzBNwit3aQFqFh', 'oSB3seCQsq5MTJVUr2gsiZ', 'changeGraph', 'eyJpZCI6ICJpc3JhZWwiLCAidHlwZSI6ICJ2ZXJ0ZXgiLCAicHJvcHMiOiB7InNpemUiOiAxNi40NTQ1NDU0NTQ1NDU0NTN9fQo=');</script>\n",
       "    "
      ],
      "text/plain": [
       "<IPython.core.display.HTML object>"
      ]
     },
     "metadata": {},
     "output_type": "display_data"
    },
    {
     "data": {
      "text/html": [
       "\n",
       "        <div id=\"LTLCF2BDbd8wHPeGbSZZee\"></div>\n",
       "        <script>netpixi.call('LTLCF2BDbd8wHPeGbSZZee', 'oSB3seCQsq5MTJVUr2gsiZ', 'changeGraph', 'eyJpZCI6ICJiZW5pbiIsICJ0eXBlIjogInZlcnRleCIsICJwcm9wcyI6IHsic2l6ZSI6IDE4LjU0NTQ1NDU0NTQ1NDU0N319Cg==');</script>\n",
       "    "
      ],
      "text/plain": [
       "<IPython.core.display.HTML object>"
      ]
     },
     "metadata": {},
     "output_type": "display_data"
    },
    {
     "data": {
      "text/html": [
       "\n",
       "        <div id=\"mtsKMEBC7zSSJompiV5XTz\"></div>\n",
       "        <script>netpixi.call('mtsKMEBC7zSSJompiV5XTz', 'oSB3seCQsq5MTJVUr2gsiZ', 'changeGraph', 'eyJpZCI6ICJ1a3JhaW5lIiwgInR5cGUiOiAidmVydGV4IiwgInByb3BzIjogeyJzaXplIjogMTQuMH19Cg==');</script>\n",
       "    "
      ],
      "text/plain": [
       "<IPython.core.display.HTML object>"
      ]
     },
     "metadata": {},
     "output_type": "display_data"
    },
    {
     "data": {
      "text/html": [
       "\n",
       "        <div id=\"UTRseKhTuGVddkPvu3TfuN\"></div>\n",
       "        <script>netpixi.call('UTRseKhTuGVddkPvu3TfuN', 'oSB3seCQsq5MTJVUr2gsiZ', 'changeGraph', 'eyJpZCI6ICJmaW5sYW5kIiwgInR5cGUiOiAidmVydGV4IiwgInByb3BzIjogeyJzaXplIjogNDcuODU3MTQyODU3MTQyODU0fX0K');</script>\n",
       "    "
      ],
      "text/plain": [
       "<IPython.core.display.HTML object>"
      ]
     },
     "metadata": {},
     "output_type": "display_data"
    },
    {
     "data": {
      "text/html": [
       "\n",
       "        <div id=\"XQ8LbJ2mmUCyPG8vNGbfBP\"></div>\n",
       "        <script>netpixi.call('XQ8LbJ2mmUCyPG8vNGbfBP', 'oSB3seCQsq5MTJVUr2gsiZ', 'changeGraph', 'eyJpZCI6ICJzYXVkaWFyYWJpYSIsICJ0eXBlIjogInZlcnRleCIsICJwcm9wcyI6IHsic2l6ZSI6IDE3LjA5MDkwOTA5MDkwOTA5fX0K');</script>\n",
       "    "
      ],
      "text/plain": [
       "<IPython.core.display.HTML object>"
      ]
     },
     "metadata": {},
     "output_type": "display_data"
    },
    {
     "data": {
      "text/html": [
       "\n",
       "        <div id=\"gSQJZsYuPLuyG9YPTvrmDt\"></div>\n",
       "        <script>netpixi.call('gSQJZsYuPLuyG9YPTvrmDt', 'oSB3seCQsq5MTJVUr2gsiZ', 'changeGraph', 'eyJpZCI6ICJhbGJhbmlhIiwgInR5cGUiOiAidmVydGV4IiwgInByb3BzIjogeyJzaXplIjogMTYuODE4MTgxODE4MTgxODE3fX0K');</script>\n",
       "    "
      ],
      "text/plain": [
       "<IPython.core.display.HTML object>"
      ]
     },
     "metadata": {},
     "output_type": "display_data"
    },
    {
     "data": {
      "text/html": [
       "\n",
       "        <div id=\"mxf7XpCYAsMranFCeg6eMp\"></div>\n",
       "        <script>netpixi.call('mxf7XpCYAsMranFCeg6eMp', 'oSB3seCQsq5MTJVUr2gsiZ', 'changeGraph', 'eyJpZCI6ICJjaGluYSIsICJ0eXBlIjogInZlcnRleCIsICJwcm9wcyI6IHsic2l6ZSI6IDQ2LjA3MTQyODU3MTQyODU3fX0K');</script>\n",
       "    "
      ],
      "text/plain": [
       "<IPython.core.display.HTML object>"
      ]
     },
     "metadata": {},
     "output_type": "display_data"
    },
    {
     "data": {
      "text/html": [
       "\n",
       "        <div id=\"mxznHoerovoZVEqJH7h3ea\"></div>\n",
       "        <script>netpixi.call('mxznHoerovoZVEqJH7h3ea', 'oSB3seCQsq5MTJVUr2gsiZ', 'changeGraph', 'eyJpZCI6ICJjeXBydXMiLCAidHlwZSI6ICJ2ZXJ0ZXgiLCAicHJvcHMiOiB7InNpemUiOiAxOS4yNzI3MjcyNzI3MjcyNzN9fQo=');</script>\n",
       "    "
      ],
      "text/plain": [
       "<IPython.core.display.HTML object>"
      ]
     },
     "metadata": {},
     "output_type": "display_data"
    },
    {
     "data": {
      "text/html": [
       "\n",
       "        <div id=\"4ekrQmy2khmS2fyF7jyaHy\"></div>\n",
       "        <script>netpixi.call('4ekrQmy2khmS2fyF7jyaHy', 'oSB3seCQsq5MTJVUr2gsiZ', 'changeGraph', 'eyJpZCI6ICJwZXJ1IiwgInR5cGUiOiAidmVydGV4IiwgInByb3BzIjogeyJzaXplIjogMTcuMTgxODE4MTgxODE4MTh9fQo=');</script>\n",
       "    "
      ],
      "text/plain": [
       "<IPython.core.display.HTML object>"
      ]
     },
     "metadata": {},
     "output_type": "display_data"
    },
    {
     "data": {
      "text/html": [
       "\n",
       "        <div id=\"QimPZxU3UZeq4uxao9nTAk\"></div>\n",
       "        <script>netpixi.call('QimPZxU3UZeq4uxao9nTAk', 'oSB3seCQsq5MTJVUr2gsiZ', 'changeGraph', 'eyJpZCI6ICJtYWxheXNpYSIsICJ0eXBlIjogInZlcnRleCIsICJwcm9wcyI6IHsic2l6ZSI6IDQzLjU3MTQyODU3MTQyODU3fX0K');</script>\n",
       "    "
      ],
      "text/plain": [
       "<IPython.core.display.HTML object>"
      ]
     },
     "metadata": {},
     "output_type": "display_data"
    },
    {
     "data": {
      "text/html": [
       "\n",
       "        <div id=\"N6A8AbbjGWX9PRjtfDWZMJ\"></div>\n",
       "        <script>netpixi.call('N6A8AbbjGWX9PRjtfDWZMJ', 'oSB3seCQsq5MTJVUr2gsiZ', 'changeGraph', 'eyJpZCI6ICJqYXBhbiIsICJ0eXBlIjogInZlcnRleCIsICJwcm9wcyI6IHsic2l6ZSI6IDE4LjgxODE4MTgxODE4MTgxN319Cg==');</script>\n",
       "    "
      ],
      "text/plain": [
       "<IPython.core.display.HTML object>"
      ]
     },
     "metadata": {},
     "output_type": "display_data"
    },
    {
     "data": {
      "text/html": [
       "\n",
       "        <div id=\"963sSSwtSWKFn9tSwv6QHL\"></div>\n",
       "        <script>netpixi.call('963sSSwtSWKFn9tSwv6QHL', 'oSB3seCQsq5MTJVUr2gsiZ', 'changeGraph', 'eyJpZCI6ICJtZXhpY28iLCAidHlwZSI6ICJ2ZXJ0ZXgiLCAicHJvcHMiOiB7InNpemUiOiAxOS41NDU0NTQ1NDU0NTQ1NDd9fQo=');</script>\n",
       "    "
      ],
      "text/plain": [
       "<IPython.core.display.HTML object>"
      ]
     },
     "metadata": {},
     "output_type": "display_data"
    },
    {
     "data": {
      "text/html": [
       "\n",
       "        <div id=\"2Gvdvf8fkH4uWspf8HgRGn\"></div>\n",
       "        <script>netpixi.call('2Gvdvf8fkH4uWspf8HgRGn', 'oSB3seCQsq5MTJVUr2gsiZ', 'changeGraph', 'eyJpZCI6ICJ0dW5pc2lhIiwgInR5cGUiOiAidmVydGV4IiwgInByb3BzIjogeyJzaXplIjogNDEuMDcxNDI4NTcxNDI4NTd9fQo=');</script>\n",
       "    "
      ],
      "text/plain": [
       "<IPython.core.display.HTML object>"
      ]
     },
     "metadata": {},
     "output_type": "display_data"
    },
    {
     "data": {
      "text/html": [
       "\n",
       "        <div id=\"hxta7XAS3gdmAY2C2Jrn5Y\"></div>\n",
       "        <script>netpixi.call('hxta7XAS3gdmAY2C2Jrn5Y', 'oSB3seCQsq5MTJVUr2gsiZ', 'changeGraph', 'eyJpZCI6ICJjb3N0YXJpY2EiLCAidHlwZSI6ICJ2ZXJ0ZXgiLCAicHJvcHMiOiB7InNpemUiOiAxNi41NDU0NTQ1NDU0NTQ1NDd9fQo=');</script>\n",
       "    "
      ],
      "text/plain": [
       "<IPython.core.display.HTML object>"
      ]
     },
     "metadata": {},
     "output_type": "display_data"
    },
    {
     "data": {
      "text/html": [
       "\n",
       "        <div id=\"HNByF4nwEKZWXKJqLdYYJN\"></div>\n",
       "        <script>netpixi.call('HNByF4nwEKZWXKJqLdYYJN', 'oSB3seCQsq5MTJVUr2gsiZ', 'changeGraph', 'eyJpZCI6ICJpdGFseSIsICJ0eXBlIjogInZlcnRleCIsICJwcm9wcyI6IHsic2l6ZSI6IDQ5LjI4NTcxNDI4NTcxNDI5fX0K');</script>\n",
       "    "
      ],
      "text/plain": [
       "<IPython.core.display.HTML object>"
      ]
     },
     "metadata": {},
     "output_type": "display_data"
    },
    {
     "data": {
      "text/html": [
       "\n",
       "        <div id=\"Hmovi2XWUdEcRhBf64Cnfp\"></div>\n",
       "        <script>netpixi.call('Hmovi2XWUdEcRhBf64Cnfp', 'oSB3seCQsq5MTJVUr2gsiZ', 'changeGraph', 'eyJpZCI6ICJuZXd6ZWFsYW5kIiwgInR5cGUiOiAidmVydGV4IiwgInByb3BzIjogeyJzaXplIjogMTYuNjM2MzYzNjM2MzYzNjM3fX0K');</script>\n",
       "    "
      ],
      "text/plain": [
       "<IPython.core.display.HTML object>"
      ]
     },
     "metadata": {},
     "output_type": "display_data"
    },
    {
     "data": {
      "text/html": [
       "\n",
       "        <div id=\"RgMkXtq3MRrpU8pCbJKZZJ\"></div>\n",
       "        <script>netpixi.call('RgMkXtq3MRrpU8pCbJKZZJ', 'oSB3seCQsq5MTJVUr2gsiZ', 'changeGraph', 'eyJpZCI6ICJub3J3YXkiLCAidHlwZSI6ICJ2ZXJ0ZXgiLCAicHJvcHMiOiB7InNpemUiOiA0My45Mjg1NzE0Mjg1NzE0M319Cg==');</script>\n",
       "    "
      ],
      "text/plain": [
       "<IPython.core.display.HTML object>"
      ]
     },
     "metadata": {},
     "output_type": "display_data"
    },
    {
     "data": {
      "text/html": [
       "\n",
       "        <div id=\"UDZ6H9mpcj8uHxX3t2k4T5\"></div>\n",
       "        <script>netpixi.call('UDZ6H9mpcj8uHxX3t2k4T5', 'oSB3seCQsq5MTJVUr2gsiZ', 'changeGraph', 'eyJpZCI6ICJsZWJhbm9uIiwgInR5cGUiOiAidmVydGV4IiwgInByb3BzIjogeyJzaXplIjogMTUuMzYzNjM2MzYzNjM2MzYzfX0K');</script>\n",
       "    "
      ],
      "text/plain": [
       "<IPython.core.display.HTML object>"
      ]
     },
     "metadata": {},
     "output_type": "display_data"
    },
    {
     "data": {
      "text/html": [
       "\n",
       "        <div id=\"ReJ8CfuHHjv5QLADpQc5F3\"></div>\n",
       "        <script>netpixi.call('ReJ8CfuHHjv5QLADpQc5F3', 'oSB3seCQsq5MTJVUr2gsiZ', 'changeGraph', 'eyJpZCI6ICJ0dXJrZXkiLCAidHlwZSI6ICJ2ZXJ0ZXgiLCAicHJvcHMiOiB7InNpemUiOiAxOC4zNjM2MzYzNjM2MzYzNjN9fQo=');</script>\n",
       "    "
      ],
      "text/plain": [
       "<IPython.core.display.HTML object>"
      ]
     },
     "metadata": {},
     "output_type": "display_data"
    },
    {
     "data": {
      "text/html": [
       "\n",
       "        <div id=\"ZwhM4VYmkjwnQ6WWLGR6da\"></div>\n",
       "        <script>netpixi.call('ZwhM4VYmkjwnQ6WWLGR6da', 'oSB3seCQsq5MTJVUr2gsiZ', 'changeGraph', 'eyJpZCI6ICJidXJraW5hZmFzbyIsICJ0eXBlIjogInZlcnRleCIsICJwcm9wcyI6IHsic2l6ZSI6IDE4LjYzNjM2MzYzNjM2MzYzN319Cg==');</script>\n",
       "    "
      ],
      "text/plain": [
       "<IPython.core.display.HTML object>"
      ]
     },
     "metadata": {},
     "output_type": "display_data"
    },
    {
     "data": {
      "text/html": [
       "\n",
       "        <div id=\"3h3qtxgdr7x8yYQWZVzMWe\"></div>\n",
       "        <script>netpixi.call('3h3qtxgdr7x8yYQWZVzMWe', 'oSB3seCQsq5MTJVUr2gsiZ', 'changeGraph', 'eyJpZCI6ICJmcmFuY2UiLCAidHlwZSI6ICJ2ZXJ0ZXgiLCAicHJvcHMiOiB7InNpemUiOiA0My4yMTQyODU3MTQyODU3MTV9fQo=');</script>\n",
       "    "
      ],
      "text/plain": [
       "<IPython.core.display.HTML object>"
      ]
     },
     "metadata": {},
     "output_type": "display_data"
    },
    {
     "data": {
      "text/html": [
       "\n",
       "        <div id=\"g8r2krApmtTTudQY4dqwBk\"></div>\n",
       "        <script>netpixi.call('g8r2krApmtTTudQY4dqwBk', 'oSB3seCQsq5MTJVUr2gsiZ', 'changeGraph', 'eyJpZCI6ICJtb3phbWJpcXVlIiwgInR5cGUiOiAidmVydGV4IiwgInByb3BzIjogeyJzaXplIjogMTYuMTgxODE4MTgxODE4MTh9fQo=');</script>\n",
       "    "
      ],
      "text/plain": [
       "<IPython.core.display.HTML object>"
      ]
     },
     "metadata": {},
     "output_type": "display_data"
    },
    {
     "data": {
      "text/html": [
       "\n",
       "        <div id=\"Er6nt5XdgZVHRr64P2xzZt\"></div>\n",
       "        <script>netpixi.call('Er6nt5XdgZVHRr64P2xzZt', 'oSB3seCQsq5MTJVUr2gsiZ', 'changeGraph', 'eyJpZCI6ICJkb21yZXB1YmxpYyIsICJ0eXBlIjogInZlcnRleCIsICJwcm9wcyI6IHsic2l6ZSI6IDE1LjA5MDkwOTA5MDkwOTA5fX0K');</script>\n",
       "    "
      ],
      "text/plain": [
       "<IPython.core.display.HTML object>"
      ]
     },
     "metadata": {},
     "output_type": "display_data"
    },
    {
     "data": {
      "text/html": [
       "\n",
       "        <div id=\"7JRgdhr3cCeKgd5pMrFCNx\"></div>\n",
       "        <script>netpixi.call('7JRgdhr3cCeKgd5pMrFCNx', 'oSB3seCQsq5MTJVUr2gsiZ', 'changeGraph', 'eyJpZCI6ICJtYWxhd2kiLCAidHlwZSI6ICJ2ZXJ0ZXgiLCAicHJvcHMiOiB7InNpemUiOiAxMi4yNzI3MjcyNzI3MjcyNzN9fQo=');</script>\n",
       "    "
      ],
      "text/plain": [
       "<IPython.core.display.HTML object>"
      ]
     },
     "metadata": {},
     "output_type": "display_data"
    },
    {
     "data": {
      "text/html": [
       "\n",
       "        <div id=\"mj59d8Kvv2pp2umrFhWSvJ\"></div>\n",
       "        <script>netpixi.call('mj59d8Kvv2pp2umrFhWSvJ', 'oSB3seCQsq5MTJVUr2gsiZ', 'changeGraph', 'eyJpZCI6ICJncmVlY2UiLCAidHlwZSI6ICJ2ZXJ0ZXgiLCAicHJvcHMiOiB7InNpemUiOiAxNi45MDkwOTA5MDkwOTA5MX19Cg==');</script>\n",
       "    "
      ],
      "text/plain": [
       "<IPython.core.display.HTML object>"
      ]
     },
     "metadata": {},
     "output_type": "display_data"
    },
    {
     "data": {
      "text/html": [
       "\n",
       "        <div id=\"f8UVEvv7FBdgEMpUVXKh3u\"></div>\n",
       "        <script>netpixi.call('f8UVEvv7FBdgEMpUVXKh3u', 'oSB3seCQsq5MTJVUr2gsiZ', 'changeGraph', 'eyJpZCI6ICJuaWNhcmFndWEiLCAidHlwZSI6ICJ2ZXJ0ZXgiLCAicHJvcHMiOiB7InNpemUiOiAxOC4xODE4MTgxODE4MTgxOH19Cg==');</script>\n",
       "    "
      ],
      "text/plain": [
       "<IPython.core.display.HTML object>"
      ]
     },
     "metadata": {},
     "output_type": "display_data"
    },
    {
     "data": {
      "text/html": [
       "\n",
       "        <div id=\"b8p2i8M4RxcCStTrAEd744\"></div>\n",
       "        <script>netpixi.call('b8p2i8M4RxcCStTrAEd744', 'oSB3seCQsq5MTJVUr2gsiZ', 'changeGraph', 'eyJpZCI6ICJzd2VkZW4iLCAidHlwZSI6ICJ2ZXJ0ZXgiLCAicHJvcHMiOiB7InNpemUiOiA0NC4yODU3MTQyODU3MTQyODV9fQo=');</script>\n",
       "    "
      ],
      "text/plain": [
       "<IPython.core.display.HTML object>"
      ]
     },
     "metadata": {},
     "output_type": "display_data"
    },
    {
     "data": {
      "text/html": [
       "\n",
       "        <div id=\"5qNHn2s6Cvou872vBtmL9o\"></div>\n",
       "        <script>netpixi.call('5qNHn2s6Cvou872vBtmL9o', 'oSB3seCQsq5MTJVUr2gsiZ', 'changeGraph', 'eyJpZCI6ICJ1cnVndWF5IiwgInR5cGUiOiAidmVydGV4IiwgInByb3BzIjogeyJzaXplIjogMTUuODE4MTgxODE4MTgxODE4fX0K');</script>\n",
       "    "
      ],
      "text/plain": [
       "<IPython.core.display.HTML object>"
      ]
     },
     "metadata": {},
     "output_type": "display_data"
    },
    {
     "data": {
      "text/html": [
       "\n",
       "        <div id=\"TkwaXqLHkt9oAVHLkKifAK\"></div>\n",
       "        <script>netpixi.call('TkwaXqLHkt9oAVHLkKifAK', 'oSB3seCQsq5MTJVUr2gsiZ', 'changeGraph', 'eyJpZCI6ICJtYWRhZ2FzY2FyIiwgInR5cGUiOiAidmVydGV4IiwgInByb3BzIjogeyJzaXplIjogMTkuODE4MTgxODE4MTgxODJ9fQo=');</script>\n",
       "    "
      ],
      "text/plain": [
       "<IPython.core.display.HTML object>"
      ]
     },
     "metadata": {},
     "output_type": "display_data"
    },
    {
     "data": {
      "text/html": [
       "\n",
       "        <div id=\"gR8ff5FptBSmZqSE3gVcWQ\"></div>\n",
       "        <script>netpixi.call('gR8ff5FptBSmZqSE3gVcWQ', 'oSB3seCQsq5MTJVUr2gsiZ', 'changeGraph', 'eyJpZCI6ICJ6YW1iaWEiLCAidHlwZSI6ICJ2ZXJ0ZXgiLCAicHJvcHMiOiB7InNpemUiOiAxMy45MDkwOTA5MDkwOTA5MDh9fQo=');</script>\n",
       "    "
      ],
      "text/plain": [
       "<IPython.core.display.HTML object>"
      ]
     },
     "metadata": {},
     "output_type": "display_data"
    },
    {
     "data": {
      "text/html": [
       "\n",
       "        <div id=\"XpfyKADkBAiTMDpV4ZhvN9\"></div>\n",
       "        <script>netpixi.call('XpfyKADkBAiTMDpV4ZhvN9', 'oSB3seCQsq5MTJVUr2gsiZ', 'changeGraph', 'eyJpZCI6ICJuZXRoZXJsYW5kcyIsICJ0eXBlIjogInZlcnRleCIsICJwcm9wcyI6IHsic2l6ZSI6IDQ1LjM1NzE0Mjg1NzE0Mjg1NH19Cg==');</script>\n",
       "    "
      ],
      "text/plain": [
       "<IPython.core.display.HTML object>"
      ]
     },
     "metadata": {},
     "output_type": "display_data"
    },
    {
     "data": {
      "text/html": [
       "\n",
       "        <div id=\"Le24SjPA9gFdJVV6qsM74w\"></div>\n",
       "        <script>netpixi.call('Le24SjPA9gFdJVV6qsM74w', 'oSB3seCQsq5MTJVUr2gsiZ', 'changeGraph', 'eyJpZCI6ICJicmF6aWwiLCAidHlwZSI6ICJ2ZXJ0ZXgiLCAicHJvcHMiOiB7InNpemUiOiAxOS43MjcyNzI3MjcyNzI3Mjd9fQo=');</script>\n",
       "    "
      ],
      "text/plain": [
       "<IPython.core.display.HTML object>"
      ]
     },
     "metadata": {},
     "output_type": "display_data"
    },
    {
     "data": {
      "text/html": [
       "\n",
       "        <div id=\"Uy4ErwfLbVZsyqDQtyRz8M\"></div>\n",
       "        <script>netpixi.call('Uy4ErwfLbVZsyqDQtyRz8M', 'oSB3seCQsq5MTJVUr2gsiZ', 'changeGraph', 'eyJpZCI6ICJzcGFpbiIsICJ0eXBlIjogInZlcnRleCIsICJwcm9wcyI6IHsic2l6ZSI6IDQ4LjkyODU3MTQyODU3MTQzfX0K');</script>\n",
       "    "
      ],
      "text/plain": [
       "<IPython.core.display.HTML object>"
      ]
     },
     "metadata": {},
     "output_type": "display_data"
    },
    {
     "data": {
      "text/html": [
       "\n",
       "        <div id=\"dmu8HfDPe5bUTKWuwh2vRT\"></div>\n",
       "        <script>netpixi.call('dmu8HfDPe5bUTKWuwh2vRT', 'oSB3seCQsq5MTJVUr2gsiZ', 'changeGraph', 'eyJpZCI6ICJ1YWUiLCAidHlwZSI6ICJ2ZXJ0ZXgiLCAicHJvcHMiOiB7InNpemUiOiAxNC44MTgxODE4MTgxODE4MTh9fQo=');</script>\n",
       "    "
      ],
      "text/plain": [
       "<IPython.core.display.HTML object>"
      ]
     },
     "metadata": {},
     "output_type": "display_data"
    },
    {
     "data": {
      "text/html": [
       "\n",
       "        <div id=\"DR4to7UyVSp2ixpeYAaP4W\"></div>\n",
       "        <script>netpixi.call('DR4to7UyVSp2ixpeYAaP4W', 'oSB3seCQsq5MTJVUr2gsiZ', 'changeGraph', 'eyJpZCI6ICJzaW5nYXBvcmUiLCAidHlwZSI6ICJ2ZXJ0ZXgiLCAicHJvcHMiOiB7InNpemUiOiAxMS4zNjM2MzYzNjM2MzYzNjN9fQo=');</script>\n",
       "    "
      ],
      "text/plain": [
       "<IPython.core.display.HTML object>"
      ]
     },
     "metadata": {},
     "output_type": "display_data"
    },
    {
     "data": {
      "text/html": [
       "\n",
       "        <div id=\"bhnL9UayeAuqay5XJD2wsM\"></div>\n",
       "        <script>netpixi.call('bhnL9UayeAuqay5XJD2wsM', 'oSB3seCQsq5MTJVUr2gsiZ', 'changeGraph', 'eyJpZCI6ICJndWF0ZW1hbGEiLCAidHlwZSI6ICJ2ZXJ0ZXgiLCAicHJvcHMiOiB7InNpemUiOiAxNi4wOTA5MDkwOTA5MDkwOX19Cg==');</script>\n",
       "    "
      ],
      "text/plain": [
       "<IPython.core.display.HTML object>"
      ]
     },
     "metadata": {},
     "output_type": "display_data"
    },
    {
     "data": {
      "text/html": [
       "\n",
       "        <div id=\"c4PA2i3XqYW9b4DDm2mLBe\"></div>\n",
       "        <script>netpixi.call('c4PA2i3XqYW9b4DDm2mLBe', 'oSB3seCQsq5MTJVUr2gsiZ', 'changeGraph', 'eyJpZCI6ICJsYW9zIiwgInR5cGUiOiAidmVydGV4IiwgInByb3BzIjogeyJzaXplIjogMTAuMjcyNzI3MjcyNzI3MjczfX0K');</script>\n",
       "    "
      ],
      "text/plain": [
       "<IPython.core.display.HTML object>"
      ]
     },
     "metadata": {},
     "output_type": "display_data"
    },
    {
     "data": {
      "text/html": [
       "\n",
       "        <div id=\"d3zXq8SXo7Yc4ztjkUdDfW\"></div>\n",
       "        <script>netpixi.call('d3zXq8SXo7Yc4ztjkUdDfW', 'oSB3seCQsq5MTJVUr2gsiZ', 'changeGraph', 'eyJpZCI6ICJyb21hbmlhIiwgInR5cGUiOiAidmVydGV4IiwgInByb3BzIjogeyJzaXplIjogMTcuNDU0NTQ1NDU0NTQ1NDUzfX0K');</script>\n",
       "    "
      ],
      "text/plain": [
       "<IPython.core.display.HTML object>"
      ]
     },
     "metadata": {},
     "output_type": "display_data"
    },
    {
     "data": {
      "text/html": [
       "\n",
       "        <div id=\"ftWBYyMaPgysW5a8ozxiLB\"></div>\n",
       "        <script>netpixi.call('ftWBYyMaPgysW5a8ozxiLB', 'oSB3seCQsq5MTJVUr2gsiZ', 'changeGraph', 'eyJpZCI6ICJiZWxnaXVtIiwgInR5cGUiOiAidmVydGV4IiwgInByb3BzIjogeyJzaXplIjogNDguMjE0Mjg1NzE0Mjg1NzF9fQo=');</script>\n",
       "    "
      ],
      "text/plain": [
       "<IPython.core.display.HTML object>"
      ]
     },
     "metadata": {},
     "output_type": "display_data"
    },
    {
     "data": {
      "text/html": [
       "\n",
       "        <div id=\"J8tjtFyct2vkQaFznnyH2h\"></div>\n",
       "        <script>netpixi.call('J8tjtFyct2vkQaFznnyH2h', 'oSB3seCQsq5MTJVUr2gsiZ', 'changeGraph', 'eyJpZCI6ICJnaGFuYSIsICJ0eXBlIjogInZlcnRleCIsICJwcm9wcyI6IHsic2l6ZSI6IDQyLjg1NzE0Mjg1NzE0Mjg1NH19Cg==');</script>\n",
       "    "
      ],
      "text/plain": [
       "<IPython.core.display.HTML object>"
      ]
     },
     "metadata": {},
     "output_type": "display_data"
    },
    {
     "data": {
      "text/html": [
       "\n",
       "        <div id=\"Ut2Eh5ND4BBbHpywcyYhey\"></div>\n",
       "        <script>netpixi.call('Ut2Eh5ND4BBbHpywcyYhey', 'oSB3seCQsq5MTJVUr2gsiZ', 'changeGraph', 'eyJpZCI6ICJ0YW56YW5pYSIsICJ0eXBlIjogInZlcnRleCIsICJwcm9wcyI6IHsic2l6ZSI6IDE5LjQ1NDU0NTQ1NDU0NTQ1M319Cg==');</script>\n",
       "    "
      ],
      "text/plain": [
       "<IPython.core.display.HTML object>"
      ]
     },
     "metadata": {},
     "output_type": "display_data"
    },
    {
     "data": {
      "text/html": [
       "\n",
       "        <div id=\"oRvUgn7T3rTs84s5ZhWeyi\"></div>\n",
       "        <script>netpixi.call('oRvUgn7T3rTs84s5ZhWeyi', 'oSB3seCQsq5MTJVUr2gsiZ', 'changeGraph', 'eyJpZCI6ICJuZXBhbCIsICJ0eXBlIjogInZlcnRleCIsICJwcm9wcyI6IHsic2l6ZSI6IDExLjgxODE4MTgxODE4MTgxOH19Cg==');</script>\n",
       "    "
      ],
      "text/plain": [
       "<IPython.core.display.HTML object>"
      ]
     },
     "metadata": {},
     "output_type": "display_data"
    },
    {
     "data": {
      "text/html": [
       "\n",
       "        <div id=\"6WNNQuee9kZhcEyp9ShdcS\"></div>\n",
       "        <script>netpixi.call('6WNNQuee9kZhcEyp9ShdcS', 'oSB3seCQsq5MTJVUr2gsiZ', 'changeGraph', 'eyJpZCI6ICJpbmRvbmVzaWEiLCAidHlwZSI6ICJ2ZXJ0ZXgiLCAicHJvcHMiOiB7InNpemUiOiAxNy41NDU0NTQ1NDU0NTQ1NDd9fQo=');</script>\n",
       "    "
      ],
      "text/plain": [
       "<IPython.core.display.HTML object>"
      ]
     },
     "metadata": {},
     "output_type": "display_data"
    },
    {
     "data": {
      "text/html": [
       "\n",
       "        <div id=\"b8UsjNT5vBhRaRqPHtU744\"></div>\n",
       "        <script>netpixi.call('b8UsjNT5vBhRaRqPHtU744', 'oSB3seCQsq5MTJVUr2gsiZ', 'changeGraph', 'eyJpZCI6ICJob25kdXJhcyIsICJ0eXBlIjogInZlcnRleCIsICJwcm9wcyI6IHsic2l6ZSI6IDE1LjkwOTA5MDkwOTA5MDkwOH19Cg==');</script>\n",
       "    "
      ],
      "text/plain": [
       "<IPython.core.display.HTML object>"
      ]
     },
     "metadata": {},
     "output_type": "display_data"
    },
    {
     "data": {
      "text/html": [
       "\n",
       "        <div id=\"ko2uHSoPrnjckY5Sjkipv3\"></div>\n",
       "        <script>netpixi.call('ko2uHSoPrnjckY5Sjkipv3', 'oSB3seCQsq5MTJVUr2gsiZ', 'changeGraph', 'eyJpZCI6ICJzdWRhbiIsICJ0eXBlIjogInZlcnRleCIsICJwcm9wcyI6IHsic2l6ZSI6IDE1LjQ1NDU0NTQ1NDU0NTQ1M319Cg==');</script>\n",
       "    "
      ],
      "text/plain": [
       "<IPython.core.display.HTML object>"
      ]
     },
     "metadata": {},
     "output_type": "display_data"
    },
    {
     "data": {
      "text/html": [
       "\n",
       "        <div id=\"BNxx8TfkCcmy4DKNABfPXZ\"></div>\n",
       "        <script>netpixi.call('BNxx8TfkCcmy4DKNABfPXZ', 'oSB3seCQsq5MTJVUr2gsiZ', 'changeGraph', 'eyJpZCI6ICJzeXJpYSIsICJ0eXBlIjogInZlcnRleCIsICJwcm9wcyI6IHsic2l6ZSI6IDEwLjkwOTA5MDkwOTA5MDkxfX0K');</script>\n",
       "    "
      ],
      "text/plain": [
       "<IPython.core.display.HTML object>"
      ]
     },
     "metadata": {},
     "output_type": "display_data"
    },
    {
     "data": {
      "text/html": [
       "\n",
       "        <div id=\"75vNeZ6HkggQ4g7ortUGE8\"></div>\n",
       "        <script>netpixi.call('75vNeZ6HkggQ4g7ortUGE8', 'oSB3seCQsq5MTJVUr2gsiZ', 'changeGraph', 'eyJpZCI6ICJjYW5hZGEiLCAidHlwZSI6ICJ2ZXJ0ZXgiLCAicHJvcHMiOiB7InNpemUiOiAxOC45MDkwOTA5MDkwOTA5MDd9fQo=');</script>\n",
       "    "
      ],
      "text/plain": [
       "<IPython.core.display.HTML object>"
      ]
     },
     "metadata": {},
     "output_type": "display_data"
    },
    {
     "data": {
      "text/html": [
       "\n",
       "        <div id=\"ahChcg3UPju88qFyj6JjMq\"></div>\n",
       "        <script>netpixi.call('ahChcg3UPju88qFyj6JjMq', 'oSB3seCQsq5MTJVUr2gsiZ', 'changeGraph', 'eyJpZCI6ICJzd2l0emVybGFuZCIsICJ0eXBlIjogInZlcnRleCIsICJwcm9wcyI6IHsic2l6ZSI6IDQ4LjU3MTQyODU3MTQyODU3fX0K');</script>\n",
       "    "
      ],
      "text/plain": [
       "<IPython.core.display.HTML object>"
      ]
     },
     "metadata": {},
     "output_type": "display_data"
    },
    {
     "data": {
      "text/html": [
       "\n",
       "        <div id=\"SUtqPTmW39K6TKa26s6HvV\"></div>\n",
       "        <script>netpixi.call('SUtqPTmW39K6TKa26s6HvV', 'oSB3seCQsq5MTJVUr2gsiZ', 'changeGraph', 'eyJpZCI6ICJpcmFuIiwgInR5cGUiOiAidmVydGV4IiwgInByb3BzIjogeyJzaXplIjogMTQuMTgxODE4MTgxODE4MTgyfX0K');</script>\n",
       "    "
      ],
      "text/plain": [
       "<IPython.core.display.HTML object>"
      ]
     },
     "metadata": {},
     "output_type": "display_data"
    },
    {
     "data": {
      "text/html": [
       "\n",
       "        <div id=\"dWFLi5HNgMvZ94qvDUnjAQ\"></div>\n",
       "        <script>netpixi.call('dWFLi5HNgMvZ94qvDUnjAQ', 'oSB3seCQsq5MTJVUr2gsiZ', 'changeGraph', 'eyJpZCI6ICJ2ZW5lenVlbGEiLCAidHlwZSI6ICJ2ZXJ0ZXgiLCAicHJvcHMiOiB7InNpemUiOiAxOS4zNjM2MzYzNjM2MzYzNjN9fQo=');</script>\n",
       "    "
      ],
      "text/plain": [
       "<IPython.core.display.HTML object>"
      ]
     },
     "metadata": {},
     "output_type": "display_data"
    },
    {
     "data": {
      "text/html": [
       "\n",
       "        <div id=\"4d3PV3uVAPtDiEeBozRwDE\"></div>\n",
       "        <script>netpixi.call('4d3PV3uVAPtDiEeBozRwDE', 'oSB3seCQsq5MTJVUr2gsiZ', 'changeGraph', 'eyJpZCI6ICJhdXN0cmlhIiwgInR5cGUiOiAidmVydGV4IiwgInByb3BzIjogeyJzaXplIjogMTcuOTA5MDkwOTA5MDkwOTF9fQo=');</script>\n",
       "    "
      ],
      "text/plain": [
       "<IPython.core.display.HTML object>"
      ]
     },
     "metadata": {},
     "output_type": "display_data"
    },
    {
     "data": {
      "text/html": [
       "\n",
       "        <div id=\"dNVPCcDrr3Ycvf3Yg2tcRc\"></div>\n",
       "        <script>netpixi.call('dNVPCcDrr3Ycvf3Yg2tcRc', 'oSB3seCQsq5MTJVUr2gsiZ', 'changeGraph', 'eyJpZCI6ICJkZW5tYXJrIiwgInR5cGUiOiAidmVydGV4IiwgInByb3BzIjogeyJzaXplIjogMTcuNzI3MjcyNzI3MjcyNzI3fX0K');</script>\n",
       "    "
      ],
      "text/plain": [
       "<IPython.core.display.HTML object>"
      ]
     },
     "metadata": {},
     "output_type": "display_data"
    },
    {
     "data": {
      "text/html": [
       "\n",
       "        <div id=\"NXuhTDeSue7coEyVLvZxRE\"></div>\n",
       "        <script>netpixi.call('NXuhTDeSue7coEyVLvZxRE', 'oSB3seCQsq5MTJVUr2gsiZ', 'changeGraph', 'eyJpZCI6ICJhbGdlcmlhIiwgInR5cGUiOiAidmVydGV4IiwgInByb3BzIjogeyJzaXplIjogNDUuMH19Cg==');</script>\n",
       "    "
      ],
      "text/plain": [
       "<IPython.core.display.HTML object>"
      ]
     },
     "metadata": {},
     "output_type": "display_data"
    },
    {
     "data": {
      "text/html": [
       "\n",
       "        <div id=\"Lhq7dtGn6XA6bz2d7PHX2t\"></div>\n",
       "        <script>netpixi.call('Lhq7dtGn6XA6bz2d7PHX2t', 'oSB3seCQsq5MTJVUr2gsiZ', 'changeGraph', 'eyJpZCI6ICJuaWdlcmlhIiwgInR5cGUiOiAidmVydGV4IiwgInByb3BzIjogeyJzaXplIjogNDEuNzg1NzE0Mjg1NzE0Mjg1fX0K');</script>\n",
       "    "
      ],
      "text/plain": [
       "<IPython.core.display.HTML object>"
      ]
     },
     "metadata": {},
     "output_type": "display_data"
    },
    {
     "data": {
      "text/html": [
       "\n",
       "        <div id=\"Mco4Ck6isNVErCxk9vH6gA\"></div>\n",
       "        <script>netpixi.call('Mco4Ck6isNVErCxk9vH6gA', 'oSB3seCQsq5MTJVUr2gsiZ', 'changeGraph', 'eyJpZCI6ICJndWluZWEiLCAidHlwZSI6ICJ2ZXJ0ZXgiLCAicHJvcHMiOiB7InNpemUiOiAxOS4xODE4MTgxODE4MTgxOH19Cg==');</script>\n",
       "    "
      ],
      "text/plain": [
       "<IPython.core.display.HTML object>"
      ]
     },
     "metadata": {},
     "output_type": "display_data"
    },
    {
     "data": {
      "text/html": [
       "\n",
       "        <div id=\"ZDnwNUHtcCHEVnNDHFtqyc\"></div>\n",
       "        <script>netpixi.call('ZDnwNUHtcCHEVnNDHFtqyc', 'oSB3seCQsq5MTJVUr2gsiZ', 'changeGraph', 'eyJpZCI6ICJtYXVyaXRhbmlhIiwgInR5cGUiOiAidmVydGV4IiwgInByb3BzIjogeyJzaXplIjogMTcuNjM2MzYzNjM2MzYzNjM3fX0K');</script>\n",
       "    "
      ],
      "text/plain": [
       "<IPython.core.display.HTML object>"
      ]
     },
     "metadata": {},
     "output_type": "display_data"
    },
    {
     "data": {
      "text/html": [
       "\n",
       "        <div id=\"czGTse5TRBGE7wzxneU4Vj\"></div>\n",
       "        <script>netpixi.call('czGTse5TRBGE7wzxneU4Vj', 'oSB3seCQsq5MTJVUr2gsiZ', 'changeGraph', 'eyJpZCI6ICJwYW5hbWEiLCAidHlwZSI6ICJ2ZXJ0ZXgiLCAicHJvcHMiOiB7InNpemUiOiAxNC43MjcyNzI3MjcyNzI3Mjd9fQo=');</script>\n",
       "    "
      ],
      "text/plain": [
       "<IPython.core.display.HTML object>"
      ]
     },
     "metadata": {},
     "output_type": "display_data"
    },
    {
     "data": {
      "text/html": [
       "\n",
       "        <div id=\"RgsBqyYFyT46Zt4hDLmcE5\"></div>\n",
       "        <script>netpixi.call('RgsBqyYFyT46Zt4hDLmcE5', 'oSB3seCQsq5MTJVUr2gsiZ', 'changeGraph', 'eyJpZCI6ICJ6aW1iYWJ3ZSIsICJ0eXBlIjogInZlcnRleCIsICJwcm9wcyI6IHsic2l6ZSI6IDEzLjU0NTQ1NDU0NTQ1NDU0NX19Cg==');</script>\n",
       "    "
      ],
      "text/plain": [
       "<IPython.core.display.HTML object>"
      ]
     },
     "metadata": {},
     "output_type": "display_data"
    },
    {
     "data": {
      "text/html": [
       "\n",
       "        <div id=\"Ac3jLAmoST8MkHbDvzWPaY\"></div>\n",
       "        <script>netpixi.call('Ac3jLAmoST8MkHbDvzWPaY', 'oSB3seCQsq5MTJVUr2gsiZ', 'changeGraph', 'eyJpZCI6ICJtYWx0YSIsICJ0eXBlIjogInZlcnRleCIsICJwcm9wcyI6IHsic2l6ZSI6IDE4LjI3MjcyNzI3MjcyNzI3M319Cg==');</script>\n",
       "    "
      ],
      "text/plain": [
       "<IPython.core.display.HTML object>"
      ]
     },
     "metadata": {},
     "output_type": "display_data"
    },
    {
     "data": {
      "text/html": [
       "\n",
       "        <div id=\"FgdYJd7jXHCrgvvxksw76c\"></div>\n",
       "        <script>netpixi.call('FgdYJd7jXHCrgvvxksw76c', 'oSB3seCQsq5MTJVUr2gsiZ', 'changeGraph', 'eyJpZCI6ICJjb2xvbWJpYSIsICJ0eXBlIjogInZlcnRleCIsICJwcm9wcyI6IHsic2l6ZSI6IDE5LjA5MDkwOTA5MDkwOTA5fX0K');</script>\n",
       "    "
      ],
      "text/plain": [
       "<IPython.core.display.HTML object>"
      ]
     },
     "metadata": {},
     "output_type": "display_data"
    },
    {
     "data": {
      "text/html": [
       "\n",
       "        <div id=\"X6tWm8zhRyy5UvKRvuQ4xi\"></div>\n",
       "        <script>netpixi.call('X6tWm8zhRyy5UvKRvuQ4xi', 'oSB3seCQsq5MTJVUr2gsiZ', 'changeGraph', 'eyJpZCI6ICJzb2tvcmVhIiwgInR5cGUiOiAidmVydGV4IiwgInByb3BzIjogeyJzaXplIjogNDAuNzE0Mjg1NzE0Mjg1NzE1fX0K');</script>\n",
       "    "
      ],
      "text/plain": [
       "<IPython.core.display.HTML object>"
      ]
     },
     "metadata": {},
     "output_type": "display_data"
    },
    {
     "data": {
      "text/html": [
       "\n",
       "        <div id=\"gseBysqqCxQUF8Bo28pcuC\"></div>\n",
       "        <script>netpixi.call('gseBysqqCxQUF8Bo28pcuC', 'oSB3seCQsq5MTJVUr2gsiZ', 'changeGraph', 'eyJpZCI6ICJ1Z2FuZGEiLCAidHlwZSI6ICJ2ZXJ0ZXgiLCAicHJvcHMiOiB7InNpemUiOiAxNi4yNzI3MjcyNzI3MjcyNzN9fQo=');</script>\n",
       "    "
      ],
      "text/plain": [
       "<IPython.core.display.HTML object>"
      ]
     },
     "metadata": {},
     "output_type": "display_data"
    },
    {
     "data": {
      "text/html": [
       "\n",
       "        <div id=\"4XsbpxjXjJbRLhXA7ZKYLW\"></div>\n",
       "        <script>netpixi.call('4XsbpxjXjJbRLhXA7ZKYLW', 'oSB3seCQsq5MTJVUr2gsiZ', 'changeGraph', 'eyJpZCI6ICJwb3J0dWdhbCIsICJ0eXBlIjogInZlcnRleCIsICJwcm9wcyI6IHsic2l6ZSI6IDQ5LjY0Mjg1NzE0Mjg1NzE0Nn19Cg==');</script>\n",
       "    "
      ],
      "text/plain": [
       "<IPython.core.display.HTML object>"
      ]
     },
     "metadata": {},
     "output_type": "display_data"
    },
    {
     "data": {
      "text/html": [
       "\n",
       "        <div id=\"JWj67wF6tCytC6JoqQJpCy\"></div>\n",
       "        <script>netpixi.call('JWj67wF6tCytC6JoqQJpCy', 'oSB3seCQsq5MTJVUr2gsiZ', 'changeGraph', 'eyJpZCI6ICJ2aWV0bmFtIiwgInR5cGUiOiAidmVydGV4IiwgInByb3BzIjogeyJzaXplIjogMTIuMTgxODE4MTgxODE4MTgyfX0K');</script>\n",
       "    "
      ],
      "text/plain": [
       "<IPython.core.display.HTML object>"
      ]
     },
     "metadata": {},
     "output_type": "display_data"
    },
    {
     "data": {
      "text/html": [
       "\n",
       "        <div id=\"du26sUNVdk7WHpuzKHtH3U\"></div>\n",
       "        <script>netpixi.call('du26sUNVdk7WHpuzKHtH3U', 'oSB3seCQsq5MTJVUr2gsiZ', 'changeGraph', 'eyJpZCI6ICJzbG92ZW5pYSIsICJ0eXBlIjogInZlcnRleCIsICJwcm9wcyI6IHsic2l6ZSI6IDE3LjI3MjcyNzI3MjcyNzI3M319Cg==');</script>\n",
       "    "
      ],
      "text/plain": [
       "<IPython.core.display.HTML object>"
      ]
     },
     "metadata": {},
     "output_type": "display_data"
    },
    {
     "data": {
      "text/html": [
       "\n",
       "        <div id=\"TN4448LHF6VvWkjY3Eaet4\"></div>\n",
       "        <script>netpixi.call('TN4448LHF6VvWkjY3Eaet4', 'oSB3seCQsq5MTJVUr2gsiZ', 'changeGraph', 'eyJpZCI6ICJjaGlsZSIsICJ0eXBlIjogInZlcnRleCIsICJwcm9wcyI6IHsic2l6ZSI6IDE5LjYzNjM2MzYzNjM2MzYzN319Cg==');</script>\n",
       "    "
      ],
      "text/plain": [
       "<IPython.core.display.HTML object>"
      ]
     },
     "metadata": {},
     "output_type": "display_data"
    },
    {
     "data": {
      "text/html": [
       "\n",
       "        <div id=\"N5okpAc77VGxijxY4CdkaQ\"></div>\n",
       "        <script>netpixi.call('N5okpAc77VGxijxY4CdkaQ', 'oSB3seCQsq5MTJVUr2gsiZ', 'changeGraph', 'eyJpZCI6ICJpcmVsYW5kIiwgInR5cGUiOiAidmVydGV4IiwgInByb3BzIjogeyJzaXplIjogMTcuMzYzNjM2MzYzNjM2MzYzfX0K');</script>\n",
       "    "
      ],
      "text/plain": [
       "<IPython.core.display.HTML object>"
      ]
     },
     "metadata": {},
     "output_type": "display_data"
    },
    {
     "data": {
      "text/html": [
       "\n",
       "        <div id=\"XYoRdJdcnfNa5syhKaLxPP\"></div>\n",
       "        <script>netpixi.call('XYoRdJdcnfNa5syhKaLxPP', 'oSB3seCQsq5MTJVUr2gsiZ', 'changeGraph', 'eyJpZCI6ICJrdXdhaXQiLCAidHlwZSI6ICJ2ZXJ0ZXgiLCAicHJvcHMiOiB7InNpemUiOiAxMi43MjcyNzI3MjcyNzI3Mjd9fQo=');</script>\n",
       "    "
      ],
      "text/plain": [
       "<IPython.core.display.HTML object>"
      ]
     },
     "metadata": {},
     "output_type": "display_data"
    },
    {
     "data": {
      "text/html": [
       "\n",
       "        <div id=\"3zjjRZu6vZoiRAChiy3veX\"></div>\n",
       "        <script>netpixi.call('3zjjRZu6vZoiRAChiy3veX', 'oSB3seCQsq5MTJVUr2gsiZ', 'changeGraph', 'eyJpZCI6ICJwYWtpc3RhbiIsICJ0eXBlIjogInZlcnRleCIsICJwcm9wcyI6IHsic2l6ZSI6IDQwLjM1NzE0Mjg1NzE0Mjg1NH19Cg==');</script>\n",
       "    "
      ],
      "text/plain": [
       "<IPython.core.display.HTML object>"
      ]
     },
     "metadata": {},
     "output_type": "display_data"
    },
    {
     "data": {
      "text/html": [
       "\n",
       "        <div id=\"2rzofcriokbjEbNG7vLaVR\"></div>\n",
       "        <script>netpixi.call('2rzofcriokbjEbNG7vLaVR', 'oSB3seCQsq5MTJVUr2gsiZ', 'changeGraph', 'eyJpZCI6ICJ1ayIsICJ0eXBlIjogInZlcnRleCIsICJwcm9wcyI6IHsic2l6ZSI6IDQyLjE0Mjg1NzE0Mjg1NzE0Nn19Cg==');</script>\n",
       "    "
      ],
      "text/plain": [
       "<IPython.core.display.HTML object>"
      ]
     },
     "metadata": {},
     "output_type": "display_data"
    },
    {
     "data": {
      "text/html": [
       "\n",
       "        <div id=\"6dnHTTi8VN5cz87tM4wZ4k\"></div>\n",
       "        <script>netpixi.call('6dnHTTi8VN5cz87tM4wZ4k', 'oSB3seCQsq5MTJVUr2gsiZ', 'changeGraph', 'eyJpZCI6ICJnZW9yZ2lhIiwgInR5cGUiOiAidmVydGV4IiwgInByb3BzIjogeyJzaXplIjogMTMuMTgxODE4MTgxODE4MTgyfX0K');</script>\n",
       "    "
      ],
      "text/plain": [
       "<IPython.core.display.HTML object>"
      ]
     },
     "metadata": {},
     "output_type": "display_data"
    },
    {
     "data": {
      "text/html": [
       "\n",
       "        <div id=\"i8nfFzPczYSagnwhuXvaEG\"></div>\n",
       "        <script>netpixi.call('i8nfFzPczYSagnwhuXvaEG', 'oSB3seCQsq5MTJVUr2gsiZ', 'changeGraph', 'eyJpZCI6ICJ1c2EiLCAidHlwZSI6ICJ2ZXJ0ZXgiLCAicHJvcHMiOiB7InNpemUiOiAxMy42MzYzNjM2MzYzNjM2Mzd9fQo=');</script>\n",
       "    "
      ],
      "text/plain": [
       "<IPython.core.display.HTML object>"
      ]
     },
     "metadata": {},
     "output_type": "display_data"
    },
    {
     "data": {
      "text/html": [
       "\n",
       "        <div id=\"diEG8PhWfBcZsnyaBJPKH4\"></div>\n",
       "        <script>netpixi.call('diEG8PhWfBcZsnyaBJPKH4', 'oSB3seCQsq5MTJVUr2gsiZ', 'changeGraph', 'eyJpZCI6ICJnZXJtYW55IiwgInR5cGUiOiAidmVydGV4IiwgInByb3BzIjogeyJzaXplIjogMjAuMH19Cg==');</script>\n",
       "    "
      ],
      "text/plain": [
       "<IPython.core.display.HTML object>"
      ]
     },
     "metadata": {},
     "output_type": "display_data"
    },
    {
     "data": {
      "text/html": [
       "\n",
       "        <div id=\"LYNB9VQ7Atr6zBxAqLV3eg\"></div>\n",
       "        <script>netpixi.call('LYNB9VQ7Atr6zBxAqLV3eg', 'oSB3seCQsq5MTJVUr2gsiZ', 'changeGraph', 'eyJpZCI6ICJtb25nb2xpYSIsICJ0eXBlIjogInZlcnRleCIsICJwcm9wcyI6IHsic2l6ZSI6IDE1LjcyNzI3MjcyNzI3MjcyN319Cg==');</script>\n",
       "    "
      ],
      "text/plain": [
       "<IPython.core.display.HTML object>"
      ]
     },
     "metadata": {},
     "output_type": "display_data"
    },
    {
     "data": {
      "text/html": [
       "\n",
       "        <div id=\"HQMwm7Q4Res3Sq5HHzSbgC\"></div>\n",
       "        <script>netpixi.call('HQMwm7Q4Res3Sq5HHzSbgC', 'oSB3seCQsq5MTJVUr2gsiZ', 'changeGraph', 'eyJpZCI6ICJzZW5lZ2FsIiwgInR5cGUiOiAidmVydGV4IiwgInByb3BzIjogeyJzaXplIjogNDIuNX19Cg==');</script>\n",
       "    "
      ],
      "text/plain": [
       "<IPython.core.display.HTML object>"
      ]
     },
     "metadata": {},
     "output_type": "display_data"
    },
    {
     "data": {
      "text/html": [
       "\n",
       "        <div id=\"d5hhHgMjgdnqeC7o92XVJe\"></div>\n",
       "        <script>netpixi.call('d5hhHgMjgdnqeC7o92XVJe', 'oSB3seCQsq5MTJVUr2gsiZ', 'changeGraph', 'eyJpZCI6ICJpbmRpYSIsICJ0eXBlIjogInZlcnRleCIsICJwcm9wcyI6IHsic2l6ZSI6IDQxLjQyODU3MTQyODU3MTQzfX0K');</script>\n",
       "    "
      ],
      "text/plain": [
       "<IPython.core.display.HTML object>"
      ]
     },
     "metadata": {},
     "output_type": "display_data"
    },
    {
     "data": {
      "text/html": [
       "\n",
       "        <div id=\"cSQWKuPgkgxaaD3kHC5eBJ\"></div>\n",
       "        <script>netpixi.call('cSQWKuPgkgxaaD3kHC5eBJ', 'oSB3seCQsq5MTJVUr2gsiZ', 'changeGraph', 'eyJpZCI6ICJtYXVyaXRpdXMiLCAidHlwZSI6ICJ2ZXJ0ZXgiLCAicHJvcHMiOiB7InNpemUiOiA0NC42NDI4NTcxNDI4NTcxNDZ9fQo=');</script>\n",
       "    "
      ],
      "text/plain": [
       "<IPython.core.display.HTML object>"
      ]
     },
     "metadata": {},
     "output_type": "display_data"
    },
    {
     "data": {
      "text/html": [
       "\n",
       "        <div id=\"T5c37MJDD9tLQ8x6cVYajT\"></div>\n",
       "        <script>netpixi.call('T5c37MJDD9tLQ8x6cVYajT', 'oSB3seCQsq5MTJVUr2gsiZ', 'changeGraph', 'eyJpZCI6ICJzaWVycmFsZW9uZSIsICJ0eXBlIjogInZlcnRleCIsICJwcm9wcyI6IHsic2l6ZSI6IDE0LjQ1NDU0NTQ1NDU0NTQ1M319Cg==');</script>\n",
       "    "
      ],
      "text/plain": [
       "<IPython.core.display.HTML object>"
      ]
     },
     "metadata": {},
     "output_type": "display_data"
    },
    {
     "data": {
      "text/html": [
       "\n",
       "        <div id=\"EGidscxQUTQZBSKk3kmAgd\"></div>\n",
       "        <script>netpixi.call('EGidscxQUTQZBSKk3kmAgd', 'oSB3seCQsq5MTJVUr2gsiZ', 'changeGraph', 'eyJpZCI6ICJ0b2dvIiwgInR5cGUiOiAidmVydGV4IiwgInByb3BzIjogeyJzaXplIjogMTkuOTA5MDkwOTA5MDkwOTA3fX0K');</script>\n",
       "    "
      ],
      "text/plain": [
       "<IPython.core.display.HTML object>"
      ]
     },
     "metadata": {},
     "output_type": "display_data"
    },
    {
     "data": {
      "text/html": [
       "\n",
       "        <div id=\"9iqC5iCFx5BRF5YiPsSjFg\"></div>\n",
       "        <script>netpixi.call('9iqC5iCFx5BRF5YiPsSjFg', 'oSB3seCQsq5MTJVUr2gsiZ', 'changeGraph', 'eyJpZCI6ICJydXNzaWEiLCAidHlwZSI6ICJ2ZXJ0ZXgiLCAicHJvcHMiOiB7InNpemUiOiAxNC4zNjM2MzYzNjM2MzYzNjN9fQo=');</script>\n",
       "    "
      ],
      "text/plain": [
       "<IPython.core.display.HTML object>"
      ]
     },
     "metadata": {},
     "output_type": "display_data"
    },
    {
     "data": {
      "text/html": [
       "\n",
       "        <div id=\"juv7yqhGvNxx6Nh5EG7hsg\"></div>\n",
       "        <script>netpixi.call('juv7yqhGvNxx6Nh5EG7hsg', 'oSB3seCQsq5MTJVUr2gsiZ', 'changeGraph', 'eyJpZCI6ICJidWxnYXJpYSIsICJ0eXBlIjogInZlcnRleCIsICJwcm9wcyI6IHsic2l6ZSI6IDE4LjA5MDkwOTA5MDkwOTA5fX0K');</script>\n",
       "    "
      ],
      "text/plain": [
       "<IPython.core.display.HTML object>"
      ]
     },
     "metadata": {},
     "output_type": "display_data"
    },
    {
     "data": {
      "text/html": [
       "\n",
       "        <div id=\"KcxJ8WidzPx6TQJZaJYidH\"></div>\n",
       "        <script>netpixi.call('KcxJ8WidzPx6TQJZaJYidH', 'oSB3seCQsq5MTJVUr2gsiZ', 'changeGraph', 'eyJpZCI6ICJsaWJ5YSIsICJ0eXBlIjogInZlcnRleCIsICJwcm9wcyI6IHsic2l6ZSI6IDE1LjI3MjcyNzI3MjcyNzI3M319Cg==');</script>\n",
       "    "
      ],
      "text/plain": [
       "<IPython.core.display.HTML object>"
      ]
     },
     "metadata": {},
     "output_type": "display_data"
    },
    {
     "data": {
      "text/html": [
       "\n",
       "        <div id=\"DKiUKfr6LbpuQPLWB8L7JP\"></div>\n",
       "        <script>netpixi.call('DKiUKfr6LbpuQPLWB8L7JP', 'oSB3seCQsq5MTJVUr2gsiZ', 'changeGraph', 'eyJpZCI6ICJwaGlsaXBwaW5lcyIsICJ0eXBlIjogInZlcnRleCIsICJwcm9wcyI6IHsic2l6ZSI6IDQ3LjV9fQo=');</script>\n",
       "    "
      ],
      "text/plain": [
       "<IPython.core.display.HTML object>"
      ]
     },
     "metadata": {},
     "output_type": "display_data"
    },
    {
     "data": {
      "text/html": [
       "\n",
       "        <div id=\"N8XWxzgXR9ZJW3i84WHB6m\"></div>\n",
       "        <script>netpixi.call('N8XWxzgXR9ZJW3i84WHB6m', 'oSB3seCQsq5MTJVUr2gsiZ', 'changeGraph', 'eyJpZCI6ICJhcmdlbnRpbmEiLCAidHlwZSI6ICJ2ZXJ0ZXgiLCAicHJvcHMiOiB7InNpemUiOiAxOC4wfX0K');</script>\n",
       "    "
      ],
      "text/plain": [
       "<IPython.core.display.HTML object>"
      ]
     },
     "metadata": {},
     "output_type": "display_data"
    },
    {
     "data": {
      "text/html": [
       "\n",
       "        <div id=\"9q5uo8ZoQYshPQTWfRgiCi\"></div>\n",
       "        <script>netpixi.call('9q5uo8ZoQYshPQTWfRgiCi', 'oSB3seCQsq5MTJVUr2gsiZ', 'changeGraph', 'eyJpZCI6ICJ5ZW1lbiIsICJ0eXBlIjogInZlcnRleCIsICJwcm9wcyI6IHsic2l6ZSI6IDEzLjA5MDkwOTA5MDkwOTA5fX0K');</script>\n",
       "    "
      ],
      "text/plain": [
       "<IPython.core.display.HTML object>"
      ]
     },
     "metadata": {},
     "output_type": "display_data"
    },
    {
     "data": {
      "text/html": [
       "\n",
       "        <div id=\"bvDUvVapTh9oynZVT6wX5P\"></div>\n",
       "        <script>netpixi.call('bvDUvVapTh9oynZVT6wX5P', 'oSB3seCQsq5MTJVUr2gsiZ', 'changeGraph', 'eyJpZCI6ICJpdm9yeWNvYXN0IiwgInR5cGUiOiAidmVydGV4IiwgInByb3BzIjogeyJzaXplIjogNDcuMTQyODU3MTQyODU3MTQ2fX0K');</script>\n",
       "    "
      ],
      "text/plain": [
       "<IPython.core.display.HTML object>"
      ]
     },
     "metadata": {},
     "output_type": "display_data"
    },
    {
     "data": {
      "text/html": [
       "\n",
       "        <div id=\"8gUMEu3yQeMyJxVzMuRvjo\"></div>\n",
       "        <script>netpixi.call('8gUMEu3yQeMyJxVzMuRvjo', 'oSB3seCQsq5MTJVUr2gsiZ', 'changeGraph', 'eyJpZCI6ICJwb2xhbmQiLCAidHlwZSI6ICJ2ZXJ0ZXgiLCAicHJvcHMiOiB7InNpemUiOiAxNi43MjcyNzI3MjcyNzI3Mjd9fQo=');</script>\n",
       "    "
      ],
      "text/plain": [
       "<IPython.core.display.HTML object>"
      ]
     },
     "metadata": {},
     "output_type": "display_data"
    },
    {
     "data": {
      "text/html": [
       "\n",
       "        <div id=\"D6kTMWP83LusFBx6yrkzfw\"></div>\n",
       "        <script>netpixi.call('D6kTMWP83LusFBx6yrkzfw', 'oSB3seCQsq5MTJVUr2gsiZ', 'changeGraph', 'eyJpZCI6ICJiYW5nbGFkZXNoIiwgInR5cGUiOiAidmVydGV4IiwgInByb3BzIjogeyJzaXplIjogMTYuMzYzNjM2MzYzNjM2MzYzfX0K');</script>\n",
       "    "
      ],
      "text/plain": [
       "<IPython.core.display.HTML object>"
      ]
     },
     "metadata": {},
     "output_type": "display_data"
    },
    {
     "data": {
      "text/html": [
       "\n",
       "        <div id=\"Y3fdGVYDMnoCoUr5Qc9sZw\"></div>\n",
       "        <script>netpixi.call('Y3fdGVYDMnoCoUr5Qc9sZw', 'oSB3seCQsq5MTJVUr2gsiZ', 'changeGraph', 'eyJpZCI6ICJhdXN0cmFsaWEiLCAidHlwZSI6ICJ2ZXJ0ZXgiLCAicHJvcHMiOiB7InNpemUiOiAxNy44MTgxODE4MTgxODE4MTd9fQo=');</script>\n",
       "    "
      ],
      "text/plain": [
       "<IPython.core.display.HTML object>"
      ]
     },
     "metadata": {},
     "output_type": "display_data"
    },
    {
     "data": {
      "text/html": [
       "\n",
       "        <div id=\"ex9egssynqd32YWd6x47kx\"></div>\n",
       "        <script>netpixi.call('ex9egssynqd32YWd6x47kx', 'oSB3seCQsq5MTJVUr2gsiZ', 'changeGraph', 'eyJpZCI6ICJzb2FmcmljYSIsICJ0eXBlIjogInZlcnRleCIsICJwcm9wcyI6IHsic2l6ZSI6IDQ2Ljc4NTcxNDI4NTcxNDI5fX0K');</script>\n",
       "    "
      ],
      "text/plain": [
       "<IPython.core.display.HTML object>"
      ]
     },
     "metadata": {},
     "output_type": "display_data"
    },
    {
     "data": {
      "text/html": [
       "\n",
       "        <div id=\"VC4dNq2PoGDnE6WDUMiSeL\"></div>\n",
       "        <script>netpixi.call('VC4dNq2PoGDnE6WDUMiSeL', 'oSB3seCQsq5MTJVUr2gsiZ', 'changeGraph', 'eyJpZCI6ICJlZ3lwdCIsICJ0eXBlIjogInZlcnRleCIsICJwcm9wcyI6IHsic2l6ZSI6IDQ1LjcxNDI4NTcxNDI4NTcxfX0K');</script>\n",
       "    "
      ],
      "text/plain": [
       "<IPython.core.display.HTML object>"
      ]
     },
     "metadata": {},
     "output_type": "display_data"
    },
    {
     "data": {
      "text/html": [
       "\n",
       "        <div id=\"AHebzbj7QNhggUrELXq75j\"></div>\n",
       "        <script>netpixi.call('AHebzbj7QNhggUrELXq75j', 'oSB3seCQsq5MTJVUr2gsiZ', 'changeGraph', 'eyJpZCI6ICJjYW1ib2RpYSIsICJ0eXBlIjogInZlcnRleCIsICJwcm9wcyI6IHsic2l6ZSI6IDEzLjgxODE4MTgxODE4MTgxOH19Cg==');</script>\n",
       "    "
      ],
      "text/plain": [
       "<IPython.core.display.HTML object>"
      ]
     },
     "metadata": {},
     "output_type": "display_data"
    },
    {
     "data": {
      "text/html": [
       "\n",
       "        <div id=\"NqoHnQGwPbDDTPUKRcnGsg\"></div>\n",
       "        <script>netpixi.call('NqoHnQGwPbDDTPUKRcnGsg', 'oSB3seCQsq5MTJVUr2gsiZ', 'changeGraph', 'eyJpZCI6ICJodW5nYXJ5IiwgInR5cGUiOiAidmVydGV4IiwgInByb3BzIjogeyJzaXplIjogMTUuNjM2MzYzNjM2MzYzNjM3fX0K');</script>\n",
       "    "
      ],
      "text/plain": [
       "<IPython.core.display.HTML object>"
      ]
     },
     "metadata": {},
     "output_type": "display_data"
    },
    {
     "data": {
      "text/html": [
       "\n",
       "        <div id=\"QXfi8r4yaF3XbKPT5tjGxi\"></div>\n",
       "        <script>netpixi.call('QXfi8r4yaF3XbKPT5tjGxi', 'oSB3seCQsq5MTJVUr2gsiZ', 'changeGraph', 'eyJpZCI6ICJmeXJvbWFjZWRvbmlhIiwgInR5cGUiOiAidmVydGV4IiwgInByb3BzIjogeyJzaXplIjogMTAuNTQ1NDU0NTQ1NDU0NTQ1fX0K');</script>\n",
       "    "
      ],
      "text/plain": [
       "<IPython.core.display.HTML object>"
      ]
     },
     "metadata": {},
     "output_type": "display_data"
    },
    {
     "data": {
      "text/html": [
       "\n",
       "        <div id=\"PvDDRvd8KkZVsEQnE3wTKa\"></div>\n",
       "        <script>netpixi.call('PvDDRvd8KkZVsEQnE3wTKa', 'oSB3seCQsq5MTJVUr2gsiZ', 'changeGraph', 'eyJpZCI6ICJiZWxhcnVzIiwgInR5cGUiOiAidmVydGV4IiwgInByb3BzIjogeyJzaXplIjogMTAuNzI3MjcyNzI3MjcyNzI3fX0K');</script>\n",
       "    "
      ],
      "text/plain": [
       "<IPython.core.display.HTML object>"
      ]
     },
     "metadata": {},
     "output_type": "display_data"
    },
    {
     "data": {
      "text/html": [
       "\n",
       "        <div id=\"n8udqpb5qRBtWyFQV2sP5g\"></div>\n",
       "        <script>netpixi.call('n8udqpb5qRBtWyFQV2sP5g', 'oSB3seCQsq5MTJVUr2gsiZ', 'changeGraph', 'eyJpZCI6ICJtYWxpIiwgInR5cGUiOiAidmVydGV4IiwgInByb3BzIjogeyJzaXplIjogMTQuNjM2MzYzNjM2MzYzNjM3fX0K');</script>\n",
       "    "
      ],
      "text/plain": [
       "<IPython.core.display.HTML object>"
      ]
     },
     "metadata": {},
     "output_type": "display_data"
    },
    {
     "data": {
      "text/html": [
       "\n",
       "        <div id=\"6UvwWrxgoe346H3pPyzamg\"></div>\n",
       "        <script>netpixi.call('6UvwWrxgoe346H3pPyzamg', 'oSB3seCQsq5MTJVUr2gsiZ', 'changeGraph', 'eyJpZCI6ICJhemVyYmFpamFuIiwgInR5cGUiOiAidmVydGV4IiwgInByb3BzIjogeyJzaXplIjogMTEuNjM2MzYzNjM2MzYzNjM3fX0K');</script>\n",
       "    "
      ],
      "text/plain": [
       "<IPython.core.display.HTML object>"
      ]
     },
     "metadata": {},
     "output_type": "display_data"
    },
    {
     "data": {
      "text/html": [
       "\n",
       "        <div id=\"A3sBmSxKSpQpykaYbp2AVr\"></div>\n",
       "        <script>netpixi.call('A3sBmSxKSpQpykaYbp2AVr', 'oSB3seCQsq5MTJVUr2gsiZ', 'changeGraph', 'eyJpZCI6ICJib2xpdmlhIiwgInR5cGUiOiAidmVydGV4IiwgInByb3BzIjogeyJzaXplIjogMTQuMDkwOTA5MDkwOTA5MDl9fQo=');</script>\n",
       "    "
      ],
      "text/plain": [
       "<IPython.core.display.HTML object>"
      ]
     },
     "metadata": {},
     "output_type": "display_data"
    },
    {
     "data": {
      "text/html": [
       "\n",
       "        <div id=\"nUHvJxhqPmj7STUJLTVJB3\"></div>\n",
       "        <script>netpixi.call('nUHvJxhqPmj7STUJLTVJB3', 'oSB3seCQsq5MTJVUr2gsiZ', 'changeGraph', 'eyJpZCI6ICJpY2VsYW5kIiwgInR5cGUiOiAidmVydGV4IiwgInByb3BzIjogeyJzaXplIjogMTIuODE4MTgxODE4MTgxODE4fX0K');</script>\n",
       "    "
      ],
      "text/plain": [
       "<IPython.core.display.HTML object>"
      ]
     },
     "metadata": {},
     "output_type": "display_data"
    },
    {
     "data": {
      "text/html": [
       "\n",
       "        <div id=\"Vf4CFQjCbMoRUXFzAUymt7\"></div>\n",
       "        <script>netpixi.call('Vf4CFQjCbMoRUXFzAUymt7', 'oSB3seCQsq5MTJVUr2gsiZ', 'changeGraph', 'eyJpZCI6ICJrYXpha2hzdGFuIiwgInR5cGUiOiAidmVydGV4IiwgInByb3BzIjogeyJzaXplIjogMTIuMDkwOTA5MDkwOTA5MDl9fQo=');</script>\n",
       "    "
      ],
      "text/plain": [
       "<IPython.core.display.HTML object>"
      ]
     },
     "metadata": {},
     "output_type": "display_data"
    },
    {
     "data": {
      "text/html": [
       "\n",
       "        <div id=\"TBDKdbamiFrLNwCBmTvQzi\"></div>\n",
       "        <script>netpixi.call('TBDKdbamiFrLNwCBmTvQzi', 'oSB3seCQsq5MTJVUr2gsiZ', 'changeGraph', 'eyJpZCI6ICJsdXhlbWJvdXJnIiwgInR5cGUiOiAidmVydGV4IiwgInByb3BzIjogeyJzaXplIjogMTQuOTA5MDkwOTA5MDkwOTF9fQo=');</script>\n",
       "    "
      ],
      "text/plain": [
       "<IPython.core.display.HTML object>"
      ]
     },
     "metadata": {},
     "output_type": "display_data"
    },
    {
     "data": {
      "text/html": [
       "\n",
       "        <div id=\"AFyEYcSke5CEJy6HEMKsg9\"></div>\n",
       "        <script>netpixi.call('AFyEYcSke5CEJy6HEMKsg9', 'oSB3seCQsq5MTJVUr2gsiZ', 'changeGraph', 'eyJpZCI6ICJsYXR2aWEiLCAidHlwZSI6ICJ2ZXJ0ZXgiLCAicHJvcHMiOiB7InNpemUiOiAxMi42MzYzNjM2MzYzNjM2Mzd9fQo=');</script>\n",
       "    "
      ],
      "text/plain": [
       "<IPython.core.display.HTML object>"
      ]
     },
     "metadata": {},
     "output_type": "display_data"
    },
    {
     "data": {
      "text/html": [
       "\n",
       "        <div id=\"ncJKUidvpytwdbKE3FVy6K\"></div>\n",
       "        <script>netpixi.call('ncJKUidvpytwdbKE3FVy6K', 'oSB3seCQsq5MTJVUr2gsiZ', 'changeGraph', 'eyJpZCI6ICJsaXRodWFuaWEiLCAidHlwZSI6ICJ2ZXJ0ZXgiLCAicHJvcHMiOiB7InNpemUiOiAxNS4wfX0K');</script>\n",
       "    "
      ],
      "text/plain": [
       "<IPython.core.display.HTML object>"
      ]
     },
     "metadata": {},
     "output_type": "display_data"
    },
    {
     "data": {
      "text/html": [
       "\n",
       "        <div id=\"Q27qYkbo8tgLrPDgx9khzm\"></div>\n",
       "        <script>netpixi.call('Q27qYkbo8tgLrPDgx9khzm', 'oSB3seCQsq5MTJVUr2gsiZ', 'changeGraph', 'eyJpZCI6ICJwYXJhZ3VheSIsICJ0eXBlIjogInZlcnRleCIsICJwcm9wcyI6IHsic2l6ZSI6IDEzLjcyNzI3MjcyNzI3MjcyN319Cg==');</script>\n",
       "    "
      ],
      "text/plain": [
       "<IPython.core.display.HTML object>"
      ]
     },
     "metadata": {},
     "output_type": "display_data"
    },
    {
     "data": {
      "text/html": [
       "\n",
       "        <div id=\"BQiaJT6vqYH3aZ692SCaWx\"></div>\n",
       "        <script>netpixi.call('BQiaJT6vqYH3aZ692SCaWx', 'oSB3seCQsq5MTJVUr2gsiZ', 'changeGraph', 'eyJpZCI6ICJlc3RvbmlhIiwgInR5cGUiOiAidmVydGV4IiwgInByb3BzIjogeyJzaXplIjogMTMuMzYzNjM2MzYzNjM2MzYzfX0K');</script>\n",
       "    "
      ],
      "text/plain": [
       "<IPython.core.display.HTML object>"
      ]
     },
     "metadata": {},
     "output_type": "display_data"
    },
    {
     "data": {
      "text/html": [
       "\n",
       "        <div id=\"n8p8baAhx6Jw5MB672veW7\"></div>\n",
       "        <script>netpixi.call('n8p8baAhx6Jw5MB672veW7', 'oSB3seCQsq5MTJVUr2gsiZ', 'changeGraph', 'eyJpZCI6ICJtb250ZW5lZ3JvIiwgInR5cGUiOiAidmVydGV4IiwgInByb3BzIjogeyJzaXplIjogMTIuMH19Cg==');</script>\n",
       "    "
      ],
      "text/plain": [
       "<IPython.core.display.HTML object>"
      ]
     },
     "metadata": {},
     "output_type": "display_data"
    },
    {
     "data": {
      "text/html": [
       "\n",
       "        <div id=\"2Zii3p9aSuhEUe35dMDYcA\"></div>\n",
       "        <script>netpixi.call('2Zii3p9aSuhEUe35dMDYcA', 'oSB3seCQsq5MTJVUr2gsiZ', 'changeGraph', 'eyJpZCI6ICJzbG92YWtpYSIsICJ0eXBlIjogInZlcnRleCIsICJwcm9wcyI6IHsic2l6ZSI6IDE0LjI3MjcyNzI3MjcyNzI3M319Cg==');</script>\n",
       "    "
      ],
      "text/plain": [
       "<IPython.core.display.HTML object>"
      ]
     },
     "metadata": {},
     "output_type": "display_data"
    },
    {
     "data": {
      "text/html": [
       "\n",
       "        <div id=\"em8ps6L7f2BuEWgwytrAQM\"></div>\n",
       "        <script>netpixi.call('em8ps6L7f2BuEWgwytrAQM', 'oSB3seCQsq5MTJVUr2gsiZ', 'changeGraph', 'eyJpZCI6ICJjemVjaHJlcCIsICJ0eXBlIjogInZlcnRleCIsICJwcm9wcyI6IHsic2l6ZSI6IDE0LjU0NTQ1NDU0NTQ1NDU0NX19Cg==');</script>\n",
       "    "
      ],
      "text/plain": [
       "<IPython.core.display.HTML object>"
      ]
     },
     "metadata": {},
     "output_type": "display_data"
    },
    {
     "data": {
      "text/html": [
       "\n",
       "        <div id=\"einJo53w8mYE7TuNzfrmoh\"></div>\n",
       "        <script>netpixi.call('einJo53w8mYE7TuNzfrmoh', 'oSB3seCQsq5MTJVUr2gsiZ', 'changeGraph', 'eyJpZCI6ICJtb2xkb3ZhIiwgInR5cGUiOiAidmVydGV4IiwgInByb3BzIjogeyJzaXplIjogMTAuODE4MTgxODE4MTgxODE4fX0K');</script>\n",
       "    "
      ],
      "text/plain": [
       "<IPython.core.display.HTML object>"
      ]
     },
     "metadata": {},
     "output_type": "display_data"
    },
    {
     "data": {
      "text/html": [
       "\n",
       "        <div id=\"gFPNfscp9TJcrap7BfU9vd\"></div>\n",
       "        <script>netpixi.call('gFPNfscp9TJcrap7BfU9vd', 'oSB3seCQsq5MTJVUr2gsiZ', 'changeGraph', 'eyJpZCI6ICJiYWhyYWluIiwgInR5cGUiOiAidmVydGV4IiwgInByb3BzIjogeyJzaXplIjogMTEuMjcyNzI3MjcyNzI3MjczfX0K');</script>\n",
       "    "
      ],
      "text/plain": [
       "<IPython.core.display.HTML object>"
      ]
     },
     "metadata": {},
     "output_type": "display_data"
    },
    {
     "data": {
      "text/html": [
       "\n",
       "        <div id=\"aPn9nwDKQwCGqtRfoYnEv5\"></div>\n",
       "        <script>netpixi.call('aPn9nwDKQwCGqtRfoYnEv5', 'oSB3seCQsq5MTJVUr2gsiZ', 'changeGraph', 'eyJpZCI6ICJyd2FuZGEiLCAidHlwZSI6ICJ2ZXJ0ZXgiLCAicHJvcHMiOiB7InNpemUiOiAxMS4xODE4MTgxODE4MTgxODJ9fQo=');</script>\n",
       "    "
      ],
      "text/plain": [
       "<IPython.core.display.HTML object>"
      ]
     },
     "metadata": {},
     "output_type": "display_data"
    },
    {
     "data": {
      "text/html": [
       "\n",
       "        <div id=\"QTBSsF5YDn9Tk5LcaQnzG3\"></div>\n",
       "        <script>netpixi.call('QTBSsF5YDn9Tk5LcaQnzG3', 'oSB3seCQsq5MTJVUr2gsiZ', 'changeGraph', 'eyJpZCI6ICJjaGFkIiwgInR5cGUiOiAidmVydGV4IiwgInByb3BzIjogeyJzaXplIjogMTIuNTQ1NDU0NTQ1NDU0NTQ1fX0K');</script>\n",
       "    "
      ],
      "text/plain": [
       "<IPython.core.display.HTML object>"
      ]
     },
     "metadata": {},
     "output_type": "display_data"
    },
    {
     "data": {
      "text/html": [
       "\n",
       "        <div id=\"LHYHzaAkArNWHpFnpuh5SY\"></div>\n",
       "        <script>netpixi.call('LHYHzaAkArNWHpFnpuh5SY', 'oSB3seCQsq5MTJVUr2gsiZ', 'changeGraph', 'eyJpZCI6ICJuaWdlciIsICJ0eXBlIjogInZlcnRleCIsICJwcm9wcyI6IHsic2l6ZSI6IDEyLjkwOTA5MDkwOTA5MDkxfX0K');</script>\n",
       "    "
      ],
      "text/plain": [
       "<IPython.core.display.HTML object>"
      ]
     },
     "metadata": {},
     "output_type": "display_data"
    },
    {
     "data": {
      "text/html": [
       "\n",
       "        <div id=\"7Mcw2HUUL3ftqD4upVyegF\"></div>\n",
       "        <script>netpixi.call('7Mcw2HUUL3ftqD4upVyegF', 'oSB3seCQsq5MTJVUr2gsiZ', 'changeGraph', 'eyJpZCI6ICJpcmFxIiwgInR5cGUiOiAidmVydGV4IiwgInByb3BzIjogeyJzaXplIjogMTEuMDkwOTA5MDkwOTA5MDl9fQo=');</script>\n",
       "    "
      ],
      "text/plain": [
       "<IPython.core.display.HTML object>"
      ]
     },
     "metadata": {},
     "output_type": "display_data"
    },
    {
     "data": {
      "text/html": [
       "\n",
       "        <div id=\"Z65Gmn2k5YYVdUKKJGhFT3\"></div>\n",
       "        <script>netpixi.call('Z65Gmn2k5YYVdUKKJGhFT3', 'oSB3seCQsq5MTJVUr2gsiZ', 'changeGraph', 'eyJpZCI6ICJidXJ1bmRpIiwgInR5cGUiOiAidmVydGV4IiwgInByb3BzIjogeyJzaXplIjogMTIuNDU0NTQ1NDU0NTQ1NDU1fX0K');</script>\n",
       "    "
      ],
      "text/plain": [
       "<IPython.core.display.HTML object>"
      ]
     },
     "metadata": {},
     "output_type": "display_data"
    },
    {
     "data": {
      "text/html": [
       "\n",
       "        <div id=\"ChddN89W6yycKsxqzcusNC\"></div>\n",
       "        <script>netpixi.call('ChddN89W6yycKsxqzcusNC', 'oSB3seCQsq5MTJVUr2gsiZ', 'changeGraph', 'eyJpZCI6ICJsaWJlcmlhIiwgInR5cGUiOiAidmVydGV4IiwgInByb3BzIjogeyJzaXplIjogMTMuMjcyNzI3MjcyNzI3MjczfX0K');</script>\n",
       "    "
      ],
      "text/plain": [
       "<IPython.core.display.HTML object>"
      ]
     },
     "metadata": {},
     "output_type": "display_data"
    },
    {
     "data": {
      "text/html": [
       "\n",
       "        <div id=\"6cmRWF9JkE23h5cJAwfXDU\"></div>\n",
       "        <script>netpixi.call('6cmRWF9JkE23h5cJAwfXDU', 'oSB3seCQsq5MTJVUr2gsiZ', 'changeGraph', 'eyJpZCI6ICJib3Rzd2FuYSIsICJ0eXBlIjogInZlcnRleCIsICJwcm9wcyI6IHsic2l6ZSI6IDExLjcyNzI3MjcyNzI3MjcyN319Cg==');</script>\n",
       "    "
      ],
      "text/plain": [
       "<IPython.core.display.HTML object>"
      ]
     },
     "metadata": {},
     "output_type": "display_data"
    },
    {
     "data": {
      "text/html": [
       "\n",
       "        <div id=\"hCr5ECj43FHDDcDL9qUJYr\"></div>\n",
       "        <script>netpixi.call('hCr5ECj43FHDDcDL9qUJYr', 'oSB3seCQsq5MTJVUr2gsiZ', 'changeGraph', 'eyJpZCI6ICJkamlib3V0aSIsICJ0eXBlIjogInZlcnRleCIsICJwcm9wcyI6IHsic2l6ZSI6IDExLjB9fQo=');</script>\n",
       "    "
      ],
      "text/plain": [
       "<IPython.core.display.HTML object>"
      ]
     },
     "metadata": {},
     "output_type": "display_data"
    },
    {
     "data": {
      "text/html": [
       "\n",
       "        <div id=\"3KLBLgefXQ3AaaxTXYKdCk\"></div>\n",
       "        <script>netpixi.call('3KLBLgefXQ3AaaxTXYKdCk', 'oSB3seCQsq5MTJVUr2gsiZ', 'changeGraph', 'eyJpZCI6ICJoYWl0aSIsICJ0eXBlIjogInZlcnRleCIsICJwcm9wcyI6IHsic2l6ZSI6IDEzLjQ1NDU0NTQ1NDU0NTQ1NX19Cg==');</script>\n",
       "    "
      ],
      "text/plain": [
       "<IPython.core.display.HTML object>"
      ]
     },
     "metadata": {},
     "output_type": "display_data"
    },
    {
     "data": {
      "text/html": [
       "\n",
       "        <div id=\"QNfQsBiFFA5fkhwWPNWmz9\"></div>\n",
       "        <script>netpixi.call('QNfQsBiFFA5fkhwWPNWmz9', 'oSB3seCQsq5MTJVUr2gsiZ', 'changeGraph', 'eyJpZCI6ICJjb21vcm9zIiwgInR5cGUiOiAidmVydGV4IiwgInByb3BzIjogeyJzaXplIjogMTEuNDU0NTQ1NDU0NTQ1NDU1fX0K');</script>\n",
       "    "
      ],
      "text/plain": [
       "<IPython.core.display.HTML object>"
      ]
     },
     "metadata": {},
     "output_type": "display_data"
    },
    {
     "data": {
      "text/html": [
       "\n",
       "        <div id=\"YpQnTXmfxnnttMKcJgNMHt\"></div>\n",
       "        <script>netpixi.call('YpQnTXmfxnnttMKcJgNMHt', 'oSB3seCQsq5MTJVUr2gsiZ', 'changeGraph', 'eyJpZCI6ICJhbmdvbGEiLCAidHlwZSI6ICJ2ZXJ0ZXgiLCAicHJvcHMiOiB7InNpemUiOiAxMy4wfX0K');</script>\n",
       "    "
      ],
      "text/plain": [
       "<IPython.core.display.HTML object>"
      ]
     },
     "metadata": {},
     "output_type": "display_data"
    },
    {
     "data": {
      "text/html": [
       "\n",
       "        <div id=\"7iL5R77GzFvQo8UzcMQ9ya\"></div>\n",
       "        <script>netpixi.call('7iL5R77GzFvQo8UzcMQ9ya', 'oSB3seCQsq5MTJVUr2gsiZ', 'changeGraph', 'eyJpZCI6ICJjYXIiLCAidHlwZSI6ICJ2ZXJ0ZXgiLCAicHJvcHMiOiB7InNpemUiOiAxMS45MDkwOTA5MDkwOTA5MDh9fQo=');</script>\n",
       "    "
      ],
      "text/plain": [
       "<IPython.core.display.HTML object>"
      ]
     },
     "metadata": {},
     "output_type": "display_data"
    },
    {
     "data": {
      "text/html": [
       "\n",
       "        <div id=\"3zHyjquGMkmNQvBuywjLSH\"></div>\n",
       "        <script>netpixi.call('3zHyjquGMkmNQvBuywjLSH', 'oSB3seCQsq5MTJVUr2gsiZ', 'changeGraph', 'eyJpZCI6ICJreXJneXpzdGFuIiwgInR5cGUiOiAidmVydGV4IiwgInByb3BzIjogeyJzaXplIjogMTAuMDkwOTA5MDkwOTA5MDkyfX0K');</script>\n",
       "    "
      ],
      "text/plain": [
       "<IPython.core.display.HTML object>"
      ]
     },
     "metadata": {},
     "output_type": "display_data"
    },
    {
     "data": {
      "text/html": [
       "\n",
       "        <div id=\"DmSFrcd2XYJWCVjsE6kBbK\"></div>\n",
       "        <script>netpixi.call('DmSFrcd2XYJWCVjsE6kBbK', 'oSB3seCQsq5MTJVUr2gsiZ', 'changeGraph', 'eyJpZCI6ICJlbHNhbHZhZG9yIiwgInR5cGUiOiAidmVydGV4IiwgInByb3BzIjogeyJzaXplIjogMTEuNTQ1NDU0NTQ1NDU0NTQ1fX0K');</script>\n",
       "    "
      ],
      "text/plain": [
       "<IPython.core.display.HTML object>"
      ]
     },
     "metadata": {},
     "output_type": "display_data"
    },
    {
     "data": {
      "text/html": [
       "\n",
       "        <div id=\"m8fmj2PSPLJUJBdMUSxhdS\"></div>\n",
       "        <script>netpixi.call('m8fmj2PSPLJUJBdMUSxhdS', 'oSB3seCQsq5MTJVUr2gsiZ', 'changeGraph', 'eyJpZCI6ICJ1emJla2lzdGFuIiwgInR5cGUiOiAidmVydGV4IiwgInByb3BzIjogeyJzaXplIjogMTAuNjM2MzYzNjM2MzYzNjM3fX0K');</script>\n",
       "    "
      ],
      "text/plain": [
       "<IPython.core.display.HTML object>"
      ]
     },
     "metadata": {},
     "output_type": "display_data"
    },
    {
     "data": {
      "text/html": [
       "\n",
       "        <div id=\"RUZkYKrEfZKyYJrH6urHpE\"></div>\n",
       "        <script>netpixi.call('RUZkYKrEfZKyYJrH6urHpE', 'oSB3seCQsq5MTJVUr2gsiZ', 'changeGraph', 'eyJpZCI6ICJhcm1lbmlhIiwgInR5cGUiOiAidmVydGV4IiwgInByb3BzIjogeyJzaXplIjogMTAuNDU0NTQ1NDU0NTQ1NDU1fX0K');</script>\n",
       "    "
      ],
      "text/plain": [
       "<IPython.core.display.HTML object>"
      ]
     },
     "metadata": {},
     "output_type": "display_data"
    },
    {
     "data": {
      "text/html": [
       "\n",
       "        <div id=\"PFbW5LcyUbwtF2qHb2aY4t\"></div>\n",
       "        <script>netpixi.call('PFbW5LcyUbwtF2qHb2aY4t', 'oSB3seCQsq5MTJVUr2gsiZ', 'changeGraph', 'eyJpZCI6ICJ0YWppa2lzdGFuIiwgInR5cGUiOiAidmVydGV4IiwgInByb3BzIjogeyJzaXplIjogMTAuMH19Cg==');</script>\n",
       "    "
      ],
      "text/plain": [
       "<IPython.core.display.HTML object>"
      ]
     },
     "metadata": {},
     "output_type": "display_data"
    },
    {
     "data": {
      "text/html": [
       "\n",
       "        <div id=\"VUKrDR3MTePxokcVumNLv8\"></div>\n",
       "        <script>netpixi.call('VUKrDR3MTePxokcVumNLv8', 'oSB3seCQsq5MTJVUr2gsiZ', 'changeGraph', 'eyJpZCI6ICJ0dXJrbWVuaXN0YW4iLCAidHlwZSI6ICJ2ZXJ0ZXgiLCAicHJvcHMiOiB7InNpemUiOiAxMC4xODE4MTgxODE4MTgxODJ9fQo=');</script>\n",
       "    "
      ],
      "text/plain": [
       "<IPython.core.display.HTML object>"
      ]
     },
     "metadata": {},
     "output_type": "display_data"
    },
    {
     "data": {
      "text/html": [
       "\n",
       "        <div id=\"86qgwmNahD9DfC9vzRjK6j\"></div>\n",
       "        <script>netpixi.call('86qgwmNahD9DfC9vzRjK6j', 'oSB3seCQsq5MTJVUr2gsiZ', 'changeGraph', 'eyJpZCI6ICJhZmdoYW5pc3RhbiIsICJ0eXBlIjogInZlcnRleCIsICJwcm9wcyI6IHsic2l6ZSI6IDEwLjM2MzYzNjM2MzYzNjM2M319Cg==');</script>\n",
       "    "
      ],
      "text/plain": [
       "<IPython.core.display.HTML object>"
      ]
     },
     "metadata": {},
     "output_type": "display_data"
    }
   ],
   "source": [
    "matrix = spectral.adjacency(g)\n",
    "\n",
    "# Além de cpnet.Rombach, há outras\n",
    "# opções de algoritmos contínuos:\n",
    "# cpnet.MINRES\n",
    "# cpnet.Rossa\n",
    "\n",
    "algorithm = cpnet.Rombach()\n",
    "algorithm.detect(matrix)\n",
    "c = algorithm.get_coreness()\n",
    "\n",
    "# Depois do código acima, c é um dicionário\n",
    "# em que as chaves são índices de vértices e\n",
    "# valores são os atribuídos pelo algoritmo.\n",
    "\n",
    "g.add_vp('coreness')\n",
    "for i, coreness in c.items():\n",
    "    v = g.get_vertex_by_index(i)\n",
    "    v['coreness'] = float(coreness)\n",
    "\n",
    "# Vamos usar coreness como referência para\n",
    "# o tamanho dos vértices. Estabelecemos 10\n",
    "# como o menor tamanho possível e 40 como\n",
    "# o maior tamanho possível. Como o coreness\n",
    "# está entre 0 e 1, a conta é bem simples.\n",
    "\n",
    "for v in g.all_vertices():\n",
    "    r.vertex(v['id'], size=(10 + 40 * v['coreness']))\n",
    "\n",
    "# Quando a execução desta célula terminar,\n",
    "# veja como ficou a visualização acima."
   ]
  },
  {
   "cell_type": "markdown",
   "id": "e43dd713",
   "metadata": {},
   "source": [
    "## Dataframe com os coreness para cada um dos países."
   ]
  },
  {
   "cell_type": "code",
   "execution_count": 66,
   "id": "73fefd7e",
   "metadata": {},
   "outputs": [
    {
     "data": {
      "text/html": [
       "<div>\n",
       "<style scoped>\n",
       "    .dataframe tbody tr th:only-of-type {\n",
       "        vertical-align: middle;\n",
       "    }\n",
       "\n",
       "    .dataframe tbody tr th {\n",
       "        vertical-align: top;\n",
       "    }\n",
       "\n",
       "    .dataframe thead th {\n",
       "        text-align: right;\n",
       "    }\n",
       "</style>\n",
       "<table border=\"1\" class=\"dataframe\">\n",
       "  <thead>\n",
       "    <tr style=\"text-align: right;\">\n",
       "      <th></th>\n",
       "      <th>coreness</th>\n",
       "    </tr>\n",
       "    <tr>\n",
       "      <th>id</th>\n",
       "      <th></th>\n",
       "    </tr>\n",
       "  </thead>\n",
       "  <tbody>\n",
       "    <tr>\n",
       "      <th>srilanka</th>\n",
       "      <td>0.129545</td>\n",
       "    </tr>\n",
       "    <tr>\n",
       "      <th>morocco</th>\n",
       "      <td>0.910714</td>\n",
       "    </tr>\n",
       "    <tr>\n",
       "      <th>jordan</th>\n",
       "      <td>0.175000</td>\n",
       "    </tr>\n",
       "    <tr>\n",
       "      <th>kenya</th>\n",
       "      <td>0.225000</td>\n",
       "    </tr>\n",
       "    <tr>\n",
       "      <th>thailand</th>\n",
       "      <td>0.211364</td>\n",
       "    </tr>\n",
       "  </tbody>\n",
       "</table>\n",
       "</div>"
      ],
      "text/plain": [
       "          coreness\n",
       "id                \n",
       "srilanka  0.129545\n",
       "morocco   0.910714\n",
       "jordan    0.175000\n",
       "kenya     0.225000\n",
       "thailand  0.211364"
      ]
     },
     "execution_count": 66,
     "metadata": {},
     "output_type": "execute_result"
    }
   ],
   "source": [
    "data = gt_data(g)\n",
    "data.head()"
   ]
  }
 ],
 "metadata": {
  "kernelspec": {
   "display_name": "Python 3 (ipykernel)",
   "language": "python",
   "name": "python3"
  },
  "language_info": {
   "codemirror_mode": {
    "name": "ipython",
    "version": 3
   },
   "file_extension": ".py",
   "mimetype": "text/x-python",
   "name": "python",
   "nbconvert_exporter": "python",
   "pygments_lexer": "ipython3",
   "version": "3.10.10"
  }
 },
 "nbformat": 4,
 "nbformat_minor": 5
}
