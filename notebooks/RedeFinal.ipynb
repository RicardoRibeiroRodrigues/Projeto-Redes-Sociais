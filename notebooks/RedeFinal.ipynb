{
 "cells": [
  {
   "cell_type": "code",
   "execution_count": 1,
   "id": "41f27480",
   "metadata": {},
   "outputs": [],
   "source": [
    "import pandas as pd\n",
    "import numpy as np\n",
    "import seaborn as sns\n",
    "from tqdm import tqdm"
   ]
  },
  {
   "cell_type": "markdown",
   "id": "e6a8493a",
   "metadata": {},
   "source": [
    "## Lendo o dataset das organizações intergovernamentais\n",
    "https://correlatesofwar.org/data-sets/igos/ - IGO_igounit_v3.zip"
   ]
  },
  {
   "cell_type": "code",
   "execution_count": 2,
   "id": "c95fa9bc",
   "metadata": {},
   "outputs": [],
   "source": [
    "df = pd.read_csv(\"igo_year_formatv3.csv\", delimiter=\"\t\")"
   ]
  },
  {
   "cell_type": "code",
   "execution_count": 3,
   "id": "d00abaee",
   "metadata": {},
   "outputs": [],
   "source": [
    "# Usando apenas os anos 2012-2014\n",
    "years = (2012, 2013, 2014)\n",
    "wanted_years = df.loc[df.year.isin(years)]"
   ]
  },
  {
   "cell_type": "code",
   "execution_count": 4,
   "id": "739c0038",
   "metadata": {},
   "outputs": [
    {
     "data": {
      "text/plain": [
       "ioname                0\n",
       "orgname               0\n",
       "year                  0\n",
       "afghanistan           0\n",
       "albania               0\n",
       "                   ... \n",
       "sourcesandnotes    1003\n",
       "imputed               0\n",
       "political             0\n",
       "social                0\n",
       "economic              0\n",
       "Length: 235, dtype: int64"
      ]
     },
     "execution_count": 4,
     "metadata": {},
     "output_type": "execute_result"
    }
   ],
   "source": [
    "wanted_years.isnull().sum()"
   ]
  },
  {
   "cell_type": "code",
   "execution_count": 5,
   "id": "ebdeac0f",
   "metadata": {},
   "outputs": [
    {
     "data": {
      "text/plain": [
       "(1003, 235)"
      ]
     },
     "execution_count": 5,
     "metadata": {},
     "output_type": "execute_result"
    }
   ],
   "source": [
    "wanted_years.shape"
   ]
  },
  {
   "cell_type": "code",
   "execution_count": 6,
   "id": "ee37850a",
   "metadata": {},
   "outputs": [
    {
     "data": {
      "text/plain": [
       "Index(['afghanistan', 'albania', 'algeria', 'andorra', 'angola',\n",
       "       'antiguabarbuda', 'argentina', 'armenia', 'australia', 'austria',\n",
       "       ...\n",
       "       'vietnam', 'wgermany', 'wsamoa', 'wurtenburg', 'yemen',\n",
       "       'yugoslaviaserb', 'zaire', 'zambia', 'zanzibar', 'zimbabwe'],\n",
       "      dtype='object', length=217)"
      ]
     },
     "execution_count": 6,
     "metadata": {},
     "output_type": "execute_result"
    }
   ],
   "source": [
    "country_columns = wanted_years.columns[3:220]\n",
    "country_columns"
   ]
  },
  {
   "cell_type": "markdown",
   "id": "e4243e8a",
   "metadata": {},
   "source": [
    "## Problema:\n",
    "\n",
    "Os dois datasets usados tem nomes diferentes para mesmos países, e até mesmo tem países que existem em um e não no outro.\n",
    "\n",
    "Solução: Pegamos um .txt com os nomes de todos os países do World happines report, vamos converter a notação do nome para os dois datasets ficarem igual e vamos pegar os países contidos nos dois."
   ]
  },
  {
   "cell_type": "code",
   "execution_count": 7,
   "id": "56de5629",
   "metadata": {},
   "outputs": [],
   "source": [
    "# Extraído do happiness report de 2015 - Simplesmente um arquivo de texto com os nomes de todos os países considerados.\n",
    "with open(\"happiness_countries.txt\", 'r') as f:\n",
    "    countrys = f.readlines()\n",
    "\n",
    "notacao_diff = {\n",
    "    \"unitedstates\": \"usa\",\n",
    "    \"unitedkingdom\": \"uk\",\n",
    "    \"centralafricanrepublic\": \"car\",\n",
    "    \"southkorea\": \"sokorea\",\n",
    "    \"czechrepublic\": \"czechrep\",\n",
    "    \"southafrica\": \"soafrica\",\n",
    "    \"dominicanrepublic\": \"domrepublic\",\n",
    "    \"macedonia\": \"fyromacedonia\",\n",
    "    \"unitedarabemirates\": \"uae\",\n",
    "}\n",
    "\n",
    "countrys = set(map(lambda x: x.lower().replace(\"\\n\", \"\").replace(\" \", \"\"), countrys))\n",
    "\n",
    "\n",
    "set_not_in_hr = set()\n",
    "for country in country_columns:\n",
    "    country = country.lower().replace(\"\\n\", \"\").replace(\" \", \"\")\n",
    "    # Pegamos os países que não existem no happiness report.\n",
    "    if not country in countrys and not country in notacao_diff.values():\n",
    "        set_not_in_hr.add(country)\n",
    "    \n",
    "\n",
    "# Pega apenas a intersecção.\n",
    "set_country_columns = set(country_columns)\n",
    "set_country_columns = set_country_columns - set_not_in_hr"
   ]
  },
  {
   "cell_type": "code",
   "execution_count": 8,
   "id": "63501878",
   "metadata": {},
   "outputs": [
    {
     "name": "stderr",
     "output_type": "stream",
     "text": [
      "100%|██████████| 140/140 [00:10<00:00, 13.77it/s]\n"
     ]
    }
   ],
   "source": [
    "# Agora montamos um Dicionário com todas as combinações (País1, País2, numero IGOS em comum)\n",
    "intersecs = {}\n",
    "\n",
    "for country_1 in tqdm(set_country_columns):\n",
    "    for country_2 in set_country_columns:\n",
    "        if country_1 != country_2:\n",
    "            country_1_present = wanted_years[country_1]\n",
    "            country_2_present = wanted_years[country_2]\n",
    "            # Quando o valor é 1, o país é valido e está presente na IGO.\n",
    "            n_intersecs = len(wanted_years.loc[(country_1_present == 1.0) & (country_2_present == 1.0)])\n",
    "            intersecs[(country_1, country_2)] = n_intersecs\n",
    "                "
   ]
  },
  {
   "cell_type": "markdown",
   "id": "576e2d45",
   "metadata": {},
   "source": [
    "### Checkpoint - Ler/Gravar o resultado anterior para construir a rede."
   ]
  },
  {
   "cell_type": "code",
   "execution_count": 9,
   "id": "8f0aca62",
   "metadata": {},
   "outputs": [],
   "source": [
    "import pickle\n",
    "\n",
    "with open(\"intersecs.pickle\", 'wb') as f:\n",
    "    pickle.dump(intersecs, f)\n",
    "# with open(\"intersecs.pickle\", 'rb') as f:\n",
    "#     intersecs = pickle.load(f)"
   ]
  },
  {
   "cell_type": "code",
   "execution_count": 10,
   "id": "5f680642",
   "metadata": {
    "scrolled": false
   },
   "outputs": [
    {
     "data": {
      "image/png": "[encoded data removed]",
      "text/plain": [
       "<Figure size 640x480 with 1 Axes>"
      ]
     },
     "metadata": {},
     "output_type": "display_data"
    }
   ],
   "source": [
    "import matplotlib.pyplot as plt\n",
    "\n",
    "intersecs_values = list(intersecs.values())\n",
    "plt.hist(intersecs_values, color='red', alpha=0.7, edgecolor='black')\n",
    "plt.xlabel('Números de IGOs em comum entre países')\n",
    "plt.ylabel(\"Frequência\")\n",
    "plt.title(\"Distribuição do número de IGOs em comum entre os países\")\n",
    "plt.show()"
   ]
  },
  {
   "cell_type": "code",
   "execution_count": 11,
   "id": "55952f68",
   "metadata": {},
   "outputs": [
    {
     "data": {
      "text/plain": [
       "count    19460.000000\n",
       "mean       117.651593\n",
       "std         37.309994\n",
       "min          0.000000\n",
       "25%         97.000000\n",
       "50%        112.000000\n",
       "75%        134.000000\n",
       "max        299.000000\n",
       "Name: N intersecs, dtype: float64"
      ]
     },
     "execution_count": 11,
     "metadata": {},
     "output_type": "execute_result"
    }
   ],
   "source": [
    "inter_df = pd.DataFrame(intersecs_values, columns=['N intersecs'])\n",
    "inter_df['N intersecs'].describe()"
   ]
  },
  {
   "cell_type": "code",
   "execution_count": 12,
   "id": "30cd3fef",
   "metadata": {},
   "outputs": [
    {
     "data": {
      "text/plain": [
       "103"
      ]
     },
     "execution_count": 12,
     "metadata": {},
     "output_type": "execute_result"
    }
   ],
   "source": [
    "threshold = inter_df['N intersecs'].mode()[0]\n",
    "threshold"
   ]
  },
  {
   "cell_type": "code",
   "execution_count": 13,
   "id": "26f66ece",
   "metadata": {},
   "outputs": [
    {
     "data": {
      "text/html": [
       "\n",
       "    <script src=\"/files/netpixi.min.js\"></script>\n"
      ],
      "text/plain": [
       "<IPython.core.display.HTML object>"
      ]
     },
     "metadata": {},
     "output_type": "display_data"
    },
    {
     "name": "stderr",
     "output_type": "stream",
     "text": [
      "<frozen importlib._bootstrap>:914: ImportWarning: VendorImporter.find_spec() not found; falling back to find_module()\n"
     ]
    }
   ],
   "source": [
    "import netpixi\n",
    "from netpixi.integration.gt import *\n",
    "from regression.integration.gt import *"
   ]
  },
  {
   "cell_type": "markdown",
   "id": "140d6629",
   "metadata": {},
   "source": [
    "## Montando a rede"
   ]
  },
  {
   "cell_type": "code",
   "execution_count": 14,
   "id": "b6f382a9",
   "metadata": {},
   "outputs": [],
   "source": [
    "g = Graph(directed=False)\n",
    "\n",
    "for countrys, n_intersecs in intersecs.items():\n",
    "    if n_intersecs > threshold:\n",
    "        if not g.has_vertex(countrys[0]):\n",
    "            v1 = g.add_vertex(countrys[0])\n",
    "        if not g.has_vertex(countrys[1]):\n",
    "            v2 = g.add_vertex(countrys[1])\n",
    "            \n",
    "        if not g.has_edge(countrys[0], countrys[1]):\n",
    "            g.add_edge(countrys[0], countrys[1])\n",
    "\n",
    "PATH_REDE = 'IGOS.net.gz'\n",
    "gt_save(g, PATH_REDE)"
   ]
  },
  {
   "cell_type": "markdown",
   "id": "57178b6f",
   "metadata": {},
   "source": [
    "## Estatísticas"
   ]
  },
  {
   "cell_type": "code",
   "execution_count": 15,
   "id": "e5de459a",
   "metadata": {},
   "outputs": [
    {
     "name": "stdout",
     "output_type": "stream",
     "text": [
      "Número de arestas: 6120\n",
      "Número de vértices: 138\n"
     ]
    }
   ],
   "source": [
    "n = g.num_vertices()\n",
    "m = g.num_edges()\n",
    "\n",
    "print(f\"Número de arestas: {m}\")\n",
    "print(f\"Número de vértices: {n}\")"
   ]
  },
  {
   "cell_type": "code",
   "execution_count": 16,
   "id": "e530e739",
   "metadata": {},
   "outputs": [
    {
     "name": "stdout",
     "output_type": "stream",
     "text": [
      "Número máximo de arestas: 9453\n",
      "Densidade: 0.6474135195176135\n"
     ]
    }
   ],
   "source": [
    "max_edges = n * (n - 1) // 2\n",
    "print(f\"Número máximo de arestas: {max_edges}\")\n",
    "d = m / max_edges\n",
    "print(f\"Densidade: {d}\")"
   ]
  },
  {
   "cell_type": "code",
   "execution_count": 17,
   "id": "74b3d73d",
   "metadata": {},
   "outputs": [],
   "source": [
    "data = gt_data(g)\n",
    "\n",
    "degrees = []\n",
    "for v in g.all_vertices():\n",
    "    degrees.append(v.total_degree())\n",
    "    \n",
    "data['degree'] = degrees"
   ]
  },
  {
   "cell_type": "code",
   "execution_count": 18,
   "id": "a48768d6",
   "metadata": {},
   "outputs": [
    {
     "data": {
      "text/plain": [
       "count    138.000000\n",
       "mean      88.695652\n",
       "std       31.510075\n",
       "min        4.000000\n",
       "25%       72.000000\n",
       "50%       98.000000\n",
       "75%      112.750000\n",
       "max      127.000000\n",
       "Name: degree, dtype: float64"
      ]
     },
     "execution_count": 18,
     "metadata": {},
     "output_type": "execute_result"
    }
   ],
   "source": [
    "data['degree'].describe()"
   ]
  },
  {
   "cell_type": "code",
   "execution_count": 19,
   "id": "2e5a2a4e",
   "metadata": {},
   "outputs": [
    {
     "data": {
      "text/plain": [
       "<AxesSubplot: xlabel='degree', ylabel='Count'>"
      ]
     },
     "execution_count": 19,
     "metadata": {},
     "output_type": "execute_result"
    },
    {
     "data": {
      "image/png": "[encoded data removed]",
      "text/plain": [
       "<Figure size 640x480 with 1 Axes>"
      ]
     },
     "metadata": {},
     "output_type": "display_data"
    }
   ],
   "source": [
    "sns.histplot(data['degree'])"
   ]
  },
  {
   "cell_type": "code",
   "execution_count": null,
   "id": "647215d3",
   "metadata": {
    "scrolled": false
   },
   "outputs": [],
   "source": [
    "m = gt_draw.sfdp_layout(g)\n",
    "gt_move(g, m)\n",
    "gt_save(g, 'rede_sfdp.net.gz')\n",
    "r = netpixi.render('rede_sfdp.net.gz', infinite=True);"
   ]
  },
  {
   "cell_type": "code",
   "execution_count": null,
   "id": "e8a84192",
   "metadata": {},
   "outputs": [],
   "source": [
    "# Para poder visualizar o nome dos países (Ajuda a ver quais são os países no centro/periferia).\n",
    "r.vertex_set_key('id')\n",
    "\n",
    "# mudar a cor, a espessura e a curvatura das arestas\n",
    "r.edge_default(color=0x000000, width=1, curve1=1, curve2=0)"
   ]
  },
  {
   "cell_type": "markdown",
   "id": "7699cbc2",
   "metadata": {},
   "source": [
    "## Algoritmo para cálcular o coreness contínuo\n",
    "\n",
    "Escala o tamanho dos vértices do grafo com o valor do coreness."
   ]
  },
  {
   "cell_type": "code",
   "execution_count": null,
   "id": "c0ca5ed2",
   "metadata": {},
   "outputs": [],
   "source": [
    "import cpnet\n",
    "\n",
    "from graph_tool import spectral"
   ]
  },
  {
   "cell_type": "code",
   "execution_count": null,
   "id": "6bae21cd",
   "metadata": {
    "scrolled": true
   },
   "outputs": [],
   "source": [
    "matrix = spectral.adjacency(g)\n",
    "\n",
    "# Além de cpnet.Rombach, há outras\n",
    "# opções de algoritmos contínuos:\n",
    "# cpnet.MINRES\n",
    "# cpnet.Rossa\n",
    "\n",
    "algorithm = cpnet.Rombach()\n",
    "algorithm.detect(matrix)\n",
    "c = algorithm.get_coreness()\n",
    "\n",
    "# Depois do código acima, c é um dicionário\n",
    "# em que as chaves são índices de vértices e\n",
    "# valores são os atribuídos pelo algoritmo.\n",
    "\n",
    "g.add_vp('coreness')\n",
    "for i, coreness in c.items():\n",
    "    v = g.get_vertex_by_index(i)\n",
    "    v['coreness'] = float(coreness)\n",
    "\n",
    "# Vamos usar coreness como referência para\n",
    "# o tamanho dos vértices. Estabelecemos 10\n",
    "# como o menor tamanho possível e 40 como\n",
    "# o maior tamanho possível. Como o coreness\n",
    "# está entre 0 e 1, a conta é bem simples.\n",
    "\n",
    "for v in g.all_vertices():\n",
    "    r.vertex(v['id'], size=(10 + 40 * v['coreness']))\n",
    "\n",
    "# Quando a execução desta célula terminar,\n",
    "# veja como ficou a visualização acima."
   ]
  },
  {
   "cell_type": "markdown",
   "id": "084ed717",
   "metadata": {},
   "source": [
    "## Salva o valor do coreness de cada um dos países para um .csv"
   ]
  },
  {
   "cell_type": "code",
   "execution_count": null,
   "id": "dc658a5c",
   "metadata": {},
   "outputs": [],
   "source": [
    "data = gt_data(g)\n",
    "\n",
    "coreness = []\n",
    "for v in g.all_vertices():\n",
    "    coreness.append(v['coreness'])\n",
    "    \n",
    "data['coreness'] = coreness\n",
    "data"
   ]
  },
  {
   "cell_type": "code",
   "execution_count": null,
   "id": "e2569cb2",
   "metadata": {},
   "outputs": [],
   "source": [
    "data.to_csv(\"coreness_igos.csv\")"
   ]
  }
 ],
 "metadata": {
  "kernelspec": {
   "display_name": "Python 3 (ipykernel)",
   "language": "python",
   "name": "python3"
  },
  "language_info": {
   "codemirror_mode": {
    "name": "ipython",
    "version": 3
   },
   "file_extension": ".py",
   "mimetype": "text/x-python",
   "name": "python",
   "nbconvert_exporter": "python",
   "pygments_lexer": "ipython3",
   "version": "3.10.10"
  }
 },
 "nbformat": 4,
 "nbformat_minor": 5
}
