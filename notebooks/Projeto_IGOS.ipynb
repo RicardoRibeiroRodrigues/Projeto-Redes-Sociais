{
 "cells": [
  {
   "cell_type": "code",
   "execution_count": 12,
   "id": "41f27480",
   "metadata": {},
   "outputs": [],
   "source": [
    "import pandas as pd\n",
    "import numpy as np\n",
    "from scipy.stats import mode\n",
    "import seaborn as sns"
   ]
  },
  {
   "cell_type": "code",
   "execution_count": 13,
   "id": "c95fa9bc",
   "metadata": {},
   "outputs": [],
   "source": [
    "df = pd.read_csv(\"igo_year_formatv3.csv\", delimiter=\"\t\")"
   ]
  },
  {
   "cell_type": "code",
   "execution_count": 14,
   "id": "d00abaee",
   "metadata": {},
   "outputs": [],
   "source": [
    "wanted_years = df.loc[df.year == 2012]"
   ]
  },
  {
   "cell_type": "code",
   "execution_count": 15,
   "id": "ef77973d",
   "metadata": {},
   "outputs": [
    {
     "data": {
      "text/plain": [
       "(334, 235)"
      ]
     },
     "execution_count": 15,
     "metadata": {},
     "output_type": "execute_result"
    }
   ],
   "source": [
    "wanted_years.shape"
   ]
  },
  {
   "cell_type": "code",
   "execution_count": 16,
   "id": "739c0038",
   "metadata": {},
   "outputs": [
    {
     "data": {
      "text/plain": [
       "ioname               0\n",
       "orgname              0\n",
       "year                 0\n",
       "afghanistan          0\n",
       "albania              0\n",
       "                  ... \n",
       "sourcesandnotes    334\n",
       "imputed              0\n",
       "political            0\n",
       "social               0\n",
       "economic             0\n",
       "Length: 235, dtype: int64"
      ]
     },
     "execution_count": 16,
     "metadata": {},
     "output_type": "execute_result"
    }
   ],
   "source": [
    "wanted_years.isnull().sum()"
   ]
  },
  {
   "cell_type": "code",
   "execution_count": 17,
   "id": "ee37850a",
   "metadata": {},
   "outputs": [
    {
     "data": {
      "text/plain": [
       "Index(['afghanistan', 'albania', 'algeria', 'andorra', 'angola',\n",
       "       'antiguabarbuda', 'argentina', 'armenia', 'australia', 'austria',\n",
       "       ...\n",
       "       'vietnam', 'wgermany', 'wsamoa', 'wurtenburg', 'yemen',\n",
       "       'yugoslaviaserb', 'zaire', 'zambia', 'zanzibar', 'zimbabwe'],\n",
       "      dtype='object', length=217)"
      ]
     },
     "execution_count": 17,
     "metadata": {},
     "output_type": "execute_result"
    }
   ],
   "source": [
    "country_columns = wanted_years.columns[3:220]\n",
    "country_columns"
   ]
  },
  {
   "cell_type": "code",
   "execution_count": 18,
   "id": "7e34582b",
   "metadata": {
    "scrolled": false
   },
   "outputs": [
    {
     "name": "stdout",
     "output_type": "stream",
     "text": [
      "austriahungary has 315 nulls\n",
      "baden has 315 nulls\n",
      "bavariaelect has 315 nulls\n",
      "czechoslovakia has 315 nulls\n",
      "egermany has 315 nulls\n",
      "hanover has 315 nulls\n",
      "hesseelect has 315 nulls\n",
      "hessegrand has 315 nulls\n",
      "korea has 315 nulls\n",
      "mecklenburg has 315 nulls\n",
      "modena has 315 nulls\n",
      "nyemen has 315 nulls\n",
      "papalstates has 315 nulls\n",
      "parma has 315 nulls\n",
      "svietnam has 315 nulls\n",
      "syemen has 315 nulls\n",
      "saxony has 315 nulls\n",
      "tuscany has 315 nulls\n",
      "twosicilies has 315 nulls\n",
      "wgermany has 315 nulls\n",
      "wurtenburg has 315 nulls\n",
      "zanzibar has 315 nulls\n"
     ]
    }
   ],
   "source": [
    "for country in country_columns:\n",
    "    n_nulls = wanted_years[country].isnull().sum()\n",
    "    if n_nulls > 0:\n",
    "        print(f\"{country} has {n_nulls} nulls\")"
   ]
  },
  {
   "cell_type": "code",
   "execution_count": 19,
   "id": "0e702a65",
   "metadata": {},
   "outputs": [],
   "source": [
    "with open(\"country_columns.txt\", 'w') as f:\n",
    "    for country in country_columns:\n",
    "        f.write(f\"{country}\\n\")\n",
    "    "
   ]
  },
  {
   "cell_type": "code",
   "execution_count": 20,
   "id": "56de5629",
   "metadata": {},
   "outputs": [
    {
     "name": "stdout",
     "output_type": "stream",
     "text": [
      "**andorra** nao esta no happiness\n",
      "**antiguabarbuda** nao esta no happiness\n",
      "**austriahungary** nao esta no happiness\n",
      "**baden** nao esta no happiness\n",
      "**bahamas** nao esta no happiness\n",
      "**barbados** nao esta no happiness\n",
      "**bavariaelect** nao esta no happiness\n",
      "**belize** nao esta no happiness\n",
      "**bhutan** nao esta no happiness\n",
      "**bosnia** nao esta no happiness\n",
      "**brunei** nao esta no happiness\n",
      "**capeverde** nao esta no happiness\n",
      "**congobrazz** nao esta no happiness\n",
      "**cuba** nao esta no happiness\n",
      "**czechoslovakia** nao esta no happiness\n",
      "**dominica** nao esta no happiness\n",
      "**egermany** nao esta no happiness\n",
      "**etimor** nao esta no happiness\n",
      "**eqguinea** nao esta no happiness\n",
      "**eritrea** nao esta no happiness\n",
      "**ethiopia** nao esta no happiness\n",
      "**fiji** nao esta no happiness\n",
      "**gabon** nao esta no happiness\n",
      "**gambia** nao esta no happiness\n",
      "**grenada** nao esta no happiness\n",
      "**guineabissau** nao esta no happiness\n",
      "**guyana** nao esta no happiness\n",
      "**hanover** nao esta no happiness\n",
      "**hesseelect** nao esta no happiness\n",
      "**hessegrand** nao esta no happiness\n",
      "**jamaica** nao esta no happiness\n",
      "**kiribati** nao esta no happiness\n",
      "**korea** nao esta no happiness\n",
      "**lesotho** nao esta no happiness\n",
      "**liechtenstein** nao esta no happiness\n",
      "**maldives** nao esta no happiness\n",
      "**marshallis** nao esta no happiness\n",
      "**mecklenburg** nao esta no happiness\n",
      "**micronesiafs** nao esta no happiness\n",
      "**modena** nao esta no happiness\n",
      "**monaco** nao esta no happiness\n",
      "**myanmar** nao esta no happiness\n",
      "**namibia** nao esta no happiness\n",
      "**nauru** nao esta no happiness\n",
      "**nokorea** nao esta no happiness\n",
      "**nyemen** nao esta no happiness\n",
      "**oman** nao esta no happiness\n",
      "**palau** nao esta no happiness\n",
      "**papalstates** nao esta no happiness\n",
      "**papuanewguinea** nao esta no happiness\n",
      "**parma** nao esta no happiness\n",
      "**svietnam** nao esta no happiness\n",
      "**syemen** nao esta no happiness\n",
      "**sanmarino** nao esta no happiness\n",
      "**saotome** nao esta no happiness\n",
      "**saxony** nao esta no happiness\n",
      "**seychelles** nao esta no happiness\n",
      "**sosudan** nao esta no happiness\n",
      "**solomonis** nao esta no happiness\n",
      "**somalia** nao esta no happiness\n",
      "**stkitts** nao esta no happiness\n",
      "**stlucia** nao esta no happiness\n",
      "**stvincent** nao esta no happiness\n",
      "**suriname** nao esta no happiness\n",
      "**swaziland** nao esta no happiness\n",
      "**tonga** nao esta no happiness\n",
      "**trinidad** nao esta no happiness\n",
      "**tuscany** nao esta no happiness\n",
      "**tuvalu** nao esta no happiness\n",
      "**twosicilies** nao esta no happiness\n",
      "**vanuatu** nao esta no happiness\n",
      "**wgermany** nao esta no happiness\n",
      "**wsamoa** nao esta no happiness\n",
      "**wurtenburg** nao esta no happiness\n",
      "**yugoslaviaserb** nao esta no happiness\n",
      "**zaire** nao esta no happiness\n",
      "**zanzibar** nao esta no happiness\n"
     ]
    }
   ],
   "source": [
    "# From happines report\n",
    "with open(\"happiness_countrys.txt\", 'r') as f:\n",
    "    countrys = f.readlines()\n",
    "\n",
    "notacao_diff = {\n",
    "    \"unitedstates\": \"usa\",\n",
    "    \"unitedkingdom\": \"uk\",\n",
    "    \"centralafricanrepublic\": \"car\",\n",
    "    \"southkorea\": \"sokorea\",\n",
    "    \"czechrepublic\": \"czechrep\",\n",
    "    \"southafrica\": \"soafrica\",\n",
    "    \"dominicanrepublic\": \"domrepublic\",\n",
    "    \"macedonia\": \"fyromacedonia\",\n",
    "    \"unitedarabemirates\": \"uae\",\n",
    "}\n",
    "\n",
    "countrys = set(map(lambda x: x.lower().replace(\"\\n\", \"\").replace(\" \", \"\"), countrys))\n",
    "\n",
    "\n",
    "set_not_in_hr = set()\n",
    "for country in country_columns:\n",
    "    country = country.lower().replace(\"\\n\", \"\").replace(\" \", \"\")\n",
    "    if not country in countrys and not country in notacao_diff.values():\n",
    "        print(f\"**{country}** nao esta no happiness\")\n",
    "        set_not_in_hr.add(country)\n",
    "        \n",
    "set_country_columns = set(country_columns)\n",
    "set_country_columns = set_country_columns - set_not_in_hr"
   ]
  },
  {
   "cell_type": "code",
   "execution_count": 21,
   "id": "346c7fc0",
   "metadata": {},
   "outputs": [],
   "source": [
    "from tqdm import tqdm"
   ]
  },
  {
   "cell_type": "code",
   "execution_count": 22,
   "id": "63501878",
   "metadata": {},
   "outputs": [
    {
     "name": "stderr",
     "output_type": "stream",
     "text": [
      "100%|██████████| 140/140 [00:09<00:00, 15.21it/s]\n"
     ]
    }
   ],
   "source": [
    "intersecs = {}\n",
    "\n",
    "for country_1 in tqdm(set_country_columns):\n",
    "    for country_2 in set_country_columns:\n",
    "        if country_1 != country_2:\n",
    "            country_1_present = wanted_years[country_1]\n",
    "            country_2_present = wanted_years[country_2]\n",
    "            n_intersecs = len(wanted_years.loc[(country_1_present == 1.0) & (country_2_present == 1.0)])\n",
    "            intersecs[(country_1, country_2)] = n_intersecs\n",
    "                "
   ]
  },
  {
   "cell_type": "code",
   "execution_count": 37,
   "id": "8f0aca62",
   "metadata": {},
   "outputs": [],
   "source": [
    "import pickle\n",
    "\n",
    "with open(\"intersecs.pickle\", 'wb') as f:\n",
    "    pickle.dump(intersecs, f)\n",
    "# with open(\"intersecs.pickle\", 'rb') as f:\n",
    "#     intersecs = pickle.load(f)"
   ]
  },
  {
   "cell_type": "code",
   "execution_count": 38,
   "id": "5f680642",
   "metadata": {
    "scrolled": false
   },
   "outputs": [
    {
     "data": {
      "image/png": "[encoded data removed]",
      "text/plain": [
       "<Figure size 640x480 with 1 Axes>"
      ]
     },
     "metadata": {},
     "output_type": "display_data"
    }
   ],
   "source": [
    "import matplotlib.pyplot as plt\n",
    "\n",
    "intersecs_values = list(intersecs.values())\n",
    "plt.hist(intersecs_values, color='red', alpha=0.7, edgecolor='black')\n",
    "plt.xlabel('Frequencias dos numeros IGOS em comum entre países')\n",
    "plt.show()"
   ]
  },
  {
   "cell_type": "code",
   "execution_count": 39,
   "id": "30cd3fef",
   "metadata": {},
   "outputs": [
    {
     "name": "stderr",
     "output_type": "stream",
     "text": [
      "/tmp/ipykernel_183/109831930.py:1: FutureWarning: Unlike other reduction functions (e.g. `skew`, `kurtosis`), the default behavior of `mode` typically preserves the axis it acts along. In SciPy 1.11.0, this behavior will change: the default value of `keepdims` will become False, the `axis` over which the statistic is taken will be eliminated, and the value None will no longer be accepted. Set `keepdims` to True or False to avoid this warning.\n",
      "  threshold = mode(intersecs_values)[0][0]\n"
     ]
    },
    {
     "data": {
      "text/plain": [
       "35"
      ]
     },
     "execution_count": 39,
     "metadata": {},
     "output_type": "execute_result"
    }
   ],
   "source": [
    "threshold = mode(intersecs_values)[0][0]\n",
    "# threshold = sum(intersecs_values) / len(intersecs_values)\n",
    "threshold"
   ]
  },
  {
   "cell_type": "code",
   "execution_count": 40,
   "id": "26f66ece",
   "metadata": {},
   "outputs": [],
   "source": [
    "import netpixi\n",
    "from netpixi.integration.gt import *\n",
    "from regression.integration.gt import *"
   ]
  },
  {
   "cell_type": "code",
   "execution_count": 41,
   "id": "b6f382a9",
   "metadata": {},
   "outputs": [],
   "source": [
    "g = Graph(directed=False)\n",
    "\n",
    "for countrys, n_intersecs in intersecs.items():\n",
    "    if n_intersecs > threshold:\n",
    "        if not g.has_vertex(countrys[0]):\n",
    "            v1 = g.add_vertex(countrys[0])\n",
    "        if not g.has_vertex(countrys[1]):\n",
    "            v2 = g.add_vertex(countrys[1])\n",
    "            \n",
    "        if not g.has_edge(countrys[0], countrys[1]):\n",
    "            g.add_edge(countrys[0], countrys[1])\n",
    "\n",
    "PATH_REDE = 'IGOS.net.gz'\n",
    "gt_save(g, PATH_REDE)"
   ]
  },
  {
   "cell_type": "code",
   "execution_count": 42,
   "id": "e5de459a",
   "metadata": {},
   "outputs": [
    {
     "name": "stdout",
     "output_type": "stream",
     "text": [
      "Número de arestas: 5591\n",
      "Número de vértices: 138\n"
     ]
    }
   ],
   "source": [
    "n = g.num_vertices()\n",
    "m = g.num_edges()\n",
    "\n",
    "print(f\"Número de arestas: {m}\")\n",
    "print(f\"Número de vértices: {n}\")"
   ]
  },
  {
   "cell_type": "code",
   "execution_count": 43,
   "id": "e530e739",
   "metadata": {},
   "outputs": [
    {
     "name": "stdout",
     "output_type": "stream",
     "text": [
      "Número máximo de arestas: 9453\n",
      "Densidade: 0.5914524489580028\n"
     ]
    }
   ],
   "source": [
    "max_edges = n * (n - 1) // 2\n",
    "print(f\"Número máximo de arestas: {max_edges}\")\n",
    "d = m / max_edges\n",
    "print(f\"Densidade: {d}\")"
   ]
  },
  {
   "cell_type": "code",
   "execution_count": 44,
   "id": "74b3d73d",
   "metadata": {},
   "outputs": [],
   "source": [
    "data = gt_data(g)\n",
    "\n",
    "degrees = []\n",
    "for v in g.all_vertices():\n",
    "    degrees.append(v.total_degree())\n",
    "    \n",
    "data['degree'] = degrees"
   ]
  },
  {
   "cell_type": "code",
   "execution_count": 45,
   "id": "a48768d6",
   "metadata": {},
   "outputs": [
    {
     "data": {
      "text/plain": [
       "count    138.000000\n",
       "mean      81.028986\n",
       "std       32.060605\n",
       "min        3.000000\n",
       "25%       59.250000\n",
       "50%       90.500000\n",
       "75%      107.000000\n",
       "max      125.000000\n",
       "Name: degree, dtype: float64"
      ]
     },
     "execution_count": 45,
     "metadata": {},
     "output_type": "execute_result"
    }
   ],
   "source": [
    "data['degree'].describe()"
   ]
  },
  {
   "cell_type": "code",
   "execution_count": 46,
   "id": "2e5a2a4e",
   "metadata": {},
   "outputs": [
    {
     "data": {
      "text/plain": [
       "<AxesSubplot: xlabel='degree', ylabel='Count'>"
      ]
     },
     "execution_count": 46,
     "metadata": {},
     "output_type": "execute_result"
    },
    {
     "data": {
      "image/png": "[encoded data removed]",
      "text/plain": [
       "<Figure size 640x480 with 1 Axes>"
      ]
     },
     "metadata": {},
     "output_type": "display_data"
    }
   ],
   "source": [
    "sns.histplot(data['degree'])"
   ]
  },
  {
   "cell_type": "code",
   "execution_count": 47,
   "id": "647215d3",
   "metadata": {
    "scrolled": false
   },
   "outputs": [
    {
     "data": {
      "text/html": [
       "\n",
       "        <div id=\"XZ4nUNn5n3sDnGgyBkV8jz\"></div>\n",
       "        <script>netpixi.render('XZ4nUNn5n3sDnGgyBkV8jz', 'rede_sfdp.net.gz', 1.7777777777777777, true, true, false);</script>\n",
       "    "
      ],
      "text/plain": [
       "<IPython.core.display.HTML object>"
      ]
     },
     "metadata": {},
     "output_type": "display_data"
    }
   ],
   "source": [
    "m = gt_draw.sfdp_layout(g)\n",
    "gt_move(g, m)\n",
    "gt_save(g, 'rede_sfdp.net.gz')\n",
    "r = netpixi.render('rede_sfdp.net.gz', infinite=True);"
   ]
  },
  {
   "cell_type": "code",
   "execution_count": 48,
   "id": "e8a84192",
   "metadata": {},
   "outputs": [
    {
     "data": {
      "text/html": [
       "\n",
       "        <div id=\"X6qqWYiB2hkhKrFabxS7YY\"></div>\n",
       "        <script>netpixi.call('X6qqWYiB2hkhKrFabxS7YY', 'XZ4nUNn5n3sDnGgyBkV8jz', 'setGraph', 'eyJ0eXBlIjogInZlcnRleCIsICJwcm9wcyI6IHsic3JjIjogImlkIiwgImRzdCI6ICJfa2V5In19Cg==');</script>\n",
       "    "
      ],
      "text/plain": [
       "<IPython.core.display.HTML object>"
      ]
     },
     "metadata": {},
     "output_type": "display_data"
    }
   ],
   "source": [
    "r.vertex_set_key('id')"
   ]
  },
  {
   "cell_type": "code",
   "execution_count": 49,
   "id": "c0ca5ed2",
   "metadata": {},
   "outputs": [],
   "source": [
    "import cpnet\n",
    "\n",
    "from graph_tool import spectral"
   ]
  },
  {
   "cell_type": "code",
   "execution_count": 50,
   "id": "6bae21cd",
   "metadata": {},
   "outputs": [
    {
     "data": {
      "text/html": [
       "\n",
       "        <div id=\"FXhyLR2GxowXSo3h2NSWzF\"></div>\n",
       "        <script>netpixi.call('FXhyLR2GxowXSo3h2NSWzF', 'XZ4nUNn5n3sDnGgyBkV8jz', 'changeGraph', 'eyJpZCI6ICJob25kdXJhcyIsICJ0eXBlIjogInZlcnRleCIsICJwcm9wcyI6IHsic2l6ZSI6IDE2LjI3MjcyNzI3MjcyNzI3M319Cg==');</script>\n",
       "    "
      ],
      "text/plain": [
       "<IPython.core.display.HTML object>"
      ]
     },
     "metadata": {},
     "output_type": "display_data"
    },
    {
     "data": {
      "text/html": [
       "\n",
       "        <div id=\"D9ABFGMZ9Mx3yYUqCZYpwF\"></div>\n",
       "        <script>netpixi.call('D9ABFGMZ9Mx3yYUqCZYpwF', 'XZ4nUNn5n3sDnGgyBkV8jz', 'changeGraph', 'eyJpZCI6ICJ0aGFpbGFuZCIsICJ0eXBlIjogInZlcnRleCIsICJwcm9wcyI6IHsic2l6ZSI6IDE2LjU0NTQ1NDU0NTQ1NDU0N319Cg==');</script>\n",
       "    "
      ],
      "text/plain": [
       "<IPython.core.display.HTML object>"
      ]
     },
     "metadata": {},
     "output_type": "display_data"
    },
    {
     "data": {
      "text/html": [
       "\n",
       "        <div id=\"KnA78krApWUnrMLeqAUZxr\"></div>\n",
       "        <script>netpixi.call('KnA78krApWUnrMLeqAUZxr', 'XZ4nUNn5n3sDnGgyBkV8jz', 'changeGraph', 'eyJpZCI6ICJ1cnVndWF5IiwgInR5cGUiOiAidmVydGV4IiwgInByb3BzIjogeyJzaXplIjogMTcuMTgxODE4MTgxODE4MTh9fQo=');</script>\n",
       "    "
      ],
      "text/plain": [
       "<IPython.core.display.HTML object>"
      ]
     },
     "metadata": {},
     "output_type": "display_data"
    },
    {
     "data": {
      "text/html": [
       "\n",
       "        <div id=\"ecbJM3J4akuVB8JpRGagbE\"></div>\n",
       "        <script>netpixi.call('ecbJM3J4akuVB8JpRGagbE', 'XZ4nUNn5n3sDnGgyBkV8jz', 'changeGraph', 'eyJpZCI6ICJjYW5hZGEiLCAidHlwZSI6ICJ2ZXJ0ZXgiLCAicHJvcHMiOiB7InNpemUiOiAyMC4wfX0K');</script>\n",
       "    "
      ],
      "text/plain": [
       "<IPython.core.display.HTML object>"
      ]
     },
     "metadata": {},
     "output_type": "display_data"
    },
    {
     "data": {
      "text/html": [
       "\n",
       "        <div id=\"FDPQfV7oENcoe5adLXvnQe\"></div>\n",
       "        <script>netpixi.call('FDPQfV7oENcoe5adLXvnQe', 'XZ4nUNn5n3sDnGgyBkV8jz', 'changeGraph', 'eyJpZCI6ICJzZW5lZ2FsIiwgInR5cGUiOiAidmVydGV4IiwgInByb3BzIjogeyJzaXplIjogNDUuNzE0Mjg1NzE0Mjg1NzF9fQo=');</script>\n",
       "    "
      ],
      "text/plain": [
       "<IPython.core.display.HTML object>"
      ]
     },
     "metadata": {},
     "output_type": "display_data"
    },
    {
     "data": {
      "text/html": [
       "\n",
       "        <div id=\"ETozXsWjxzNT6b6hrjWEL2\"></div>\n",
       "        <script>netpixi.call('ETozXsWjxzNT6b6hrjWEL2', 'XZ4nUNn5n3sDnGgyBkV8jz', 'changeGraph', 'eyJpZCI6ICJjYW1ib2RpYSIsICJ0eXBlIjogInZlcnRleCIsICJwcm9wcyI6IHsic2l6ZSI6IDE1LjYzNjM2MzYzNjM2MzYzN319Cg==');</script>\n",
       "    "
      ],
      "text/plain": [
       "<IPython.core.display.HTML object>"
      ]
     },
     "metadata": {},
     "output_type": "display_data"
    },
    {
     "data": {
      "text/html": [
       "\n",
       "        <div id=\"o4dAYKWMcFAZ3KjaufGKBb\"></div>\n",
       "        <script>netpixi.call('o4dAYKWMcFAZ3KjaufGKBb', 'XZ4nUNn5n3sDnGgyBkV8jz', 'changeGraph', 'eyJpZCI6ICJlZ3lwdCIsICJ0eXBlIjogInZlcnRleCIsICJwcm9wcyI6IHsic2l6ZSI6IDQzLjkyODU3MTQyODU3MTQzfX0K');</script>\n",
       "    "
      ],
      "text/plain": [
       "<IPython.core.display.HTML object>"
      ]
     },
     "metadata": {},
     "output_type": "display_data"
    },
    {
     "data": {
      "text/html": [
       "\n",
       "        <div id=\"fZEHzi5VwQ66hNeX4WQE4J\"></div>\n",
       "        <script>netpixi.call('fZEHzi5VwQ66hNeX4WQE4J', 'XZ4nUNn5n3sDnGgyBkV8jz', 'changeGraph', 'eyJpZCI6ICJpbmRvbmVzaWEiLCAidHlwZSI6ICJ2ZXJ0ZXgiLCAicHJvcHMiOiB7InNpemUiOiAxNy4yNzI3MjcyNzI3MjcyNzN9fQo=');</script>\n",
       "    "
      ],
      "text/plain": [
       "<IPython.core.display.HTML object>"
      ]
     },
     "metadata": {},
     "output_type": "display_data"
    },
    {
     "data": {
      "text/html": [
       "\n",
       "        <div id=\"3mJKHQHpRnbnjgRqkVPcdh\"></div>\n",
       "        <script>netpixi.call('3mJKHQHpRnbnjgRqkVPcdh', 'XZ4nUNn5n3sDnGgyBkV8jz', 'changeGraph', 'eyJpZCI6ICJwb3J0dWdhbCIsICJ0eXBlIjogInZlcnRleCIsICJwcm9wcyI6IHsic2l6ZSI6IDQ4LjU3MTQyODU3MTQyODU3fX0K');</script>\n",
       "    "
      ],
      "text/plain": [
       "<IPython.core.display.HTML object>"
      ]
     },
     "metadata": {},
     "output_type": "display_data"
    },
    {
     "data": {
      "text/html": [
       "\n",
       "        <div id=\"4HjUoa456K6CgePwco8KQy\"></div>\n",
       "        <script>netpixi.call('4HjUoa456K6CgePwco8KQy', 'XZ4nUNn5n3sDnGgyBkV8jz', 'changeGraph', 'eyJpZCI6ICJidXJraW5hZmFzbyIsICJ0eXBlIjogInZlcnRleCIsICJwcm9wcyI6IHsic2l6ZSI6IDE1LjE4MTgxODE4MTgxODE4Mn19Cg==');</script>\n",
       "    "
      ],
      "text/plain": [
       "<IPython.core.display.HTML object>"
      ]
     },
     "metadata": {},
     "output_type": "display_data"
    },
    {
     "data": {
      "text/html": [
       "\n",
       "        <div id=\"YyW58s3f4KsfS2EB7oZmpX\"></div>\n",
       "        <script>netpixi.call('YyW58s3f4KsfS2EB7oZmpX', 'XZ4nUNn5n3sDnGgyBkV8jz', 'changeGraph', 'eyJpZCI6ICJtb3JvY2NvIiwgInR5cGUiOiAidmVydGV4IiwgInByb3BzIjogeyJzaXplIjogNDcuNX19Cg==');</script>\n",
       "    "
      ],
      "text/plain": [
       "<IPython.core.display.HTML object>"
      ]
     },
     "metadata": {},
     "output_type": "display_data"
    },
    {
     "data": {
      "text/html": [
       "\n",
       "        <div id=\"C7ojVXPQafsAvozEDVfaj2\"></div>\n",
       "        <script>netpixi.call('C7ojVXPQafsAvozEDVfaj2', 'XZ4nUNn5n3sDnGgyBkV8jz', 'changeGraph', 'eyJpZCI6ICJpcmVsYW5kIiwgInR5cGUiOiAidmVydGV4IiwgInByb3BzIjogeyJzaXplIjogMTYuNDU0NTQ1NDU0NTQ1NDUzfX0K');</script>\n",
       "    "
      ],
      "text/plain": [
       "<IPython.core.display.HTML object>"
      ]
     },
     "metadata": {},
     "output_type": "display_data"
    },
    {
     "data": {
      "text/html": [
       "\n",
       "        <div id=\"dTMvxBbdmxyHoh6NcHbR5J\"></div>\n",
       "        <script>netpixi.call('dTMvxBbdmxyHoh6NcHbR5J', 'XZ4nUNn5n3sDnGgyBkV8jz', 'changeGraph', 'eyJpZCI6ICJwYXJhZ3VheSIsICJ0eXBlIjogInZlcnRleCIsICJwcm9wcyI6IHsic2l6ZSI6IDEzLjE4MTgxODE4MTgxODE4Mn19Cg==');</script>\n",
       "    "
      ],
      "text/plain": [
       "<IPython.core.display.HTML object>"
      ]
     },
     "metadata": {},
     "output_type": "display_data"
    },
    {
     "data": {
      "text/html": [
       "\n",
       "        <div id=\"mjrTtEC9QMCYMUWgUV8r2j\"></div>\n",
       "        <script>netpixi.call('mjrTtEC9QMCYMUWgUV8r2j', 'XZ4nUNn5n3sDnGgyBkV8jz', 'changeGraph', 'eyJpZCI6ICJzd2VkZW4iLCAidHlwZSI6ICJ2ZXJ0ZXgiLCAicHJvcHMiOiB7InNpemUiOiA0Mi44NTcxNDI4NTcxNDI4NTR9fQo=');</script>\n",
       "    "
      ],
      "text/plain": [
       "<IPython.core.display.HTML object>"
      ]
     },
     "metadata": {},
     "output_type": "display_data"
    },
    {
     "data": {
      "text/html": [
       "\n",
       "        <div id=\"K4jNxSCwhtdqs5dUpxZHob\"></div>\n",
       "        <script>netpixi.call('K4jNxSCwhtdqs5dUpxZHob', 'XZ4nUNn5n3sDnGgyBkV8jz', 'changeGraph', 'eyJpZCI6ICJuZXRoZXJsYW5kcyIsICJ0eXBlIjogInZlcnRleCIsICJwcm9wcyI6IHsic2l6ZSI6IDQ5LjI4NTcxNDI4NTcxNDI5fX0K');</script>\n",
       "    "
      ],
      "text/plain": [
       "<IPython.core.display.HTML object>"
      ]
     },
     "metadata": {},
     "output_type": "display_data"
    },
    {
     "data": {
      "text/html": [
       "\n",
       "        <div id=\"MXNitknV4xDGuCNHycEYac\"></div>\n",
       "        <script>netpixi.call('MXNitknV4xDGuCNHycEYac', 'XZ4nUNn5n3sDnGgyBkV8jz', 'changeGraph', 'eyJpZCI6ICJhbmdvbGEiLCAidHlwZSI6ICJ2ZXJ0ZXgiLCAicHJvcHMiOiB7InNpemUiOiAxNC4wOTA5MDkwOTA5MDkwOX19Cg==');</script>\n",
       "    "
      ],
      "text/plain": [
       "<IPython.core.display.HTML object>"
      ]
     },
     "metadata": {},
     "output_type": "display_data"
    },
    {
     "data": {
      "text/html": [
       "\n",
       "        <div id=\"o9AjJfePoVM6z4pysLkoPL\"></div>\n",
       "        <script>netpixi.call('o9AjJfePoVM6z4pysLkoPL', 'XZ4nUNn5n3sDnGgyBkV8jz', 'changeGraph', 'eyJpZCI6ICJzb2FmcmljYSIsICJ0eXBlIjogInZlcnRleCIsICJwcm9wcyI6IHsic2l6ZSI6IDQ4LjkyODU3MTQyODU3MTQzfX0K');</script>\n",
       "    "
      ],
      "text/plain": [
       "<IPython.core.display.HTML object>"
      ]
     },
     "metadata": {},
     "output_type": "display_data"
    },
    {
     "data": {
      "text/html": [
       "\n",
       "        <div id=\"oUWxaNA2ZeCXeBCtKNnaWE\"></div>\n",
       "        <script>netpixi.call('oUWxaNA2ZeCXeBCtKNnaWE', 'XZ4nUNn5n3sDnGgyBkV8jz', 'changeGraph', 'eyJpZCI6ICJhdXN0cmlhIiwgInR5cGUiOiAidmVydGV4IiwgInByb3BzIjogeyJzaXplIjogMTkuNzI3MjcyNzI3MjcyNzI3fX0K');</script>\n",
       "    "
      ],
      "text/plain": [
       "<IPython.core.display.HTML object>"
      ]
     },
     "metadata": {},
     "output_type": "display_data"
    },
    {
     "data": {
      "text/html": [
       "\n",
       "        <div id=\"7vfQFAw2HKabX36oHyRz2c\"></div>\n",
       "        <script>netpixi.call('7vfQFAw2HKabX36oHyRz2c', 'XZ4nUNn5n3sDnGgyBkV8jz', 'changeGraph', 'eyJpZCI6ICJzbG92ZW5pYSIsICJ0eXBlIjogInZlcnRleCIsICJwcm9wcyI6IHsic2l6ZSI6IDE5LjE4MTgxODE4MTgxODE4fX0K');</script>\n",
       "    "
      ],
      "text/plain": [
       "<IPython.core.display.HTML object>"
      ]
     },
     "metadata": {},
     "output_type": "display_data"
    },
    {
     "data": {
      "text/html": [
       "\n",
       "        <div id=\"evhdjb9zcJwRxkNhQFPygz\"></div>\n",
       "        <script>netpixi.call('evhdjb9zcJwRxkNhQFPygz', 'XZ4nUNn5n3sDnGgyBkV8jz', 'changeGraph', 'eyJpZCI6ICJlbHNhbHZhZG9yIiwgInR5cGUiOiAidmVydGV4IiwgInByb3BzIjogeyJzaXplIjogMTAuMzYzNjM2MzYzNjM2MzYzfX0K');</script>\n",
       "    "
      ],
      "text/plain": [
       "<IPython.core.display.HTML object>"
      ]
     },
     "metadata": {},
     "output_type": "display_data"
    },
    {
     "data": {
      "text/html": [
       "\n",
       "        <div id=\"aDzpevxNbsgqW3t5M8XB46\"></div>\n",
       "        <script>netpixi.call('aDzpevxNbsgqW3t5M8XB46', 'XZ4nUNn5n3sDnGgyBkV8jz', 'changeGraph', 'eyJpZCI6ICJiZWxnaXVtIiwgInR5cGUiOiAidmVydGV4IiwgInByb3BzIjogeyJzaXplIjogNDIuMTQyODU3MTQyODU3MTQ2fX0K');</script>\n",
       "    "
      ],
      "text/plain": [
       "<IPython.core.display.HTML object>"
      ]
     },
     "metadata": {},
     "output_type": "display_data"
    },
    {
     "data": {
      "text/html": [
       "\n",
       "        <div id=\"54DC7ifFct5ae5Dqd8EmSr\"></div>\n",
       "        <script>netpixi.call('54DC7ifFct5ae5Dqd8EmSr', 'XZ4nUNn5n3sDnGgyBkV8jz', 'changeGraph', 'eyJpZCI6ICJtYWRhZ2FzY2FyIiwgInR5cGUiOiAidmVydGV4IiwgInByb3BzIjogeyJzaXplIjogMTkuNTQ1NDU0NTQ1NDU0NTQ3fX0K');</script>\n",
       "    "
      ],
      "text/plain": [
       "<IPython.core.display.HTML object>"
      ]
     },
     "metadata": {},
     "output_type": "display_data"
    },
    {
     "data": {
      "text/html": [
       "\n",
       "        <div id=\"cSBX34EP4KdcJdfzKavJ9K\"></div>\n",
       "        <script>netpixi.call('cSBX34EP4KdcJdfzKavJ9K', 'XZ4nUNn5n3sDnGgyBkV8jz', 'changeGraph', 'eyJpZCI6ICJwZXJ1IiwgInR5cGUiOiAidmVydGV4IiwgInByb3BzIjogeyJzaXplIjogMTYuMH19Cg==');</script>\n",
       "    "
      ],
      "text/plain": [
       "<IPython.core.display.HTML object>"
      ]
     },
     "metadata": {},
     "output_type": "display_data"
    },
    {
     "data": {
      "text/html": [
       "\n",
       "        <div id=\"ZWo4MN6FJYd5jomg6JKzC5\"></div>\n",
       "        <script>netpixi.call('ZWo4MN6FJYd5jomg6JKzC5', 'XZ4nUNn5n3sDnGgyBkV8jz', 'changeGraph', 'eyJpZCI6ICJ1ayIsICJ0eXBlIjogInZlcnRleCIsICJwcm9wcyI6IHsic2l6ZSI6IDQwLjM1NzE0Mjg1NzE0Mjg1NH19Cg==');</script>\n",
       "    "
      ],
      "text/plain": [
       "<IPython.core.display.HTML object>"
      ]
     },
     "metadata": {},
     "output_type": "display_data"
    },
    {
     "data": {
      "text/html": [
       "\n",
       "        <div id=\"PMMhzeBwHGVGStFEdecLXE\"></div>\n",
       "        <script>netpixi.call('PMMhzeBwHGVGStFEdecLXE', 'XZ4nUNn5n3sDnGgyBkV8jz', 'changeGraph', 'eyJpZCI6ICJjb2xvbWJpYSIsICJ0eXBlIjogInZlcnRleCIsICJwcm9wcyI6IHsic2l6ZSI6IDE4LjU0NTQ1NDU0NTQ1NDU0N319Cg==');</script>\n",
       "    "
      ],
      "text/plain": [
       "<IPython.core.display.HTML object>"
      ]
     },
     "metadata": {},
     "output_type": "display_data"
    },
    {
     "data": {
      "text/html": [
       "\n",
       "        <div id=\"mbGpixLNTNa9nThhxeQxkk\"></div>\n",
       "        <script>netpixi.call('mbGpixLNTNa9nThhxeQxkk', 'XZ4nUNn5n3sDnGgyBkV8jz', 'changeGraph', 'eyJpZCI6ICJjYW1lcm9vbiIsICJ0eXBlIjogInZlcnRleCIsICJwcm9wcyI6IHsic2l6ZSI6IDQ2Ljc4NTcxNDI4NTcxNDI5fX0K');</script>\n",
       "    "
      ],
      "text/plain": [
       "<IPython.core.display.HTML object>"
      ]
     },
     "metadata": {},
     "output_type": "display_data"
    },
    {
     "data": {
      "text/html": [
       "\n",
       "        <div id=\"JiRHBXJAJE5tND5vPEugNw\"></div>\n",
       "        <script>netpixi.call('JiRHBXJAJE5tND5vPEugNw', 'XZ4nUNn5n3sDnGgyBkV8jz', 'changeGraph', 'eyJpZCI6ICJub3J3YXkiLCAidHlwZSI6ICJ2ZXJ0ZXgiLCAicHJvcHMiOiB7InNpemUiOiA0Mi41fX0K');</script>\n",
       "    "
      ],
      "text/plain": [
       "<IPython.core.display.HTML object>"
      ]
     },
     "metadata": {},
     "output_type": "display_data"
    },
    {
     "data": {
      "text/html": [
       "\n",
       "        <div id=\"eLU4XEmK4Uned7DXh36ypi\"></div>\n",
       "        <script>netpixi.call('eLU4XEmK4Uned7DXh36ypi', 'XZ4nUNn5n3sDnGgyBkV8jz', 'changeGraph', 'eyJpZCI6ICJjaGlsZSIsICJ0eXBlIjogInZlcnRleCIsICJwcm9wcyI6IHsic2l6ZSI6IDE5LjgxODE4MTgxODE4MTgyfX0K');</script>\n",
       "    "
      ],
      "text/plain": [
       "<IPython.core.display.HTML object>"
      ]
     },
     "metadata": {},
     "output_type": "display_data"
    },
    {
     "data": {
      "text/html": [
       "\n",
       "        <div id=\"SBkLZooYCi7JenARKYaZqq\"></div>\n",
       "        <script>netpixi.call('SBkLZooYCi7JenARKYaZqq', 'XZ4nUNn5n3sDnGgyBkV8jz', 'changeGraph', 'eyJpZCI6ICJpdGFseSIsICJ0eXBlIjogInZlcnRleCIsICJwcm9wcyI6IHsic2l6ZSI6IDQ4LjIxNDI4NTcxNDI4NTcxfX0K');</script>\n",
       "    "
      ],
      "text/plain": [
       "<IPython.core.display.HTML object>"
      ]
     },
     "metadata": {},
     "output_type": "display_data"
    },
    {
     "data": {
      "text/html": [
       "\n",
       "        <div id=\"fZKui2RawSJF4ZyYKBihQm\"></div>\n",
       "        <script>netpixi.call('fZKui2RawSJF4ZyYKBihQm', 'XZ4nUNn5n3sDnGgyBkV8jz', 'changeGraph', 'eyJpZCI6ICJicmF6aWwiLCAidHlwZSI6ICJ2ZXJ0ZXgiLCAicHJvcHMiOiB7InNpemUiOiAxOC4wOTA5MDkwOTA5MDkwOX19Cg==');</script>\n",
       "    "
      ],
      "text/plain": [
       "<IPython.core.display.HTML object>"
      ]
     },
     "metadata": {},
     "output_type": "display_data"
    },
    {
     "data": {
      "text/html": [
       "\n",
       "        <div id=\"4sUQRyFVQ9G3opp3w2cNvA\"></div>\n",
       "        <script>netpixi.call('4sUQRyFVQ9G3opp3w2cNvA', 'XZ4nUNn5n3sDnGgyBkV8jz', 'changeGraph', 'eyJpZCI6ICJtYWxheXNpYSIsICJ0eXBlIjogInZlcnRleCIsICJwcm9wcyI6IHsic2l6ZSI6IDE2LjcyNzI3MjcyNzI3MjcyN319Cg==');</script>\n",
       "    "
      ],
      "text/plain": [
       "<IPython.core.display.HTML object>"
      ]
     },
     "metadata": {},
     "output_type": "display_data"
    },
    {
     "data": {
      "text/html": [
       "\n",
       "        <div id=\"93q523kriUWQh5F55cziaF\"></div>\n",
       "        <script>netpixi.call('93q523kriUWQh5F55cziaF', 'XZ4nUNn5n3sDnGgyBkV8jz', 'changeGraph', 'eyJpZCI6ICJwYWtpc3RhbiIsICJ0eXBlIjogInZlcnRleCIsICJwcm9wcyI6IHsic2l6ZSI6IDE4LjQ1NDU0NTQ1NDU0NTQ1M319Cg==');</script>\n",
       "    "
      ],
      "text/plain": [
       "<IPython.core.display.HTML object>"
      ]
     },
     "metadata": {},
     "output_type": "display_data"
    },
    {
     "data": {
      "text/html": [
       "\n",
       "        <div id=\"W8in2NXaDkDjx583NAcfAb\"></div>\n",
       "        <script>netpixi.call('W8in2NXaDkDjx583NAcfAb', 'XZ4nUNn5n3sDnGgyBkV8jz', 'changeGraph', 'eyJpZCI6ICJnZXJtYW55IiwgInR5cGUiOiAidmVydGV4IiwgInByb3BzIjogeyJzaXplIjogMTkuMDkwOTA5MDkwOTA5MDl9fQo=');</script>\n",
       "    "
      ],
      "text/plain": [
       "<IPython.core.display.HTML object>"
      ]
     },
     "metadata": {},
     "output_type": "display_data"
    },
    {
     "data": {
      "text/html": [
       "\n",
       "        <div id=\"BavibeE2ukX3CvUxZAHT7Q\"></div>\n",
       "        <script>netpixi.call('BavibeE2ukX3CvUxZAHT7Q', 'XZ4nUNn5n3sDnGgyBkV8jz', 'changeGraph', 'eyJpZCI6ICJhbGdlcmlhIiwgInR5cGUiOiAidmVydGV4IiwgInByb3BzIjogeyJzaXplIjogNDUuMzU3MTQyODU3MTQyODU0fX0K');</script>\n",
       "    "
      ],
      "text/plain": [
       "<IPython.core.display.HTML object>"
      ]
     },
     "metadata": {},
     "output_type": "display_data"
    },
    {
     "data": {
      "text/html": [
       "\n",
       "        <div id=\"ZDkNWJXsjetC7mrgUD3aYh\"></div>\n",
       "        <script>netpixi.call('ZDkNWJXsjetC7mrgUD3aYh', 'XZ4nUNn5n3sDnGgyBkV8jz', 'changeGraph', 'eyJpZCI6ICJtYXVyaXRhbmlhIiwgInR5cGUiOiAidmVydGV4IiwgInByb3BzIjogeyJzaXplIjogMTcuNDU0NTQ1NDU0NTQ1NDUzfX0K');</script>\n",
       "    "
      ],
      "text/plain": [
       "<IPython.core.display.HTML object>"
      ]
     },
     "metadata": {},
     "output_type": "display_data"
    },
    {
     "data": {
      "text/html": [
       "\n",
       "        <div id=\"hoLAKhaMLc2aegcDqp2Hzv\"></div>\n",
       "        <script>netpixi.call('hoLAKhaMLc2aegcDqp2Hzv', 'XZ4nUNn5n3sDnGgyBkV8jz', 'changeGraph', 'eyJpZCI6ICJ1Z2FuZGEiLCAidHlwZSI6ICJ2ZXJ0ZXgiLCAicHJvcHMiOiB7InNpemUiOiAxNi45MDkwOTA5MDkwOTA5MX19Cg==');</script>\n",
       "    "
      ],
      "text/plain": [
       "<IPython.core.display.HTML object>"
      ]
     },
     "metadata": {},
     "output_type": "display_data"
    },
    {
     "data": {
      "text/html": [
       "\n",
       "        <div id=\"J8C8UffnFue2NeWgbegRMV\"></div>\n",
       "        <script>netpixi.call('J8C8UffnFue2NeWgbegRMV', 'XZ4nUNn5n3sDnGgyBkV8jz', 'changeGraph', 'eyJpZCI6ICJjcm9hdGlhIiwgInR5cGUiOiAidmVydGV4IiwgInByb3BzIjogeyJzaXplIjogMTYuMDkwOTA5MDkwOTA5MDl9fQo=');</script>\n",
       "    "
      ],
      "text/plain": [
       "<IPython.core.display.HTML object>"
      ]
     },
     "metadata": {},
     "output_type": "display_data"
    },
    {
     "data": {
      "text/html": [
       "\n",
       "        <div id=\"VKXdYvRauEtyW4wSDDbu7Z\"></div>\n",
       "        <script>netpixi.call('VKXdYvRauEtyW4wSDDbu7Z', 'XZ4nUNn5n3sDnGgyBkV8jz', 'changeGraph', 'eyJpZCI6ICJzd2l0emVybGFuZCIsICJ0eXBlIjogInZlcnRleCIsICJwcm9wcyI6IHsic2l6ZSI6IDQ2LjA3MTQyODU3MTQyODU3fX0K');</script>\n",
       "    "
      ],
      "text/plain": [
       "<IPython.core.display.HTML object>"
      ]
     },
     "metadata": {},
     "output_type": "display_data"
    },
    {
     "data": {
      "text/html": [
       "\n",
       "        <div id=\"ACdENHPAZ8Bejpso4Jb2w9\"></div>\n",
       "        <script>netpixi.call('ACdENHPAZ8Bejpso4Jb2w9', 'XZ4nUNn5n3sDnGgyBkV8jz', 'changeGraph', 'eyJpZCI6ICJndWF0ZW1hbGEiLCAidHlwZSI6ICJ2ZXJ0ZXgiLCAicHJvcHMiOiB7InNpemUiOiAxNS41NDU0NTQ1NDU0NTQ1NDd9fQo=');</script>\n",
       "    "
      ],
      "text/plain": [
       "<IPython.core.display.HTML object>"
      ]
     },
     "metadata": {},
     "output_type": "display_data"
    },
    {
     "data": {
      "text/html": [
       "\n",
       "        <div id=\"88MXQDtTssFD8s2K544pYH\"></div>\n",
       "        <script>netpixi.call('88MXQDtTssFD8s2K544pYH', 'XZ4nUNn5n3sDnGgyBkV8jz', 'changeGraph', 'eyJpZCI6ICJ0b2dvIiwgInR5cGUiOiAidmVydGV4IiwgInByb3BzIjogeyJzaXplIjogMTguNzI3MjcyNzI3MjcyNzI3fX0K');</script>\n",
       "    "
      ],
      "text/plain": [
       "<IPython.core.display.HTML object>"
      ]
     },
     "metadata": {},
     "output_type": "display_data"
    },
    {
     "data": {
      "text/html": [
       "\n",
       "        <div id=\"nMHragBUVtGpfK2Fm4wNcT\"></div>\n",
       "        <script>netpixi.call('nMHragBUVtGpfK2Fm4wNcT', 'XZ4nUNn5n3sDnGgyBkV8jz', 'changeGraph', 'eyJpZCI6ICJiZW5pbiIsICJ0eXBlIjogInZlcnRleCIsICJwcm9wcyI6IHsic2l6ZSI6IDE3LjA5MDkwOTA5MDkwOTA5fX0K');</script>\n",
       "    "
      ],
      "text/plain": [
       "<IPython.core.display.HTML object>"
      ]
     },
     "metadata": {},
     "output_type": "display_data"
    },
    {
     "data": {
      "text/html": [
       "\n",
       "        <div id=\"PSifPehwsqfXYFJsqAGFkU\"></div>\n",
       "        <script>netpixi.call('PSifPehwsqfXYFJsqAGFkU', 'XZ4nUNn5n3sDnGgyBkV8jz', 'changeGraph', 'eyJpZCI6ICJtYXVyaXRpdXMiLCAidHlwZSI6ICJ2ZXJ0ZXgiLCAicHJvcHMiOiB7InNpemUiOiAxNy44MTgxODE4MTgxODE4MTd9fQo=');</script>\n",
       "    "
      ],
      "text/plain": [
       "<IPython.core.display.HTML object>"
      ]
     },
     "metadata": {},
     "output_type": "display_data"
    },
    {
     "data": {
      "text/html": [
       "\n",
       "        <div id=\"nFubn4VJEJSKDqcyeXhbEE\"></div>\n",
       "        <script>netpixi.call('nFubn4VJEJSKDqcyeXhbEE', 'XZ4nUNn5n3sDnGgyBkV8jz', 'changeGraph', 'eyJpZCI6ICJjaGluYSIsICJ0eXBlIjogInZlcnRleCIsICJwcm9wcyI6IHsic2l6ZSI6IDQ3Ljg1NzE0Mjg1NzE0Mjg1NH19Cg==');</script>\n",
       "    "
      ],
      "text/plain": [
       "<IPython.core.display.HTML object>"
      ]
     },
     "metadata": {},
     "output_type": "display_data"
    },
    {
     "data": {
      "text/html": [
       "\n",
       "        <div id=\"dj7GwAhA6r36NyziPCr7PA\"></div>\n",
       "        <script>netpixi.call('dj7GwAhA6r36NyziPCr7PA', 'XZ4nUNn5n3sDnGgyBkV8jz', 'changeGraph', 'eyJpZCI6ICJzb2tvcmVhIiwgInR5cGUiOiAidmVydGV4IiwgInByb3BzIjogeyJzaXplIjogNDEuMDcxNDI4NTcxNDI4NTd9fQo=');</script>\n",
       "    "
      ],
      "text/plain": [
       "<IPython.core.display.HTML object>"
      ]
     },
     "metadata": {},
     "output_type": "display_data"
    },
    {
     "data": {
      "text/html": [
       "\n",
       "        <div id=\"jwJNbu846BEn3u2GBV3KFQ\"></div>\n",
       "        <script>netpixi.call('jwJNbu846BEn3u2GBV3KFQ', 'XZ4nUNn5n3sDnGgyBkV8jz', 'changeGraph', 'eyJpZCI6ICJyb21hbmlhIiwgInR5cGUiOiAidmVydGV4IiwgInByb3BzIjogeyJzaXplIjogMTguOTA5MDkwOTA5MDkwOTA3fX0K');</script>\n",
       "    "
      ],
      "text/plain": [
       "<IPython.core.display.HTML object>"
      ]
     },
     "metadata": {},
     "output_type": "display_data"
    },
    {
     "data": {
      "text/html": [
       "\n",
       "        <div id=\"mMDE9K9GPXtGEaiPCveX3E\"></div>\n",
       "        <script>netpixi.call('mMDE9K9GPXtGEaiPCveX3E', 'XZ4nUNn5n3sDnGgyBkV8jz', 'changeGraph', 'eyJpZCI6ICJ0dW5pc2lhIiwgInR5cGUiOiAidmVydGV4IiwgInByb3BzIjogeyJzaXplIjogNDkuNjQyODU3MTQyODU3MTQ2fX0K');</script>\n",
       "    "
      ],
      "text/plain": [
       "<IPython.core.display.HTML object>"
      ]
     },
     "metadata": {},
     "output_type": "display_data"
    },
    {
     "data": {
      "text/html": [
       "\n",
       "        <div id=\"hsdRfzd27bwWdDU2bDDqiC\"></div>\n",
       "        <script>netpixi.call('hsdRfzd27bwWdDU2bDDqiC', 'XZ4nUNn5n3sDnGgyBkV8jz', 'changeGraph', 'eyJpZCI6ICJuaWNhcmFndWEiLCAidHlwZSI6ICJ2ZXJ0ZXgiLCAicHJvcHMiOiB7InNpemUiOiAxOC4xODE4MTgxODE4MTgxOH19Cg==');</script>\n",
       "    "
      ],
      "text/plain": [
       "<IPython.core.display.HTML object>"
      ]
     },
     "metadata": {},
     "output_type": "display_data"
    },
    {
     "data": {
      "text/html": [
       "\n",
       "        <div id=\"A2UCJSfGY3mptFhn5Tex9f\"></div>\n",
       "        <script>netpixi.call('A2UCJSfGY3mptFhn5Tex9f', 'XZ4nUNn5n3sDnGgyBkV8jz', 'changeGraph', 'eyJpZCI6ICJpbmRpYSIsICJ0eXBlIjogInZlcnRleCIsICJwcm9wcyI6IHsic2l6ZSI6IDQzLjIxNDI4NTcxNDI4NTcxNX19Cg==');</script>\n",
       "    "
      ],
      "text/plain": [
       "<IPython.core.display.HTML object>"
      ]
     },
     "metadata": {},
     "output_type": "display_data"
    },
    {
     "data": {
      "text/html": [
       "\n",
       "        <div id=\"eXvJgjkwhwM4wg7ggeGS8T\"></div>\n",
       "        <script>netpixi.call('eXvJgjkwhwM4wg7ggeGS8T', 'XZ4nUNn5n3sDnGgyBkV8jz', 'changeGraph', 'eyJpZCI6ICJpdm9yeWNvYXN0IiwgInR5cGUiOiAidmVydGV4IiwgInByb3BzIjogeyJzaXplIjogNDQuMjg1NzE0Mjg1NzE0Mjg1fX0K');</script>\n",
       "    "
      ],
      "text/plain": [
       "<IPython.core.display.HTML object>"
      ]
     },
     "metadata": {},
     "output_type": "display_data"
    },
    {
     "data": {
      "text/html": [
       "\n",
       "        <div id=\"Et962FmdJzAHTFwuxCwwaa\"></div>\n",
       "        <script>netpixi.call('Et962FmdJzAHTFwuxCwwaa', 'XZ4nUNn5n3sDnGgyBkV8jz', 'changeGraph', 'eyJpZCI6ICJib2xpdmlhIiwgInR5cGUiOiAidmVydGV4IiwgInByb3BzIjogeyJzaXplIjogMTUuNzI3MjcyNzI3MjcyNzI3fX0K');</script>\n",
       "    "
      ],
      "text/plain": [
       "<IPython.core.display.HTML object>"
      ]
     },
     "metadata": {},
     "output_type": "display_data"
    },
    {
     "data": {
      "text/html": [
       "\n",
       "        <div id=\"UkimPfkY4yeuuHRcPWedUy\"></div>\n",
       "        <script>netpixi.call('UkimPfkY4yeuuHRcPWedUy', 'XZ4nUNn5n3sDnGgyBkV8jz', 'changeGraph', 'eyJpZCI6ICJhcmdlbnRpbmEiLCAidHlwZSI6ICJ2ZXJ0ZXgiLCAicHJvcHMiOiB7InNpemUiOiAxOS45MDkwOTA5MDkwOTA5MDd9fQo=');</script>\n",
       "    "
      ],
      "text/plain": [
       "<IPython.core.display.HTML object>"
      ]
     },
     "metadata": {},
     "output_type": "display_data"
    },
    {
     "data": {
      "text/html": [
       "\n",
       "        <div id=\"cwJvwsVJ5TMMsistgtnsU7\"></div>\n",
       "        <script>netpixi.call('cwJvwsVJ5TMMsistgtnsU7', 'XZ4nUNn5n3sDnGgyBkV8jz', 'changeGraph', 'eyJpZCI6ICJndWluZWEiLCAidHlwZSI6ICJ2ZXJ0ZXgiLCAicHJvcHMiOiB7InNpemUiOiAxNy42MzYzNjM2MzYzNjM2Mzd9fQo=');</script>\n",
       "    "
      ],
      "text/plain": [
       "<IPython.core.display.HTML object>"
      ]
     },
     "metadata": {},
     "output_type": "display_data"
    },
    {
     "data": {
      "text/html": [
       "\n",
       "        <div id=\"9gSpwDDrtGV8cvVEzeoCqi\"></div>\n",
       "        <script>netpixi.call('9gSpwDDrtGV8cvVEzeoCqi', 'XZ4nUNn5n3sDnGgyBkV8jz', 'changeGraph', 'eyJpZCI6ICJwb2xhbmQiLCAidHlwZSI6ICJ2ZXJ0ZXgiLCAicHJvcHMiOiB7InNpemUiOiAxOS42MzYzNjM2MzYzNjM2Mzd9fQo=');</script>\n",
       "    "
      ],
      "text/plain": [
       "<IPython.core.display.HTML object>"
      ]
     },
     "metadata": {},
     "output_type": "display_data"
    },
    {
     "data": {
      "text/html": [
       "\n",
       "        <div id=\"UK2LqWUFSkZgVCsTdmthu6\"></div>\n",
       "        <script>netpixi.call('UK2LqWUFSkZgVCsTdmthu6', 'XZ4nUNn5n3sDnGgyBkV8jz', 'changeGraph', 'eyJpZCI6ICJ0YW56YW5pYSIsICJ0eXBlIjogInZlcnRleCIsICJwcm9wcyI6IHsic2l6ZSI6IDE3LjM2MzYzNjM2MzYzNjM2M319Cg==');</script>\n",
       "    "
      ],
      "text/plain": [
       "<IPython.core.display.HTML object>"
      ]
     },
     "metadata": {},
     "output_type": "display_data"
    },
    {
     "data": {
      "text/html": [
       "\n",
       "        <div id=\"UQivtoGH4Jjsx8v2J2SnTt\"></div>\n",
       "        <script>netpixi.call('UQivtoGH4Jjsx8v2J2SnTt', 'XZ4nUNn5n3sDnGgyBkV8jz', 'changeGraph', 'eyJpZCI6ICJiYW5nbGFkZXNoIiwgInR5cGUiOiAidmVydGV4IiwgInByb3BzIjogeyJzaXplIjogMTcuMH19Cg==');</script>\n",
       "    "
      ],
      "text/plain": [
       "<IPython.core.display.HTML object>"
      ]
     },
     "metadata": {},
     "output_type": "display_data"
    },
    {
     "data": {
      "text/html": [
       "\n",
       "        <div id=\"VqVsoEVbNFS6jjGpYFuaBW\"></div>\n",
       "        <script>netpixi.call('VqVsoEVbNFS6jjGpYFuaBW', 'XZ4nUNn5n3sDnGgyBkV8jz', 'changeGraph', 'eyJpZCI6ICJoYWl0aSIsICJ0eXBlIjogInZlcnRleCIsICJwcm9wcyI6IHsic2l6ZSI6IDE0LjcyNzI3MjcyNzI3MjcyN319Cg==');</script>\n",
       "    "
      ],
      "text/plain": [
       "<IPython.core.display.HTML object>"
      ]
     },
     "metadata": {},
     "output_type": "display_data"
    },
    {
     "data": {
      "text/html": [
       "\n",
       "        <div id=\"bmhVTE36pgG8WGjr7PnLza\"></div>\n",
       "        <script>netpixi.call('bmhVTE36pgG8WGjr7PnLza', 'XZ4nUNn5n3sDnGgyBkV8jz', 'changeGraph', 'eyJpZCI6ICJkZW5tYXJrIiwgInR5cGUiOiAidmVydGV4IiwgInByb3BzIjogeyJzaXplIjogMTguNjM2MzYzNjM2MzYzNjM3fX0K');</script>\n",
       "    "
      ],
      "text/plain": [
       "<IPython.core.display.HTML object>"
      ]
     },
     "metadata": {},
     "output_type": "display_data"
    },
    {
     "data": {
      "text/html": [
       "\n",
       "        <div id=\"RN8GDbXZcHqw3xw5MXLsdi\"></div>\n",
       "        <script>netpixi.call('RN8GDbXZcHqw3xw5MXLsdi', 'XZ4nUNn5n3sDnGgyBkV8jz', 'changeGraph', 'eyJpZCI6ICJidWxnYXJpYSIsICJ0eXBlIjogInZlcnRleCIsICJwcm9wcyI6IHsic2l6ZSI6IDE5LjM2MzYzNjM2MzYzNjM2M319Cg==');</script>\n",
       "    "
      ],
      "text/plain": [
       "<IPython.core.display.HTML object>"
      ]
     },
     "metadata": {},
     "output_type": "display_data"
    },
    {
     "data": {
      "text/html": [
       "\n",
       "        <div id=\"MEsa8o2W488Eytb6h4kkV9\"></div>\n",
       "        <script>netpixi.call('MEsa8o2W488Eytb6h4kkV9', 'XZ4nUNn5n3sDnGgyBkV8jz', 'changeGraph', 'eyJpZCI6ICJwYW5hbWEiLCAidHlwZSI6ICJ2ZXJ0ZXgiLCAicHJvcHMiOiB7InNpemUiOiAxNy45MDkwOTA5MDkwOTA5MX19Cg==');</script>\n",
       "    "
      ],
      "text/plain": [
       "<IPython.core.display.HTML object>"
      ]
     },
     "metadata": {},
     "output_type": "display_data"
    },
    {
     "data": {
      "text/html": [
       "\n",
       "        <div id=\"4T7e8TTGxquELwD3qpBsYW\"></div>\n",
       "        <script>netpixi.call('4T7e8TTGxquELwD3qpBsYW', 'XZ4nUNn5n3sDnGgyBkV8jz', 'changeGraph', 'eyJpZCI6ICJwaGlsaXBwaW5lcyIsICJ0eXBlIjogInZlcnRleCIsICJwcm9wcyI6IHsic2l6ZSI6IDQ2LjQyODU3MTQyODU3MTQzfX0K');</script>\n",
       "    "
      ],
      "text/plain": [
       "<IPython.core.display.HTML object>"
      ]
     },
     "metadata": {},
     "output_type": "display_data"
    },
    {
     "data": {
      "text/html": [
       "\n",
       "        <div id=\"mgU4dt472XnWXD4rJWFHcB\"></div>\n",
       "        <script>netpixi.call('mgU4dt472XnWXD4rJWFHcB', 'XZ4nUNn5n3sDnGgyBkV8jz', 'changeGraph', 'eyJpZCI6ICJqYXBhbiIsICJ0eXBlIjogInZlcnRleCIsICJwcm9wcyI6IHsic2l6ZSI6IDQ1LjB9fQo=');</script>\n",
       "    "
      ],
      "text/plain": [
       "<IPython.core.display.HTML object>"
      ]
     },
     "metadata": {},
     "output_type": "display_data"
    },
    {
     "data": {
      "text/html": [
       "\n",
       "        <div id=\"FyWUzzB4sKASJUjobqDH63\"></div>\n",
       "        <script>netpixi.call('FyWUzzB4sKASJUjobqDH63', 'XZ4nUNn5n3sDnGgyBkV8jz', 'changeGraph', 'eyJpZCI6ICJlY3VhZG9yIiwgInR5cGUiOiAidmVydGV4IiwgInByb3BzIjogeyJzaXplIjogMTcuNzI3MjcyNzI3MjcyNzI3fX0K');</script>\n",
       "    "
      ],
      "text/plain": [
       "<IPython.core.display.HTML object>"
      ]
     },
     "metadata": {},
     "output_type": "display_data"
    },
    {
     "data": {
      "text/html": [
       "\n",
       "        <div id=\"BPshQ2fejaBaFUiHnHH9XU\"></div>\n",
       "        <script>netpixi.call('BPshQ2fejaBaFUiHnHH9XU', 'XZ4nUNn5n3sDnGgyBkV8jz', 'changeGraph', 'eyJpZCI6ICJtZXhpY28iLCAidHlwZSI6ICJ2ZXJ0ZXgiLCAicHJvcHMiOiB7InNpemUiOiAxNi42MzYzNjM2MzYzNjM2Mzd9fQo=');</script>\n",
       "    "
      ],
      "text/plain": [
       "<IPython.core.display.HTML object>"
      ]
     },
     "metadata": {},
     "output_type": "display_data"
    },
    {
     "data": {
      "text/html": [
       "\n",
       "        <div id=\"VJFRQqYUGrFjfeS2kHYvCV\"></div>\n",
       "        <script>netpixi.call('VJFRQqYUGrFjfeS2kHYvCV', 'XZ4nUNn5n3sDnGgyBkV8jz', 'changeGraph', 'eyJpZCI6ICJjb3N0YXJpY2EiLCAidHlwZSI6ICJ2ZXJ0ZXgiLCAicHJvcHMiOiB7InNpemUiOiAxOC4wfX0K');</script>\n",
       "    "
      ],
      "text/plain": [
       "<IPython.core.display.HTML object>"
      ]
     },
     "metadata": {},
     "output_type": "display_data"
    },
    {
     "data": {
      "text/html": [
       "\n",
       "        <div id=\"69Cp8gruQi2cYTE2XpBSiN\"></div>\n",
       "        <script>netpixi.call('69Cp8gruQi2cYTE2XpBSiN', 'XZ4nUNn5n3sDnGgyBkV8jz', 'changeGraph', 'eyJpZCI6ICJkb21yZXB1YmxpYyIsICJ0eXBlIjogInZlcnRleCIsICJwcm9wcyI6IHsic2l6ZSI6IDE4LjI3MjcyNzI3MjcyNzI3M319Cg==');</script>\n",
       "    "
      ],
      "text/plain": [
       "<IPython.core.display.HTML object>"
      ]
     },
     "metadata": {},
     "output_type": "display_data"
    },
    {
     "data": {
      "text/html": [
       "\n",
       "        <div id=\"nRCjbECzBuqWsMhQ4gkTju\"></div>\n",
       "        <script>netpixi.call('nRCjbECzBuqWsMhQ4gkTju', 'XZ4nUNn5n3sDnGgyBkV8jz', 'changeGraph', 'eyJpZCI6ICJrZW55YSIsICJ0eXBlIjogInZlcnRleCIsICJwcm9wcyI6IHsic2l6ZSI6IDQwLjcxNDI4NTcxNDI4NTcxNX19Cg==');</script>\n",
       "    "
      ],
      "text/plain": [
       "<IPython.core.display.HTML object>"
      ]
     },
     "metadata": {},
     "output_type": "display_data"
    },
    {
     "data": {
      "text/html": [
       "\n",
       "        <div id=\"CCskWYqVS3eh6vS6RuHuJc\"></div>\n",
       "        <script>netpixi.call('CCskWYqVS3eh6vS6RuHuJc', 'XZ4nUNn5n3sDnGgyBkV8jz', 'changeGraph', 'eyJpZCI6ICJ1c2EiLCAidHlwZSI6ICJ2ZXJ0ZXgiLCAicHJvcHMiOiB7InNpemUiOiAxNC44MTgxODE4MTgxODE4MTh9fQo=');</script>\n",
       "    "
      ],
      "text/plain": [
       "<IPython.core.display.HTML object>"
      ]
     },
     "metadata": {},
     "output_type": "display_data"
    },
    {
     "data": {
      "text/html": [
       "\n",
       "        <div id=\"TT5j2jwUcfy2wQ3rP8RbjA\"></div>\n",
       "        <script>netpixi.call('TT5j2jwUcfy2wQ3rP8RbjA', 'XZ4nUNn5n3sDnGgyBkV8jz', 'changeGraph', 'eyJpZCI6ICJzcGFpbiIsICJ0eXBlIjogInZlcnRleCIsICJwcm9wcyI6IHsic2l6ZSI6IDQ0LjY0Mjg1NzE0Mjg1NzE0Nn19Cg==');</script>\n",
       "    "
      ],
      "text/plain": [
       "<IPython.core.display.HTML object>"
      ]
     },
     "metadata": {},
     "output_type": "display_data"
    },
    {
     "data": {
      "text/html": [
       "\n",
       "        <div id=\"WoEvVDQqg9dXeod6ffCxbZ\"></div>\n",
       "        <script>netpixi.call('WoEvVDQqg9dXeod6ffCxbZ', 'XZ4nUNn5n3sDnGgyBkV8jz', 'changeGraph', 'eyJpZCI6ICJhdXN0cmFsaWEiLCAidHlwZSI6ICJ2ZXJ0ZXgiLCAicHJvcHMiOiB7InNpemUiOiAxOC44MTgxODE4MTgxODE4MTd9fQo=');</script>\n",
       "    "
      ],
      "text/plain": [
       "<IPython.core.display.HTML object>"
      ]
     },
     "metadata": {},
     "output_type": "display_data"
    },
    {
     "data": {
      "text/html": [
       "\n",
       "        <div id=\"ASdx7yuPHvPNMv9Rodukx2\"></div>\n",
       "        <script>netpixi.call('ASdx7yuPHvPNMv9Rodukx2', 'XZ4nUNn5n3sDnGgyBkV8jz', 'changeGraph', 'eyJpZCI6ICJsaXRodWFuaWEiLCAidHlwZSI6ICJ2ZXJ0ZXgiLCAicHJvcHMiOiB7InNpemUiOiAxNi44MTgxODE4MTgxODE4MTd9fQo=');</script>\n",
       "    "
      ],
      "text/plain": [
       "<IPython.core.display.HTML object>"
      ]
     },
     "metadata": {},
     "output_type": "display_data"
    },
    {
     "data": {
      "text/html": [
       "\n",
       "        <div id=\"N4KrtQQQyuaxJBg7eWuC99\"></div>\n",
       "        <script>netpixi.call('N4KrtQQQyuaxJBg7eWuC99', 'XZ4nUNn5n3sDnGgyBkV8jz', 'changeGraph', 'eyJpZCI6ICJmaW5sYW5kIiwgInR5cGUiOiAidmVydGV4IiwgInByb3BzIjogeyJzaXplIjogNDEuNzg1NzE0Mjg1NzE0Mjg1fX0K');</script>\n",
       "    "
      ],
      "text/plain": [
       "<IPython.core.display.HTML object>"
      ]
     },
     "metadata": {},
     "output_type": "display_data"
    },
    {
     "data": {
      "text/html": [
       "\n",
       "        <div id=\"SiF2ex2a4vtzVAE2iaDf9e\"></div>\n",
       "        <script>netpixi.call('SiF2ex2a4vtzVAE2iaDf9e', 'XZ4nUNn5n3sDnGgyBkV8jz', 'changeGraph', 'eyJpZCI6ICJ2ZW5lenVlbGEiLCAidHlwZSI6ICJ2ZXJ0ZXgiLCAicHJvcHMiOiB7InNpemUiOiAxOS4yNzI3MjcyNzI3MjcyNzN9fQo=');</script>\n",
       "    "
      ],
      "text/plain": [
       "<IPython.core.display.HTML object>"
      ]
     },
     "metadata": {},
     "output_type": "display_data"
    },
    {
     "data": {
      "text/html": [
       "\n",
       "        <div id=\"FCBU7oVNJcjD2AThY4ik6t\"></div>\n",
       "        <script>netpixi.call('FCBU7oVNJcjD2AThY4ik6t', 'XZ4nUNn5n3sDnGgyBkV8jz', 'changeGraph', 'eyJpZCI6ICJnaGFuYSIsICJ0eXBlIjogInZlcnRleCIsICJwcm9wcyI6IHsic2l6ZSI6IDE3LjU0NTQ1NDU0NTQ1NDU0N319Cg==');</script>\n",
       "    "
      ],
      "text/plain": [
       "<IPython.core.display.HTML object>"
      ]
     },
     "metadata": {},
     "output_type": "display_data"
    },
    {
     "data": {
      "text/html": [
       "\n",
       "        <div id=\"DBFSs8NgA5MQVdbyK9nf5T\"></div>\n",
       "        <script>netpixi.call('DBFSs8NgA5MQVdbyK9nf5T', 'XZ4nUNn5n3sDnGgyBkV8jz', 'changeGraph', 'eyJpZCI6ICJncmVlY2UiLCAidHlwZSI6ICJ2ZXJ0ZXgiLCAicHJvcHMiOiB7InNpemUiOiA0MS40Mjg1NzE0Mjg1NzE0M319Cg==');</script>\n",
       "    "
      ],
      "text/plain": [
       "<IPython.core.display.HTML object>"
      ]
     },
     "metadata": {},
     "output_type": "display_data"
    },
    {
     "data": {
      "text/html": [
       "\n",
       "        <div id=\"TF7Pdy2WefFz7tNtg9jqJN\"></div>\n",
       "        <script>netpixi.call('TF7Pdy2WefFz7tNtg9jqJN', 'XZ4nUNn5n3sDnGgyBkV8jz', 'changeGraph', 'eyJpZCI6ICJuaWdlcmlhIiwgInR5cGUiOiAidmVydGV4IiwgInByb3BzIjogeyJzaXplIjogNDMuNTcxNDI4NTcxNDI4NTd9fQo=');</script>\n",
       "    "
      ],
      "text/plain": [
       "<IPython.core.display.HTML object>"
      ]
     },
     "metadata": {},
     "output_type": "display_data"
    },
    {
     "data": {
      "text/html": [
       "\n",
       "        <div id=\"acskRfjHfmjMLNHiznLndm\"></div>\n",
       "        <script>netpixi.call('acskRfjHfmjMLNHiznLndm', 'XZ4nUNn5n3sDnGgyBkV8jz', 'changeGraph', 'eyJpZCI6ICJmcmFuY2UiLCAidHlwZSI6ICJ2ZXJ0ZXgiLCAicHJvcHMiOiB7InNpemUiOiA0Ny4xNDI4NTcxNDI4NTcxNDZ9fQo=');</script>\n",
       "    "
      ],
      "text/plain": [
       "<IPython.core.display.HTML object>"
      ]
     },
     "metadata": {},
     "output_type": "display_data"
    },
    {
     "data": {
      "text/html": [
       "\n",
       "        <div id=\"gdrhuuZM3MnJtpQXRF3KQG\"></div>\n",
       "        <script>netpixi.call('gdrhuuZM3MnJtpQXRF3KQG', 'XZ4nUNn5n3sDnGgyBkV8jz', 'changeGraph', 'eyJpZCI6ICJzYXVkaWFyYWJpYSIsICJ0eXBlIjogInZlcnRleCIsICJwcm9wcyI6IHsic2l6ZSI6IDE1LjkwOTA5MDkwOTA5MDkwOH19Cg==');</script>\n",
       "    "
      ],
      "text/plain": [
       "<IPython.core.display.HTML object>"
      ]
     },
     "metadata": {},
     "output_type": "display_data"
    },
    {
     "data": {
      "text/html": [
       "\n",
       "        <div id=\"J2MpTEDVYmKHqazdNRsSLU\"></div>\n",
       "        <script>netpixi.call('J2MpTEDVYmKHqazdNRsSLU', 'XZ4nUNn5n3sDnGgyBkV8jz', 'changeGraph', 'eyJpZCI6ICJxYXRhciIsICJ0eXBlIjogInZlcnRleCIsICJwcm9wcyI6IHsic2l6ZSI6IDExLjYzNjM2MzYzNjM2MzYzN319Cg==');</script>\n",
       "    "
      ],
      "text/plain": [
       "<IPython.core.display.HTML object>"
      ]
     },
     "metadata": {},
     "output_type": "display_data"
    },
    {
     "data": {
      "text/html": [
       "\n",
       "        <div id=\"ebm4BuH6x7WLLb8KwRWcWN\"></div>\n",
       "        <script>netpixi.call('ebm4BuH6x7WLLb8KwRWcWN', 'XZ4nUNn5n3sDnGgyBkV8jz', 'changeGraph', 'eyJpZCI6ICJtYWxpIiwgInR5cGUiOiAidmVydGV4IiwgInByb3BzIjogeyJzaXplIjogMTQuMH19Cg==');</script>\n",
       "    "
      ],
      "text/plain": [
       "<IPython.core.display.HTML object>"
      ]
     },
     "metadata": {},
     "output_type": "display_data"
    },
    {
     "data": {
      "text/html": [
       "\n",
       "        <div id=\"KeKtz8B7RJrr6me39S9gr9\"></div>\n",
       "        <script>netpixi.call('KeKtz8B7RJrr6me39S9gr9', 'XZ4nUNn5n3sDnGgyBkV8jz', 'changeGraph', 'eyJpZCI6ICJ1YWUiLCAidHlwZSI6ICJ2ZXJ0ZXgiLCAicHJvcHMiOiB7InNpemUiOiAxMi41NDU0NTQ1NDU0NTQ1NDV9fQo=');</script>\n",
       "    "
      ],
      "text/plain": [
       "<IPython.core.display.HTML object>"
      ]
     },
     "metadata": {},
     "output_type": "display_data"
    },
    {
     "data": {
      "text/html": [
       "\n",
       "        <div id=\"VMUfKbvT9267uCZPpXZ5qB\"></div>\n",
       "        <script>netpixi.call('VMUfKbvT9267uCZPpXZ5qB', 'XZ4nUNn5n3sDnGgyBkV8jz', 'changeGraph', 'eyJpZCI6ICJuZXd6ZWFsYW5kIiwgInR5cGUiOiAidmVydGV4IiwgInByb3BzIjogeyJzaXplIjogMTQuMjcyNzI3MjcyNzI3MjczfX0K');</script>\n",
       "    "
      ],
      "text/plain": [
       "<IPython.core.display.HTML object>"
      ]
     },
     "metadata": {},
     "output_type": "display_data"
    },
    {
     "data": {
      "text/html": [
       "\n",
       "        <div id=\"86uXC6iBHZH5sFGuDNdCJL\"></div>\n",
       "        <script>netpixi.call('86uXC6iBHZH5sFGuDNdCJL', 'XZ4nUNn5n3sDnGgyBkV8jz', 'changeGraph', 'eyJpZCI6ICJtb3phbWJpcXVlIiwgInR5cGUiOiAidmVydGV4IiwgInByb3BzIjogeyJzaXplIjogMTUuMjcyNzI3MjcyNzI3MjczfX0K');</script>\n",
       "    "
      ],
      "text/plain": [
       "<IPython.core.display.HTML object>"
      ]
     },
     "metadata": {},
     "output_type": "display_data"
    },
    {
     "data": {
      "text/html": [
       "\n",
       "        <div id=\"mwL5ke2ZWNDpe5eSptGjAg\"></div>\n",
       "        <script>netpixi.call('mwL5ke2ZWNDpe5eSptGjAg', 'XZ4nUNn5n3sDnGgyBkV8jz', 'changeGraph', 'eyJpZCI6ICJ1a3JhaW5lIiwgInR5cGUiOiAidmVydGV4IiwgInByb3BzIjogeyJzaXplIjogMTMuNDU0NTQ1NDU0NTQ1NDU1fX0K');</script>\n",
       "    "
      ],
      "text/plain": [
       "<IPython.core.display.HTML object>"
      ]
     },
     "metadata": {},
     "output_type": "display_data"
    },
    {
     "data": {
      "text/html": [
       "\n",
       "        <div id=\"KAsTDsgokhAvNzqPGRAzK3\"></div>\n",
       "        <script>netpixi.call('KAsTDsgokhAvNzqPGRAzK3', 'XZ4nUNn5n3sDnGgyBkV8jz', 'changeGraph', 'eyJpZCI6ICJ2aWV0bmFtIiwgInR5cGUiOiAidmVydGV4IiwgInByb3BzIjogeyJzaXplIjogMTAuNjM2MzYzNjM2MzYzNjM3fX0K');</script>\n",
       "    "
      ],
      "text/plain": [
       "<IPython.core.display.HTML object>"
      ]
     },
     "metadata": {},
     "output_type": "display_data"
    },
    {
     "data": {
      "text/html": [
       "\n",
       "        <div id=\"V4y6rtAfkD8qqaV8Wun3qA\"></div>\n",
       "        <script>netpixi.call('V4y6rtAfkD8qqaV8Wun3qA', 'XZ4nUNn5n3sDnGgyBkV8jz', 'changeGraph', 'eyJpZCI6ICJtYWx0YSIsICJ0eXBlIjogInZlcnRleCIsICJwcm9wcyI6IHsic2l6ZSI6IDE5LjB9fQo=');</script>\n",
       "    "
      ],
      "text/plain": [
       "<IPython.core.display.HTML object>"
      ]
     },
     "metadata": {},
     "output_type": "display_data"
    },
    {
     "data": {
      "text/html": [
       "\n",
       "        <div id=\"Hi2Y7kXqKoUiL4UVKPgfYk\"></div>\n",
       "        <script>netpixi.call('Hi2Y7kXqKoUiL4UVKPgfYk', 'XZ4nUNn5n3sDnGgyBkV8jz', 'changeGraph', 'eyJpZCI6ICJzaW5nYXBvcmUiLCAidHlwZSI6ICJ2ZXJ0ZXgiLCAicHJvcHMiOiB7InNpemUiOiAxMi40NTQ1NDU0NTQ1NDU0NTV9fQo=');</script>\n",
       "    "
      ],
      "text/plain": [
       "<IPython.core.display.HTML object>"
      ]
     },
     "metadata": {},
     "output_type": "display_data"
    },
    {
     "data": {
      "text/html": [
       "\n",
       "        <div id=\"SsLQ9XFEquH4LJqBhptWM3\"></div>\n",
       "        <script>netpixi.call('SsLQ9XFEquH4LJqBhptWM3', 'XZ4nUNn5n3sDnGgyBkV8jz', 'changeGraph', 'eyJpZCI6ICJ5ZW1lbiIsICJ0eXBlIjogInZlcnRleCIsICJwcm9wcyI6IHsic2l6ZSI6IDExLjQ1NDU0NTQ1NDU0NTQ1NX19Cg==');</script>\n",
       "    "
      ],
      "text/plain": [
       "<IPython.core.display.HTML object>"
      ]
     },
     "metadata": {},
     "output_type": "display_data"
    },
    {
     "data": {
      "text/html": [
       "\n",
       "        <div id=\"ewRbPXW9S3vohL5vRhamyE\"></div>\n",
       "        <script>netpixi.call('ewRbPXW9S3vohL5vRhamyE', 'XZ4nUNn5n3sDnGgyBkV8jz', 'changeGraph', 'eyJpZCI6ICJsYW9zIiwgInR5cGUiOiAidmVydGV4IiwgInByb3BzIjogeyJzaXplIjogMTAuMDkwOTA5MDkwOTA5MDkyfX0K');</script>\n",
       "    "
      ],
      "text/plain": [
       "<IPython.core.display.HTML object>"
      ]
     },
     "metadata": {},
     "output_type": "display_data"
    },
    {
     "data": {
      "text/html": [
       "\n",
       "        <div id=\"Uu3Z6vNsJzYmLypJeTB5Dp\"></div>\n",
       "        <script>netpixi.call('Uu3Z6vNsJzYmLypJeTB5Dp', 'XZ4nUNn5n3sDnGgyBkV8jz', 'changeGraph', 'eyJpZCI6ICJjeXBydXMiLCAidHlwZSI6ICJ2ZXJ0ZXgiLCAicHJvcHMiOiB7InNpemUiOiAxOS40NTQ1NDU0NTQ1NDU0NTN9fQo=');</script>\n",
       "    "
      ],
      "text/plain": [
       "<IPython.core.display.HTML object>"
      ]
     },
     "metadata": {},
     "output_type": "display_data"
    },
    {
     "data": {
      "text/html": [
       "\n",
       "        <div id=\"PtvTeZXWVk4PLwCMpkEY26\"></div>\n",
       "        <script>netpixi.call('PtvTeZXWVk4PLwCMpkEY26', 'XZ4nUNn5n3sDnGgyBkV8jz', 'changeGraph', 'eyJpZCI6ICJpc3JhZWwiLCAidHlwZSI6ICJ2ZXJ0ZXgiLCAicHJvcHMiOiB7InNpemUiOiAxNC45MDkwOTA5MDkwOTA5MX19Cg==');</script>\n",
       "    "
      ],
      "text/plain": [
       "<IPython.core.display.HTML object>"
      ]
     },
     "metadata": {},
     "output_type": "display_data"
    },
    {
     "data": {
      "text/html": [
       "\n",
       "        <div id=\"a5MtxrE8MDM9iPvSkcfG3t\"></div>\n",
       "        <script>netpixi.call('a5MtxrE8MDM9iPvSkcfG3t', 'XZ4nUNn5n3sDnGgyBkV8jz', 'changeGraph', 'eyJpZCI6ICJqb3JkYW4iLCAidHlwZSI6ICJ2ZXJ0ZXgiLCAicHJvcHMiOiB7InNpemUiOiAxNS44MTgxODE4MTgxODE4MTh9fQo=');</script>\n",
       "    "
      ],
      "text/plain": [
       "<IPython.core.display.HTML object>"
      ]
     },
     "metadata": {},
     "output_type": "display_data"
    },
    {
     "data": {
      "text/html": [
       "\n",
       "        <div id=\"LwUn7sqtk8WAUtYRKhetQq\"></div>\n",
       "        <script>netpixi.call('LwUn7sqtk8WAUtYRKhetQq', 'XZ4nUNn5n3sDnGgyBkV8jz', 'changeGraph', 'eyJpZCI6ICJzaWVycmFsZW9uZSIsICJ0eXBlIjogInZlcnRleCIsICJwcm9wcyI6IHsic2l6ZSI6IDEzLjI3MjcyNzI3MjcyNzI3M319Cg==');</script>\n",
       "    "
      ],
      "text/plain": [
       "<IPython.core.display.HTML object>"
      ]
     },
     "metadata": {},
     "output_type": "display_data"
    },
    {
     "data": {
      "text/html": [
       "\n",
       "        <div id=\"ECf3dJdNPvJc3SPAuwB6Dk\"></div>\n",
       "        <script>netpixi.call('ECf3dJdNPvJc3SPAuwB6Dk', 'XZ4nUNn5n3sDnGgyBkV8jz', 'changeGraph', 'eyJpZCI6ICJsdXhlbWJvdXJnIiwgInR5cGUiOiAidmVydGV4IiwgInByb3BzIjogeyJzaXplIjogMTYuMzYzNjM2MzYzNjM2MzYzfX0K');</script>\n",
       "    "
      ],
      "text/plain": [
       "<IPython.core.display.HTML object>"
      ]
     },
     "metadata": {},
     "output_type": "display_data"
    },
    {
     "data": {
      "text/html": [
       "\n",
       "        <div id=\"E7yMKitJHQg3wa4fKmgep4\"></div>\n",
       "        <script>netpixi.call('E7yMKitJHQg3wa4fKmgep4', 'XZ4nUNn5n3sDnGgyBkV8jz', 'changeGraph', 'eyJpZCI6ICJuZXBhbCIsICJ0eXBlIjogInZlcnRleCIsICJwcm9wcyI6IHsic2l6ZSI6IDEwLjkwOTA5MDkwOTA5MDkxfX0K');</script>\n",
       "    "
      ],
      "text/plain": [
       "<IPython.core.display.HTML object>"
      ]
     },
     "metadata": {},
     "output_type": "display_data"
    },
    {
     "data": {
      "text/html": [
       "\n",
       "        <div id=\"FuHztiBt25TTRmMYMDspVU\"></div>\n",
       "        <script>netpixi.call('FuHztiBt25TTRmMYMDspVU', 'XZ4nUNn5n3sDnGgyBkV8jz', 'changeGraph', 'eyJpZCI6ICJ0dXJrZXkiLCAidHlwZSI6ICJ2ZXJ0ZXgiLCAicHJvcHMiOiB7InNpemUiOiAxNS40NTQ1NDU0NTQ1NDU0NTN9fQo=');</script>\n",
       "    "
      ],
      "text/plain": [
       "<IPython.core.display.HTML object>"
      ]
     },
     "metadata": {},
     "output_type": "display_data"
    },
    {
     "data": {
      "text/html": [
       "\n",
       "        <div id=\"isyQyhnm4DXWeg6DnLKWCT\"></div>\n",
       "        <script>netpixi.call('isyQyhnm4DXWeg6DnLKWCT', 'XZ4nUNn5n3sDnGgyBkV8jz', 'changeGraph', 'eyJpZCI6ICJodW5nYXJ5IiwgInR5cGUiOiAidmVydGV4IiwgInByb3BzIjogeyJzaXplIjogMTYuMTgxODE4MTgxODE4MTh9fQo=');</script>\n",
       "    "
      ],
      "text/plain": [
       "<IPython.core.display.HTML object>"
      ]
     },
     "metadata": {},
     "output_type": "display_data"
    },
    {
     "data": {
      "text/html": [
       "\n",
       "        <div id=\"UoRaPPYRNjRzrjNDX7v9MA\"></div>\n",
       "        <script>netpixi.call('UoRaPPYRNjRzrjNDX7v9MA', 'XZ4nUNn5n3sDnGgyBkV8jz', 'changeGraph', 'eyJpZCI6ICJzcmlsYW5rYSIsICJ0eXBlIjogInZlcnRleCIsICJwcm9wcyI6IHsic2l6ZSI6IDE1LjA5MDkwOTA5MDkwOTA5fX0K');</script>\n",
       "    "
      ],
      "text/plain": [
       "<IPython.core.display.HTML object>"
      ]
     },
     "metadata": {},
     "output_type": "display_data"
    },
    {
     "data": {
      "text/html": [
       "\n",
       "        <div id=\"gdXnugapkKwpyDQgCXcmDy\"></div>\n",
       "        <script>netpixi.call('gdXnugapkKwpyDQgCXcmDy', 'XZ4nUNn5n3sDnGgyBkV8jz', 'changeGraph', 'eyJpZCI6ICJpcmFuIiwgInR5cGUiOiAidmVydGV4IiwgInByb3BzIjogeyJzaXplIjogMTMuMzYzNjM2MzYzNjM2MzYzfX0K');</script>\n",
       "    "
      ],
      "text/plain": [
       "<IPython.core.display.HTML object>"
      ]
     },
     "metadata": {},
     "output_type": "display_data"
    },
    {
     "data": {
      "text/html": [
       "\n",
       "        <div id=\"FJ5rUb6cZk3poCStsiZVdA\"></div>\n",
       "        <script>netpixi.call('FJ5rUb6cZk3poCStsiZVdA', 'XZ4nUNn5n3sDnGgyBkV8jz', 'changeGraph', 'eyJpZCI6ICJydXNzaWEiLCAidHlwZSI6ICJ2ZXJ0ZXgiLCAicHJvcHMiOiB7InNpemUiOiAxOC4zNjM2MzYzNjM2MzYzNjN9fQo=');</script>\n",
       "    "
      ],
      "text/plain": [
       "<IPython.core.display.HTML object>"
      ]
     },
     "metadata": {},
     "output_type": "display_data"
    },
    {
     "data": {
      "text/html": [
       "\n",
       "        <div id=\"KeCgAmuUFFgmQTMCNg76vX\"></div>\n",
       "        <script>netpixi.call('KeCgAmuUFFgmQTMCNg76vX', 'XZ4nUNn5n3sDnGgyBkV8jz', 'changeGraph', 'eyJpZCI6ICJjemVjaHJlcCIsICJ0eXBlIjogInZlcnRleCIsICJwcm9wcyI6IHsic2l6ZSI6IDEzLjgxODE4MTgxODE4MTgxOH19Cg==');</script>\n",
       "    "
      ],
      "text/plain": [
       "<IPython.core.display.HTML object>"
      ]
     },
     "metadata": {},
     "output_type": "display_data"
    },
    {
     "data": {
      "text/html": [
       "\n",
       "        <div id=\"Bg2i99Z5dftPi4h9BB2DuT\"></div>\n",
       "        <script>netpixi.call('Bg2i99Z5dftPi4h9BB2DuT', 'XZ4nUNn5n3sDnGgyBkV8jz', 'changeGraph', 'eyJpZCI6ICJtb25nb2xpYSIsICJ0eXBlIjogInZlcnRleCIsICJwcm9wcyI6IHsic2l6ZSI6IDE0LjM2MzYzNjM2MzYzNjM2M319Cg==');</script>\n",
       "    "
      ],
      "text/plain": [
       "<IPython.core.display.HTML object>"
      ]
     },
     "metadata": {},
     "output_type": "display_data"
    },
    {
     "data": {
      "text/html": [
       "\n",
       "        <div id=\"EBZaDZ2N283SP2KdUXmemi\"></div>\n",
       "        <script>netpixi.call('EBZaDZ2N283SP2KdUXmemi', 'XZ4nUNn5n3sDnGgyBkV8jz', 'changeGraph', 'eyJpZCI6ICJ6aW1iYWJ3ZSIsICJ0eXBlIjogInZlcnRleCIsICJwcm9wcyI6IHsic2l6ZSI6IDEzLjkwOTA5MDkwOTA5MDkwOH19Cg==');</script>\n",
       "    "
      ],
      "text/plain": [
       "<IPython.core.display.HTML object>"
      ]
     },
     "metadata": {},
     "output_type": "display_data"
    },
    {
     "data": {
      "text/html": [
       "\n",
       "        <div id=\"bvAddbobBWpUoG7L7dVY7X\"></div>\n",
       "        <script>netpixi.call('bvAddbobBWpUoG7L7dVY7X', 'XZ4nUNn5n3sDnGgyBkV8jz', 'changeGraph', 'eyJpZCI6ICJpcmFxIiwgInR5cGUiOiAidmVydGV4IiwgInByb3BzIjogeyJzaXplIjogMTEuNTQ1NDU0NTQ1NDU0NTQ1fX0K');</script>\n",
       "    "
      ],
      "text/plain": [
       "<IPython.core.display.HTML object>"
      ]
     },
     "metadata": {},
     "output_type": "display_data"
    },
    {
     "data": {
      "text/html": [
       "\n",
       "        <div id=\"L2uJuRHmXRq269MDqXRYSv\"></div>\n",
       "        <script>netpixi.call('L2uJuRHmXRq269MDqXRYSv', 'XZ4nUNn5n3sDnGgyBkV8jz', 'changeGraph', 'eyJpZCI6ICJsZWJhbm9uIiwgInR5cGUiOiAidmVydGV4IiwgInByb3BzIjogeyJzaXplIjogMTQuNjM2MzYzNjM2MzYzNjM3fX0K');</script>\n",
       "    "
      ],
      "text/plain": [
       "<IPython.core.display.HTML object>"
      ]
     },
     "metadata": {},
     "output_type": "display_data"
    },
    {
     "data": {
      "text/html": [
       "\n",
       "        <div id=\"NTPqLPi5roj5vfKzLU8YoL\"></div>\n",
       "        <script>netpixi.call('NTPqLPi5roj5vfKzLU8YoL', 'XZ4nUNn5n3sDnGgyBkV8jz', 'changeGraph', 'eyJpZCI6ICJiYWhyYWluIiwgInR5cGUiOiAidmVydGV4IiwgInByb3BzIjogeyJzaXplIjogMTAuNzI3MjcyNzI3MjcyNzI3fX0K');</script>\n",
       "    "
      ],
      "text/plain": [
       "<IPython.core.display.HTML object>"
      ]
     },
     "metadata": {},
     "output_type": "display_data"
    },
    {
     "data": {
      "text/html": [
       "\n",
       "        <div id=\"f6AmRUqHDp7qz3xiLufVxP\"></div>\n",
       "        <script>netpixi.call('f6AmRUqHDp7qz3xiLufVxP', 'XZ4nUNn5n3sDnGgyBkV8jz', 'changeGraph', 'eyJpZCI6ICJzeXJpYSIsICJ0eXBlIjogInZlcnRleCIsICJwcm9wcyI6IHsic2l6ZSI6IDEzLjB9fQo=');</script>\n",
       "    "
      ],
      "text/plain": [
       "<IPython.core.display.HTML object>"
      ]
     },
     "metadata": {},
     "output_type": "display_data"
    },
    {
     "data": {
      "text/html": [
       "\n",
       "        <div id=\"7nDd5yibEwT6jPuNgmXkPx\"></div>\n",
       "        <script>netpixi.call('7nDd5yibEwT6jPuNgmXkPx', 'XZ4nUNn5n3sDnGgyBkV8jz', 'changeGraph', 'eyJpZCI6ICJsaWJ5YSIsICJ0eXBlIjogInZlcnRleCIsICJwcm9wcyI6IHsic2l6ZSI6IDEzLjcyNzI3MjcyNzI3MjcyN319Cg==');</script>\n",
       "    "
      ],
      "text/plain": [
       "<IPython.core.display.HTML object>"
      ]
     },
     "metadata": {},
     "output_type": "display_data"
    },
    {
     "data": {
      "text/html": [
       "\n",
       "        <div id=\"ZbynABNzcMihR4mBaNpUvc\"></div>\n",
       "        <script>netpixi.call('ZbynABNzcMihR4mBaNpUvc', 'XZ4nUNn5n3sDnGgyBkV8jz', 'changeGraph', 'eyJpZCI6ICJkamlib3V0aSIsICJ0eXBlIjogInZlcnRleCIsICJwcm9wcyI6IHsic2l6ZSI6IDEyLjM2MzYzNjM2MzYzNjM2M319Cg==');</script>\n",
       "    "
      ],
      "text/plain": [
       "<IPython.core.display.HTML object>"
      ]
     },
     "metadata": {},
     "output_type": "display_data"
    },
    {
     "data": {
      "text/html": [
       "\n",
       "        <div id=\"5tbjrrihiXQB5vv2XBzwjw\"></div>\n",
       "        <script>netpixi.call('5tbjrrihiXQB5vv2XBzwjw', 'XZ4nUNn5n3sDnGgyBkV8jz', 'changeGraph', 'eyJpZCI6ICJzdWRhbiIsICJ0eXBlIjogInZlcnRleCIsICJwcm9wcyI6IHsic2l6ZSI6IDE1LjB9fQo=');</script>\n",
       "    "
      ],
      "text/plain": [
       "<IPython.core.display.HTML object>"
      ]
     },
     "metadata": {},
     "output_type": "display_data"
    },
    {
     "data": {
      "text/html": [
       "\n",
       "        <div id=\"NKv59ToYVSUjQsidw56Tvp\"></div>\n",
       "        <script>netpixi.call('NKv59ToYVSUjQsidw56Tvp', 'XZ4nUNn5n3sDnGgyBkV8jz', 'changeGraph', 'eyJpZCI6ICJhbGJhbmlhIiwgInR5cGUiOiAidmVydGV4IiwgInByb3BzIjogeyJzaXplIjogMTQuNTQ1NDU0NTQ1NDU0NTQ1fX0K');</script>\n",
       "    "
      ],
      "text/plain": [
       "<IPython.core.display.HTML object>"
      ]
     },
     "metadata": {},
     "output_type": "display_data"
    },
    {
     "data": {
      "text/html": [
       "\n",
       "        <div id=\"MpX9K2544h4hH3vex568F7\"></div>\n",
       "        <script>netpixi.call('MpX9K2544h4hH3vex568F7', 'XZ4nUNn5n3sDnGgyBkV8jz', 'changeGraph', 'eyJpZCI6ICJrdXdhaXQiLCAidHlwZSI6ICJ2ZXJ0ZXgiLCAicHJvcHMiOiB7InNpemUiOiAxMi4yNzI3MjcyNzI3MjcyNzN9fQo=');</script>\n",
       "    "
      ],
      "text/plain": [
       "<IPython.core.display.HTML object>"
      ]
     },
     "metadata": {},
     "output_type": "display_data"
    },
    {
     "data": {
      "text/html": [
       "\n",
       "        <div id=\"kVJMJxbv8LitTn5FmjhFzg\"></div>\n",
       "        <script>netpixi.call('kVJMJxbv8LitTn5FmjhFzg', 'XZ4nUNn5n3sDnGgyBkV8jz', 'changeGraph', 'eyJpZCI6ICJjb21vcm9zIiwgInR5cGUiOiAidmVydGV4IiwgInByb3BzIjogeyJzaXplIjogMTEuNzI3MjcyNzI3MjcyNzI3fX0K');</script>\n",
       "    "
      ],
      "text/plain": [
       "<IPython.core.display.HTML object>"
      ]
     },
     "metadata": {},
     "output_type": "display_data"
    },
    {
     "data": {
      "text/html": [
       "\n",
       "        <div id=\"e2MSM7aYpCoG9YTSZhdPGb\"></div>\n",
       "        <script>netpixi.call('e2MSM7aYpCoG9YTSZhdPGb', 'XZ4nUNn5n3sDnGgyBkV8jz', 'changeGraph', 'eyJpZCI6ICJzbG92YWtpYSIsICJ0eXBlIjogInZlcnRleCIsICJwcm9wcyI6IHsic2l6ZSI6IDE1LjM2MzYzNjM2MzYzNjM2M319Cg==');</script>\n",
       "    "
      ],
      "text/plain": [
       "<IPython.core.display.HTML object>"
      ]
     },
     "metadata": {},
     "output_type": "display_data"
    },
    {
     "data": {
      "text/html": [
       "\n",
       "        <div id=\"Bh9bdq9ifqWJxrvX7q7tAz\"></div>\n",
       "        <script>netpixi.call('Bh9bdq9ifqWJxrvX7q7tAz', 'XZ4nUNn5n3sDnGgyBkV8jz', 'changeGraph', 'eyJpZCI6ICJsYXR2aWEiLCAidHlwZSI6ICJ2ZXJ0ZXgiLCAicHJvcHMiOiB7InNpemUiOiAxMi45MDkwOTA5MDkwOTA5MX19Cg==');</script>\n",
       "    "
      ],
      "text/plain": [
       "<IPython.core.display.HTML object>"
      ]
     },
     "metadata": {},
     "output_type": "display_data"
    },
    {
     "data": {
      "text/html": [
       "\n",
       "        <div id=\"9UPE4EsgY5FJVKBG96pznx\"></div>\n",
       "        <script>netpixi.call('9UPE4EsgY5FJVKBG96pznx', 'XZ4nUNn5n3sDnGgyBkV8jz', 'changeGraph', 'eyJpZCI6ICJlc3RvbmlhIiwgInR5cGUiOiAidmVydGV4IiwgInByb3BzIjogeyJzaXplIjogMTQuNDU0NTQ1NDU0NTQ1NDUzfX0K');</script>\n",
       "    "
      ],
      "text/plain": [
       "<IPython.core.display.HTML object>"
      ]
     },
     "metadata": {},
     "output_type": "display_data"
    },
    {
     "data": {
      "text/html": [
       "\n",
       "        <div id=\"H3D9WesaxVcF7CGDWxUKEa\"></div>\n",
       "        <script>netpixi.call('H3D9WesaxVcF7CGDWxUKEa', 'XZ4nUNn5n3sDnGgyBkV8jz', 'changeGraph', 'eyJpZCI6ICJpY2VsYW5kIiwgInR5cGUiOiAidmVydGV4IiwgInByb3BzIjogeyJzaXplIjogMTIuNjM2MzYzNjM2MzYzNjM3fX0K');</script>\n",
       "    "
      ],
      "text/plain": [
       "<IPython.core.display.HTML object>"
      ]
     },
     "metadata": {},
     "output_type": "display_data"
    },
    {
     "data": {
      "text/html": [
       "\n",
       "        <div id=\"LaAuqUjUCK4V4jAYFZSKi9\"></div>\n",
       "        <script>netpixi.call('LaAuqUjUCK4V4jAYFZSKi9', 'XZ4nUNn5n3sDnGgyBkV8jz', 'changeGraph', 'eyJpZCI6ICJnZW9yZ2lhIiwgInR5cGUiOiAidmVydGV4IiwgInByb3BzIjogeyJzaXplIjogMTMuMDkwOTA5MDkwOTA5MDl9fQo=');</script>\n",
       "    "
      ],
      "text/plain": [
       "<IPython.core.display.HTML object>"
      ]
     },
     "metadata": {},
     "output_type": "display_data"
    },
    {
     "data": {
      "text/html": [
       "\n",
       "        <div id=\"9sJG6VcUt2DHJiRcfwVCeM\"></div>\n",
       "        <script>netpixi.call('9sJG6VcUt2DHJiRcfwVCeM', 'XZ4nUNn5n3sDnGgyBkV8jz', 'changeGraph', 'eyJpZCI6ICJidXJ1bmRpIiwgInR5cGUiOiAidmVydGV4IiwgInByb3BzIjogeyJzaXplIjogMTQuMTgxODE4MTgxODE4MTgyfX0K');</script>\n",
       "    "
      ],
      "text/plain": [
       "<IPython.core.display.HTML object>"
      ]
     },
     "metadata": {},
     "output_type": "display_data"
    },
    {
     "data": {
      "text/html": [
       "\n",
       "        <div id=\"MSQbpb3SUCStf4oTJ5sdzs\"></div>\n",
       "        <script>netpixi.call('MSQbpb3SUCStf4oTJ5sdzs', 'XZ4nUNn5n3sDnGgyBkV8jz', 'changeGraph', 'eyJpZCI6ICJib3Rzd2FuYSIsICJ0eXBlIjogInZlcnRleCIsICJwcm9wcyI6IHsic2l6ZSI6IDExLjE4MTgxODE4MTgxODE4Mn19Cg==');</script>\n",
       "    "
      ],
      "text/plain": [
       "<IPython.core.display.HTML object>"
      ]
     },
     "metadata": {},
     "output_type": "display_data"
    },
    {
     "data": {
      "text/html": [
       "\n",
       "        <div id=\"4BKJEJat7vNzAazkU45Ykg\"></div>\n",
       "        <script>netpixi.call('4BKJEJat7vNzAazkU45Ykg', 'XZ4nUNn5n3sDnGgyBkV8jz', 'changeGraph', 'eyJpZCI6ICJ6YW1iaWEiLCAidHlwZSI6ICJ2ZXJ0ZXgiLCAicHJvcHMiOiB7InNpemUiOiAxMy42MzYzNjM2MzYzNjM2Mzd9fQo=');</script>\n",
       "    "
      ],
      "text/plain": [
       "<IPython.core.display.HTML object>"
      ]
     },
     "metadata": {},
     "output_type": "display_data"
    },
    {
     "data": {
      "text/html": [
       "\n",
       "        <div id=\"men4Znr4bDt69g6mbbrzrf\"></div>\n",
       "        <script>netpixi.call('men4Znr4bDt69g6mbbrzrf', 'XZ4nUNn5n3sDnGgyBkV8jz', 'changeGraph', 'eyJpZCI6ICJjaGFkIiwgInR5cGUiOiAidmVydGV4IiwgInByb3BzIjogeyJzaXplIjogMTMuNTQ1NDU0NTQ1NDU0NTQ1fX0K');</script>\n",
       "    "
      ],
      "text/plain": [
       "<IPython.core.display.HTML object>"
      ]
     },
     "metadata": {},
     "output_type": "display_data"
    },
    {
     "data": {
      "text/html": [
       "\n",
       "        <div id=\"8fF7RsWSG8hwm2jmUPjb5h\"></div>\n",
       "        <script>netpixi.call('8fF7RsWSG8hwm2jmUPjb5h', 'XZ4nUNn5n3sDnGgyBkV8jz', 'changeGraph', 'eyJpZCI6ICJuaWdlciIsICJ0eXBlIjogInZlcnRleCIsICJwcm9wcyI6IHsic2l6ZSI6IDExLjI3MjcyNzI3MjcyNzI3M319Cg==');</script>\n",
       "    "
      ],
      "text/plain": [
       "<IPython.core.display.HTML object>"
      ]
     },
     "metadata": {},
     "output_type": "display_data"
    },
    {
     "data": {
      "text/html": [
       "\n",
       "        <div id=\"hzXFr8YGwoHgYxkHtBMbJf\"></div>\n",
       "        <script>netpixi.call('hzXFr8YGwoHgYxkHtBMbJf', 'XZ4nUNn5n3sDnGgyBkV8jz', 'changeGraph', 'eyJpZCI6ICJtYWxhd2kiLCAidHlwZSI6ICJ2ZXJ0ZXgiLCAicHJvcHMiOiB7InNpemUiOiAxMC44MTgxODE4MTgxODE4MTh9fQo=');</script>\n",
       "    "
      ],
      "text/plain": [
       "<IPython.core.display.HTML object>"
      ]
     },
     "metadata": {},
     "output_type": "display_data"
    },
    {
     "data": {
      "text/html": [
       "\n",
       "        <div id=\"oKnCA46PsbkRGK5H4RJXLJ\"></div>\n",
       "        <script>netpixi.call('oKnCA46PsbkRGK5H4RJXLJ', 'XZ4nUNn5n3sDnGgyBkV8jz', 'changeGraph', 'eyJpZCI6ICJjYXIiLCAidHlwZSI6ICJ2ZXJ0ZXgiLCAicHJvcHMiOiB7InNpemUiOiAxMS45MDkwOTA5MDkwOTA5MDh9fQo=');</script>\n",
       "    "
      ],
      "text/plain": [
       "<IPython.core.display.HTML object>"
      ]
     },
     "metadata": {},
     "output_type": "display_data"
    },
    {
     "data": {
      "text/html": [
       "\n",
       "        <div id=\"KUXVY4oKebW3d7QzgK3dzw\"></div>\n",
       "        <script>netpixi.call('KUXVY4oKebW3d7QzgK3dzw', 'XZ4nUNn5n3sDnGgyBkV8jz', 'changeGraph', 'eyJpZCI6ICJsaWJlcmlhIiwgInR5cGUiOiAidmVydGV4IiwgInByb3BzIjogeyJzaXplIjogMTIuNzI3MjcyNzI3MjcyNzI3fX0K');</script>\n",
       "    "
      ],
      "text/plain": [
       "<IPython.core.display.HTML object>"
      ]
     },
     "metadata": {},
     "output_type": "display_data"
    },
    {
     "data": {
      "text/html": [
       "\n",
       "        <div id=\"BZcxGhoLWQCVyKkaC8m95U\"></div>\n",
       "        <script>netpixi.call('BZcxGhoLWQCVyKkaC8m95U', 'XZ4nUNn5n3sDnGgyBkV8jz', 'changeGraph', 'eyJpZCI6ICJyd2FuZGEiLCAidHlwZSI6ICJ2ZXJ0ZXgiLCAicHJvcHMiOiB7InNpemUiOiAxMi4wfX0K');</script>\n",
       "    "
      ],
      "text/plain": [
       "<IPython.core.display.HTML object>"
      ]
     },
     "metadata": {},
     "output_type": "display_data"
    },
    {
     "data": {
      "text/html": [
       "\n",
       "        <div id=\"f8iQrqf4ABHiGpkx3hiqby\"></div>\n",
       "        <script>netpixi.call('f8iQrqf4ABHiGpkx3hiqby', 'XZ4nUNn5n3sDnGgyBkV8jz', 'changeGraph', 'eyJpZCI6ICJtb2xkb3ZhIiwgInR5cGUiOiAidmVydGV4IiwgInByb3BzIjogeyJzaXplIjogMTIuODE4MTgxODE4MTgxODE4fX0K');</script>\n",
       "    "
      ],
      "text/plain": [
       "<IPython.core.display.HTML object>"
      ]
     },
     "metadata": {},
     "output_type": "display_data"
    },
    {
     "data": {
      "text/html": [
       "\n",
       "        <div id=\"93FMBhyPwkWt5wnm9pC5xz\"></div>\n",
       "        <script>netpixi.call('93FMBhyPwkWt5wnm9pC5xz', 'XZ4nUNn5n3sDnGgyBkV8jz', 'changeGraph', 'eyJpZCI6ICJmeXJvbWFjZWRvbmlhIiwgInR5cGUiOiAidmVydGV4IiwgInByb3BzIjogeyJzaXplIjogMTEuMzYzNjM2MzYzNjM2MzYzfX0K');</script>\n",
       "    "
      ],
      "text/plain": [
       "<IPython.core.display.HTML object>"
      ]
     },
     "metadata": {},
     "output_type": "display_data"
    },
    {
     "data": {
      "text/html": [
       "\n",
       "        <div id=\"HRKtnz5BtWxZKciQ9zLTRw\"></div>\n",
       "        <script>netpixi.call('HRKtnz5BtWxZKciQ9zLTRw', 'XZ4nUNn5n3sDnGgyBkV8jz', 'changeGraph', 'eyJpZCI6ICJiZWxhcnVzIiwgInR5cGUiOiAidmVydGV4IiwgInByb3BzIjogeyJzaXplIjogMTEuMDkwOTA5MDkwOTA5MDl9fQo=');</script>\n",
       "    "
      ],
      "text/plain": [
       "<IPython.core.display.HTML object>"
      ]
     },
     "metadata": {},
     "output_type": "display_data"
    },
    {
     "data": {
      "text/html": [
       "\n",
       "        <div id=\"oX8K2aATBGv7aYz9gBgKNs\"></div>\n",
       "        <script>netpixi.call('oX8K2aATBGv7aYz9gBgKNs', 'XZ4nUNn5n3sDnGgyBkV8jz', 'changeGraph', 'eyJpZCI6ICJreXJneXpzdGFuIiwgInR5cGUiOiAidmVydGV4IiwgInByb3BzIjogeyJzaXplIjogMTEuMH19Cg==');</script>\n",
       "    "
      ],
      "text/plain": [
       "<IPython.core.display.HTML object>"
      ]
     },
     "metadata": {},
     "output_type": "display_data"
    },
    {
     "data": {
      "text/html": [
       "\n",
       "        <div id=\"S3QAttFujVEBFnk7EaW9c6\"></div>\n",
       "        <script>netpixi.call('S3QAttFujVEBFnk7EaW9c6', 'XZ4nUNn5n3sDnGgyBkV8jz', 'changeGraph', 'eyJpZCI6ICJrYXpha2hzdGFuIiwgInR5cGUiOiAidmVydGV4IiwgInByb3BzIjogeyJzaXplIjogMTEuODE4MTgxODE4MTgxODE4fX0K');</script>\n",
       "    "
      ],
      "text/plain": [
       "<IPython.core.display.HTML object>"
      ]
     },
     "metadata": {},
     "output_type": "display_data"
    },
    {
     "data": {
      "text/html": [
       "\n",
       "        <div id=\"FcBue9Wds2XxZxjQ5Vu3Do\"></div>\n",
       "        <script>netpixi.call('FcBue9Wds2XxZxjQ5Vu3Do', 'XZ4nUNn5n3sDnGgyBkV8jz', 'changeGraph', 'eyJpZCI6ICJ1emJla2lzdGFuIiwgInR5cGUiOiAidmVydGV4IiwgInByb3BzIjogeyJzaXplIjogMTAuMH19Cg==');</script>\n",
       "    "
      ],
      "text/plain": [
       "<IPython.core.display.HTML object>"
      ]
     },
     "metadata": {},
     "output_type": "display_data"
    },
    {
     "data": {
      "text/html": [
       "\n",
       "        <div id=\"GvwgMXxn3DjCCHi3M36Fk6\"></div>\n",
       "        <script>netpixi.call('GvwgMXxn3DjCCHi3M36Fk6', 'XZ4nUNn5n3sDnGgyBkV8jz', 'changeGraph', 'eyJpZCI6ICJhcm1lbmlhIiwgInR5cGUiOiAidmVydGV4IiwgInByb3BzIjogeyJzaXplIjogMTAuNTQ1NDU0NTQ1NDU0NTQ1fX0K');</script>\n",
       "    "
      ],
      "text/plain": [
       "<IPython.core.display.HTML object>"
      ]
     },
     "metadata": {},
     "output_type": "display_data"
    },
    {
     "data": {
      "text/html": [
       "\n",
       "        <div id=\"mX6jyV5VGWUKCkvZPCKRYN\"></div>\n",
       "        <script>netpixi.call('mX6jyV5VGWUKCkvZPCKRYN', 'XZ4nUNn5n3sDnGgyBkV8jz', 'changeGraph', 'eyJpZCI6ICJhemVyYmFpamFuIiwgInR5cGUiOiAidmVydGV4IiwgInByb3BzIjogeyJzaXplIjogMTIuMTgxODE4MTgxODE4MTgyfX0K');</script>\n",
       "    "
      ],
      "text/plain": [
       "<IPython.core.display.HTML object>"
      ]
     },
     "metadata": {},
     "output_type": "display_data"
    },
    {
     "data": {
      "text/html": [
       "\n",
       "        <div id=\"BvA67NjpjH6Qu5y95Acnqo\"></div>\n",
       "        <script>netpixi.call('BvA67NjpjH6Qu5y95Acnqo', 'XZ4nUNn5n3sDnGgyBkV8jz', 'changeGraph', 'eyJpZCI6ICJtb250ZW5lZ3JvIiwgInR5cGUiOiAidmVydGV4IiwgInByb3BzIjogeyJzaXplIjogMTIuMDkwOTA5MDkwOTA5MDl9fQo=');</script>\n",
       "    "
      ],
      "text/plain": [
       "<IPython.core.display.HTML object>"
      ]
     },
     "metadata": {},
     "output_type": "display_data"
    },
    {
     "data": {
      "text/html": [
       "\n",
       "        <div id=\"JmnPpJUXCESReMpa97kxf9\"></div>\n",
       "        <script>netpixi.call('JmnPpJUXCESReMpa97kxf9', 'XZ4nUNn5n3sDnGgyBkV8jz', 'changeGraph', 'eyJpZCI6ICJ0YWppa2lzdGFuIiwgInR5cGUiOiAidmVydGV4IiwgInByb3BzIjogeyJzaXplIjogMTAuNDU0NTQ1NDU0NTQ1NDU1fX0K');</script>\n",
       "    "
      ],
      "text/plain": [
       "<IPython.core.display.HTML object>"
      ]
     },
     "metadata": {},
     "output_type": "display_data"
    },
    {
     "data": {
      "text/html": [
       "\n",
       "        <div id=\"DNu5dzVAipCLuzfderWbAe\"></div>\n",
       "        <script>netpixi.call('DNu5dzVAipCLuzfderWbAe', 'XZ4nUNn5n3sDnGgyBkV8jz', 'changeGraph', 'eyJpZCI6ICJ0dXJrbWVuaXN0YW4iLCAidHlwZSI6ICJ2ZXJ0ZXgiLCAicHJvcHMiOiB7InNpemUiOiAxMC4yNzI3MjcyNzI3MjcyNzN9fQo=');</script>\n",
       "    "
      ],
      "text/plain": [
       "<IPython.core.display.HTML object>"
      ]
     },
     "metadata": {},
     "output_type": "display_data"
    },
    {
     "data": {
      "text/html": [
       "\n",
       "        <div id=\"ec6tmyzLytNgwVCA2ef3oD\"></div>\n",
       "        <script>netpixi.call('ec6tmyzLytNgwVCA2ef3oD', 'XZ4nUNn5n3sDnGgyBkV8jz', 'changeGraph', 'eyJpZCI6ICJhZmdoYW5pc3RhbiIsICJ0eXBlIjogInZlcnRleCIsICJwcm9wcyI6IHsic2l6ZSI6IDEwLjE4MTgxODE4MTgxODE4Mn19Cg==');</script>\n",
       "    "
      ],
      "text/plain": [
       "<IPython.core.display.HTML object>"
      ]
     },
     "metadata": {},
     "output_type": "display_data"
    }
   ],
   "source": [
    "matrix = spectral.adjacency(g)\n",
    "\n",
    "# Além de cpnet.Rombach, há outras\n",
    "# opções de algoritmos contínuos:\n",
    "# cpnet.MINRES\n",
    "# cpnet.Rossa\n",
    "\n",
    "algorithm = cpnet.Rombach()\n",
    "algorithm.detect(matrix)\n",
    "c = algorithm.get_coreness()\n",
    "\n",
    "# Depois do código acima, c é um dicionário\n",
    "# em que as chaves são índices de vértices e\n",
    "# valores são os atribuídos pelo algoritmo.\n",
    "\n",
    "g.add_vp('coreness')\n",
    "for i, coreness in c.items():\n",
    "    v = g.get_vertex_by_index(i)\n",
    "    v['coreness'] = float(coreness)\n",
    "\n",
    "# Vamos usar coreness como referência para\n",
    "# o tamanho dos vértices. Estabelecemos 10\n",
    "# como o menor tamanho possível e 40 como\n",
    "# o maior tamanho possível. Como o coreness\n",
    "# está entre 0 e 1, a conta é bem simples.\n",
    "\n",
    "for v in g.all_vertices():\n",
    "    r.vertex(v['id'], size=(10 + 40 * v['coreness']))\n",
    "\n",
    "# Quando a execução desta célula terminar,\n",
    "# veja como ficou a visualização acima."
   ]
  },
  {
   "cell_type": "code",
   "execution_count": 51,
   "id": "dc658a5c",
   "metadata": {},
   "outputs": [
    {
     "data": {
      "text/html": [
       "<div>\n",
       "<style scoped>\n",
       "    .dataframe tbody tr th:only-of-type {\n",
       "        vertical-align: middle;\n",
       "    }\n",
       "\n",
       "    .dataframe tbody tr th {\n",
       "        vertical-align: top;\n",
       "    }\n",
       "\n",
       "    .dataframe thead th {\n",
       "        text-align: right;\n",
       "    }\n",
       "</style>\n",
       "<table border=\"1\" class=\"dataframe\">\n",
       "  <thead>\n",
       "    <tr style=\"text-align: right;\">\n",
       "      <th></th>\n",
       "      <th>coreness</th>\n",
       "    </tr>\n",
       "    <tr>\n",
       "      <th>id</th>\n",
       "      <th></th>\n",
       "    </tr>\n",
       "  </thead>\n",
       "  <tbody>\n",
       "    <tr>\n",
       "      <th>honduras</th>\n",
       "      <td>0.156818</td>\n",
       "    </tr>\n",
       "    <tr>\n",
       "      <th>thailand</th>\n",
       "      <td>0.163636</td>\n",
       "    </tr>\n",
       "    <tr>\n",
       "      <th>uruguay</th>\n",
       "      <td>0.179545</td>\n",
       "    </tr>\n",
       "    <tr>\n",
       "      <th>canada</th>\n",
       "      <td>0.250000</td>\n",
       "    </tr>\n",
       "    <tr>\n",
       "      <th>senegal</th>\n",
       "      <td>0.892857</td>\n",
       "    </tr>\n",
       "    <tr>\n",
       "      <th>...</th>\n",
       "      <td>...</td>\n",
       "    </tr>\n",
       "    <tr>\n",
       "      <th>azerbaijan</th>\n",
       "      <td>0.054545</td>\n",
       "    </tr>\n",
       "    <tr>\n",
       "      <th>montenegro</th>\n",
       "      <td>0.052273</td>\n",
       "    </tr>\n",
       "    <tr>\n",
       "      <th>tajikistan</th>\n",
       "      <td>0.011364</td>\n",
       "    </tr>\n",
       "    <tr>\n",
       "      <th>turkmenistan</th>\n",
       "      <td>0.006818</td>\n",
       "    </tr>\n",
       "    <tr>\n",
       "      <th>afghanistan</th>\n",
       "      <td>0.004545</td>\n",
       "    </tr>\n",
       "  </tbody>\n",
       "</table>\n",
       "<p>138 rows × 1 columns</p>\n",
       "</div>"
      ],
      "text/plain": [
       "              coreness\n",
       "id                    \n",
       "honduras      0.156818\n",
       "thailand      0.163636\n",
       "uruguay       0.179545\n",
       "canada        0.250000\n",
       "senegal       0.892857\n",
       "...                ...\n",
       "azerbaijan    0.054545\n",
       "montenegro    0.052273\n",
       "tajikistan    0.011364\n",
       "turkmenistan  0.006818\n",
       "afghanistan   0.004545\n",
       "\n",
       "[138 rows x 1 columns]"
      ]
     },
     "execution_count": 51,
     "metadata": {},
     "output_type": "execute_result"
    }
   ],
   "source": [
    "data = gt_data(g)\n",
    "\n",
    "coreness = []\n",
    "for v in g.all_vertices():\n",
    "    coreness.append(v['coreness'])\n",
    "    \n",
    "data['coreness'] = coreness\n",
    "data"
   ]
  },
  {
   "cell_type": "code",
   "execution_count": 52,
   "id": "e2569cb2",
   "metadata": {},
   "outputs": [],
   "source": [
    "data.to_csv(\"coreness_igos.csv\")"
   ]
  }
 ],
 "metadata": {
  "kernelspec": {
   "display_name": "Python 3 (ipykernel)",
   "language": "python",
   "name": "python3"
  },
  "language_info": {
   "codemirror_mode": {
    "name": "ipython",
    "version": 3
   },
   "file_extension": ".py",
   "mimetype": "text/x-python",
   "name": "python",
   "nbconvert_exporter": "python",
   "pygments_lexer": "ipython3",
   "version": "3.10.10"
  }
 },
 "nbformat": 4,
 "nbformat_minor": 5
}
